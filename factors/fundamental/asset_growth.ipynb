{
 "cells": [
  {
   "cell_type": "code",
   "execution_count": 68,
   "metadata": {
    "collapsed": true,
    "ExecuteTime": {
     "end_time": "2023-06-01T22:01:06.477461Z",
     "start_time": "2023-06-01T22:01:06.471256Z"
    }
   },
   "outputs": [],
   "source": [
    "import pandas as pd\n",
    "import numpy as np\n",
    "import polars as pl\n",
    "\n",
    "from factorlib.utils.system import get_data_dir"
   ]
  },
  {
   "cell_type": "code",
   "execution_count": 69,
   "outputs": [
    {
     "data": {
      "text/plain": "          date symbol reportedCurrency        cik fillingDate  \\\n0   2023-04-30      A              USD  1090872.0  2023-05-26   \n1   2023-01-31      A              USD  1090872.0  2023-03-03   \n2   2022-10-31      A              USD  1090872.0  2022-12-21   \n3   2022-07-31      A              USD  1090872.0  2022-09-01   \n4   2022-04-30      A              USD  1090872.0  2022-05-31   \n..         ...    ...              ...        ...         ...   \n61  2007-03-31   ZZLL              USD  1365357.0  2007-06-29   \n62  2006-12-31   ZZLL              USD  1365357.0  2006-12-31   \n63  2006-09-30   ZZLL              USD  1365357.0  2006-09-30   \n64  2006-06-30   ZZLL              USD  1365357.0  2006-06-30   \n65  2006-03-31   ZZLL              USD  1365357.0  2006-03-31   \n\n           acceptedDate  calendarYear period  cashAndCashEquivalents  \\\n0   2023-05-26 17:28:42          2023     Q2            1.175000e+09   \n1   2023-03-02 18:52:33          2023     Q1            1.250000e+09   \n2   2022-12-20 18:42:30          2022     Q4            1.053000e+09   \n3   2022-08-31 18:53:26          2022     Q3            1.071000e+09   \n4   2022-05-27 19:33:57          2022     Q2            1.186000e+09   \n..                  ...           ...    ...                     ...   \n61  2007-06-28 18:08:07          2007     Q1            7.704310e+05   \n62  2006-12-31 00:00:00          2006     Q4            1.099092e+06   \n63  2006-09-30 00:00:00          2006     Q3            6.326700e+05   \n64  2006-06-30 00:00:00          2006     Q2            1.710810e+05   \n65  2006-03-31 00:00:00          2006     Q1            2.285390e+05   \n\n    shortTermInvestments  ...  totalStockholdersEquity   totalEquity  \\\n0                    0.0  ...             5.781000e+09  5.781000e+09   \n1                    0.0  ...             5.609000e+09  5.609000e+09   \n2                    0.0  ...             5.289000e+09  5.289000e+09   \n3              6000000.0  ...             5.091000e+09  5.091000e+09   \n4             21000000.0  ...             5.122000e+09  5.122000e+09   \n..                   ...  ...                      ...           ...   \n61                   0.0  ...             4.101440e+05  4.101440e+05   \n62                   0.0  ...             4.168860e+05  4.168860e+05   \n63                   0.0  ...             5.204820e+05  5.204820e+05   \n64                   0.0  ...             6.653510e+05  6.653510e+05   \n65                   0.0  ...             6.782680e+05  6.782680e+05   \n\n    totalLiabilitiesAndStockholdersEquity  minorityInterest  \\\n0                            1.079200e+10               0.0   \n1                            1.091900e+10               0.0   \n2                            1.051600e+10               0.0   \n3                            1.048400e+10               0.0   \n4                            1.045500e+10               0.0   \n..                                    ...               ...   \n61                           3.685415e+06               0.0   \n62                           3.306484e+06               0.0   \n63                           3.170866e+06               0.0   \n64                           2.559134e+06               0.0   \n65                           2.393948e+06               0.0   \n\n    totalLiabilitiesAndTotalEquity  totalInvestments     totalDebt  \\\n0                     1.079200e+10       186000000.0  2.733000e+09   \n1                     1.091900e+10       195000000.0  2.971000e+09   \n2                     1.051600e+10       195000000.0  2.769000e+09   \n3                     1.048400e+10       200000000.0  2.912000e+09   \n4                     1.045500e+10       211000000.0  2.905000e+09   \n..                             ...               ...           ...   \n61                    3.685415e+06               0.0  0.000000e+00   \n62                    3.306484e+06               0.0  5.615390e+05   \n63                    3.170866e+06               0.0  5.615380e+05   \n64                    2.559134e+06               0.0  0.000000e+00   \n65                    2.393948e+06               0.0  0.000000e+00   \n\n         netDebt                                               link  \\\n0   1.558000e+09  https://www.sec.gov/Archives/edgar/data/109087...   \n1   1.721000e+09  https://www.sec.gov/Archives/edgar/data/109087...   \n2   1.716000e+09  https://www.sec.gov/Archives/edgar/data/109087...   \n3   1.841000e+09  https://www.sec.gov/Archives/edgar/data/109087...   \n4   1.719000e+09  https://www.sec.gov/Archives/edgar/data/109087...   \n..           ...                                                ...   \n61 -7.704310e+05  https://www.sec.gov/Archives/edgar/data/136535...   \n62 -5.375530e+05                                                NaN   \n63 -7.113200e+04                                                NaN   \n64 -1.710810e+05                                                NaN   \n65 -2.285390e+05                                                NaN   \n\n                                            finalLink  \n0   https://www.sec.gov/Archives/edgar/data/109087...  \n1   https://www.sec.gov/Archives/edgar/data/109087...  \n2   https://www.sec.gov/Archives/edgar/data/109087...  \n3   https://www.sec.gov/Archives/edgar/data/109087...  \n4   https://www.sec.gov/Archives/edgar/data/109087...  \n..                                                ...  \n61  https://www.sec.gov/Archives/edgar/data/136535...  \n62                                                NaN  \n63                                                NaN  \n64                                                NaN  \n65                                                NaN  \n\n[639637 rows x 54 columns]",
      "text/html": "<div>\n<style scoped>\n    .dataframe tbody tr th:only-of-type {\n        vertical-align: middle;\n    }\n\n    .dataframe tbody tr th {\n        vertical-align: top;\n    }\n\n    .dataframe thead th {\n        text-align: right;\n    }\n</style>\n<table border=\"1\" class=\"dataframe\">\n  <thead>\n    <tr style=\"text-align: right;\">\n      <th></th>\n      <th>date</th>\n      <th>symbol</th>\n      <th>reportedCurrency</th>\n      <th>cik</th>\n      <th>fillingDate</th>\n      <th>acceptedDate</th>\n      <th>calendarYear</th>\n      <th>period</th>\n      <th>cashAndCashEquivalents</th>\n      <th>shortTermInvestments</th>\n      <th>...</th>\n      <th>totalStockholdersEquity</th>\n      <th>totalEquity</th>\n      <th>totalLiabilitiesAndStockholdersEquity</th>\n      <th>minorityInterest</th>\n      <th>totalLiabilitiesAndTotalEquity</th>\n      <th>totalInvestments</th>\n      <th>totalDebt</th>\n      <th>netDebt</th>\n      <th>link</th>\n      <th>finalLink</th>\n    </tr>\n  </thead>\n  <tbody>\n    <tr>\n      <th>0</th>\n      <td>2023-04-30</td>\n      <td>A</td>\n      <td>USD</td>\n      <td>1090872.0</td>\n      <td>2023-05-26</td>\n      <td>2023-05-26 17:28:42</td>\n      <td>2023</td>\n      <td>Q2</td>\n      <td>1.175000e+09</td>\n      <td>0.0</td>\n      <td>...</td>\n      <td>5.781000e+09</td>\n      <td>5.781000e+09</td>\n      <td>1.079200e+10</td>\n      <td>0.0</td>\n      <td>1.079200e+10</td>\n      <td>186000000.0</td>\n      <td>2.733000e+09</td>\n      <td>1.558000e+09</td>\n      <td>https://www.sec.gov/Archives/edgar/data/109087...</td>\n      <td>https://www.sec.gov/Archives/edgar/data/109087...</td>\n    </tr>\n    <tr>\n      <th>1</th>\n      <td>2023-01-31</td>\n      <td>A</td>\n      <td>USD</td>\n      <td>1090872.0</td>\n      <td>2023-03-03</td>\n      <td>2023-03-02 18:52:33</td>\n      <td>2023</td>\n      <td>Q1</td>\n      <td>1.250000e+09</td>\n      <td>0.0</td>\n      <td>...</td>\n      <td>5.609000e+09</td>\n      <td>5.609000e+09</td>\n      <td>1.091900e+10</td>\n      <td>0.0</td>\n      <td>1.091900e+10</td>\n      <td>195000000.0</td>\n      <td>2.971000e+09</td>\n      <td>1.721000e+09</td>\n      <td>https://www.sec.gov/Archives/edgar/data/109087...</td>\n      <td>https://www.sec.gov/Archives/edgar/data/109087...</td>\n    </tr>\n    <tr>\n      <th>2</th>\n      <td>2022-10-31</td>\n      <td>A</td>\n      <td>USD</td>\n      <td>1090872.0</td>\n      <td>2022-12-21</td>\n      <td>2022-12-20 18:42:30</td>\n      <td>2022</td>\n      <td>Q4</td>\n      <td>1.053000e+09</td>\n      <td>0.0</td>\n      <td>...</td>\n      <td>5.289000e+09</td>\n      <td>5.289000e+09</td>\n      <td>1.051600e+10</td>\n      <td>0.0</td>\n      <td>1.051600e+10</td>\n      <td>195000000.0</td>\n      <td>2.769000e+09</td>\n      <td>1.716000e+09</td>\n      <td>https://www.sec.gov/Archives/edgar/data/109087...</td>\n      <td>https://www.sec.gov/Archives/edgar/data/109087...</td>\n    </tr>\n    <tr>\n      <th>3</th>\n      <td>2022-07-31</td>\n      <td>A</td>\n      <td>USD</td>\n      <td>1090872.0</td>\n      <td>2022-09-01</td>\n      <td>2022-08-31 18:53:26</td>\n      <td>2022</td>\n      <td>Q3</td>\n      <td>1.071000e+09</td>\n      <td>6000000.0</td>\n      <td>...</td>\n      <td>5.091000e+09</td>\n      <td>5.091000e+09</td>\n      <td>1.048400e+10</td>\n      <td>0.0</td>\n      <td>1.048400e+10</td>\n      <td>200000000.0</td>\n      <td>2.912000e+09</td>\n      <td>1.841000e+09</td>\n      <td>https://www.sec.gov/Archives/edgar/data/109087...</td>\n      <td>https://www.sec.gov/Archives/edgar/data/109087...</td>\n    </tr>\n    <tr>\n      <th>4</th>\n      <td>2022-04-30</td>\n      <td>A</td>\n      <td>USD</td>\n      <td>1090872.0</td>\n      <td>2022-05-31</td>\n      <td>2022-05-27 19:33:57</td>\n      <td>2022</td>\n      <td>Q2</td>\n      <td>1.186000e+09</td>\n      <td>21000000.0</td>\n      <td>...</td>\n      <td>5.122000e+09</td>\n      <td>5.122000e+09</td>\n      <td>1.045500e+10</td>\n      <td>0.0</td>\n      <td>1.045500e+10</td>\n      <td>211000000.0</td>\n      <td>2.905000e+09</td>\n      <td>1.719000e+09</td>\n      <td>https://www.sec.gov/Archives/edgar/data/109087...</td>\n      <td>https://www.sec.gov/Archives/edgar/data/109087...</td>\n    </tr>\n    <tr>\n      <th>...</th>\n      <td>...</td>\n      <td>...</td>\n      <td>...</td>\n      <td>...</td>\n      <td>...</td>\n      <td>...</td>\n      <td>...</td>\n      <td>...</td>\n      <td>...</td>\n      <td>...</td>\n      <td>...</td>\n      <td>...</td>\n      <td>...</td>\n      <td>...</td>\n      <td>...</td>\n      <td>...</td>\n      <td>...</td>\n      <td>...</td>\n      <td>...</td>\n      <td>...</td>\n      <td>...</td>\n    </tr>\n    <tr>\n      <th>61</th>\n      <td>2007-03-31</td>\n      <td>ZZLL</td>\n      <td>USD</td>\n      <td>1365357.0</td>\n      <td>2007-06-29</td>\n      <td>2007-06-28 18:08:07</td>\n      <td>2007</td>\n      <td>Q1</td>\n      <td>7.704310e+05</td>\n      <td>0.0</td>\n      <td>...</td>\n      <td>4.101440e+05</td>\n      <td>4.101440e+05</td>\n      <td>3.685415e+06</td>\n      <td>0.0</td>\n      <td>3.685415e+06</td>\n      <td>0.0</td>\n      <td>0.000000e+00</td>\n      <td>-7.704310e+05</td>\n      <td>https://www.sec.gov/Archives/edgar/data/136535...</td>\n      <td>https://www.sec.gov/Archives/edgar/data/136535...</td>\n    </tr>\n    <tr>\n      <th>62</th>\n      <td>2006-12-31</td>\n      <td>ZZLL</td>\n      <td>USD</td>\n      <td>1365357.0</td>\n      <td>2006-12-31</td>\n      <td>2006-12-31 00:00:00</td>\n      <td>2006</td>\n      <td>Q4</td>\n      <td>1.099092e+06</td>\n      <td>0.0</td>\n      <td>...</td>\n      <td>4.168860e+05</td>\n      <td>4.168860e+05</td>\n      <td>3.306484e+06</td>\n      <td>0.0</td>\n      <td>3.306484e+06</td>\n      <td>0.0</td>\n      <td>5.615390e+05</td>\n      <td>-5.375530e+05</td>\n      <td>NaN</td>\n      <td>NaN</td>\n    </tr>\n    <tr>\n      <th>63</th>\n      <td>2006-09-30</td>\n      <td>ZZLL</td>\n      <td>USD</td>\n      <td>1365357.0</td>\n      <td>2006-09-30</td>\n      <td>2006-09-30 00:00:00</td>\n      <td>2006</td>\n      <td>Q3</td>\n      <td>6.326700e+05</td>\n      <td>0.0</td>\n      <td>...</td>\n      <td>5.204820e+05</td>\n      <td>5.204820e+05</td>\n      <td>3.170866e+06</td>\n      <td>0.0</td>\n      <td>3.170866e+06</td>\n      <td>0.0</td>\n      <td>5.615380e+05</td>\n      <td>-7.113200e+04</td>\n      <td>NaN</td>\n      <td>NaN</td>\n    </tr>\n    <tr>\n      <th>64</th>\n      <td>2006-06-30</td>\n      <td>ZZLL</td>\n      <td>USD</td>\n      <td>1365357.0</td>\n      <td>2006-06-30</td>\n      <td>2006-06-30 00:00:00</td>\n      <td>2006</td>\n      <td>Q2</td>\n      <td>1.710810e+05</td>\n      <td>0.0</td>\n      <td>...</td>\n      <td>6.653510e+05</td>\n      <td>6.653510e+05</td>\n      <td>2.559134e+06</td>\n      <td>0.0</td>\n      <td>2.559134e+06</td>\n      <td>0.0</td>\n      <td>0.000000e+00</td>\n      <td>-1.710810e+05</td>\n      <td>NaN</td>\n      <td>NaN</td>\n    </tr>\n    <tr>\n      <th>65</th>\n      <td>2006-03-31</td>\n      <td>ZZLL</td>\n      <td>USD</td>\n      <td>1365357.0</td>\n      <td>2006-03-31</td>\n      <td>2006-03-31 00:00:00</td>\n      <td>2006</td>\n      <td>Q1</td>\n      <td>2.285390e+05</td>\n      <td>0.0</td>\n      <td>...</td>\n      <td>6.782680e+05</td>\n      <td>6.782680e+05</td>\n      <td>2.393948e+06</td>\n      <td>0.0</td>\n      <td>2.393948e+06</td>\n      <td>0.0</td>\n      <td>0.000000e+00</td>\n      <td>-2.285390e+05</td>\n      <td>NaN</td>\n      <td>NaN</td>\n    </tr>\n  </tbody>\n</table>\n<p>639637 rows × 54 columns</p>\n</div>"
     },
     "execution_count": 69,
     "metadata": {},
     "output_type": "execute_result"
    }
   ],
   "source": [
    "raw_data_dir = get_data_dir() / 'raw'\n",
    "raw_data = pd.read_csv(raw_data_dir / 'balance_sheet_statements.csv', index_col=0)\n",
    "raw_data"
   ],
   "metadata": {
    "collapsed": false,
    "ExecuteTime": {
     "end_time": "2023-06-01T22:01:11.347044Z",
     "start_time": "2023-06-01T22:01:07.973496Z"
    }
   }
  },
  {
   "cell_type": "code",
   "execution_count": 70,
   "outputs": [
    {
     "data": {
      "text/plain": "       gvkey co_tic\n0       1078    ABT\n1       1300    HON\n2       1440    AEP\n3       2285     BA\n4       2403    BMY\n...      ...    ...\n13844  14282    APH\n13845  14282    APH\n13846   3532    GLW\n13847  14282    APH\n13848   3532    GLW\n\n[13849 rows x 2 columns]",
      "text/html": "<div>\n<style scoped>\n    .dataframe tbody tr th:only-of-type {\n        vertical-align: middle;\n    }\n\n    .dataframe tbody tr th {\n        vertical-align: top;\n    }\n\n    .dataframe thead th {\n        text-align: right;\n    }\n</style>\n<table border=\"1\" class=\"dataframe\">\n  <thead>\n    <tr style=\"text-align: right;\">\n      <th></th>\n      <th>gvkey</th>\n      <th>co_tic</th>\n    </tr>\n  </thead>\n  <tbody>\n    <tr>\n      <th>0</th>\n      <td>1078</td>\n      <td>ABT</td>\n    </tr>\n    <tr>\n      <th>1</th>\n      <td>1300</td>\n      <td>HON</td>\n    </tr>\n    <tr>\n      <th>2</th>\n      <td>1440</td>\n      <td>AEP</td>\n    </tr>\n    <tr>\n      <th>3</th>\n      <td>2285</td>\n      <td>BA</td>\n    </tr>\n    <tr>\n      <th>4</th>\n      <td>2403</td>\n      <td>BMY</td>\n    </tr>\n    <tr>\n      <th>...</th>\n      <td>...</td>\n      <td>...</td>\n    </tr>\n    <tr>\n      <th>13844</th>\n      <td>14282</td>\n      <td>APH</td>\n    </tr>\n    <tr>\n      <th>13845</th>\n      <td>14282</td>\n      <td>APH</td>\n    </tr>\n    <tr>\n      <th>13846</th>\n      <td>3532</td>\n      <td>GLW</td>\n    </tr>\n    <tr>\n      <th>13847</th>\n      <td>14282</td>\n      <td>APH</td>\n    </tr>\n    <tr>\n      <th>13848</th>\n      <td>3532</td>\n      <td>GLW</td>\n    </tr>\n  </tbody>\n</table>\n<p>13849 rows × 2 columns</p>\n</div>"
     },
     "execution_count": 70,
     "metadata": {},
     "output_type": "execute_result"
    }
   ],
   "source": [
    "raw_data_dir = get_data_dir() / 'raw'\n",
    "raw_data_tickers_to_gvkey = pd.read_csv(raw_data_dir / 'tickers.csv')\n",
    "raw_data_tickers_to_gvkey"
   ],
   "metadata": {
    "collapsed": false,
    "ExecuteTime": {
     "end_time": "2023-06-01T22:01:12.541385Z",
     "start_time": "2023-06-01T22:01:12.527366Z"
    }
   }
  },
  {
   "cell_type": "code",
   "execution_count": 71,
   "outputs": [
    {
     "data": {
      "text/plain": "                   symbol reportedCurrency        cik fillingDate  \\\ndate_index gvkey                                                    \n1978-03-24 nan       LAZY              USD  1721741.0  1978-03-24   \n1985-08-31 2710.0     STZ              USD    16918.0  1985-08-31   \n           2710.0     STZ              USD    16918.0  1985-08-31   \n           2710.0     STZ              USD    16918.0  1985-08-31   \n           2710.0     STZ              USD    16918.0  1985-08-31   \n...                   ...              ...        ...         ...   \n2023-05-31 29028.0   COST              USD   909832.0  2023-05-31   \n           29028.0   COST              USD   909832.0  2023-05-31   \n           29028.0   COST              USD   909832.0  2023-05-31   \n           29028.0   COST              USD   909832.0  2023-05-31   \n           29028.0   COST              USD   909832.0  2023-05-31   \n\n                           acceptedDate  calendarYear period  \\\ndate_index gvkey                                               \n1978-03-24 nan      1978-03-23 19:00:00          1978     Q1   \n1985-08-31 2710.0   1985-08-31 00:00:00          1986     Q2   \n           2710.0   1985-08-31 00:00:00          1986     Q2   \n           2710.0   1985-08-31 00:00:00          1986     Q2   \n           2710.0   1985-08-31 00:00:00          1986     Q2   \n...                                 ...           ...    ...   \n2023-05-31 29028.0  2023-05-31 00:00:00          2023     Q3   \n           29028.0  2023-05-31 00:00:00          2023     Q3   \n           29028.0  2023-05-31 00:00:00          2023     Q3   \n           29028.0  2023-05-31 00:00:00          2023     Q3   \n           29028.0  2023-05-31 00:00:00          2023     Q3   \n\n                    cashAndCashEquivalents  shortTermInvestments  \\\ndate_index gvkey                                                   \n1978-03-24 nan                1.027141e+07          0.000000e+00   \n1985-08-31 2710.0             9.100000e+06          0.000000e+00   \n           2710.0             9.100000e+06          0.000000e+00   \n           2710.0             9.100000e+06          0.000000e+00   \n           2710.0             9.100000e+06          0.000000e+00   \n...                                    ...                   ...   \n2023-05-31 29028.0            1.249300e+10          1.215000e+09   \n           29028.0            1.249300e+10          1.215000e+09   \n           29028.0            1.249300e+10          1.215000e+09   \n           29028.0            1.249300e+10          1.215000e+09   \n           29028.0            1.249300e+10          1.215000e+09   \n\n                    cashAndShortTermInvestments  ...  totalStockholdersEquity  \\\ndate_index gvkey                                 ...                            \n1978-03-24 nan                     1.027141e+07  ...             9.256057e+06   \n1985-08-31 2710.0                  9.100000e+06  ...             4.790000e+07   \n           2710.0                  9.100000e+06  ...             4.790000e+07   \n           2710.0                  9.100000e+06  ...             4.790000e+07   \n           2710.0                  9.100000e+06  ...             4.790000e+07   \n...                                         ...  ...                      ...   \n2023-05-31 29028.0                 1.370800e+10  ...             2.356800e+10   \n           29028.0                 1.370800e+10  ...             2.356800e+10   \n           29028.0                 1.370800e+10  ...             2.356800e+10   \n           29028.0                 1.370800e+10  ...             2.356800e+10   \n           29028.0                 1.370800e+10  ...             2.356800e+10   \n\n                     totalEquity  totalLiabilitiesAndStockholdersEquity  \\\ndate_index gvkey                                                          \n1978-03-24 nan      9.256057e+06                           2.836074e+07   \n1985-08-31 2710.0   4.790000e+07                           7.910000e+07   \n           2710.0   4.790000e+07                           7.910000e+07   \n           2710.0   4.790000e+07                           7.910000e+07   \n           2710.0   4.790000e+07                           7.910000e+07   \n...                          ...                                    ...   \n2023-05-31 29028.0  2.356800e+10                           6.675200e+10   \n           29028.0  2.356800e+10                           6.675200e+10   \n           29028.0  2.356800e+10                           6.675200e+10   \n           29028.0  2.356800e+10                           6.675200e+10   \n           29028.0  2.356800e+10                           6.675200e+10   \n\n                    minorityInterest  totalLiabilitiesAndTotalEquity  \\\ndate_index gvkey                                                       \n1978-03-24 nan                   0.0                    2.836074e+07   \n1985-08-31 2710.0                0.0                    7.910000e+07   \n           2710.0                0.0                    7.910000e+07   \n           2710.0                0.0                    7.910000e+07   \n           2710.0                0.0                    7.910000e+07   \n...                              ...                             ...   \n2023-05-31 29028.0         5000000.0                    6.675200e+10   \n           29028.0         5000000.0                    6.675200e+10   \n           29028.0         5000000.0                    6.675200e+10   \n           29028.0         5000000.0                    6.675200e+10   \n           29028.0         5000000.0                    6.675200e+10   \n\n                    totalInvestments     totalDebt       netDebt  link  \\\ndate_index gvkey                                                         \n1978-03-24 nan          0.000000e+00  1.392539e+07  3.653977e+06   NaN   \n1985-08-31 2710.0       0.000000e+00  7.700000e+06 -1.400000e+06   NaN   \n           2710.0       0.000000e+00  7.700000e+06 -1.400000e+06   NaN   \n           2710.0       0.000000e+00  7.700000e+06 -1.400000e+06   NaN   \n           2710.0       0.000000e+00  7.700000e+06 -1.400000e+06   NaN   \n...                              ...           ...           ...   ...   \n2023-05-31 29028.0      1.215000e+09  9.004000e+09 -3.489000e+09   NaN   \n           29028.0      1.215000e+09  9.004000e+09 -3.489000e+09   NaN   \n           29028.0      1.215000e+09  9.004000e+09 -3.489000e+09   NaN   \n           29028.0      1.215000e+09  9.004000e+09 -3.489000e+09   NaN   \n           29028.0      1.215000e+09  9.004000e+09 -3.489000e+09   NaN   \n\n                    finalLink  \ndate_index gvkey               \n1978-03-24 nan            NaN  \n1985-08-31 2710.0         NaN  \n           2710.0         NaN  \n           2710.0         NaN  \n           2710.0         NaN  \n...                       ...  \n2023-05-31 29028.0        NaN  \n           29028.0        NaN  \n           29028.0        NaN  \n           29028.0        NaN  \n           29028.0        NaN  \n\n[2069132 rows x 53 columns]",
      "text/html": "<div>\n<style scoped>\n    .dataframe tbody tr th:only-of-type {\n        vertical-align: middle;\n    }\n\n    .dataframe tbody tr th {\n        vertical-align: top;\n    }\n\n    .dataframe thead th {\n        text-align: right;\n    }\n</style>\n<table border=\"1\" class=\"dataframe\">\n  <thead>\n    <tr style=\"text-align: right;\">\n      <th></th>\n      <th></th>\n      <th>symbol</th>\n      <th>reportedCurrency</th>\n      <th>cik</th>\n      <th>fillingDate</th>\n      <th>acceptedDate</th>\n      <th>calendarYear</th>\n      <th>period</th>\n      <th>cashAndCashEquivalents</th>\n      <th>shortTermInvestments</th>\n      <th>cashAndShortTermInvestments</th>\n      <th>...</th>\n      <th>totalStockholdersEquity</th>\n      <th>totalEquity</th>\n      <th>totalLiabilitiesAndStockholdersEquity</th>\n      <th>minorityInterest</th>\n      <th>totalLiabilitiesAndTotalEquity</th>\n      <th>totalInvestments</th>\n      <th>totalDebt</th>\n      <th>netDebt</th>\n      <th>link</th>\n      <th>finalLink</th>\n    </tr>\n    <tr>\n      <th>date_index</th>\n      <th>gvkey</th>\n      <th></th>\n      <th></th>\n      <th></th>\n      <th></th>\n      <th></th>\n      <th></th>\n      <th></th>\n      <th></th>\n      <th></th>\n      <th></th>\n      <th></th>\n      <th></th>\n      <th></th>\n      <th></th>\n      <th></th>\n      <th></th>\n      <th></th>\n      <th></th>\n      <th></th>\n      <th></th>\n      <th></th>\n    </tr>\n  </thead>\n  <tbody>\n    <tr>\n      <th>1978-03-24</th>\n      <th>nan</th>\n      <td>LAZY</td>\n      <td>USD</td>\n      <td>1721741.0</td>\n      <td>1978-03-24</td>\n      <td>1978-03-23 19:00:00</td>\n      <td>1978</td>\n      <td>Q1</td>\n      <td>1.027141e+07</td>\n      <td>0.000000e+00</td>\n      <td>1.027141e+07</td>\n      <td>...</td>\n      <td>9.256057e+06</td>\n      <td>9.256057e+06</td>\n      <td>2.836074e+07</td>\n      <td>0.0</td>\n      <td>2.836074e+07</td>\n      <td>0.000000e+00</td>\n      <td>1.392539e+07</td>\n      <td>3.653977e+06</td>\n      <td>NaN</td>\n      <td>NaN</td>\n    </tr>\n    <tr>\n      <th rowspan=\"4\" valign=\"top\">1985-08-31</th>\n      <th>2710.0</th>\n      <td>STZ</td>\n      <td>USD</td>\n      <td>16918.0</td>\n      <td>1985-08-31</td>\n      <td>1985-08-31 00:00:00</td>\n      <td>1986</td>\n      <td>Q2</td>\n      <td>9.100000e+06</td>\n      <td>0.000000e+00</td>\n      <td>9.100000e+06</td>\n      <td>...</td>\n      <td>4.790000e+07</td>\n      <td>4.790000e+07</td>\n      <td>7.910000e+07</td>\n      <td>0.0</td>\n      <td>7.910000e+07</td>\n      <td>0.000000e+00</td>\n      <td>7.700000e+06</td>\n      <td>-1.400000e+06</td>\n      <td>NaN</td>\n      <td>NaN</td>\n    </tr>\n    <tr>\n      <th>2710.0</th>\n      <td>STZ</td>\n      <td>USD</td>\n      <td>16918.0</td>\n      <td>1985-08-31</td>\n      <td>1985-08-31 00:00:00</td>\n      <td>1986</td>\n      <td>Q2</td>\n      <td>9.100000e+06</td>\n      <td>0.000000e+00</td>\n      <td>9.100000e+06</td>\n      <td>...</td>\n      <td>4.790000e+07</td>\n      <td>4.790000e+07</td>\n      <td>7.910000e+07</td>\n      <td>0.0</td>\n      <td>7.910000e+07</td>\n      <td>0.000000e+00</td>\n      <td>7.700000e+06</td>\n      <td>-1.400000e+06</td>\n      <td>NaN</td>\n      <td>NaN</td>\n    </tr>\n    <tr>\n      <th>2710.0</th>\n      <td>STZ</td>\n      <td>USD</td>\n      <td>16918.0</td>\n      <td>1985-08-31</td>\n      <td>1985-08-31 00:00:00</td>\n      <td>1986</td>\n      <td>Q2</td>\n      <td>9.100000e+06</td>\n      <td>0.000000e+00</td>\n      <td>9.100000e+06</td>\n      <td>...</td>\n      <td>4.790000e+07</td>\n      <td>4.790000e+07</td>\n      <td>7.910000e+07</td>\n      <td>0.0</td>\n      <td>7.910000e+07</td>\n      <td>0.000000e+00</td>\n      <td>7.700000e+06</td>\n      <td>-1.400000e+06</td>\n      <td>NaN</td>\n      <td>NaN</td>\n    </tr>\n    <tr>\n      <th>2710.0</th>\n      <td>STZ</td>\n      <td>USD</td>\n      <td>16918.0</td>\n      <td>1985-08-31</td>\n      <td>1985-08-31 00:00:00</td>\n      <td>1986</td>\n      <td>Q2</td>\n      <td>9.100000e+06</td>\n      <td>0.000000e+00</td>\n      <td>9.100000e+06</td>\n      <td>...</td>\n      <td>4.790000e+07</td>\n      <td>4.790000e+07</td>\n      <td>7.910000e+07</td>\n      <td>0.0</td>\n      <td>7.910000e+07</td>\n      <td>0.000000e+00</td>\n      <td>7.700000e+06</td>\n      <td>-1.400000e+06</td>\n      <td>NaN</td>\n      <td>NaN</td>\n    </tr>\n    <tr>\n      <th>...</th>\n      <th>...</th>\n      <td>...</td>\n      <td>...</td>\n      <td>...</td>\n      <td>...</td>\n      <td>...</td>\n      <td>...</td>\n      <td>...</td>\n      <td>...</td>\n      <td>...</td>\n      <td>...</td>\n      <td>...</td>\n      <td>...</td>\n      <td>...</td>\n      <td>...</td>\n      <td>...</td>\n      <td>...</td>\n      <td>...</td>\n      <td>...</td>\n      <td>...</td>\n      <td>...</td>\n      <td>...</td>\n    </tr>\n    <tr>\n      <th rowspan=\"5\" valign=\"top\">2023-05-31</th>\n      <th>29028.0</th>\n      <td>COST</td>\n      <td>USD</td>\n      <td>909832.0</td>\n      <td>2023-05-31</td>\n      <td>2023-05-31 00:00:00</td>\n      <td>2023</td>\n      <td>Q3</td>\n      <td>1.249300e+10</td>\n      <td>1.215000e+09</td>\n      <td>1.370800e+10</td>\n      <td>...</td>\n      <td>2.356800e+10</td>\n      <td>2.356800e+10</td>\n      <td>6.675200e+10</td>\n      <td>5000000.0</td>\n      <td>6.675200e+10</td>\n      <td>1.215000e+09</td>\n      <td>9.004000e+09</td>\n      <td>-3.489000e+09</td>\n      <td>NaN</td>\n      <td>NaN</td>\n    </tr>\n    <tr>\n      <th>29028.0</th>\n      <td>COST</td>\n      <td>USD</td>\n      <td>909832.0</td>\n      <td>2023-05-31</td>\n      <td>2023-05-31 00:00:00</td>\n      <td>2023</td>\n      <td>Q3</td>\n      <td>1.249300e+10</td>\n      <td>1.215000e+09</td>\n      <td>1.370800e+10</td>\n      <td>...</td>\n      <td>2.356800e+10</td>\n      <td>2.356800e+10</td>\n      <td>6.675200e+10</td>\n      <td>5000000.0</td>\n      <td>6.675200e+10</td>\n      <td>1.215000e+09</td>\n      <td>9.004000e+09</td>\n      <td>-3.489000e+09</td>\n      <td>NaN</td>\n      <td>NaN</td>\n    </tr>\n    <tr>\n      <th>29028.0</th>\n      <td>COST</td>\n      <td>USD</td>\n      <td>909832.0</td>\n      <td>2023-05-31</td>\n      <td>2023-05-31 00:00:00</td>\n      <td>2023</td>\n      <td>Q3</td>\n      <td>1.249300e+10</td>\n      <td>1.215000e+09</td>\n      <td>1.370800e+10</td>\n      <td>...</td>\n      <td>2.356800e+10</td>\n      <td>2.356800e+10</td>\n      <td>6.675200e+10</td>\n      <td>5000000.0</td>\n      <td>6.675200e+10</td>\n      <td>1.215000e+09</td>\n      <td>9.004000e+09</td>\n      <td>-3.489000e+09</td>\n      <td>NaN</td>\n      <td>NaN</td>\n    </tr>\n    <tr>\n      <th>29028.0</th>\n      <td>COST</td>\n      <td>USD</td>\n      <td>909832.0</td>\n      <td>2023-05-31</td>\n      <td>2023-05-31 00:00:00</td>\n      <td>2023</td>\n      <td>Q3</td>\n      <td>1.249300e+10</td>\n      <td>1.215000e+09</td>\n      <td>1.370800e+10</td>\n      <td>...</td>\n      <td>2.356800e+10</td>\n      <td>2.356800e+10</td>\n      <td>6.675200e+10</td>\n      <td>5000000.0</td>\n      <td>6.675200e+10</td>\n      <td>1.215000e+09</td>\n      <td>9.004000e+09</td>\n      <td>-3.489000e+09</td>\n      <td>NaN</td>\n      <td>NaN</td>\n    </tr>\n    <tr>\n      <th>29028.0</th>\n      <td>COST</td>\n      <td>USD</td>\n      <td>909832.0</td>\n      <td>2023-05-31</td>\n      <td>2023-05-31 00:00:00</td>\n      <td>2023</td>\n      <td>Q3</td>\n      <td>1.249300e+10</td>\n      <td>1.215000e+09</td>\n      <td>1.370800e+10</td>\n      <td>...</td>\n      <td>2.356800e+10</td>\n      <td>2.356800e+10</td>\n      <td>6.675200e+10</td>\n      <td>5000000.0</td>\n      <td>6.675200e+10</td>\n      <td>1.215000e+09</td>\n      <td>9.004000e+09</td>\n      <td>-3.489000e+09</td>\n      <td>NaN</td>\n      <td>NaN</td>\n    </tr>\n  </tbody>\n</table>\n<p>2069132 rows × 53 columns</p>\n</div>"
     },
     "execution_count": 71,
     "metadata": {},
     "output_type": "execute_result"
    }
   ],
   "source": [
    "# Create column in balance sheet statement that has gvkey\n",
    "df1 = raw_data\n",
    "df2 = raw_data_tickers_to_gvkey\n",
    "df2.rename(columns={'co_tic': 'symbol'}, inplace=True)\n",
    "df1 = df1.merge(df2[['symbol', 'gvkey']], on='symbol', how='left')\n",
    "\n",
    "# Ensure 'date' is in datetime format\n",
    "df1['date'] = pd.to_datetime(df1['date'])\n",
    "\n",
    "#rename date index to date_index standard\n",
    "df1.rename(columns={'date': 'date_index'}, inplace=True)\n",
    "\n",
    "# Ensure 'gvkey' is of type str for correct panel data operations\n",
    "df1['gvkey'] = df1['gvkey'].astype(str)\n",
    "\n",
    "#make gvkey and date_index into index to remove nulls\n",
    "df1.set_index(['date_index', 'gvkey'], inplace=True)\n",
    "\n",
    "df1.sort_index(level=0, inplace=True)\n",
    "df1\n"
   ],
   "metadata": {
    "collapsed": false,
    "ExecuteTime": {
     "end_time": "2023-06-01T22:01:18.694646Z",
     "start_time": "2023-06-01T22:01:15.202007Z"
    }
   }
  },
  {
   "cell_type": "code",
   "execution_count": 72,
   "outputs": [
    {
     "data": {
      "text/plain": "                     totalAssets symbol\ndate_index gvkey                       \n1978-03-24 nan      2.836074e+07   LAZY\n1985-08-31 2710.0   7.910000e+07    STZ\n           2710.0   7.910000e+07    STZ\n           2710.0   7.910000e+07    STZ\n           2710.0   7.910000e+07    STZ\n...                          ...    ...\n2023-05-31 29028.0  6.675200e+10   COST\n           29028.0  6.675200e+10   COST\n           29028.0  6.675200e+10   COST\n           29028.0  6.675200e+10   COST\n           29028.0  6.675200e+10   COST\n\n[2069132 rows x 2 columns]",
      "text/html": "<div>\n<style scoped>\n    .dataframe tbody tr th:only-of-type {\n        vertical-align: middle;\n    }\n\n    .dataframe tbody tr th {\n        vertical-align: top;\n    }\n\n    .dataframe thead th {\n        text-align: right;\n    }\n</style>\n<table border=\"1\" class=\"dataframe\">\n  <thead>\n    <tr style=\"text-align: right;\">\n      <th></th>\n      <th></th>\n      <th>totalAssets</th>\n      <th>symbol</th>\n    </tr>\n    <tr>\n      <th>date_index</th>\n      <th>gvkey</th>\n      <th></th>\n      <th></th>\n    </tr>\n  </thead>\n  <tbody>\n    <tr>\n      <th>1978-03-24</th>\n      <th>nan</th>\n      <td>2.836074e+07</td>\n      <td>LAZY</td>\n    </tr>\n    <tr>\n      <th rowspan=\"4\" valign=\"top\">1985-08-31</th>\n      <th>2710.0</th>\n      <td>7.910000e+07</td>\n      <td>STZ</td>\n    </tr>\n    <tr>\n      <th>2710.0</th>\n      <td>7.910000e+07</td>\n      <td>STZ</td>\n    </tr>\n    <tr>\n      <th>2710.0</th>\n      <td>7.910000e+07</td>\n      <td>STZ</td>\n    </tr>\n    <tr>\n      <th>2710.0</th>\n      <td>7.910000e+07</td>\n      <td>STZ</td>\n    </tr>\n    <tr>\n      <th>...</th>\n      <th>...</th>\n      <td>...</td>\n      <td>...</td>\n    </tr>\n    <tr>\n      <th rowspan=\"5\" valign=\"top\">2023-05-31</th>\n      <th>29028.0</th>\n      <td>6.675200e+10</td>\n      <td>COST</td>\n    </tr>\n    <tr>\n      <th>29028.0</th>\n      <td>6.675200e+10</td>\n      <td>COST</td>\n    </tr>\n    <tr>\n      <th>29028.0</th>\n      <td>6.675200e+10</td>\n      <td>COST</td>\n    </tr>\n    <tr>\n      <th>29028.0</th>\n      <td>6.675200e+10</td>\n      <td>COST</td>\n    </tr>\n    <tr>\n      <th>29028.0</th>\n      <td>6.675200e+10</td>\n      <td>COST</td>\n    </tr>\n  </tbody>\n</table>\n<p>2069132 rows × 2 columns</p>\n</div>"
     },
     "execution_count": 72,
     "metadata": {},
     "output_type": "execute_result"
    }
   ],
   "source": [
    "#removing unnecesary columns\n",
    "df1 = df1[['totalAssets', 'symbol']]\n",
    "df1"
   ],
   "metadata": {
    "collapsed": false,
    "ExecuteTime": {
     "end_time": "2023-06-01T22:01:23.308915Z",
     "start_time": "2023-06-01T22:01:22.271277Z"
    }
   }
  },
  {
   "cell_type": "code",
   "execution_count": 73,
   "outputs": [
    {
     "name": "stderr",
     "output_type": "stream",
     "text": [
      "\n",
      "A value is trying to be set on a copy of a slice from a DataFrame\n",
      "\n",
      "See the caveats in the documentation: https://pandas.pydata.org/pandas-docs/stable/user_guide/indexing.html#returning-a-view-versus-a-copy\n",
      "\n",
      "A value is trying to be set on a copy of a slice from a DataFrame.\n",
      "Try using .loc[row_indexer,col_indexer] = value instead\n",
      "\n",
      "See the caveats in the documentation: https://pandas.pydata.org/pandas-docs/stable/user_guide/indexing.html#returning-a-view-versus-a-copy\n"
     ]
    },
    {
     "data": {
      "text/plain": "                              at ticker  AssetGrowth\ndate_index gvkey                                    \n1978-03-24 nan      2.836074e+07   LAZY          NaN\n1985-08-31 2710.0   7.910000e+07    STZ          NaN\n           2710.0   7.910000e+07    STZ          NaN\n           2710.0   7.910000e+07    STZ          NaN\n           2710.0   7.910000e+07    STZ          NaN\n...                          ...    ...          ...\n2023-05-31 29028.0  6.675200e+10   COST          0.0\n           29028.0  6.675200e+10   COST          0.0\n           29028.0  6.675200e+10   COST          0.0\n           29028.0  6.675200e+10   COST          0.0\n           29028.0  6.675200e+10   COST          0.0\n\n[2069132 rows x 3 columns]",
      "text/html": "<div>\n<style scoped>\n    .dataframe tbody tr th:only-of-type {\n        vertical-align: middle;\n    }\n\n    .dataframe tbody tr th {\n        vertical-align: top;\n    }\n\n    .dataframe thead th {\n        text-align: right;\n    }\n</style>\n<table border=\"1\" class=\"dataframe\">\n  <thead>\n    <tr style=\"text-align: right;\">\n      <th></th>\n      <th></th>\n      <th>at</th>\n      <th>ticker</th>\n      <th>AssetGrowth</th>\n    </tr>\n    <tr>\n      <th>date_index</th>\n      <th>gvkey</th>\n      <th></th>\n      <th></th>\n      <th></th>\n    </tr>\n  </thead>\n  <tbody>\n    <tr>\n      <th>1978-03-24</th>\n      <th>nan</th>\n      <td>2.836074e+07</td>\n      <td>LAZY</td>\n      <td>NaN</td>\n    </tr>\n    <tr>\n      <th rowspan=\"4\" valign=\"top\">1985-08-31</th>\n      <th>2710.0</th>\n      <td>7.910000e+07</td>\n      <td>STZ</td>\n      <td>NaN</td>\n    </tr>\n    <tr>\n      <th>2710.0</th>\n      <td>7.910000e+07</td>\n      <td>STZ</td>\n      <td>NaN</td>\n    </tr>\n    <tr>\n      <th>2710.0</th>\n      <td>7.910000e+07</td>\n      <td>STZ</td>\n      <td>NaN</td>\n    </tr>\n    <tr>\n      <th>2710.0</th>\n      <td>7.910000e+07</td>\n      <td>STZ</td>\n      <td>NaN</td>\n    </tr>\n    <tr>\n      <th>...</th>\n      <th>...</th>\n      <td>...</td>\n      <td>...</td>\n      <td>...</td>\n    </tr>\n    <tr>\n      <th rowspan=\"5\" valign=\"top\">2023-05-31</th>\n      <th>29028.0</th>\n      <td>6.675200e+10</td>\n      <td>COST</td>\n      <td>0.0</td>\n    </tr>\n    <tr>\n      <th>29028.0</th>\n      <td>6.675200e+10</td>\n      <td>COST</td>\n      <td>0.0</td>\n    </tr>\n    <tr>\n      <th>29028.0</th>\n      <td>6.675200e+10</td>\n      <td>COST</td>\n      <td>0.0</td>\n    </tr>\n    <tr>\n      <th>29028.0</th>\n      <td>6.675200e+10</td>\n      <td>COST</td>\n      <td>0.0</td>\n    </tr>\n    <tr>\n      <th>29028.0</th>\n      <td>6.675200e+10</td>\n      <td>COST</td>\n      <td>0.0</td>\n    </tr>\n  </tbody>\n</table>\n<p>2069132 rows × 3 columns</p>\n</div>"
     },
     "execution_count": 73,
     "metadata": {},
     "output_type": "execute_result"
    }
   ],
   "source": [
    "#renaming totalAssets and symbols so they're in standard 'at' and 'ticker' variable names\n",
    "df1.rename(columns={'totalAssets' : 'at',\n",
    "                    'symbol' : 'ticker'}, inplace=True)\n",
    "\n",
    "#creating column with factor\n",
    "df1['AssetGrowth'] = (df1['at'] - df1['at'].groupby(level=1).shift(12)) / df1['at'].groupby(level=1).shift(12)\n",
    "\n",
    "df1\n"
   ],
   "metadata": {
    "collapsed": false,
    "ExecuteTime": {
     "end_time": "2023-06-01T22:01:29.120171Z",
     "start_time": "2023-06-01T22:01:28.933552Z"
    }
   }
  },
  {
   "cell_type": "code",
   "execution_count": null,
   "outputs": [],
   "source": [],
   "metadata": {
    "collapsed": false
   }
  }
 ],
 "metadata": {
  "kernelspec": {
   "display_name": "Python 3",
   "language": "python",
   "name": "python3"
  },
  "language_info": {
   "codemirror_mode": {
    "name": "ipython",
    "version": 2
   },
   "file_extension": ".py",
   "mimetype": "text/x-python",
   "name": "python",
   "nbconvert_exporter": "python",
   "pygments_lexer": "ipython2",
   "version": "2.7.6"
  }
 },
 "nbformat": 4,
 "nbformat_minor": 0
}
