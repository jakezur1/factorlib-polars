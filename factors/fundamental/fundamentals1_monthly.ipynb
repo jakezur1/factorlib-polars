{
 "cells": [
  {
   "cell_type": "code",
   "execution_count": 18,
   "metadata": {},
   "outputs": [],
   "source": [
    "import polars as pl\n",
    "from factorlib.utils.system import get_data_dir"
   ]
  },
  {
   "cell_type": "code",
   "execution_count": 19,
   "metadata": {},
   "outputs": [
    {
     "data": {
      "text/plain": [
       "\"\\nORIGINAL STATE: The ratios-history-full.csv is a csv full of common fundamental ratios of individual stocks from Wharton Research Data Services (WRDS). These fundamnetals correspond to stocks represented by words as GVKEYs instead of tickers. GVKEYs are numeric identification numbers for stocks that can be used to identify a stock rather than using the stocks ticker. Over long periods of time, these GVKEY's are more accurate because they do not change, where as a company's ticker can change anytime. However, our factor model uses tickers to identify stocks, and therefore needs a `ticker` column in all non general factors. The goal of this notebook is to add a tickers column to the data, where each ticker corresponds to its GVKEY in that row.\\n\\nMETHOD: Thankfully, we also have a tickers.csv that contains a unique list of 505 SP500 common tickers and their corresponding GVKEY. You can look at the data, but it has two columns, a ticker column, and a GVKEY column. We can use this dataframe as a map to match the tickers in tickers.csv to the GVKEYs in ratios-history-full.csv to create our factor. We use the polars method .join(data: pl.DataFrame, on: str, how: str) to do this. See polars documentation to understand how .join() works, and understand how different parameters of the function will affect how the two dataframes are merged.\\n\""
      ]
     },
     "execution_count": 19,
     "metadata": {},
     "output_type": "execute_result"
    }
   ],
   "source": [
    "\"\"\"\n",
    "ORIGINAL STATE: The ratios-history-full.csv is a csv full of common fundamental ratios of individual stocks from Wharton Research Data Services (WRDS). These fundamnetals correspond to stocks represented by words as GVKEYs instead of tickers. GVKEYs are numeric identification numbers for stocks that can be used to identify a stock rather than using the stocks ticker. Over long periods of time, these GVKEY's are more accurate because they do not change, where as a company's ticker can change anytime. However, our factor model uses tickers to identify stocks, and therefore needs a `ticker` column in all non general factors. The goal of this notebook is to add a tickers column to the data, where each ticker corresponds to its GVKEY in that row.\n",
    "\n",
    "METHOD: Thankfully, we also have a tickers.csv that contains a unique list of 505 SP500 common tickers and their corresponding GVKEY. You can look at the data, but it has two columns, a ticker column, and a GVKEY column. We can use this dataframe as a map to match the tickers in tickers.csv to the GVKEYs in ratios-history-full.csv to create our factor. We use the polars method .join(data: pl.DataFrame, on: str, how: str) to do this. See polars documentation to understand how .join() works, and understand how different parameters of the function will affect how the two dataframes are merged.\n",
    "\"\"\""
   ]
  },
  {
   "cell_type": "code",
   "execution_count": 21,
   "metadata": {},
   "outputs": [],
   "source": [
    "# load data\n",
    "raw_data = get_data_dir() / 'raw'\n",
    "ratios = pl.scan_csv(raw_data / 'ratios_history_full.csv', try_parse_dates=True).collect(streaming=True)\n",
    "tickers = pl.scan_csv(raw_data / 'tickers.csv', try_parse_dates=True).collect(streaming=True)"
   ]
  },
  {
   "cell_type": "code",
   "execution_count": 22,
   "metadata": {},
   "outputs": [
    {
     "data": {
      "text/html": [
       "<div><style>\n",
       ".dataframe > thead > tr > th,\n",
       ".dataframe > tbody > tr > td {\n",
       "  text-align: right;\n",
       "}\n",
       "</style>\n",
       "<small>shape: (2_631_389, 17)</small><table border=\"1\" class=\"dataframe\"><thead><tr><th>gvkey</th><th>co_tic</th><th>adate</th><th>qdate</th><th>public_date</th><th>bm</th><th>pe_op_dil</th><th>pcf</th><th>gpm</th><th>roa</th><th>roe</th><th>aftret_invcapx</th><th>capital_ratio</th><th>quick_ratio</th><th>curr_ratio</th><th>ptb</th><th>PEG_1yrforward</th></tr><tr><td>i64</td><td>str</td><td>str</td><td>str</td><td>str</td><td>f64</td><td>f64</td><td>f64</td><td>f64</td><td>f64</td><td>f64</td><td>f64</td><td>f64</td><td>f64</td><td>f64</td><td>f64</td><td>f64</td></tr></thead><tbody><tr><td>9465</td><td>&quot;SLB&quot;</td><td>null</td><td>null</td><td>null</td><td>null</td><td>null</td><td>null</td><td>null</td><td>null</td><td>null</td><td>null</td><td>null</td><td>null</td><td>null</td><td>null</td><td>null</td></tr><tr><td>13498</td><td>&quot;CCL&quot;</td><td>null</td><td>null</td><td>null</td><td>null</td><td>null</td><td>null</td><td>null</td><td>null</td><td>null</td><td>null</td><td>null</td><td>null</td><td>null</td><td>null</td><td>null</td></tr><tr><td>28733</td><td>&quot;EQR&quot;</td><td>null</td><td>null</td><td>null</td><td>null</td><td>null</td><td>null</td><td>null</td><td>null</td><td>null</td><td>null</td><td>null</td><td>null</td><td>null</td><td>null</td><td>null</td></tr><tr><td>28034</td><td>&quot;CB&quot;</td><td>null</td><td>null</td><td>null</td><td>null</td><td>null</td><td>null</td><td>null</td><td>null</td><td>null</td><td>null</td><td>null</td><td>null</td><td>null</td><td>null</td><td>null</td></tr><tr><td>29389</td><td>&quot;SPG&quot;</td><td>null</td><td>null</td><td>null</td><td>null</td><td>null</td><td>null</td><td>null</td><td>null</td><td>null</td><td>null</td><td>null</td><td>null</td><td>null</td><td>null</td><td>null</td></tr><tr><td>30490</td><td>&quot;AIV&quot;</td><td>null</td><td>null</td><td>null</td><td>null</td><td>null</td><td>null</td><td>null</td><td>null</td><td>null</td><td>null</td><td>null</td><td>null</td><td>null</td><td>null</td><td>null</td></tr><tr><td>29984</td><td>&quot;PLD&quot;</td><td>null</td><td>null</td><td>null</td><td>null</td><td>null</td><td>null</td><td>null</td><td>null</td><td>null</td><td>null</td><td>null</td><td>null</td><td>null</td><td>null</td><td>null</td></tr><tr><td>11220</td><td>&quot;VNO&quot;</td><td>null</td><td>null</td><td>null</td><td>null</td><td>null</td><td>null</td><td>null</td><td>null</td><td>null</td><td>null</td><td>null</td><td>null</td><td>null</td><td>null</td><td>null</td></tr><tr><td>10096</td><td>&quot;PSA&quot;</td><td>null</td><td>null</td><td>null</td><td>null</td><td>null</td><td>null</td><td>null</td><td>null</td><td>null</td><td>null</td><td>null</td><td>null</td><td>null</td><td>null</td><td>null</td></tr><tr><td>24731</td><td>&quot;KIM&quot;</td><td>null</td><td>null</td><td>null</td><td>null</td><td>null</td><td>null</td><td>null</td><td>null</td><td>null</td><td>null</td><td>null</td><td>null</td><td>null</td><td>null</td><td>null</td></tr><tr><td>64925</td><td>&quot;BXP&quot;</td><td>null</td><td>null</td><td>null</td><td>null</td><td>null</td><td>null</td><td>null</td><td>null</td><td>null</td><td>null</td><td>null</td><td>null</td><td>null</td><td>null</td><td>null</td></tr><tr><td>29875</td><td>&quot;AVB&quot;</td><td>null</td><td>null</td><td>null</td><td>null</td><td>null</td><td>null</td><td>null</td><td>null</td><td>null</td><td>null</td><td>null</td><td>null</td><td>null</td><td>null</td><td>null</td></tr><tr><td>&hellip;</td><td>&hellip;</td><td>&hellip;</td><td>&hellip;</td><td>&hellip;</td><td>&hellip;</td><td>&hellip;</td><td>&hellip;</td><td>&hellip;</td><td>&hellip;</td><td>&hellip;</td><td>&hellip;</td><td>&hellip;</td><td>&hellip;</td><td>&hellip;</td><td>&hellip;</td><td>&hellip;</td></tr><tr><td>3226</td><td>&quot;CMCSA&quot;</td><td>&quot;12/31/2018&quot;</td><td>&quot;09/30/2019&quot;</td><td>&quot;12/31/2019&quot;</td><td>0.518</td><td>16.533</td><td>8.085</td><td>0.314</td><td>0.141</td><td>0.123</td><td>0.086</td><td>0.588</td><td>0.763</td><td>0.763</td><td>1.924</td><td>0.787</td></tr><tr><td>126136</td><td>&quot;CHTR&quot;</td><td>&quot;12/31/2018&quot;</td><td>&quot;09/30/2019&quot;</td><td>&quot;12/31/2019&quot;</td><td>0.571</td><td>78.747</td><td>9.014</td><td>0.358</td><td>0.111</td><td>0.023</td><td>0.04</td><td>0.671</td><td>0.288</td><td>0.288</td><td>2.06</td><td>2.903</td></tr><tr><td>60900</td><td>&quot;DISH&quot;</td><td>&quot;12/31/2018&quot;</td><td>&quot;09/30/2019&quot;</td><td>&quot;12/31/2019&quot;</td><td>0.773</td><td>13.91</td><td>3.569</td><td>0.323</td><td>0.079</td><td>0.12</td><td>0.098</td><td>0.595</td><td>0.599</td><td>0.66</td><td>0.695</td><td>-0.852</td></tr><tr><td>2312</td><td>&quot;RHI&quot;</td><td>&quot;12/31/2018&quot;</td><td>&quot;09/30/2019&quot;</td><td>&quot;12/31/2019&quot;</td><td>0.172</td><td>16.318</td><td>13.209</td><td>0.428</td><td>0.328</td><td>0.417</td><td>0.0</td><td>0.122</td><td>1.719</td><td>1.719</td><td>6.677</td><td>1.9</td></tr><tr><td>2312</td><td>&quot;RHI&quot;</td><td>&quot;12/31/2018&quot;</td><td>&quot;09/30/2019&quot;</td><td>&quot;12/31/2019&quot;</td><td>0.172</td><td>16.318</td><td>13.209</td><td>0.428</td><td>0.328</td><td>0.417</td><td>0.0</td><td>0.122</td><td>1.719</td><td>1.719</td><td>6.677</td><td>1.9</td></tr><tr><td>260774</td><td>&quot;CBRE&quot;</td><td>&quot;12/31/2018&quot;</td><td>&quot;09/30/2019&quot;</td><td>&quot;12/31/2019&quot;</td><td>0.311</td><td>17.562</td><td>26.706</td><td>0.078</td><td>0.129</td><td>0.202</td><td>0.152</td><td>0.328</td><td>1.167</td><td>1.167</td><td>3.708</td><td>null</td></tr><tr><td>260774</td><td>&quot;CBRE&quot;</td><td>&quot;12/31/2018&quot;</td><td>&quot;09/30/2019&quot;</td><td>&quot;12/31/2019&quot;</td><td>0.311</td><td>17.562</td><td>26.706</td><td>0.078</td><td>0.129</td><td>0.202</td><td>0.152</td><td>0.328</td><td>1.167</td><td>1.167</td><td>3.708</td><td>null</td></tr><tr><td>14282</td><td>&quot;APH&quot;</td><td>&quot;12/31/2018&quot;</td><td>&quot;09/30/2019&quot;</td><td>&quot;12/31/2019&quot;</td><td>0.154</td><td>28.112</td><td>22.033</td><td>0.359</td><td>0.197</td><td>0.272</td><td>0.173</td><td>0.457</td><td>1.468</td><td>2.073</td><td>7.315</td><td>-9.736</td></tr><tr><td>14282</td><td>&quot;APH&quot;</td><td>&quot;12/31/2018&quot;</td><td>&quot;09/30/2019&quot;</td><td>&quot;12/31/2019&quot;</td><td>0.154</td><td>28.112</td><td>22.033</td><td>0.359</td><td>0.197</td><td>0.272</td><td>0.173</td><td>0.457</td><td>1.468</td><td>2.073</td><td>7.315</td><td>-9.736</td></tr><tr><td>3532</td><td>&quot;GLW&quot;</td><td>&quot;12/31/2018&quot;</td><td>&quot;09/30/2019&quot;</td><td>&quot;12/31/2019&quot;</td><td>0.503</td><td>18.541</td><td>11.458</td><td>0.51</td><td>0.123</td><td>0.104</td><td>0.071</td><td>0.323</td><td>1.27</td><td>1.931</td><td>2.031</td><td>-9.596</td></tr><tr><td>14282</td><td>&quot;APH&quot;</td><td>&quot;12/31/2018&quot;</td><td>&quot;09/30/2019&quot;</td><td>&quot;12/31/2019&quot;</td><td>0.154</td><td>28.112</td><td>22.033</td><td>0.359</td><td>0.197</td><td>0.272</td><td>0.173</td><td>0.457</td><td>1.468</td><td>2.073</td><td>7.315</td><td>-9.736</td></tr><tr><td>3532</td><td>&quot;GLW&quot;</td><td>&quot;12/31/2018&quot;</td><td>&quot;09/30/2019&quot;</td><td>&quot;12/31/2019&quot;</td><td>0.503</td><td>18.541</td><td>11.458</td><td>0.51</td><td>0.123</td><td>0.104</td><td>0.071</td><td>0.323</td><td>1.27</td><td>1.931</td><td>2.031</td><td>-9.596</td></tr></tbody></table></div>"
      ],
      "text/plain": [
       "shape: (2_631_389, 17)\n",
       "┌───────┬────────┬────────────┬────────────┬───┬─────────────┬────────────┬───────┬────────────────┐\n",
       "│ gvkey ┆ co_tic ┆ adate      ┆ qdate      ┆ … ┆ quick_ratio ┆ curr_ratio ┆ ptb   ┆ PEG_1yrforward │\n",
       "│ ---   ┆ ---    ┆ ---        ┆ ---        ┆   ┆ ---         ┆ ---        ┆ ---   ┆ ---            │\n",
       "│ i64   ┆ str    ┆ str        ┆ str        ┆   ┆ f64         ┆ f64        ┆ f64   ┆ f64            │\n",
       "╞═══════╪════════╪════════════╪════════════╪═══╪═════════════╪════════════╪═══════╪════════════════╡\n",
       "│ 9465  ┆ SLB    ┆ null       ┆ null       ┆ … ┆ null        ┆ null       ┆ null  ┆ null           │\n",
       "│ 13498 ┆ CCL    ┆ null       ┆ null       ┆ … ┆ null        ┆ null       ┆ null  ┆ null           │\n",
       "│ 28733 ┆ EQR    ┆ null       ┆ null       ┆ … ┆ null        ┆ null       ┆ null  ┆ null           │\n",
       "│ 28034 ┆ CB     ┆ null       ┆ null       ┆ … ┆ null        ┆ null       ┆ null  ┆ null           │\n",
       "│ …     ┆ …      ┆ …          ┆ …          ┆ … ┆ …           ┆ …          ┆ …     ┆ …              │\n",
       "│ 14282 ┆ APH    ┆ 12/31/2018 ┆ 09/30/2019 ┆ … ┆ 1.468       ┆ 2.073      ┆ 7.315 ┆ -9.736         │\n",
       "│ 3532  ┆ GLW    ┆ 12/31/2018 ┆ 09/30/2019 ┆ … ┆ 1.27        ┆ 1.931      ┆ 2.031 ┆ -9.596         │\n",
       "│ 14282 ┆ APH    ┆ 12/31/2018 ┆ 09/30/2019 ┆ … ┆ 1.468       ┆ 2.073      ┆ 7.315 ┆ -9.736         │\n",
       "│ 3532  ┆ GLW    ┆ 12/31/2018 ┆ 09/30/2019 ┆ … ┆ 1.27        ┆ 1.931      ┆ 2.031 ┆ -9.596         │\n",
       "└───────┴────────┴────────────┴────────────┴───┴─────────────┴────────────┴───────┴────────────────┘"
      ]
     },
     "execution_count": 22,
     "metadata": {},
     "output_type": "execute_result"
    }
   ],
   "source": [
    "# join data\n",
    "ratios_with_tickers = tickers.join(ratios, on='gvkey', how='left')\n",
    "ratios_with_tickers.sort('public_date')"
   ]
  },
  {
   "cell_type": "code",
   "execution_count": 23,
   "metadata": {},
   "outputs": [
    {
     "data": {
      "text/html": [
       "<div><style>\n",
       ".dataframe > thead > tr > th,\n",
       ".dataframe > tbody > tr > td {\n",
       "  text-align: right;\n",
       "}\n",
       "</style>\n",
       "<small>shape: (2_631_389, 14)</small><table border=\"1\" class=\"dataframe\"><thead><tr><th>co_tic</th><th>public_date</th><th>bm</th><th>pe_op_dil</th><th>pcf</th><th>gpm</th><th>roa</th><th>roe</th><th>aftret_invcapx</th><th>capital_ratio</th><th>quick_ratio</th><th>curr_ratio</th><th>ptb</th><th>PEG_1yrforward</th></tr><tr><td>str</td><td>str</td><td>f64</td><td>f64</td><td>f64</td><td>f64</td><td>f64</td><td>f64</td><td>f64</td><td>f64</td><td>f64</td><td>f64</td><td>f64</td><td>f64</td></tr></thead><tbody><tr><td>&quot;ABT&quot;</td><td>&quot;01/31/2001&quot;</td><td>0.113</td><td>25.782</td><td>25.401</td><td>0.625</td><td>0.288</td><td>0.357</td><td>0.318</td><td>0.137</td><td>1.171</td><td>1.545</td><td>8.34</td><td>4.616</td></tr><tr><td>&quot;ABT&quot;</td><td>&quot;02/28/2001&quot;</td><td>0.114</td><td>28.483</td><td>24.444</td><td>0.606</td><td>0.275</td><td>0.348</td><td>0.331</td><td>0.112</td><td>1.311</td><td>1.716</td><td>8.84</td><td>4.454</td></tr><tr><td>&quot;ABT&quot;</td><td>&quot;03/31/2001&quot;</td><td>0.114</td><td>27.436</td><td>23.546</td><td>0.606</td><td>0.275</td><td>0.348</td><td>0.331</td><td>0.112</td><td>1.311</td><td>1.716</td><td>8.515</td><td>4.29</td></tr><tr><td>&quot;ABT&quot;</td><td>&quot;04/30/2001&quot;</td><td>0.114</td><td>26.965</td><td>23.142</td><td>0.606</td><td>0.275</td><td>0.348</td><td>0.331</td><td>0.112</td><td>1.311</td><td>1.716</td><td>8.369</td><td>4.638</td></tr><tr><td>&quot;ABT&quot;</td><td>&quot;05/31/2001&quot;</td><td>0.111</td><td>33.321</td><td>30.691</td><td>0.606</td><td>0.279</td><td>0.227</td><td>0.212</td><td>0.121</td><td>0.932</td><td>1.244</td><td>9.94</td><td>7.71</td></tr><tr><td>&quot;ABT&quot;</td><td>&quot;06/30/2001&quot;</td><td>0.111</td><td>30.769</td><td>28.341</td><td>0.606</td><td>0.279</td><td>0.227</td><td>0.212</td><td>0.121</td><td>0.932</td><td>1.244</td><td>9.179</td><td>7.12</td></tr><tr><td>&quot;ABT&quot;</td><td>&quot;07/31/2001&quot;</td><td>0.111</td><td>34.353</td><td>31.642</td><td>0.606</td><td>0.279</td><td>0.227</td><td>0.212</td><td>0.121</td><td>0.932</td><td>1.244</td><td>10.248</td><td>7.949</td></tr><tr><td>&quot;ABT&quot;</td><td>&quot;08/31/2001&quot;</td><td>0.115</td><td>31.258</td><td>26.163</td><td>0.6</td><td>0.256</td><td>0.207</td><td>0.202</td><td>0.184</td><td>0.841</td><td>1.135</td><td>9.009</td><td>8.042</td></tr><tr><td>&quot;ABT&quot;</td><td>&quot;09/30/2001&quot;</td><td>0.115</td><td>32.61</td><td>27.295</td><td>0.6</td><td>0.256</td><td>0.207</td><td>0.202</td><td>0.184</td><td>0.841</td><td>1.135</td><td>9.399</td><td>8.39</td></tr><tr><td>&quot;ABT&quot;</td><td>&quot;10/31/2001&quot;</td><td>0.115</td><td>33.321</td><td>27.89</td><td>0.6</td><td>0.256</td><td>0.207</td><td>0.202</td><td>0.184</td><td>0.841</td><td>1.135</td><td>9.604</td><td>8.573</td></tr><tr><td>&quot;ABT&quot;</td><td>&quot;11/30/2001&quot;</td><td>0.108</td><td>35.032</td><td>24.724</td><td>0.596</td><td>0.236</td><td>0.202</td><td>0.19</td><td>0.242</td><td>0.766</td><td>1.044</td><td>9.847</td><td>9.065</td></tr><tr><td>&quot;ABT&quot;</td><td>&quot;12/31/2001&quot;</td><td>0.108</td><td>35.51</td><td>25.08</td><td>0.596</td><td>0.236</td><td>0.202</td><td>0.19</td><td>0.242</td><td>0.766</td><td>1.044</td><td>9.989</td><td>9.188</td></tr><tr><td>&hellip;</td><td>&hellip;</td><td>&hellip;</td><td>&hellip;</td><td>&hellip;</td><td>&hellip;</td><td>&hellip;</td><td>&hellip;</td><td>&hellip;</td><td>&hellip;</td><td>&hellip;</td><td>&hellip;</td><td>&hellip;</td><td>&hellip;</td></tr><tr><td>&quot;GLW&quot;</td><td>&quot;01/31/2019&quot;</td><td>0.43</td><td>20.658</td><td>9.289</td><td>0.507</td><td>0.11</td><td>-0.048</td><td>-0.022</td><td>0.254</td><td>1.82</td><td>2.422</td><td>2.234</td><td>-13.621</td></tr><tr><td>&quot;GLW&quot;</td><td>&quot;02/28/2019&quot;</td><td>0.497</td><td>22.604</td><td>9.382</td><td>0.51</td><td>0.114</td><td>0.083</td><td>0.062</td><td>0.303</td><td>1.509</td><td>2.124</td><td>2.313</td><td>2.193</td></tr><tr><td>&quot;GLW&quot;</td><td>&quot;03/31/2019&quot;</td><td>0.497</td><td>21.494</td><td>8.904</td><td>0.51</td><td>0.114</td><td>0.083</td><td>0.062</td><td>0.303</td><td>1.509</td><td>2.124</td><td>2.195</td><td>2.086</td></tr><tr><td>&quot;GLW&quot;</td><td>&quot;04/30/2019&quot;</td><td>0.497</td><td>20.682</td><td>8.568</td><td>0.51</td><td>0.114</td><td>0.083</td><td>0.062</td><td>0.303</td><td>1.509</td><td>2.124</td><td>2.112</td><td>2.007</td></tr><tr><td>&quot;GLW&quot;</td><td>&quot;05/31/2019&quot;</td><td>0.45</td><td>11.967</td><td>8.806</td><td>0.507</td><td>0.12</td><td>0.178</td><td>0.119</td><td>0.291</td><td>1.49</td><td>2.139</td><td>1.945</td><td>1.054</td></tr><tr><td>&quot;GLW&quot;</td><td>&quot;06/30/2019&quot;</td><td>0.45</td><td>13.788</td><td>10.147</td><td>0.507</td><td>0.12</td><td>0.178</td><td>0.119</td><td>0.291</td><td>1.49</td><td>2.139</td><td>2.241</td><td>1.342</td></tr><tr><td>&quot;GLW&quot;</td><td>&quot;07/31/2019&quot;</td><td>0.45</td><td>12.759</td><td>9.343</td><td>0.507</td><td>0.12</td><td>0.178</td><td>0.119</td><td>0.291</td><td>1.49</td><td>2.139</td><td>2.063</td><td>1.242</td></tr><tr><td>&quot;GLW&quot;</td><td>&quot;08/31/2019&quot;</td><td>0.442</td><td>15.914</td><td>10.83</td><td>0.509</td><td>0.123</td><td>0.128</td><td>0.086</td><td>0.305</td><td>1.387</td><td>2.041</td><td>1.899</td><td>3.359</td></tr><tr><td>&quot;GLW&quot;</td><td>&quot;09/30/2019&quot;</td><td>0.442</td><td>16.297</td><td>11.091</td><td>0.509</td><td>0.123</td><td>0.128</td><td>0.086</td><td>0.305</td><td>1.387</td><td>2.041</td><td>1.945</td><td>-5.159</td></tr><tr><td>&quot;GLW&quot;</td><td>&quot;10/31/2019&quot;</td><td>0.442</td><td>16.931</td><td>11.349</td><td>0.509</td><td>0.123</td><td>0.128</td><td>0.086</td><td>0.305</td><td>1.387</td><td>2.041</td><td>1.99</td><td>-5.36</td></tr><tr><td>&quot;GLW&quot;</td><td>&quot;11/30/2019&quot;</td><td>0.503</td><td>18.497</td><td>11.43</td><td>0.51</td><td>0.123</td><td>0.104</td><td>0.071</td><td>0.323</td><td>1.27</td><td>1.931</td><td>2.026</td><td>-12.763</td></tr><tr><td>&quot;GLW&quot;</td><td>&quot;12/31/2019&quot;</td><td>0.503</td><td>18.541</td><td>11.458</td><td>0.51</td><td>0.123</td><td>0.104</td><td>0.071</td><td>0.323</td><td>1.27</td><td>1.931</td><td>2.031</td><td>-9.596</td></tr></tbody></table></div>"
      ],
      "text/plain": [
       "shape: (2_631_389, 14)\n",
       "┌────────┬─────────────┬───────┬───────────┬───┬─────────────┬────────────┬───────┬────────────────┐\n",
       "│ co_tic ┆ public_date ┆ bm    ┆ pe_op_dil ┆ … ┆ quick_ratio ┆ curr_ratio ┆ ptb   ┆ PEG_1yrforward │\n",
       "│ ---    ┆ ---         ┆ ---   ┆ ---       ┆   ┆ ---         ┆ ---        ┆ ---   ┆ ---            │\n",
       "│ str    ┆ str         ┆ f64   ┆ f64       ┆   ┆ f64         ┆ f64        ┆ f64   ┆ f64            │\n",
       "╞════════╪═════════════╪═══════╪═══════════╪═══╪═════════════╪════════════╪═══════╪════════════════╡\n",
       "│ ABT    ┆ 01/31/2001  ┆ 0.113 ┆ 25.782    ┆ … ┆ 1.171       ┆ 1.545      ┆ 8.34  ┆ 4.616          │\n",
       "│ ABT    ┆ 02/28/2001  ┆ 0.114 ┆ 28.483    ┆ … ┆ 1.311       ┆ 1.716      ┆ 8.84  ┆ 4.454          │\n",
       "│ ABT    ┆ 03/31/2001  ┆ 0.114 ┆ 27.436    ┆ … ┆ 1.311       ┆ 1.716      ┆ 8.515 ┆ 4.29           │\n",
       "│ ABT    ┆ 04/30/2001  ┆ 0.114 ┆ 26.965    ┆ … ┆ 1.311       ┆ 1.716      ┆ 8.369 ┆ 4.638          │\n",
       "│ …      ┆ …           ┆ …     ┆ …         ┆ … ┆ …           ┆ …          ┆ …     ┆ …              │\n",
       "│ GLW    ┆ 09/30/2019  ┆ 0.442 ┆ 16.297    ┆ … ┆ 1.387       ┆ 2.041      ┆ 1.945 ┆ -5.159         │\n",
       "│ GLW    ┆ 10/31/2019  ┆ 0.442 ┆ 16.931    ┆ … ┆ 1.387       ┆ 2.041      ┆ 1.99  ┆ -5.36          │\n",
       "│ GLW    ┆ 11/30/2019  ┆ 0.503 ┆ 18.497    ┆ … ┆ 1.27        ┆ 1.931      ┆ 2.026 ┆ -12.763        │\n",
       "│ GLW    ┆ 12/31/2019  ┆ 0.503 ┆ 18.541    ┆ … ┆ 1.27        ┆ 1.931      ┆ 2.031 ┆ -9.596         │\n",
       "└────────┴─────────────┴───────┴───────────┴───┴─────────────┴────────────┴───────┴────────────────┘"
      ]
     },
     "execution_count": 23,
     "metadata": {},
     "output_type": "execute_result"
    }
   ],
   "source": [
    "# remove columns that we don't want in this specific factor and rename the date column to 'date_index' to addhere to factorlib's requirements.\n",
    "fundamental_factor_dir = get_data_dir() / 'fundamental'\n",
    "final_factor = ratios_with_tickers.drop(['adate', 'qdate', 'gvkey'])\n",
    "final_factor.rename({'public_date': 'date_index'})\n",
    "final_factor.write_csv(fundamental_factor_dir / 'fundamentals_1.csv')\n",
    "final_factor"
   ]
  }
 ],
 "metadata": {
  "kernelspec": {
   "display_name": "venv",
   "language": "python",
   "name": "venv"
  },
  "language_info": {
   "codemirror_mode": {
    "name": "ipython",
    "version": 3
   },
   "file_extension": ".py",
   "mimetype": "text/x-python",
   "name": "python",
   "nbconvert_exporter": "python",
   "pygments_lexer": "ipython3",
   "version": "3.10.11"
  }
 },
 "nbformat": 4,
 "nbformat_minor": 1
}
