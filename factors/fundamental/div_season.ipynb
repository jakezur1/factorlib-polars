{
 "cells": [
  {
   "cell_type": "code",
   "execution_count": 40,
   "outputs": [],
   "source": [
    "import pandas as pd\n",
    "import numpy as np\n",
    "import polars as pl\n",
    "\n",
    "from factorlib.utils.system import get_data_dir"
   ],
   "metadata": {
    "collapsed": false
   }
  },
  {
   "cell_type": "code",
   "execution_count": 41,
   "outputs": [],
   "source": [
    "raw_data_dir = get_data_dir() / 'raw'\n",
    "raw_data = pd.read_csv(raw_data_dir / 'div_distcd_dates.csv')"
   ],
   "metadata": {
    "collapsed": false
   }
  },
  {
   "cell_type": "code",
   "execution_count": 42,
   "outputs": [
    {
     "data": {
      "text/plain": "        PERMNO   DIVAMT  FACSHR        EXDT      RCRDDT       PAYDT  cd1  cd2  \\\n0        89477  0.02343     0.0  2004-04-27  2000-11-22  2004-04-27  1.0  2.0   \n1        89477  0.00049     0.0  2007-11-27  2000-11-22  2007-11-27  1.0  2.0   \n2        87433  0.00765     0.0  2002-01-04  2001-12-03  2002-01-04  1.0  2.0   \n3        87835  0.00720     0.0  2002-01-17  2001-12-14  2002-01-17  1.0  2.0   \n4        89477  0.01120     0.0  2002-01-11  2001-12-19  2002-01-11  1.0  2.0   \n...        ...      ...     ...         ...         ...         ...  ...  ...   \n430491   93432      NaN     NaN         NaN         NaN         NaN  NaN  NaN   \n430492   93433      NaN     NaN         NaN         NaN         NaN  NaN  NaN   \n430493   93434      NaN     NaN         NaN         NaN         NaN  NaN  NaN   \n430494   93435      NaN     NaN         NaN         NaN         NaN  NaN  NaN   \n430495   93436      NaN     NaN         NaN         NaN         NaN  NaN  NaN   \n\n        cd3  cd4  \n0       1.0  2.0  \n1       1.0  2.0  \n2       1.0  2.0  \n3       1.0  2.0  \n4       1.0  2.0  \n...     ...  ...  \n430491  NaN  NaN  \n430492  NaN  NaN  \n430493  NaN  NaN  \n430494  NaN  NaN  \n430495  NaN  NaN  \n\n[430496 rows x 10 columns]",
      "text/html": "<div>\n<style scoped>\n    .dataframe tbody tr th:only-of-type {\n        vertical-align: middle;\n    }\n\n    .dataframe tbody tr th {\n        vertical-align: top;\n    }\n\n    .dataframe thead th {\n        text-align: right;\n    }\n</style>\n<table border=\"1\" class=\"dataframe\">\n  <thead>\n    <tr style=\"text-align: right;\">\n      <th></th>\n      <th>PERMNO</th>\n      <th>DIVAMT</th>\n      <th>FACSHR</th>\n      <th>EXDT</th>\n      <th>RCRDDT</th>\n      <th>PAYDT</th>\n      <th>cd1</th>\n      <th>cd2</th>\n      <th>cd3</th>\n      <th>cd4</th>\n    </tr>\n  </thead>\n  <tbody>\n    <tr>\n      <th>0</th>\n      <td>89477</td>\n      <td>0.02343</td>\n      <td>0.0</td>\n      <td>2004-04-27</td>\n      <td>2000-11-22</td>\n      <td>2004-04-27</td>\n      <td>1.0</td>\n      <td>2.0</td>\n      <td>1.0</td>\n      <td>2.0</td>\n    </tr>\n    <tr>\n      <th>1</th>\n      <td>89477</td>\n      <td>0.00049</td>\n      <td>0.0</td>\n      <td>2007-11-27</td>\n      <td>2000-11-22</td>\n      <td>2007-11-27</td>\n      <td>1.0</td>\n      <td>2.0</td>\n      <td>1.0</td>\n      <td>2.0</td>\n    </tr>\n    <tr>\n      <th>2</th>\n      <td>87433</td>\n      <td>0.00765</td>\n      <td>0.0</td>\n      <td>2002-01-04</td>\n      <td>2001-12-03</td>\n      <td>2002-01-04</td>\n      <td>1.0</td>\n      <td>2.0</td>\n      <td>1.0</td>\n      <td>2.0</td>\n    </tr>\n    <tr>\n      <th>3</th>\n      <td>87835</td>\n      <td>0.00720</td>\n      <td>0.0</td>\n      <td>2002-01-17</td>\n      <td>2001-12-14</td>\n      <td>2002-01-17</td>\n      <td>1.0</td>\n      <td>2.0</td>\n      <td>1.0</td>\n      <td>2.0</td>\n    </tr>\n    <tr>\n      <th>4</th>\n      <td>89477</td>\n      <td>0.01120</td>\n      <td>0.0</td>\n      <td>2002-01-11</td>\n      <td>2001-12-19</td>\n      <td>2002-01-11</td>\n      <td>1.0</td>\n      <td>2.0</td>\n      <td>1.0</td>\n      <td>2.0</td>\n    </tr>\n    <tr>\n      <th>...</th>\n      <td>...</td>\n      <td>...</td>\n      <td>...</td>\n      <td>...</td>\n      <td>...</td>\n      <td>...</td>\n      <td>...</td>\n      <td>...</td>\n      <td>...</td>\n      <td>...</td>\n    </tr>\n    <tr>\n      <th>430491</th>\n      <td>93432</td>\n      <td>NaN</td>\n      <td>NaN</td>\n      <td>NaN</td>\n      <td>NaN</td>\n      <td>NaN</td>\n      <td>NaN</td>\n      <td>NaN</td>\n      <td>NaN</td>\n      <td>NaN</td>\n    </tr>\n    <tr>\n      <th>430492</th>\n      <td>93433</td>\n      <td>NaN</td>\n      <td>NaN</td>\n      <td>NaN</td>\n      <td>NaN</td>\n      <td>NaN</td>\n      <td>NaN</td>\n      <td>NaN</td>\n      <td>NaN</td>\n      <td>NaN</td>\n    </tr>\n    <tr>\n      <th>430493</th>\n      <td>93434</td>\n      <td>NaN</td>\n      <td>NaN</td>\n      <td>NaN</td>\n      <td>NaN</td>\n      <td>NaN</td>\n      <td>NaN</td>\n      <td>NaN</td>\n      <td>NaN</td>\n      <td>NaN</td>\n    </tr>\n    <tr>\n      <th>430494</th>\n      <td>93435</td>\n      <td>NaN</td>\n      <td>NaN</td>\n      <td>NaN</td>\n      <td>NaN</td>\n      <td>NaN</td>\n      <td>NaN</td>\n      <td>NaN</td>\n      <td>NaN</td>\n      <td>NaN</td>\n    </tr>\n    <tr>\n      <th>430495</th>\n      <td>93436</td>\n      <td>NaN</td>\n      <td>NaN</td>\n      <td>NaN</td>\n      <td>NaN</td>\n      <td>NaN</td>\n      <td>NaN</td>\n      <td>NaN</td>\n      <td>NaN</td>\n      <td>NaN</td>\n    </tr>\n  </tbody>\n</table>\n<p>430496 rows × 10 columns</p>\n</div>"
     },
     "execution_count": 42,
     "metadata": {},
     "output_type": "execute_result"
    }
   ],
   "source": [
    "# Each digit of distribution code means something. Separating each digit into columns for easy access.\n",
    "separated_digits = raw_data\n",
    "\n",
    "def get_digit(x, digit):\n",
    "    if pd.notnull(x):\n",
    "        return int(str(x)[digit])\n",
    "    return np.nan\n",
    "\n",
    "separated_digits['cd1'] = separated_digits['DISTCD'].apply(get_digit, args=[0])\n",
    "separated_digits['cd2'] = separated_digits['DISTCD'].apply(get_digit, args=[1])\n",
    "separated_digits['cd3'] = separated_digits['DISTCD'].apply(get_digit, args=[2])\n",
    "separated_digits['cd4'] = separated_digits['DISTCD'].apply(get_digit, args=[3])\n",
    "separated_digits = separated_digits.drop(columns=['DISTCD'])\n",
    "separated_digits"
   ],
   "metadata": {
    "collapsed": false
   }
  },
  {
   "cell_type": "code",
   "execution_count": 43,
   "outputs": [],
   "source": [
    "# If the first digit is a 1 and the second digit is a 2, this means that this distribution event is a cash dividend. These are the only distribution codes we want because DivSeason focuses on DIVIDEND seasonality only.\n",
    "digits_one_two_filter = separated_digits[(separated_digits['cd1'] == 1) & (separated_digits['cd2'] == 2)]"
   ],
   "metadata": {
    "collapsed": false
   }
  },
  {
   "cell_type": "code",
   "execution_count": 44,
   "outputs": [
    {
     "name": "stderr",
     "output_type": "stream",
     "text": [
      "\n",
      "A value is trying to be set on a copy of a slice from a DataFrame.\n",
      "Try using .loc[row_indexer,col_indexer] = value instead\n",
      "\n",
      "See the caveats in the documentation: https://pandas.pydata.org/pandas-docs/stable/user_guide/indexing.html#returning-a-view-versus-a-copy\n"
     ]
    },
    {
     "data": {
      "text/plain": "        PERMNO   DIVAMT  FACSHR        EXDT      RCRDDT       PAYDT  cd1  cd2  \\\n0        89477  0.02343     0.0  2004-04-27  2000-11-22  2004-04-27  1.0  2.0   \n1        89477  0.00049     0.0  2007-11-27  2000-11-22  2007-11-27  1.0  2.0   \n2        87433  0.00765     0.0  2002-01-04  2001-12-03  2002-01-04  1.0  2.0   \n3        87835  0.00720     0.0  2002-01-17  2001-12-14  2002-01-17  1.0  2.0   \n4        89477  0.01120     0.0  2002-01-11  2001-12-19  2002-01-11  1.0  2.0   \n...        ...      ...     ...         ...         ...         ...  ...  ...   \n403744   88197  0.15000     0.0  2022-12-30  2023-01-03  2023-01-13  1.0  2.0   \n403745   90396  0.49000     0.0  2022-12-30  2023-01-03  2023-01-17  1.0  2.0   \n403746   92118  0.02268     0.0  2022-12-30  2023-01-03  2023-01-03  1.0  2.0   \n403747   93096  0.55000     0.0  2022-12-30  2023-01-03  2023-01-17  1.0  2.0   \n403748   93397  0.07500     0.0  2022-12-30  2023-01-03  2023-01-13  1.0  2.0   \n\n        cd3  cd4 date_index  \n0       1.0  2.0    2004-04  \n1       1.0  2.0    2007-11  \n2       1.0  2.0    2002-01  \n3       1.0  2.0    2002-01  \n4       1.0  2.0    2002-01  \n...     ...  ...        ...  \n403744  3.0  2.0    2022-12  \n403745  3.0  2.0    2022-12  \n403746  7.0  2.0    2022-12  \n403747  3.0  2.0    2022-12  \n403748  3.0  2.0    2022-12  \n\n[399842 rows x 11 columns]",
      "text/html": "<div>\n<style scoped>\n    .dataframe tbody tr th:only-of-type {\n        vertical-align: middle;\n    }\n\n    .dataframe tbody tr th {\n        vertical-align: top;\n    }\n\n    .dataframe thead th {\n        text-align: right;\n    }\n</style>\n<table border=\"1\" class=\"dataframe\">\n  <thead>\n    <tr style=\"text-align: right;\">\n      <th></th>\n      <th>PERMNO</th>\n      <th>DIVAMT</th>\n      <th>FACSHR</th>\n      <th>EXDT</th>\n      <th>RCRDDT</th>\n      <th>PAYDT</th>\n      <th>cd1</th>\n      <th>cd2</th>\n      <th>cd3</th>\n      <th>cd4</th>\n      <th>date_index</th>\n    </tr>\n  </thead>\n  <tbody>\n    <tr>\n      <th>0</th>\n      <td>89477</td>\n      <td>0.02343</td>\n      <td>0.0</td>\n      <td>2004-04-27</td>\n      <td>2000-11-22</td>\n      <td>2004-04-27</td>\n      <td>1.0</td>\n      <td>2.0</td>\n      <td>1.0</td>\n      <td>2.0</td>\n      <td>2004-04</td>\n    </tr>\n    <tr>\n      <th>1</th>\n      <td>89477</td>\n      <td>0.00049</td>\n      <td>0.0</td>\n      <td>2007-11-27</td>\n      <td>2000-11-22</td>\n      <td>2007-11-27</td>\n      <td>1.0</td>\n      <td>2.0</td>\n      <td>1.0</td>\n      <td>2.0</td>\n      <td>2007-11</td>\n    </tr>\n    <tr>\n      <th>2</th>\n      <td>87433</td>\n      <td>0.00765</td>\n      <td>0.0</td>\n      <td>2002-01-04</td>\n      <td>2001-12-03</td>\n      <td>2002-01-04</td>\n      <td>1.0</td>\n      <td>2.0</td>\n      <td>1.0</td>\n      <td>2.0</td>\n      <td>2002-01</td>\n    </tr>\n    <tr>\n      <th>3</th>\n      <td>87835</td>\n      <td>0.00720</td>\n      <td>0.0</td>\n      <td>2002-01-17</td>\n      <td>2001-12-14</td>\n      <td>2002-01-17</td>\n      <td>1.0</td>\n      <td>2.0</td>\n      <td>1.0</td>\n      <td>2.0</td>\n      <td>2002-01</td>\n    </tr>\n    <tr>\n      <th>4</th>\n      <td>89477</td>\n      <td>0.01120</td>\n      <td>0.0</td>\n      <td>2002-01-11</td>\n      <td>2001-12-19</td>\n      <td>2002-01-11</td>\n      <td>1.0</td>\n      <td>2.0</td>\n      <td>1.0</td>\n      <td>2.0</td>\n      <td>2002-01</td>\n    </tr>\n    <tr>\n      <th>...</th>\n      <td>...</td>\n      <td>...</td>\n      <td>...</td>\n      <td>...</td>\n      <td>...</td>\n      <td>...</td>\n      <td>...</td>\n      <td>...</td>\n      <td>...</td>\n      <td>...</td>\n      <td>...</td>\n    </tr>\n    <tr>\n      <th>403744</th>\n      <td>88197</td>\n      <td>0.15000</td>\n      <td>0.0</td>\n      <td>2022-12-30</td>\n      <td>2023-01-03</td>\n      <td>2023-01-13</td>\n      <td>1.0</td>\n      <td>2.0</td>\n      <td>3.0</td>\n      <td>2.0</td>\n      <td>2022-12</td>\n    </tr>\n    <tr>\n      <th>403745</th>\n      <td>90396</td>\n      <td>0.49000</td>\n      <td>0.0</td>\n      <td>2022-12-30</td>\n      <td>2023-01-03</td>\n      <td>2023-01-17</td>\n      <td>1.0</td>\n      <td>2.0</td>\n      <td>3.0</td>\n      <td>2.0</td>\n      <td>2022-12</td>\n    </tr>\n    <tr>\n      <th>403746</th>\n      <td>92118</td>\n      <td>0.02268</td>\n      <td>0.0</td>\n      <td>2022-12-30</td>\n      <td>2023-01-03</td>\n      <td>2023-01-03</td>\n      <td>1.0</td>\n      <td>2.0</td>\n      <td>7.0</td>\n      <td>2.0</td>\n      <td>2022-12</td>\n    </tr>\n    <tr>\n      <th>403747</th>\n      <td>93096</td>\n      <td>0.55000</td>\n      <td>0.0</td>\n      <td>2022-12-30</td>\n      <td>2023-01-03</td>\n      <td>2023-01-17</td>\n      <td>1.0</td>\n      <td>2.0</td>\n      <td>3.0</td>\n      <td>2.0</td>\n      <td>2022-12</td>\n    </tr>\n    <tr>\n      <th>403748</th>\n      <td>93397</td>\n      <td>0.07500</td>\n      <td>0.0</td>\n      <td>2022-12-30</td>\n      <td>2023-01-03</td>\n      <td>2023-01-13</td>\n      <td>1.0</td>\n      <td>2.0</td>\n      <td>3.0</td>\n      <td>2.0</td>\n      <td>2022-12</td>\n    </tr>\n  </tbody>\n</table>\n<p>399842 rows × 11 columns</p>\n</div>"
     },
     "execution_count": 44,
     "metadata": {},
     "output_type": "execute_result"
    }
   ],
   "source": [
    "# We have dates like ex_date, rcrd_date, and pay_date, but we need to normalize these to a date_index. Therefore, we are making a time_available column that will serve as the date_index and represents the time that this dividend was available.\n",
    "with_date_index = digits_one_two_filter\n",
    "with_date_index['date_index'] = pd.to_datetime(digits_one_two_filter.loc[:, 'EXDT']).dt.to_period('M')\n",
    "with_date_index"
   ],
   "metadata": {
    "collapsed": false
   }
  },
  {
   "cell_type": "code",
   "execution_count": 45,
   "outputs": [
    {
     "data": {
      "text/plain": "        PERMNO  cd3 date_index  DIVAMT  FACSHR  cd1  cd2  cd4\n86       10001  3.0    2002-03   0.130     0.0  1.0  2.0  2.0\n87       10001  3.0    2002-06   0.135     0.0  1.0  2.0  2.0\n88       10001  3.0    2002-09   0.135     0.0  1.0  2.0  2.0\n89       10001  3.0    2002-12   0.135     0.0  1.0  2.0  2.0\n90       10001  3.0    2003-03   0.135     0.0  1.0  2.0  2.0\n...        ...  ...        ...     ...     ...  ...  ...  ...\n392106   93429  3.0    2021-11   0.480     0.0  1.0  2.0  2.0\n392107   93429  3.0    2022-02   0.480     0.0  1.0  2.0  2.0\n392108   93429  3.0    2022-05   0.480     0.0  1.0  2.0  2.0\n392109   93429  3.0    2022-08   0.480     0.0  1.0  2.0  2.0\n392110   93429  3.0    2022-11   0.500     0.0  1.0  2.0  2.0\n\n[392113 rows x 8 columns]",
      "text/html": "<div>\n<style scoped>\n    .dataframe tbody tr th:only-of-type {\n        vertical-align: middle;\n    }\n\n    .dataframe tbody tr th {\n        vertical-align: top;\n    }\n\n    .dataframe thead th {\n        text-align: right;\n    }\n</style>\n<table border=\"1\" class=\"dataframe\">\n  <thead>\n    <tr style=\"text-align: right;\">\n      <th></th>\n      <th>PERMNO</th>\n      <th>cd3</th>\n      <th>date_index</th>\n      <th>DIVAMT</th>\n      <th>FACSHR</th>\n      <th>cd1</th>\n      <th>cd2</th>\n      <th>cd4</th>\n    </tr>\n  </thead>\n  <tbody>\n    <tr>\n      <th>86</th>\n      <td>10001</td>\n      <td>3.0</td>\n      <td>2002-03</td>\n      <td>0.130</td>\n      <td>0.0</td>\n      <td>1.0</td>\n      <td>2.0</td>\n      <td>2.0</td>\n    </tr>\n    <tr>\n      <th>87</th>\n      <td>10001</td>\n      <td>3.0</td>\n      <td>2002-06</td>\n      <td>0.135</td>\n      <td>0.0</td>\n      <td>1.0</td>\n      <td>2.0</td>\n      <td>2.0</td>\n    </tr>\n    <tr>\n      <th>88</th>\n      <td>10001</td>\n      <td>3.0</td>\n      <td>2002-09</td>\n      <td>0.135</td>\n      <td>0.0</td>\n      <td>1.0</td>\n      <td>2.0</td>\n      <td>2.0</td>\n    </tr>\n    <tr>\n      <th>89</th>\n      <td>10001</td>\n      <td>3.0</td>\n      <td>2002-12</td>\n      <td>0.135</td>\n      <td>0.0</td>\n      <td>1.0</td>\n      <td>2.0</td>\n      <td>2.0</td>\n    </tr>\n    <tr>\n      <th>90</th>\n      <td>10001</td>\n      <td>3.0</td>\n      <td>2003-03</td>\n      <td>0.135</td>\n      <td>0.0</td>\n      <td>1.0</td>\n      <td>2.0</td>\n      <td>2.0</td>\n    </tr>\n    <tr>\n      <th>...</th>\n      <td>...</td>\n      <td>...</td>\n      <td>...</td>\n      <td>...</td>\n      <td>...</td>\n      <td>...</td>\n      <td>...</td>\n      <td>...</td>\n    </tr>\n    <tr>\n      <th>392106</th>\n      <td>93429</td>\n      <td>3.0</td>\n      <td>2021-11</td>\n      <td>0.480</td>\n      <td>0.0</td>\n      <td>1.0</td>\n      <td>2.0</td>\n      <td>2.0</td>\n    </tr>\n    <tr>\n      <th>392107</th>\n      <td>93429</td>\n      <td>3.0</td>\n      <td>2022-02</td>\n      <td>0.480</td>\n      <td>0.0</td>\n      <td>1.0</td>\n      <td>2.0</td>\n      <td>2.0</td>\n    </tr>\n    <tr>\n      <th>392108</th>\n      <td>93429</td>\n      <td>3.0</td>\n      <td>2022-05</td>\n      <td>0.480</td>\n      <td>0.0</td>\n      <td>1.0</td>\n      <td>2.0</td>\n      <td>2.0</td>\n    </tr>\n    <tr>\n      <th>392109</th>\n      <td>93429</td>\n      <td>3.0</td>\n      <td>2022-08</td>\n      <td>0.480</td>\n      <td>0.0</td>\n      <td>1.0</td>\n      <td>2.0</td>\n      <td>2.0</td>\n    </tr>\n    <tr>\n      <th>392110</th>\n      <td>93429</td>\n      <td>3.0</td>\n      <td>2022-11</td>\n      <td>0.500</td>\n      <td>0.0</td>\n      <td>1.0</td>\n      <td>2.0</td>\n      <td>2.0</td>\n    </tr>\n  </tbody>\n</table>\n<p>392113 rows × 8 columns</p>\n</div>"
     },
     "execution_count": 45,
     "metadata": {},
     "output_type": "execute_result"
    }
   ],
   "source": [
    "# Now we need to get the total dividend amounts per date, per ticker, per third digit of the distribution code. The third digit of the distribution represents the frequency that the dividend is paid by the company.\n",
    "div_amts_summed = with_date_index.groupby(['PERMNO', 'cd3', 'date_index']).sum('DIVAMT').reset_index()\n",
    "div_amts_summed = div_amts_summed.sort_values(by=['PERMNO', 'date_index', 'cd3'])\n",
    "div_amts_summed"
   ],
   "metadata": {
    "collapsed": false
   }
  },
  {
   "cell_type": "code",
   "execution_count": 46,
   "outputs": [
    {
     "data": {
      "text/plain": "        PERMNO date_index  cd3  DIVAMT  FACSHR  cd1  cd2  cd4\n0        10001    2002-03  3.0   0.130     0.0  1.0  2.0  2.0\n1        10001    2002-06  3.0   0.135     0.0  1.0  2.0  2.0\n2        10001    2002-09  3.0   0.135     0.0  1.0  2.0  2.0\n3        10001    2002-12  3.0   0.135     0.0  1.0  2.0  2.0\n4        10001    2003-03  3.0   0.135     0.0  1.0  2.0  2.0\n...        ...        ...  ...     ...     ...  ...  ...  ...\n386918   93429    2021-11  3.0   0.480     0.0  1.0  2.0  2.0\n386919   93429    2022-02  3.0   0.480     0.0  1.0  2.0  2.0\n386920   93429    2022-05  3.0   0.480     0.0  1.0  2.0  2.0\n386921   93429    2022-08  3.0   0.480     0.0  1.0  2.0  2.0\n386922   93429    2022-11  3.0   0.500     0.0  1.0  2.0  2.0\n\n[386923 rows x 8 columns]",
      "text/html": "<div>\n<style scoped>\n    .dataframe tbody tr th:only-of-type {\n        vertical-align: middle;\n    }\n\n    .dataframe tbody tr th {\n        vertical-align: top;\n    }\n\n    .dataframe thead th {\n        text-align: right;\n    }\n</style>\n<table border=\"1\" class=\"dataframe\">\n  <thead>\n    <tr style=\"text-align: right;\">\n      <th></th>\n      <th>PERMNO</th>\n      <th>date_index</th>\n      <th>cd3</th>\n      <th>DIVAMT</th>\n      <th>FACSHR</th>\n      <th>cd1</th>\n      <th>cd2</th>\n      <th>cd4</th>\n    </tr>\n  </thead>\n  <tbody>\n    <tr>\n      <th>0</th>\n      <td>10001</td>\n      <td>2002-03</td>\n      <td>3.0</td>\n      <td>0.130</td>\n      <td>0.0</td>\n      <td>1.0</td>\n      <td>2.0</td>\n      <td>2.0</td>\n    </tr>\n    <tr>\n      <th>1</th>\n      <td>10001</td>\n      <td>2002-06</td>\n      <td>3.0</td>\n      <td>0.135</td>\n      <td>0.0</td>\n      <td>1.0</td>\n      <td>2.0</td>\n      <td>2.0</td>\n    </tr>\n    <tr>\n      <th>2</th>\n      <td>10001</td>\n      <td>2002-09</td>\n      <td>3.0</td>\n      <td>0.135</td>\n      <td>0.0</td>\n      <td>1.0</td>\n      <td>2.0</td>\n      <td>2.0</td>\n    </tr>\n    <tr>\n      <th>3</th>\n      <td>10001</td>\n      <td>2002-12</td>\n      <td>3.0</td>\n      <td>0.135</td>\n      <td>0.0</td>\n      <td>1.0</td>\n      <td>2.0</td>\n      <td>2.0</td>\n    </tr>\n    <tr>\n      <th>4</th>\n      <td>10001</td>\n      <td>2003-03</td>\n      <td>3.0</td>\n      <td>0.135</td>\n      <td>0.0</td>\n      <td>1.0</td>\n      <td>2.0</td>\n      <td>2.0</td>\n    </tr>\n    <tr>\n      <th>...</th>\n      <td>...</td>\n      <td>...</td>\n      <td>...</td>\n      <td>...</td>\n      <td>...</td>\n      <td>...</td>\n      <td>...</td>\n      <td>...</td>\n    </tr>\n    <tr>\n      <th>386918</th>\n      <td>93429</td>\n      <td>2021-11</td>\n      <td>3.0</td>\n      <td>0.480</td>\n      <td>0.0</td>\n      <td>1.0</td>\n      <td>2.0</td>\n      <td>2.0</td>\n    </tr>\n    <tr>\n      <th>386919</th>\n      <td>93429</td>\n      <td>2022-02</td>\n      <td>3.0</td>\n      <td>0.480</td>\n      <td>0.0</td>\n      <td>1.0</td>\n      <td>2.0</td>\n      <td>2.0</td>\n    </tr>\n    <tr>\n      <th>386920</th>\n      <td>93429</td>\n      <td>2022-05</td>\n      <td>3.0</td>\n      <td>0.480</td>\n      <td>0.0</td>\n      <td>1.0</td>\n      <td>2.0</td>\n      <td>2.0</td>\n    </tr>\n    <tr>\n      <th>386921</th>\n      <td>93429</td>\n      <td>2022-08</td>\n      <td>3.0</td>\n      <td>0.480</td>\n      <td>0.0</td>\n      <td>1.0</td>\n      <td>2.0</td>\n      <td>2.0</td>\n    </tr>\n    <tr>\n      <th>386922</th>\n      <td>93429</td>\n      <td>2022-11</td>\n      <td>3.0</td>\n      <td>0.500</td>\n      <td>0.0</td>\n      <td>1.0</td>\n      <td>2.0</td>\n      <td>2.0</td>\n    </tr>\n  </tbody>\n</table>\n<p>386923 rows × 8 columns</p>\n</div>"
     },
     "execution_count": 46,
     "metadata": {},
     "output_type": "execute_result"
    }
   ],
   "source": [
    "# Remove any duplicate rows that have the same date_index and permno\n",
    "duplicates_removed = div_amts_summed.groupby(['PERMNO', 'date_index']).first().reset_index()\n",
    "duplicates_removed"
   ],
   "metadata": {
    "collapsed": false
   }
  },
  {
   "cell_type": "code",
   "execution_count": 47,
   "outputs": [
    {
     "data": {
      "text/plain": "        PERMNO date_index  cd3  DIVAMT  FACSHR  cd1  cd2  cd4\n0        10001    2002-03  3.0   0.130     0.0  1.0  2.0  2.0\n1        10001    2002-06  3.0   0.135     0.0  1.0  2.0  2.0\n2        10001    2002-09  3.0   0.135     0.0  1.0  2.0  2.0\n3        10001    2002-12  3.0   0.135     0.0  1.0  2.0  2.0\n4        10001    2003-03  3.0   0.135     0.0  1.0  2.0  2.0\n...        ...        ...  ...     ...     ...  ...  ...  ...\n386918   93429    2021-11  3.0   0.480     0.0  1.0  2.0  2.0\n386919   93429    2022-02  3.0   0.480     0.0  1.0  2.0  2.0\n386920   93429    2022-05  3.0   0.480     0.0  1.0  2.0  2.0\n386921   93429    2022-08  3.0   0.480     0.0  1.0  2.0  2.0\n386922   93429    2022-11  3.0   0.500     0.0  1.0  2.0  2.0\n\n[386923 rows x 8 columns]",
      "text/html": "<div>\n<style scoped>\n    .dataframe tbody tr th:only-of-type {\n        vertical-align: middle;\n    }\n\n    .dataframe tbody tr th {\n        vertical-align: top;\n    }\n\n    .dataframe thead th {\n        text-align: right;\n    }\n</style>\n<table border=\"1\" class=\"dataframe\">\n  <thead>\n    <tr style=\"text-align: right;\">\n      <th></th>\n      <th>PERMNO</th>\n      <th>date_index</th>\n      <th>cd3</th>\n      <th>DIVAMT</th>\n      <th>FACSHR</th>\n      <th>cd1</th>\n      <th>cd2</th>\n      <th>cd4</th>\n    </tr>\n  </thead>\n  <tbody>\n    <tr>\n      <th>0</th>\n      <td>10001</td>\n      <td>2002-03</td>\n      <td>3.0</td>\n      <td>0.130</td>\n      <td>0.0</td>\n      <td>1.0</td>\n      <td>2.0</td>\n      <td>2.0</td>\n    </tr>\n    <tr>\n      <th>1</th>\n      <td>10001</td>\n      <td>2002-06</td>\n      <td>3.0</td>\n      <td>0.135</td>\n      <td>0.0</td>\n      <td>1.0</td>\n      <td>2.0</td>\n      <td>2.0</td>\n    </tr>\n    <tr>\n      <th>2</th>\n      <td>10001</td>\n      <td>2002-09</td>\n      <td>3.0</td>\n      <td>0.135</td>\n      <td>0.0</td>\n      <td>1.0</td>\n      <td>2.0</td>\n      <td>2.0</td>\n    </tr>\n    <tr>\n      <th>3</th>\n      <td>10001</td>\n      <td>2002-12</td>\n      <td>3.0</td>\n      <td>0.135</td>\n      <td>0.0</td>\n      <td>1.0</td>\n      <td>2.0</td>\n      <td>2.0</td>\n    </tr>\n    <tr>\n      <th>4</th>\n      <td>10001</td>\n      <td>2003-03</td>\n      <td>3.0</td>\n      <td>0.135</td>\n      <td>0.0</td>\n      <td>1.0</td>\n      <td>2.0</td>\n      <td>2.0</td>\n    </tr>\n    <tr>\n      <th>...</th>\n      <td>...</td>\n      <td>...</td>\n      <td>...</td>\n      <td>...</td>\n      <td>...</td>\n      <td>...</td>\n      <td>...</td>\n      <td>...</td>\n    </tr>\n    <tr>\n      <th>386918</th>\n      <td>93429</td>\n      <td>2021-11</td>\n      <td>3.0</td>\n      <td>0.480</td>\n      <td>0.0</td>\n      <td>1.0</td>\n      <td>2.0</td>\n      <td>2.0</td>\n    </tr>\n    <tr>\n      <th>386919</th>\n      <td>93429</td>\n      <td>2022-02</td>\n      <td>3.0</td>\n      <td>0.480</td>\n      <td>0.0</td>\n      <td>1.0</td>\n      <td>2.0</td>\n      <td>2.0</td>\n    </tr>\n    <tr>\n      <th>386920</th>\n      <td>93429</td>\n      <td>2022-05</td>\n      <td>3.0</td>\n      <td>0.480</td>\n      <td>0.0</td>\n      <td>1.0</td>\n      <td>2.0</td>\n      <td>2.0</td>\n    </tr>\n    <tr>\n      <th>386921</th>\n      <td>93429</td>\n      <td>2022-08</td>\n      <td>3.0</td>\n      <td>0.480</td>\n      <td>0.0</td>\n      <td>1.0</td>\n      <td>2.0</td>\n      <td>2.0</td>\n    </tr>\n    <tr>\n      <th>386922</th>\n      <td>93429</td>\n      <td>2022-11</td>\n      <td>3.0</td>\n      <td>0.500</td>\n      <td>0.0</td>\n      <td>1.0</td>\n      <td>2.0</td>\n      <td>2.0</td>\n    </tr>\n  </tbody>\n</table>\n<p>386923 rows × 8 columns</p>\n</div>"
     },
     "execution_count": 47,
     "metadata": {},
     "output_type": "execute_result"
    }
   ],
   "source": [
    "# Forward-fill any missing distribution codes with the most recent and clean div_amts by filling nans with 0.\n",
    "cleaned_data = duplicates_removed\n",
    "cleaned_data['cd3'].fillna(method='ffill', inplace=True)\n",
    "cleaned_data['DIVAMT'] = cleaned_data['DIVAMT'].fillna(0)\n",
    "cleaned_data"
   ],
   "metadata": {
    "collapsed": false
   }
  },
  {
   "cell_type": "code",
   "execution_count": 48,
   "outputs": [
    {
     "data": {
      "text/plain": "        PERMNO date_index  cd3  DIVAMT  FACSHR  cd1  cd2  cd4  div_paid\n0        10001    2002-03  3.0   0.130     0.0  1.0  2.0  2.0         1\n1        10001    2002-06  3.0   0.135     0.0  1.0  2.0  2.0         1\n2        10001    2002-09  3.0   0.135     0.0  1.0  2.0  2.0         1\n3        10001    2002-12  3.0   0.135     0.0  1.0  2.0  2.0         1\n4        10001    2003-03  3.0   0.135     0.0  1.0  2.0  2.0         1\n...        ...        ...  ...     ...     ...  ...  ...  ...       ...\n386918   93429    2021-11  3.0   0.480     0.0  1.0  2.0  2.0         1\n386919   93429    2022-02  3.0   0.480     0.0  1.0  2.0  2.0         1\n386920   93429    2022-05  3.0   0.480     0.0  1.0  2.0  2.0         1\n386921   93429    2022-08  3.0   0.480     0.0  1.0  2.0  2.0         1\n386922   93429    2022-11  3.0   0.500     0.0  1.0  2.0  2.0         1\n\n[220441 rows x 9 columns]",
      "text/html": "<div>\n<style scoped>\n    .dataframe tbody tr th:only-of-type {\n        vertical-align: middle;\n    }\n\n    .dataframe tbody tr th {\n        vertical-align: top;\n    }\n\n    .dataframe thead th {\n        text-align: right;\n    }\n</style>\n<table border=\"1\" class=\"dataframe\">\n  <thead>\n    <tr style=\"text-align: right;\">\n      <th></th>\n      <th>PERMNO</th>\n      <th>date_index</th>\n      <th>cd3</th>\n      <th>DIVAMT</th>\n      <th>FACSHR</th>\n      <th>cd1</th>\n      <th>cd2</th>\n      <th>cd4</th>\n      <th>div_paid</th>\n    </tr>\n  </thead>\n  <tbody>\n    <tr>\n      <th>0</th>\n      <td>10001</td>\n      <td>2002-03</td>\n      <td>3.0</td>\n      <td>0.130</td>\n      <td>0.0</td>\n      <td>1.0</td>\n      <td>2.0</td>\n      <td>2.0</td>\n      <td>1</td>\n    </tr>\n    <tr>\n      <th>1</th>\n      <td>10001</td>\n      <td>2002-06</td>\n      <td>3.0</td>\n      <td>0.135</td>\n      <td>0.0</td>\n      <td>1.0</td>\n      <td>2.0</td>\n      <td>2.0</td>\n      <td>1</td>\n    </tr>\n    <tr>\n      <th>2</th>\n      <td>10001</td>\n      <td>2002-09</td>\n      <td>3.0</td>\n      <td>0.135</td>\n      <td>0.0</td>\n      <td>1.0</td>\n      <td>2.0</td>\n      <td>2.0</td>\n      <td>1</td>\n    </tr>\n    <tr>\n      <th>3</th>\n      <td>10001</td>\n      <td>2002-12</td>\n      <td>3.0</td>\n      <td>0.135</td>\n      <td>0.0</td>\n      <td>1.0</td>\n      <td>2.0</td>\n      <td>2.0</td>\n      <td>1</td>\n    </tr>\n    <tr>\n      <th>4</th>\n      <td>10001</td>\n      <td>2003-03</td>\n      <td>3.0</td>\n      <td>0.135</td>\n      <td>0.0</td>\n      <td>1.0</td>\n      <td>2.0</td>\n      <td>2.0</td>\n      <td>1</td>\n    </tr>\n    <tr>\n      <th>...</th>\n      <td>...</td>\n      <td>...</td>\n      <td>...</td>\n      <td>...</td>\n      <td>...</td>\n      <td>...</td>\n      <td>...</td>\n      <td>...</td>\n      <td>...</td>\n    </tr>\n    <tr>\n      <th>386918</th>\n      <td>93429</td>\n      <td>2021-11</td>\n      <td>3.0</td>\n      <td>0.480</td>\n      <td>0.0</td>\n      <td>1.0</td>\n      <td>2.0</td>\n      <td>2.0</td>\n      <td>1</td>\n    </tr>\n    <tr>\n      <th>386919</th>\n      <td>93429</td>\n      <td>2022-02</td>\n      <td>3.0</td>\n      <td>0.480</td>\n      <td>0.0</td>\n      <td>1.0</td>\n      <td>2.0</td>\n      <td>2.0</td>\n      <td>1</td>\n    </tr>\n    <tr>\n      <th>386920</th>\n      <td>93429</td>\n      <td>2022-05</td>\n      <td>3.0</td>\n      <td>0.480</td>\n      <td>0.0</td>\n      <td>1.0</td>\n      <td>2.0</td>\n      <td>2.0</td>\n      <td>1</td>\n    </tr>\n    <tr>\n      <th>386921</th>\n      <td>93429</td>\n      <td>2022-08</td>\n      <td>3.0</td>\n      <td>0.480</td>\n      <td>0.0</td>\n      <td>1.0</td>\n      <td>2.0</td>\n      <td>2.0</td>\n      <td>1</td>\n    </tr>\n    <tr>\n      <th>386922</th>\n      <td>93429</td>\n      <td>2022-11</td>\n      <td>3.0</td>\n      <td>0.500</td>\n      <td>0.0</td>\n      <td>1.0</td>\n      <td>2.0</td>\n      <td>2.0</td>\n      <td>1</td>\n    </tr>\n  </tbody>\n</table>\n<p>220441 rows × 9 columns</p>\n</div>"
     },
     "execution_count": 48,
     "metadata": {},
     "output_type": "execute_result"
    }
   ],
   "source": [
    "# Make a column representing whether a dividend was paid on time, and filter based on distribution codes\n",
    "with_divpaid = cleaned_data\n",
    "with_divpaid['div_paid'] = np.where(with_divpaid['DIVAMT'] > 0, 1, 0)\n",
    "filtered = with_divpaid[with_divpaid['cd3'] != 2]\n",
    "filtered = filtered[filtered['cd3'] < 6]\n",
    "filtered"
   ],
   "metadata": {
    "collapsed": false
   }
  },
  {
   "cell_type": "code",
   "execution_count": 50,
   "outputs": [
    {
     "data": {
      "text/plain": "        PERMNO date_index  cd3  DIVAMT  FACSHR  cd1  cd2  cd4  div_paid  div12\n0        10001    2002-03  3.0   0.130     0.0  1.0  2.0  2.0       1.0    NaN\n1        10001    2002-04  NaN     NaN     NaN  NaN  NaN  NaN       0.0    NaN\n2        10001    2002-05  NaN     NaN     NaN  NaN  NaN  NaN       0.0    NaN\n3        10001    2002-06  3.0   0.135     0.0  1.0  2.0  2.0       1.0    NaN\n4        10001    2002-07  NaN     NaN     NaN  NaN  NaN  NaN       0.0    NaN\n...        ...        ...  ...     ...     ...  ...  ...  ...       ...    ...\n773227   93429    2022-07  NaN     NaN     NaN  NaN  NaN  NaN       0.0    4.0\n773228   93429    2022-08  3.0   0.480     0.0  1.0  2.0  2.0       1.0    4.0\n773229   93429    2022-09  NaN     NaN     NaN  NaN  NaN  NaN       0.0    4.0\n773230   93429    2022-10  NaN     NaN     NaN  NaN  NaN  NaN       0.0    4.0\n773231   93429    2022-11  3.0   0.500     0.0  1.0  2.0  2.0       1.0    4.0\n\n[773232 rows x 10 columns]",
      "text/html": "<div>\n<style scoped>\n    .dataframe tbody tr th:only-of-type {\n        vertical-align: middle;\n    }\n\n    .dataframe tbody tr th {\n        vertical-align: top;\n    }\n\n    .dataframe thead th {\n        text-align: right;\n    }\n</style>\n<table border=\"1\" class=\"dataframe\">\n  <thead>\n    <tr style=\"text-align: right;\">\n      <th></th>\n      <th>PERMNO</th>\n      <th>date_index</th>\n      <th>cd3</th>\n      <th>DIVAMT</th>\n      <th>FACSHR</th>\n      <th>cd1</th>\n      <th>cd2</th>\n      <th>cd4</th>\n      <th>div_paid</th>\n      <th>div12</th>\n    </tr>\n  </thead>\n  <tbody>\n    <tr>\n      <th>0</th>\n      <td>10001</td>\n      <td>2002-03</td>\n      <td>3.0</td>\n      <td>0.130</td>\n      <td>0.0</td>\n      <td>1.0</td>\n      <td>2.0</td>\n      <td>2.0</td>\n      <td>1.0</td>\n      <td>NaN</td>\n    </tr>\n    <tr>\n      <th>1</th>\n      <td>10001</td>\n      <td>2002-04</td>\n      <td>NaN</td>\n      <td>NaN</td>\n      <td>NaN</td>\n      <td>NaN</td>\n      <td>NaN</td>\n      <td>NaN</td>\n      <td>0.0</td>\n      <td>NaN</td>\n    </tr>\n    <tr>\n      <th>2</th>\n      <td>10001</td>\n      <td>2002-05</td>\n      <td>NaN</td>\n      <td>NaN</td>\n      <td>NaN</td>\n      <td>NaN</td>\n      <td>NaN</td>\n      <td>NaN</td>\n      <td>0.0</td>\n      <td>NaN</td>\n    </tr>\n    <tr>\n      <th>3</th>\n      <td>10001</td>\n      <td>2002-06</td>\n      <td>3.0</td>\n      <td>0.135</td>\n      <td>0.0</td>\n      <td>1.0</td>\n      <td>2.0</td>\n      <td>2.0</td>\n      <td>1.0</td>\n      <td>NaN</td>\n    </tr>\n    <tr>\n      <th>4</th>\n      <td>10001</td>\n      <td>2002-07</td>\n      <td>NaN</td>\n      <td>NaN</td>\n      <td>NaN</td>\n      <td>NaN</td>\n      <td>NaN</td>\n      <td>NaN</td>\n      <td>0.0</td>\n      <td>NaN</td>\n    </tr>\n    <tr>\n      <th>...</th>\n      <td>...</td>\n      <td>...</td>\n      <td>...</td>\n      <td>...</td>\n      <td>...</td>\n      <td>...</td>\n      <td>...</td>\n      <td>...</td>\n      <td>...</td>\n      <td>...</td>\n    </tr>\n    <tr>\n      <th>773227</th>\n      <td>93429</td>\n      <td>2022-07</td>\n      <td>NaN</td>\n      <td>NaN</td>\n      <td>NaN</td>\n      <td>NaN</td>\n      <td>NaN</td>\n      <td>NaN</td>\n      <td>0.0</td>\n      <td>4.0</td>\n    </tr>\n    <tr>\n      <th>773228</th>\n      <td>93429</td>\n      <td>2022-08</td>\n      <td>3.0</td>\n      <td>0.480</td>\n      <td>0.0</td>\n      <td>1.0</td>\n      <td>2.0</td>\n      <td>2.0</td>\n      <td>1.0</td>\n      <td>4.0</td>\n    </tr>\n    <tr>\n      <th>773229</th>\n      <td>93429</td>\n      <td>2022-09</td>\n      <td>NaN</td>\n      <td>NaN</td>\n      <td>NaN</td>\n      <td>NaN</td>\n      <td>NaN</td>\n      <td>NaN</td>\n      <td>0.0</td>\n      <td>4.0</td>\n    </tr>\n    <tr>\n      <th>773230</th>\n      <td>93429</td>\n      <td>2022-10</td>\n      <td>NaN</td>\n      <td>NaN</td>\n      <td>NaN</td>\n      <td>NaN</td>\n      <td>NaN</td>\n      <td>NaN</td>\n      <td>0.0</td>\n      <td>4.0</td>\n    </tr>\n    <tr>\n      <th>773231</th>\n      <td>93429</td>\n      <td>2022-11</td>\n      <td>3.0</td>\n      <td>0.500</td>\n      <td>0.0</td>\n      <td>1.0</td>\n      <td>2.0</td>\n      <td>2.0</td>\n      <td>1.0</td>\n      <td>4.0</td>\n    </tr>\n  </tbody>\n</table>\n<p>773232 rows × 10 columns</p>\n</div>"
     },
     "execution_count": 50,
     "metadata": {},
     "output_type": "execute_result"
    }
   ],
   "source": [
    "# Create the div12 variable\n",
    "with_div12 = filtered.set_index(['date_index'])\n",
    "with_div12 = with_div12.groupby('PERMNO').resample('M', convention='start').first().reset_index('date_index').drop(columns=['PERMNO']).reset_index()\n",
    "with_div12['div_paid'] = with_div12['div_paid'].fillna(0)\n",
    "with_div12['div12'] = with_div12.groupby('PERMNO')['div_paid'].rolling(12).sum().reset_index(0, drop=True)\n",
    "with_div12"
   ],
   "metadata": {
    "collapsed": false
   }
  },
  {
   "cell_type": "code",
   "execution_count": 53,
   "outputs": [
    {
     "data": {
      "text/plain": "        PERMNO date_index  cd3  DIVAMT  FACSHR  cd1  cd2  cd4  div_paid  \\\n0        10001    2002-03  3.0   0.130     0.0  1.0  2.0  2.0       1.0   \n1        10001    2002-04  NaN     NaN     NaN  NaN  NaN  NaN       0.0   \n2        10001    2002-05  NaN     NaN     NaN  NaN  NaN  NaN       0.0   \n3        10001    2002-06  3.0   0.135     0.0  1.0  2.0  2.0       1.0   \n4        10001    2002-07  NaN     NaN     NaN  NaN  NaN  NaN       0.0   \n...        ...        ...  ...     ...     ...  ...  ...  ...       ...   \n773227   93429    2022-07  NaN     NaN     NaN  NaN  NaN  NaN       0.0   \n773228   93429    2022-08  3.0   0.480     0.0  1.0  2.0  2.0       1.0   \n773229   93429    2022-09  NaN     NaN     NaN  NaN  NaN  NaN       0.0   \n773230   93429    2022-10  NaN     NaN     NaN  NaN  NaN  NaN       0.0   \n773231   93429    2022-11  3.0   0.500     0.0  1.0  2.0  2.0       1.0   \n\n        div12  div_season  \n0         NaN         1.0  \n1         NaN         0.0  \n2         NaN         0.0  \n3         NaN         1.0  \n4         NaN         0.0  \n...       ...         ...  \n773227    4.0         0.0  \n773228    4.0         1.0  \n773229    4.0         0.0  \n773230    4.0         0.0  \n773231    4.0         1.0  \n\n[773232 rows x 11 columns]",
      "text/html": "<div>\n<style scoped>\n    .dataframe tbody tr th:only-of-type {\n        vertical-align: middle;\n    }\n\n    .dataframe tbody tr th {\n        vertical-align: top;\n    }\n\n    .dataframe thead th {\n        text-align: right;\n    }\n</style>\n<table border=\"1\" class=\"dataframe\">\n  <thead>\n    <tr style=\"text-align: right;\">\n      <th></th>\n      <th>PERMNO</th>\n      <th>date_index</th>\n      <th>cd3</th>\n      <th>DIVAMT</th>\n      <th>FACSHR</th>\n      <th>cd1</th>\n      <th>cd2</th>\n      <th>cd4</th>\n      <th>div_paid</th>\n      <th>div12</th>\n      <th>div_season</th>\n    </tr>\n  </thead>\n  <tbody>\n    <tr>\n      <th>0</th>\n      <td>10001</td>\n      <td>2002-03</td>\n      <td>3.0</td>\n      <td>0.130</td>\n      <td>0.0</td>\n      <td>1.0</td>\n      <td>2.0</td>\n      <td>2.0</td>\n      <td>1.0</td>\n      <td>NaN</td>\n      <td>1.0</td>\n    </tr>\n    <tr>\n      <th>1</th>\n      <td>10001</td>\n      <td>2002-04</td>\n      <td>NaN</td>\n      <td>NaN</td>\n      <td>NaN</td>\n      <td>NaN</td>\n      <td>NaN</td>\n      <td>NaN</td>\n      <td>0.0</td>\n      <td>NaN</td>\n      <td>0.0</td>\n    </tr>\n    <tr>\n      <th>2</th>\n      <td>10001</td>\n      <td>2002-05</td>\n      <td>NaN</td>\n      <td>NaN</td>\n      <td>NaN</td>\n      <td>NaN</td>\n      <td>NaN</td>\n      <td>NaN</td>\n      <td>0.0</td>\n      <td>NaN</td>\n      <td>0.0</td>\n    </tr>\n    <tr>\n      <th>3</th>\n      <td>10001</td>\n      <td>2002-06</td>\n      <td>3.0</td>\n      <td>0.135</td>\n      <td>0.0</td>\n      <td>1.0</td>\n      <td>2.0</td>\n      <td>2.0</td>\n      <td>1.0</td>\n      <td>NaN</td>\n      <td>1.0</td>\n    </tr>\n    <tr>\n      <th>4</th>\n      <td>10001</td>\n      <td>2002-07</td>\n      <td>NaN</td>\n      <td>NaN</td>\n      <td>NaN</td>\n      <td>NaN</td>\n      <td>NaN</td>\n      <td>NaN</td>\n      <td>0.0</td>\n      <td>NaN</td>\n      <td>0.0</td>\n    </tr>\n    <tr>\n      <th>...</th>\n      <td>...</td>\n      <td>...</td>\n      <td>...</td>\n      <td>...</td>\n      <td>...</td>\n      <td>...</td>\n      <td>...</td>\n      <td>...</td>\n      <td>...</td>\n      <td>...</td>\n      <td>...</td>\n    </tr>\n    <tr>\n      <th>773227</th>\n      <td>93429</td>\n      <td>2022-07</td>\n      <td>NaN</td>\n      <td>NaN</td>\n      <td>NaN</td>\n      <td>NaN</td>\n      <td>NaN</td>\n      <td>NaN</td>\n      <td>0.0</td>\n      <td>4.0</td>\n      <td>0.0</td>\n    </tr>\n    <tr>\n      <th>773228</th>\n      <td>93429</td>\n      <td>2022-08</td>\n      <td>3.0</td>\n      <td>0.480</td>\n      <td>0.0</td>\n      <td>1.0</td>\n      <td>2.0</td>\n      <td>2.0</td>\n      <td>1.0</td>\n      <td>4.0</td>\n      <td>1.0</td>\n    </tr>\n    <tr>\n      <th>773229</th>\n      <td>93429</td>\n      <td>2022-09</td>\n      <td>NaN</td>\n      <td>NaN</td>\n      <td>NaN</td>\n      <td>NaN</td>\n      <td>NaN</td>\n      <td>NaN</td>\n      <td>0.0</td>\n      <td>4.0</td>\n      <td>0.0</td>\n    </tr>\n    <tr>\n      <th>773230</th>\n      <td>93429</td>\n      <td>2022-10</td>\n      <td>NaN</td>\n      <td>NaN</td>\n      <td>NaN</td>\n      <td>NaN</td>\n      <td>NaN</td>\n      <td>NaN</td>\n      <td>0.0</td>\n      <td>4.0</td>\n      <td>0.0</td>\n    </tr>\n    <tr>\n      <th>773231</th>\n      <td>93429</td>\n      <td>2022-11</td>\n      <td>3.0</td>\n      <td>0.500</td>\n      <td>0.0</td>\n      <td>1.0</td>\n      <td>2.0</td>\n      <td>2.0</td>\n      <td>1.0</td>\n      <td>4.0</td>\n      <td>1.0</td>\n    </tr>\n  </tbody>\n</table>\n<p>773232 rows × 11 columns</p>\n</div>"
     },
     "execution_count": 53,
     "metadata": {},
     "output_type": "execute_result"
    }
   ],
   "source": [
    "# Now we create our div_season factor!\n",
    "with_div_season = with_div12\n",
    "with_div_season['div_season'] = np.where(with_div_season['div12'] > 0, 0, np.nan)\n",
    "\n",
    "for i in range(3):\n",
    "    condition = ((with_div_season['cd3'] == 3) | (with_div_season['cd3'] == 0) | (with_div_season['cd3'] == 1)) \\\n",
    "    & (with_div_season.groupby('PERMNO')['div_paid'].shift(i*3) == 1)\n",
    "    with_div_season.loc[condition, 'div_season'] = 1\n",
    "\n",
    "for i in [5, 11]:\n",
    "    condition = (with_div_season['cd3'] == 4) & (with_div_season.groupby('PERMNO')['div_paid'].shift(i) == 1)\n",
    "    with_div_season.loc[condition, 'div_season'] = 1\n",
    "\n",
    "condition = (with_div_season['cd3'] == 5) & (with_div_season.groupby('PERMNO')['div_paid'].shift(11) == 1)\n",
    "with_div_season.loc[condition, 'div_season'] = 1\n",
    "with_div_season['div_season'] = with_div_season['div_season'].fillna(0)\n",
    "with_div_season"
   ],
   "metadata": {
    "collapsed": false
   }
  },
  {
   "cell_type": "code",
   "execution_count": 61,
   "outputs": [
    {
     "data": {
      "text/plain": "       date_index  PERMNO  div_season\n0         2002-03   10001         1.0\n1         2002-04   10001         0.0\n2         2002-05   10001         0.0\n3         2002-06   10001         1.0\n4         2002-07   10001         0.0\n...           ...     ...         ...\n773227    2022-07   93429         0.0\n773228    2022-08   93429         1.0\n773229    2022-09   93429         0.0\n773230    2022-10   93429         0.0\n773231    2022-11   93429         1.0\n\n[773232 rows x 3 columns]",
      "text/html": "<div>\n<style scoped>\n    .dataframe tbody tr th:only-of-type {\n        vertical-align: middle;\n    }\n\n    .dataframe tbody tr th {\n        vertical-align: top;\n    }\n\n    .dataframe thead th {\n        text-align: right;\n    }\n</style>\n<table border=\"1\" class=\"dataframe\">\n  <thead>\n    <tr style=\"text-align: right;\">\n      <th></th>\n      <th>date_index</th>\n      <th>PERMNO</th>\n      <th>div_season</th>\n    </tr>\n  </thead>\n  <tbody>\n    <tr>\n      <th>0</th>\n      <td>2002-03</td>\n      <td>10001</td>\n      <td>1.0</td>\n    </tr>\n    <tr>\n      <th>1</th>\n      <td>2002-04</td>\n      <td>10001</td>\n      <td>0.0</td>\n    </tr>\n    <tr>\n      <th>2</th>\n      <td>2002-05</td>\n      <td>10001</td>\n      <td>0.0</td>\n    </tr>\n    <tr>\n      <th>3</th>\n      <td>2002-06</td>\n      <td>10001</td>\n      <td>1.0</td>\n    </tr>\n    <tr>\n      <th>4</th>\n      <td>2002-07</td>\n      <td>10001</td>\n      <td>0.0</td>\n    </tr>\n    <tr>\n      <th>...</th>\n      <td>...</td>\n      <td>...</td>\n      <td>...</td>\n    </tr>\n    <tr>\n      <th>773227</th>\n      <td>2022-07</td>\n      <td>93429</td>\n      <td>0.0</td>\n    </tr>\n    <tr>\n      <th>773228</th>\n      <td>2022-08</td>\n      <td>93429</td>\n      <td>1.0</td>\n    </tr>\n    <tr>\n      <th>773229</th>\n      <td>2022-09</td>\n      <td>93429</td>\n      <td>0.0</td>\n    </tr>\n    <tr>\n      <th>773230</th>\n      <td>2022-10</td>\n      <td>93429</td>\n      <td>0.0</td>\n    </tr>\n    <tr>\n      <th>773231</th>\n      <td>2022-11</td>\n      <td>93429</td>\n      <td>1.0</td>\n    </tr>\n  </tbody>\n</table>\n<p>773232 rows × 3 columns</p>\n</div>"
     },
     "execution_count": 61,
     "metadata": {},
     "output_type": "execute_result"
    }
   ],
   "source": [
    "columns_to_keep = ['date_index', 'PERMNO', 'div_season']\n",
    "div_season_factor = with_div_season[columns_to_keep]\n",
    "div_season_factor"
   ],
   "metadata": {
    "collapsed": false
   }
  },
  {
   "cell_type": "code",
   "execution_count": 65,
   "outputs": [
    {
     "data": {
      "text/plain": "       date_index PERMNO  div_season\n0         2002-03   EGAS         1.0\n1         2002-04   EGAS         0.0\n2         2002-05   EGAS         0.0\n3         2002-06   EGAS         1.0\n4         2002-07   EGAS         0.0\n...           ...    ...         ...\n773227    2022-07   CBOE         0.0\n773228    2022-08   CBOE         1.0\n773229    2022-09   CBOE         0.0\n773230    2022-10   CBOE         0.0\n773231    2022-11   CBOE         1.0\n\n[773232 rows x 3 columns]",
      "text/html": "<div>\n<style scoped>\n    .dataframe tbody tr th:only-of-type {\n        vertical-align: middle;\n    }\n\n    .dataframe tbody tr th {\n        vertical-align: top;\n    }\n\n    .dataframe thead th {\n        text-align: right;\n    }\n</style>\n<table border=\"1\" class=\"dataframe\">\n  <thead>\n    <tr style=\"text-align: right;\">\n      <th></th>\n      <th>date_index</th>\n      <th>PERMNO</th>\n      <th>div_season</th>\n    </tr>\n  </thead>\n  <tbody>\n    <tr>\n      <th>0</th>\n      <td>2002-03</td>\n      <td>EGAS</td>\n      <td>1.0</td>\n    </tr>\n    <tr>\n      <th>1</th>\n      <td>2002-04</td>\n      <td>EGAS</td>\n      <td>0.0</td>\n    </tr>\n    <tr>\n      <th>2</th>\n      <td>2002-05</td>\n      <td>EGAS</td>\n      <td>0.0</td>\n    </tr>\n    <tr>\n      <th>3</th>\n      <td>2002-06</td>\n      <td>EGAS</td>\n      <td>1.0</td>\n    </tr>\n    <tr>\n      <th>4</th>\n      <td>2002-07</td>\n      <td>EGAS</td>\n      <td>0.0</td>\n    </tr>\n    <tr>\n      <th>...</th>\n      <td>...</td>\n      <td>...</td>\n      <td>...</td>\n    </tr>\n    <tr>\n      <th>773227</th>\n      <td>2022-07</td>\n      <td>CBOE</td>\n      <td>0.0</td>\n    </tr>\n    <tr>\n      <th>773228</th>\n      <td>2022-08</td>\n      <td>CBOE</td>\n      <td>1.0</td>\n    </tr>\n    <tr>\n      <th>773229</th>\n      <td>2022-09</td>\n      <td>CBOE</td>\n      <td>0.0</td>\n    </tr>\n    <tr>\n      <th>773230</th>\n      <td>2022-10</td>\n      <td>CBOE</td>\n      <td>0.0</td>\n    </tr>\n    <tr>\n      <th>773231</th>\n      <td>2022-11</td>\n      <td>CBOE</td>\n      <td>1.0</td>\n    </tr>\n  </tbody>\n</table>\n<p>773232 rows × 3 columns</p>\n</div>"
     },
     "execution_count": 65,
     "metadata": {},
     "output_type": "execute_result"
    }
   ],
   "source": [
    "# Replace permno with tickers\n",
    "permnos = pd.read_csv(raw_data_dir / 'permnos.csv')\n",
    "permnos_dict = dict(zip(permnos['PERMNO'], permnos['TICKER']))\n",
    "final_div_season = div_season_factor.replace(permnos_dict)\n",
    "final_div_season.rename(columns={'PERMNO': 'ticker'}, inplace=True)\n",
    "final_div_season"
   ],
   "metadata": {
    "collapsed": false
   }
  },
  {
   "cell_type": "code",
   "execution_count": 72,
   "outputs": [],
   "source": [
    "fundamentals_data_dir = get_data_dir() / 'fundamental'\n",
    "final_div_season.to_csv(fundamentals_data_dir / 'div_season.csv')"
   ],
   "metadata": {
    "collapsed": false
   }
  }
 ],
 "metadata": {
  "kernelspec": {
   "name": "venv",
   "language": "python",
   "display_name": "venv"
  },
  "language_info": {
   "codemirror_mode": {
    "name": "ipython",
    "version": 2
   },
   "file_extension": ".py",
   "mimetype": "text/x-python",
   "name": "python",
   "nbconvert_exporter": "python",
   "pygments_lexer": "ipython2",
   "version": "2.7.6"
  }
 },
 "nbformat": 4,
 "nbformat_minor": 0
}
