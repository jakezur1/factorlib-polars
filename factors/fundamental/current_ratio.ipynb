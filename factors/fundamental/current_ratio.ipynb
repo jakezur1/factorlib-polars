{
 "cells": [
  {
   "cell_type": "code",
   "execution_count": 96,
   "outputs": [],
   "source": [
    "import pandas as pd\n",
    "import polars as pl\n",
    "import numpy as np\n",
    "from scipy.stats import zscore\n",
    "\n",
    "from factorlib.utils.system import get_data_dir"
   ],
   "metadata": {
    "collapsed": false
   }
  },
  {
   "cell_type": "code",
   "execution_count": 97,
   "outputs": [
    {
     "data": {
      "text/plain": "['AAME',\n 'AAON',\n 'AATC',\n 'AB',\n 'ABC',\n 'ABCB',\n 'ABM',\n 'ABMD',\n 'ABT',\n 'ACFN',\n 'ACGL',\n 'ACIW',\n 'ACU',\n 'ACUR',\n 'ADBE',\n 'ADC',\n 'ADM',\n 'ADP',\n 'ADSK',\n 'ADTN',\n 'AE',\n 'AEE',\n 'AEGN',\n 'AEIS',\n 'AEM',\n 'AEO',\n 'AEP',\n 'AES',\n 'AET',\n 'AEY',\n 'AFAM',\n 'AFG',\n 'AFL',\n 'AGCO',\n 'AGM',\n 'AGX',\n 'AGYS',\n 'AIG',\n 'AIN',\n 'AIR',\n 'AIRT',\n 'AIT',\n 'AIV',\n 'AJG',\n 'AJRD',\n 'AKR',\n 'AKRXQ',\n 'ALB',\n 'ALCO',\n 'ALE',\n 'ALG',\n 'ALJJ',\n 'ALK',\n 'ALKS',\n 'ALL',\n 'ALOG',\n 'ALOT',\n 'ALX',\n 'AMAG',\n 'AME',\n 'AMED',\n 'AMGN',\n 'AMOT',\n 'AMRN',\n 'AMS',\n 'AMSC',\n 'AMSWA',\n 'AMWD',\n 'AN',\n 'ANDE',\n 'ANIK',\n 'ANIX',\n 'AON',\n 'AOS',\n 'AP',\n 'APA',\n 'APD',\n 'APH',\n 'ARCB',\n 'ARGO',\n 'AROW',\n 'ARTNA',\n 'ARTW',\n 'ARW',\n 'ASB',\n 'ASGN',\n 'ASH',\n 'ASML',\n 'ASRV',\n 'ASTC',\n 'ASTE',\n 'ASUR',\n 'ASYS',\n 'ATGE',\n 'ATI',\n 'ATNI',\n 'ATO',\n 'ATR',\n 'ATRI',\n 'ATRO',\n 'AUB',\n 'AUBN',\n 'AVA',\n 'AVB',\n 'AVD',\n 'AVDL',\n 'AVID',\n 'AWR',\n 'AXAS',\n 'AXE',\n 'AXP',\n 'AXR',\n 'AZN',\n 'AZO',\n 'AZPN',\n 'AZZ',\n 'B',\n 'BA',\n 'BAC',\n 'BANF',\n 'BANR',\n 'BAP',\n 'BAX',\n 'BBAR',\n 'BBSI',\n 'BBVA',\n 'BC',\n 'BCE',\n 'BCO',\n 'BCPC',\n 'BCRX',\n 'BDC',\n 'BDL',\n 'BDN',\n 'BDX',\n 'BELFA',\n 'BEN',\n 'BFS',\n 'BH',\n 'BHC',\n 'BHE',\n 'BIIB',\n 'BIO',\n 'BIOL',\n 'BK',\n 'BKE',\n 'BKH',\n 'BKSC',\n 'BKTI',\n 'BLDP',\n 'BLFS',\n 'BLX',\n 'BMI',\n 'BMRA',\n 'BMS',\n 'BMTC',\n 'BMY',\n 'BN',\n 'BNSO',\n 'BOH',\n 'BOKF',\n 'BOOM',\n 'BP',\n 'BPFH',\n 'BPOP',\n 'BPT',\n 'BPYU',\n 'BRC',\n 'BRID',\n 'BRN',\n 'BRO',\n 'BRT',\n 'BSTC',\n 'BSX',\n 'BVN',\n 'BWA',\n 'BXMT',\n 'BYD',\n 'BYFC',\n 'BZH',\n 'C',\n 'CA',\n 'CAA',\n 'CACC',\n 'CACI',\n 'CAH',\n 'CAKE',\n 'CAMP',\n 'CAR',\n 'CARV',\n 'CASH',\n 'CASY',\n 'CAT',\n 'CATO',\n 'CATY',\n 'CB',\n 'CBB',\n 'CBLAQ',\n 'CBRL',\n 'CBSH',\n 'CBT',\n 'CBU',\n 'CBZ',\n 'CCEP',\n 'CCF',\n 'CCJ',\n 'CCK',\n 'CCL',\n 'CCRD',\n 'CCUR',\n 'CDE',\n 'CDMO',\n 'CDNS',\n 'CDOR',\n 'CDR',\n 'CDZI',\n 'CECO',\n 'CENX',\n 'CERN',\n 'CFNB',\n 'CFR',\n 'CGNX',\n 'CHCO',\n 'CHD',\n 'CHDN',\n 'CHE',\n 'CI',\n 'CIA',\n 'CINF',\n 'CKH',\n 'CL',\n 'CLB',\n 'CLF',\n 'CLFD',\n 'CLGX',\n 'CLH',\n 'CLRO',\n 'CLX',\n 'CMA',\n 'CMC',\n 'CMCL',\n 'CMCO',\n 'CMCSA',\n 'CMD',\n 'CMI',\n 'CMO',\n 'CMS',\n 'CMT',\n 'CMTL',\n 'CNA',\n 'CNBKA',\n 'CNMD',\n 'CNP',\n 'CNR',\n 'CNTY',\n 'COF',\n 'COHR',\n 'COKE',\n 'COO',\n 'COP',\n 'COST',\n 'CPE',\n 'CPF',\n 'CPHC',\n 'CPK',\n 'CPRT',\n 'CPSS',\n 'CPT',\n 'CR',\n 'CRMT',\n 'CRS',\n 'CRT',\n 'CRVL',\n 'CSCO',\n 'CSGS',\n 'CSL',\n 'CSPI',\n 'CSWC',\n 'CSX',\n 'CTAS',\n 'CTB',\n 'CTBI',\n 'CTG',\n 'CTO',\n 'CTRA',\n 'CTS',\n 'CUB',\n 'CUZ',\n 'CVA',\n 'CVBF',\n 'CVLG',\n 'CVM',\n 'CVR',\n 'CVS',\n 'CVU',\n 'CVX',\n 'CW',\n 'CWCO',\n 'CWT',\n 'CYAN',\n 'CYBE',\n 'D',\n 'DAIO',\n 'DCI',\n 'DCO',\n 'DD',\n 'DDD',\n 'DDS',\n 'DE',\n 'DECK',\n 'DENN',\n 'DGICB',\n 'DGII',\n 'DHI',\n 'DHR',\n 'DIN',\n 'DINO',\n 'DIOD',\n 'DIS',\n 'DISH',\n 'DIT',\n 'DJCO',\n 'DLHC',\n 'DLX',\n 'DOV',\n 'DRE',\n 'DSPG',\n 'DTE',\n 'DVA',\n 'DVCR',\n 'DWSN',\n 'DX',\n 'DXR',\n 'DYNT',\n 'EA',\n 'EAT',\n 'EBF',\n 'EBIX',\n 'ECL',\n 'ECOL',\n 'ED',\n 'EDUC',\n 'EFOI',\n 'EFX',\n 'EGP',\n 'EGY',\n 'EHC',\n 'EIX',\n 'EL',\n 'ELA',\n 'ELLO',\n 'ELME',\n 'ELS',\n 'ELSE',\n 'EME',\n 'EMN',\n 'EMR',\n 'ENB',\n 'ENZ',\n 'ENZN',\n 'EOG',\n 'EPAC',\n 'EPM',\n 'EQC',\n 'EQR',\n 'EQS',\n 'EQT',\n 'ERIE',\n 'ES',\n 'ESBK',\n 'ESCA',\n 'ESE',\n 'ESIO',\n 'ESND',\n 'ESP',\n 'ESS',\n 'ETD',\n 'ETR',\n 'EV',\n 'EVI',\n 'EXP',\n 'EXPD',\n 'EXPO',\n 'EZPW',\n 'F',\n 'FARM',\n 'FAST',\n 'FBNC',\n 'FBP',\n 'FC',\n 'FCEL',\n 'FCF',\n 'FCFS',\n 'FCN',\n 'FCNCA',\n 'FCX',\n 'FE',\n 'FEIM',\n 'FELE',\n 'FFBC',\n 'FFIC',\n 'FFIN',\n 'FFKT',\n 'FGH',\n 'FHN',\n 'FICO',\n 'FITB',\n 'FLEX',\n 'FLIC',\n 'FLL',\n 'FLS',\n 'FLXS',\n 'FMBI',\n 'FMC',\n 'FNB',\n 'FOE',\n 'FONR',\n 'FORD',\n 'FR',\n 'FRBK',\n 'FRD',\n 'FRME',\n 'FRPH',\n 'FRT',\n 'FSS',\n 'FSTR',\n 'FULT',\n 'FUN',\n 'FUNC',\n 'FWRD',\n 'GABC',\n 'GATX',\n 'GBCI',\n 'GBR',\n 'GBX',\n 'GD',\n 'GE',\n 'GEF',\n 'GEN',\n 'GENC',\n 'GEO',\n 'GFF',\n 'GFI',\n 'GGG',\n 'GHM',\n 'GIC',\n 'GIII',\n 'GILD',\n 'GL',\n 'GLT',\n 'GLW',\n 'GNTX',\n 'GPC',\n 'GPX',\n 'GRC',\n 'GSBC',\n 'GSK',\n 'GSS',\n 'GT',\n 'GTBP',\n 'GTIM',\n 'GTMAY',\n 'GTY',\n 'GURE',\n 'GV',\n 'GVA',\n 'GVP',\n 'GWW',\n 'GYRO',\n 'HA',\n 'HAL',\n 'HALL',\n 'HBAN',\n 'HBNC',\n 'HCSG',\n 'HDSN',\n 'HE',\n 'HEI',\n 'HELE',\n 'HES',\n 'HGBL',\n 'HHS',\n 'HIFS',\n 'HIG',\n 'HIW',\n 'HL',\n 'HLIT',\n 'HMC',\n 'HMG',\n 'HMN',\n 'HMNF',\n 'HMSY',\n 'HNGR',\n 'HOG',\n 'HON',\n 'HOV',\n 'HP',\n 'HPQ',\n 'HRB',\n 'HRTX',\n 'HSC',\n 'HSY',\n 'HTLD',\n 'HUBB',\n 'HUBG',\n 'HUM',\n 'HURC',\n 'HVT',\n 'HWC',\n 'HXL',\n 'IART',\n 'IBCP',\n 'IBM',\n 'ICAD',\n 'ICCC',\n 'ICON',\n 'ICUI',\n 'IDA',\n 'IDCC',\n 'IDXX',\n 'IEP',\n 'IEX',\n 'IFF',\n 'IHC',\n 'IHT',\n 'IIN',\n 'IMAX',\n 'IMBI',\n 'IMGN',\n 'IMKTA',\n 'IMMU',\n 'INCY',\n 'INDB',\n 'INOD',\n 'INT',\n 'INTG',\n 'INTU',\n 'IONS',\n 'IOR',\n 'IP',\n 'IPAR',\n 'IPG',\n 'IRIX',\n 'IRM',\n 'ISIG',\n 'IT',\n 'ITI',\n 'ITIC',\n 'ITRI',\n 'ITT',\n 'ITW',\n 'J',\n 'JAKK',\n 'JBHT',\n 'JBL',\n 'JBSS',\n 'JCI',\n 'JCS',\n 'JEF',\n 'JKHY',\n 'JOB',\n 'JOE',\n 'JOUT',\n 'JPM',\n 'KAMN',\n 'KBAL',\n 'KBH',\n 'KCLI',\n 'KEQU',\n 'KEX',\n 'KEY',\n 'KFRC',\n 'KGC',\n 'KIM',\n 'KLAC',\n 'KMB',\n 'KMPR',\n 'KMT',\n 'KNX',\n 'KO',\n 'KOSS',\n 'KSU',\n 'KUBTY',\n 'KVHI',\n 'KWR',\n 'L',\n 'LAKE',\n 'LANC',\n 'LARK',\n 'LCII',\n 'LCTX',\n 'LCUT',\n 'LDL',\n 'LECO',\n 'LEG',\n 'LEN',\n 'LFCR',\n 'LGL',\n 'LGND',\n 'LH',\n 'LHX',\n 'LINK',\n 'LIVN',\n 'LJPC',\n 'LLY',\n 'LM',\n 'LMT',\n 'LNC',\n 'LNCE',\n 'LNN',\n 'LNT',\n 'LNW',\n 'LOW',\n 'LPTH',\n 'LPX',\n 'LSI',\n 'LTC',\n 'LUB',\n 'LUMN',\n 'LUV',\n 'LWAY',\n 'LXP',\n 'LXU',\n 'LYTS',\n 'MAA',\n 'MAC',\n 'MAN',\n 'MARPS',\n 'MAS',\n 'MAT',\n 'MATV',\n 'MATW',\n 'MATX',\n 'MAYS',\n 'MBI',\n 'MCD',\n 'MCHP',\n 'MCK',\n 'MCRI',\n 'MCS',\n 'MCY',\n 'MD',\n 'MDC',\n 'MDP',\n 'MDT',\n 'MDU',\n 'MED',\n 'MFIN',\n 'MGA',\n 'MGEE',\n 'MGIC',\n 'MGM',\n 'MGPI',\n 'MGRC',\n 'MHK',\n 'MHO',\n 'MICR',\n 'MIND',\n 'MITK',\n 'MKC',\n 'MLAB',\n 'MLI',\n 'MLM',\n 'MLP',\n 'MLR',\n 'MLSS',\n 'MMC',\n 'MMM',\n 'MMSI',\n 'MNR',\n 'MNST',\n 'MO',\n 'MOD',\n 'MODG',\n 'MOV',\n 'MPAA',\n 'MPVDF',\n 'MRK',\n 'MRO',\n 'MRTN',\n 'MS',\n 'MSA',\n 'MSB',\n 'MSEX',\n 'MSFT',\n 'MSI',\n 'MSN',\n 'MSON',\n 'MTB',\n 'MTCH',\n 'MTG',\n 'MTH',\n 'MTR',\n 'MTRN',\n 'MTRX',\n 'MTW',\n 'MTX',\n 'MTZ',\n 'MU',\n 'MUR',\n 'MUX',\n 'MYE',\n 'MYGN',\n 'NAII',\n 'NASB',\n 'NATI',\n 'NATR',\n 'NAV',\n 'NAVB',\n 'NBIX',\n 'NBL',\n 'NBN',\n 'NBR',\n 'NBTB',\n 'NC',\n 'NCR',\n 'NDSN',\n 'NEE',\n 'NEN',\n 'NEOG',\n 'NFG',\n 'NHC',\n 'NHI',\n 'NHTC',\n 'NICE',\n 'NJR',\n 'NKE',\n 'NKTR',\n 'NL',\n 'NNBR',\n 'NNN',\n 'NPK',\n 'NR',\n 'NRIM',\n 'NRT',\n 'NSC',\n 'NSEC',\n 'NSIT',\n 'NSSC',\n 'NSYS',\n 'NTAP',\n 'NTIC',\n 'NTR',\n 'NTRS',\n 'NTZ',\n 'NUE',\n 'NVAX',\n 'NVR',\n 'NWBI',\n 'NWL',\n 'NWLI',\n 'NWN',\n 'NWPX',\n 'NXGN',\n 'NYCB',\n 'NYT',\n 'O',\n 'OBCI',\n 'OCC',\n 'ODC',\n 'ODFL',\n 'OFC',\n 'OFG',\n 'OFIX',\n 'OGE',\n 'OI',\n 'OII',\n 'OKE',\n 'OLED',\n 'OLN',\n 'OLP',\n 'OMC',\n 'OMI',\n 'ONB',\n 'OPK',\n 'OPY',\n 'ORCL',\n 'ORI',\n 'ORLY',\n 'OSBC',\n 'OSK',\n 'OSUR',\n 'OTTR',\n 'OVBC',\n 'OXY',\n 'PAAS',\n 'PAR',\n 'PATK',\n 'PAYX',\n 'PBI',\n 'PBT',\n 'PCAR',\n 'PCG',\n 'PCH',\n 'PCYO',\n 'PDCE',\n 'PDEX',\n 'PEAK',\n 'PEBK',\n 'PEBO',\n 'PEG',\n 'PENN',\n 'PESI',\n 'PFC',\n 'PFE',\n 'PFIN',\n 'PG',\n 'PGR',\n 'PH',\n 'PHG',\n 'PHM',\n 'PHX',\n 'PII',\n 'PKOH',\n 'PLAB',\n 'PLD',\n 'PMD',\n 'PNC',\n 'PNM',\n 'PNR',\n 'PNRG',\n 'PNW',\n 'POOL',\n 'POPE',\n 'POWL',\n 'PPG',\n 'PPIH',\n 'PPL',\n 'PRA',\n 'PRCP',\n 'PRG',\n 'PRGO',\n 'PRGS',\n 'PRK',\n 'PRKR',\n 'PSA',\n 'PSB',\n 'PTC',\n 'PTEN',\n 'PTSI',\n 'PTVCB',\n 'PXD',\n 'QCRH',\n 'QDEL',\n 'QUMU',\n 'R',\n 'RAMP',\n 'RAVN',\n 'RCKY',\n 'RCMT',\n 'RDN',\n 'RE',\n 'REFR',\n 'REG',\n 'REGN',\n 'RES',\n 'REVRQ',\n 'REX',\n 'RGA',\n 'RGCO',\n 'RGEN',\n 'RGLD',\n 'RGR',\n 'RGS',\n 'RHI',\n 'RHP',\n 'RICK',\n 'RIG',\n 'RJF',\n 'RLI',\n 'RMD',\n 'RNR',\n 'RNST',\n 'ROCK',\n 'ROG',\n 'ROK',\n 'ROL',\n 'ROP',\n 'RPM',\n 'RPT',\n 'RRC',\n 'RRD',\n 'RRX',\n 'RS',\n 'RTX',\n 'RUSHB',\n 'RVSB',\n 'RVTY',\n 'RWT',\n 'RY',\n 'RYN',\n 'SAFM',\n 'SASR',\n 'SBCF',\n 'SBGI',\n 'SBR',\n 'SCCO',\n 'SCHL',\n 'SCHN',\n 'SCHW',\n 'SCI',\n 'SCKT',\n 'SCL',\n 'SCSC',\n 'SCWO',\n 'SCX',\n 'SEB',\n 'SEE',\n 'SEIC',\n 'SENEA',\n 'SF',\n 'SFE',\n 'SFNC',\n 'SGA',\n 'SGC',\n 'SGMA',\n 'SGU',\n 'SHLM',\n 'SHOO',\n 'SHW',\n 'SHYF',\n 'SIEB',\n 'SIF',\n 'SIGI',\n 'SIRI',\n 'SITC',\n 'SJI',\n 'SJM',\n 'SJT',\n 'SJW',\n 'SKT',\n 'SKYW',\n 'SLB',\n 'SLNH',\n 'SM',\n 'SMBC',\n 'SMG',\n 'SMID',\n 'SMIT',\n 'SMP',\n 'SMSI',\n 'SMTC',\n 'SNEX',\n 'SNFCA',\n 'SNGX',\n 'SNPS',\n 'SNV',\n 'SO',\n 'SON',\n 'SONC',\n 'SONY',\n 'SOTK',\n 'SPB',\n 'SPG',\n 'SPGI',\n 'SPNS',\n 'SPNX',\n 'SPXC',\n 'SR',\n 'SRCE',\n 'SSD',\n 'SSL',\n 'SSP',\n 'SSY',\n 'SSYS',\n 'STAA',\n 'STAR',\n 'STBA',\n 'STC',\n 'STCN',\n 'STE',\n 'STFC',\n 'STRL',\n 'STRM',\n 'STRS',\n 'STT',\n 'STZ',\n 'SU',\n 'SUI',\n 'SUP',\n 'SVC',\n 'SVT',\n 'SVU',\n 'SWKS',\n 'SWN',\n 'SWX',\n 'SXI',\n 'SXT',\n 'SYBT',\n 'SYK',\n 'SYPR',\n 'T',\n 'TAIT',\n 'TAYD',\n 'TCBK',\n 'TCF',\n 'TCI',\n 'TCX',\n 'TECD',\n 'TECH',\n ...]"
     },
     "execution_count": 97,
     "metadata": {},
     "output_type": "execute_result"
    }
   ],
   "source": [
    "raw_data_dir = get_data_dir() / 'raw'\n",
    "tickers = pl.scan_csv(raw_data_dir / 'tickers_to_train.csv').collect(streaming=True).to_series().to_list()\n",
    "tickers"
   ],
   "metadata": {
    "collapsed": false
   }
  },
  {
   "cell_type": "code",
   "execution_count": 98,
   "outputs": [
    {
     "data": {
      "text/plain": "       date_index ticker  currentRatio\n125    1991-03-31   AAME      0.000000\n124    1991-06-30   AAME      9.731844\n123    1991-09-30   AAME      7.927273\n122    1991-12-31   AAME     12.992126\n121    1992-03-31   AAME      4.223650\n...           ...    ...           ...\n141573 2020-09-30   ZIXI      0.571908\n141572 2020-12-31   ZIXI      0.553648\n141571 2021-03-31   ZIXI      0.581397\n141570 2021-06-30   ZIXI      0.679757\n141569 2021-09-30   ZIXI      0.755666\n\n[134452 rows x 3 columns]",
      "text/html": "<div>\n<style scoped>\n    .dataframe tbody tr th:only-of-type {\n        vertical-align: middle;\n    }\n\n    .dataframe tbody tr th {\n        vertical-align: top;\n    }\n\n    .dataframe thead th {\n        text-align: right;\n    }\n</style>\n<table border=\"1\" class=\"dataframe\">\n  <thead>\n    <tr style=\"text-align: right;\">\n      <th></th>\n      <th>date_index</th>\n      <th>ticker</th>\n      <th>currentRatio</th>\n    </tr>\n  </thead>\n  <tbody>\n    <tr>\n      <th>125</th>\n      <td>1991-03-31</td>\n      <td>AAME</td>\n      <td>0.000000</td>\n    </tr>\n    <tr>\n      <th>124</th>\n      <td>1991-06-30</td>\n      <td>AAME</td>\n      <td>9.731844</td>\n    </tr>\n    <tr>\n      <th>123</th>\n      <td>1991-09-30</td>\n      <td>AAME</td>\n      <td>7.927273</td>\n    </tr>\n    <tr>\n      <th>122</th>\n      <td>1991-12-31</td>\n      <td>AAME</td>\n      <td>12.992126</td>\n    </tr>\n    <tr>\n      <th>121</th>\n      <td>1992-03-31</td>\n      <td>AAME</td>\n      <td>4.223650</td>\n    </tr>\n    <tr>\n      <th>...</th>\n      <td>...</td>\n      <td>...</td>\n      <td>...</td>\n    </tr>\n    <tr>\n      <th>141573</th>\n      <td>2020-09-30</td>\n      <td>ZIXI</td>\n      <td>0.571908</td>\n    </tr>\n    <tr>\n      <th>141572</th>\n      <td>2020-12-31</td>\n      <td>ZIXI</td>\n      <td>0.553648</td>\n    </tr>\n    <tr>\n      <th>141571</th>\n      <td>2021-03-31</td>\n      <td>ZIXI</td>\n      <td>0.581397</td>\n    </tr>\n    <tr>\n      <th>141570</th>\n      <td>2021-06-30</td>\n      <td>ZIXI</td>\n      <td>0.679757</td>\n    </tr>\n    <tr>\n      <th>141569</th>\n      <td>2021-09-30</td>\n      <td>ZIXI</td>\n      <td>0.755666</td>\n    </tr>\n  </tbody>\n</table>\n<p>134452 rows × 3 columns</p>\n</div>"
     },
     "execution_count": 98,
     "metadata": {},
     "output_type": "execute_result"
    }
   ],
   "source": [
    "relevant_balance_sheets = pl.scan_csv(raw_data_dir / 'balance_sheet_statements.csv', try_parse_dates=True).collect(\n",
    "    streaming=True)\n",
    "current_ratio = (\n",
    "    relevant_balance_sheets.lazy()\n",
    "    .select(\n",
    "        pl.col('date').cast(pl.Datetime).alias('date_index'),\n",
    "        pl.col('symbol').alias('ticker'),\n",
    "        (pl.col('totalCurrentAssets').cast(pl.Float64) / pl.col('totalCurrentLiabilities').cast(pl.Float64)).alias('currentRatio')\n",
    "    )\n",
    "    .collect(streaming=True)\n",
    ")\n",
    "current_ratio = current_ratio.lazy().filter(pl.col('ticker').is_in(tickers)).collect(streaming=True).to_pandas()\n",
    "current_ratio = current_ratio.sort_values(['ticker', 'date_index']).dropna()\n",
    "current_ratio"
   ],
   "metadata": {
    "collapsed": false
   }
  },
  {
   "cell_type": "code",
   "execution_count": 99,
   "outputs": [],
   "source": [
    "industry_codes = pl.scan_csv(raw_data_dir / 'ohclv_daily.csv', try_parse_dates=True).collect(\n",
    "    streaming=True)\n",
    "industry_codes = industry_codes.lazy().select(\n",
    "    pl.col('datadate').cast(pl.Datetime).alias('date_index'),\n",
    "    pl.col('tic').alias('ticker'),\n",
    "    pl.col('gind').alias('industry')\n",
    ")\n",
    "industry_codes = industry_codes.lazy().filter(pl.col('ticker').is_in(tickers)).collect(streaming=True)\n",
    "industry_codes = industry_codes.to_pandas()"
   ],
   "metadata": {
    "collapsed": false
   }
  },
  {
   "cell_type": "code",
   "execution_count": 100,
   "outputs": [
    {
     "data": {
      "text/plain": "      date_index ticker  currentRatio  industry\n0     1991-09-30   AAME      7.927273    403010\n1     1991-12-31   AAME     12.992126    403010\n2     1992-03-31   AAME      4.223650    403010\n3     1992-06-30   AAME      4.095960    403010\n4     1992-09-30   AAME      4.300275    403010\n...          ...    ...           ...       ...\n90256 2020-09-30   ZIXI      0.571908    451030\n90257 2020-12-31   ZIXI      0.553648    451030\n90258 2021-03-31   ZIXI      0.581397    451030\n90259 2021-06-30   ZIXI      0.679757    451030\n90260 2021-09-30   ZIXI      0.755666    451030\n\n[90261 rows x 4 columns]",
      "text/html": "<div>\n<style scoped>\n    .dataframe tbody tr th:only-of-type {\n        vertical-align: middle;\n    }\n\n    .dataframe tbody tr th {\n        vertical-align: top;\n    }\n\n    .dataframe thead th {\n        text-align: right;\n    }\n</style>\n<table border=\"1\" class=\"dataframe\">\n  <thead>\n    <tr style=\"text-align: right;\">\n      <th></th>\n      <th>date_index</th>\n      <th>ticker</th>\n      <th>currentRatio</th>\n      <th>industry</th>\n    </tr>\n  </thead>\n  <tbody>\n    <tr>\n      <th>0</th>\n      <td>1991-09-30</td>\n      <td>AAME</td>\n      <td>7.927273</td>\n      <td>403010</td>\n    </tr>\n    <tr>\n      <th>1</th>\n      <td>1991-12-31</td>\n      <td>AAME</td>\n      <td>12.992126</td>\n      <td>403010</td>\n    </tr>\n    <tr>\n      <th>2</th>\n      <td>1992-03-31</td>\n      <td>AAME</td>\n      <td>4.223650</td>\n      <td>403010</td>\n    </tr>\n    <tr>\n      <th>3</th>\n      <td>1992-06-30</td>\n      <td>AAME</td>\n      <td>4.095960</td>\n      <td>403010</td>\n    </tr>\n    <tr>\n      <th>4</th>\n      <td>1992-09-30</td>\n      <td>AAME</td>\n      <td>4.300275</td>\n      <td>403010</td>\n    </tr>\n    <tr>\n      <th>...</th>\n      <td>...</td>\n      <td>...</td>\n      <td>...</td>\n      <td>...</td>\n    </tr>\n    <tr>\n      <th>90256</th>\n      <td>2020-09-30</td>\n      <td>ZIXI</td>\n      <td>0.571908</td>\n      <td>451030</td>\n    </tr>\n    <tr>\n      <th>90257</th>\n      <td>2020-12-31</td>\n      <td>ZIXI</td>\n      <td>0.553648</td>\n      <td>451030</td>\n    </tr>\n    <tr>\n      <th>90258</th>\n      <td>2021-03-31</td>\n      <td>ZIXI</td>\n      <td>0.581397</td>\n      <td>451030</td>\n    </tr>\n    <tr>\n      <th>90259</th>\n      <td>2021-06-30</td>\n      <td>ZIXI</td>\n      <td>0.679757</td>\n      <td>451030</td>\n    </tr>\n    <tr>\n      <th>90260</th>\n      <td>2021-09-30</td>\n      <td>ZIXI</td>\n      <td>0.755666</td>\n      <td>451030</td>\n    </tr>\n  </tbody>\n</table>\n<p>90261 rows × 4 columns</p>\n</div>"
     },
     "execution_count": 100,
     "metadata": {},
     "output_type": "execute_result"
    }
   ],
   "source": [
    "merged_data = current_ratio.merge(industry_codes, how='inner', on=['date_index', 'ticker'])\n",
    "merged_data"
   ],
   "metadata": {
    "collapsed": false
   }
  },
  {
   "cell_type": "code",
   "execution_count": 101,
   "outputs": [
    {
     "data": {
      "text/plain": "           ticker  currentRatio  industry\ndate_index                               \n1991-09-30   AAME      7.927273    403010\n1991-12-31   AAME     12.992126    403010\n1992-03-31   AAME      4.223650    403010\n1992-06-30   AAME      4.095960    403010\n1992-09-30   AAME      4.300275    403010\n...           ...           ...       ...\n2020-09-30   ZIXI      0.571908    451030\n2020-12-31   ZIXI      0.553648    451030\n2021-03-31   ZIXI      0.581397    451030\n2021-06-30   ZIXI      0.679757    451030\n2021-09-30   ZIXI      0.755666    451030\n\n[90261 rows x 3 columns]",
      "text/html": "<div>\n<style scoped>\n    .dataframe tbody tr th:only-of-type {\n        vertical-align: middle;\n    }\n\n    .dataframe tbody tr th {\n        vertical-align: top;\n    }\n\n    .dataframe thead th {\n        text-align: right;\n    }\n</style>\n<table border=\"1\" class=\"dataframe\">\n  <thead>\n    <tr style=\"text-align: right;\">\n      <th></th>\n      <th>ticker</th>\n      <th>currentRatio</th>\n      <th>industry</th>\n    </tr>\n    <tr>\n      <th>date_index</th>\n      <th></th>\n      <th></th>\n      <th></th>\n    </tr>\n  </thead>\n  <tbody>\n    <tr>\n      <th>1991-09-30</th>\n      <td>AAME</td>\n      <td>7.927273</td>\n      <td>403010</td>\n    </tr>\n    <tr>\n      <th>1991-12-31</th>\n      <td>AAME</td>\n      <td>12.992126</td>\n      <td>403010</td>\n    </tr>\n    <tr>\n      <th>1992-03-31</th>\n      <td>AAME</td>\n      <td>4.223650</td>\n      <td>403010</td>\n    </tr>\n    <tr>\n      <th>1992-06-30</th>\n      <td>AAME</td>\n      <td>4.095960</td>\n      <td>403010</td>\n    </tr>\n    <tr>\n      <th>1992-09-30</th>\n      <td>AAME</td>\n      <td>4.300275</td>\n      <td>403010</td>\n    </tr>\n    <tr>\n      <th>...</th>\n      <td>...</td>\n      <td>...</td>\n      <td>...</td>\n    </tr>\n    <tr>\n      <th>2020-09-30</th>\n      <td>ZIXI</td>\n      <td>0.571908</td>\n      <td>451030</td>\n    </tr>\n    <tr>\n      <th>2020-12-31</th>\n      <td>ZIXI</td>\n      <td>0.553648</td>\n      <td>451030</td>\n    </tr>\n    <tr>\n      <th>2021-03-31</th>\n      <td>ZIXI</td>\n      <td>0.581397</td>\n      <td>451030</td>\n    </tr>\n    <tr>\n      <th>2021-06-30</th>\n      <td>ZIXI</td>\n      <td>0.679757</td>\n      <td>451030</td>\n    </tr>\n    <tr>\n      <th>2021-09-30</th>\n      <td>ZIXI</td>\n      <td>0.755666</td>\n      <td>451030</td>\n    </tr>\n  </tbody>\n</table>\n<p>90261 rows × 3 columns</p>\n</div>"
     },
     "execution_count": 101,
     "metadata": {},
     "output_type": "execute_result"
    }
   ],
   "source": [
    "no_duplicates = merged_data.set_index(['date_index', 'ticker'])\n",
    "no_duplicates = no_duplicates.loc[~merged_data.index.duplicated(keep='first')].reset_index(level=1)\n",
    "no_duplicates"
   ],
   "metadata": {
    "collapsed": false
   }
  },
  {
   "cell_type": "code",
   "execution_count": 102,
   "outputs": [
    {
     "data": {
      "text/plain": "           ticker  currentRatio  industry  ind_curr_ratio_avg  \\\ndate_index                                                      \n1991-09-30   AAME      7.927273    403010                 NaN   \n1991-12-31   AAME     12.992126    403010                 NaN   \n1992-03-31   AAME      4.223650    403010                 NaN   \n1992-06-30   AAME      4.095960    403010            7.309752   \n1992-09-30   AAME      4.300275    403010            6.403003   \n...           ...           ...       ...                 ...   \n2020-09-30   ZIXI      0.571908    451030            0.469328   \n2020-12-31   ZIXI      0.553648    451030            0.513057   \n2021-03-31   ZIXI      0.581397    451030            0.543434   \n2021-06-30   ZIXI      0.679757    451030            0.596678   \n2021-09-30   ZIXI      0.755666    451030            0.642617   \n\n            ind_curr_ratio_stdv  \ndate_index                       \n1991-09-30                  NaN  \n1991-12-31                  NaN  \n1992-03-31                  NaN  \n1992-06-30             4.184224  \n1992-09-30             4.393557  \n...                         ...  \n2020-09-30             0.079217  \n2020-12-31             0.057963  \n2021-03-31             0.052383  \n2021-06-30             0.056571  \n2021-09-30             0.092777  \n\n[90261 rows x 5 columns]",
      "text/html": "<div>\n<style scoped>\n    .dataframe tbody tr th:only-of-type {\n        vertical-align: middle;\n    }\n\n    .dataframe tbody tr th {\n        vertical-align: top;\n    }\n\n    .dataframe thead th {\n        text-align: right;\n    }\n</style>\n<table border=\"1\" class=\"dataframe\">\n  <thead>\n    <tr style=\"text-align: right;\">\n      <th></th>\n      <th>ticker</th>\n      <th>currentRatio</th>\n      <th>industry</th>\n      <th>ind_curr_ratio_avg</th>\n      <th>ind_curr_ratio_stdv</th>\n    </tr>\n    <tr>\n      <th>date_index</th>\n      <th></th>\n      <th></th>\n      <th></th>\n      <th></th>\n      <th></th>\n    </tr>\n  </thead>\n  <tbody>\n    <tr>\n      <th>1991-09-30</th>\n      <td>AAME</td>\n      <td>7.927273</td>\n      <td>403010</td>\n      <td>NaN</td>\n      <td>NaN</td>\n    </tr>\n    <tr>\n      <th>1991-12-31</th>\n      <td>AAME</td>\n      <td>12.992126</td>\n      <td>403010</td>\n      <td>NaN</td>\n      <td>NaN</td>\n    </tr>\n    <tr>\n      <th>1992-03-31</th>\n      <td>AAME</td>\n      <td>4.223650</td>\n      <td>403010</td>\n      <td>NaN</td>\n      <td>NaN</td>\n    </tr>\n    <tr>\n      <th>1992-06-30</th>\n      <td>AAME</td>\n      <td>4.095960</td>\n      <td>403010</td>\n      <td>7.309752</td>\n      <td>4.184224</td>\n    </tr>\n    <tr>\n      <th>1992-09-30</th>\n      <td>AAME</td>\n      <td>4.300275</td>\n      <td>403010</td>\n      <td>6.403003</td>\n      <td>4.393557</td>\n    </tr>\n    <tr>\n      <th>...</th>\n      <td>...</td>\n      <td>...</td>\n      <td>...</td>\n      <td>...</td>\n      <td>...</td>\n    </tr>\n    <tr>\n      <th>2020-09-30</th>\n      <td>ZIXI</td>\n      <td>0.571908</td>\n      <td>451030</td>\n      <td>0.469328</td>\n      <td>0.079217</td>\n    </tr>\n    <tr>\n      <th>2020-12-31</th>\n      <td>ZIXI</td>\n      <td>0.553648</td>\n      <td>451030</td>\n      <td>0.513057</td>\n      <td>0.057963</td>\n    </tr>\n    <tr>\n      <th>2021-03-31</th>\n      <td>ZIXI</td>\n      <td>0.581397</td>\n      <td>451030</td>\n      <td>0.543434</td>\n      <td>0.052383</td>\n    </tr>\n    <tr>\n      <th>2021-06-30</th>\n      <td>ZIXI</td>\n      <td>0.679757</td>\n      <td>451030</td>\n      <td>0.596678</td>\n      <td>0.056571</td>\n    </tr>\n    <tr>\n      <th>2021-09-30</th>\n      <td>ZIXI</td>\n      <td>0.755666</td>\n      <td>451030</td>\n      <td>0.642617</td>\n      <td>0.092777</td>\n    </tr>\n  </tbody>\n</table>\n<p>90261 rows × 5 columns</p>\n</div>"
     },
     "execution_count": 102,
     "metadata": {},
     "output_type": "execute_result"
    }
   ],
   "source": [
    "industry_curr_ratio = no_duplicates\n",
    "industry_curr_ratio['ind_curr_ratio_avg'] = industry_curr_ratio.groupby(['industry'])['currentRatio'].transform(lambda x: x.rolling(window=4).mean())\n",
    "industry_curr_ratio['ind_curr_ratio_stdv'] = industry_curr_ratio.groupby(['industry'])['currentRatio'].transform(lambda x: x.rolling(window=4).std())\n",
    "industry_curr_ratio"
   ],
   "metadata": {
    "collapsed": false
   }
  },
  {
   "cell_type": "code",
   "execution_count": 103,
   "outputs": [
    {
     "data": {
      "text/plain": "           ticker  currentRatio  ir_curr_ratio\ndate_index                                    \n1992-06-30   AAME      4.095960      -0.768074\n1992-09-30   AAME      4.300275      -0.478593\n1992-12-31   AAME      3.110357      -1.482579\n1993-03-31   AAME      5.047091       1.138630\n1993-06-30   AAME      4.627551       0.428089\n...           ...           ...            ...\n2020-09-30   ZIXI      0.571908       1.294928\n2020-12-31   ZIXI      0.553648       0.700286\n2021-03-31   ZIXI      0.581397       0.724739\n2021-06-30   ZIXI      0.679757       1.468592\n2021-09-30   ZIXI      0.755666       1.218498\n\n[82773 rows x 3 columns]",
      "text/html": "<div>\n<style scoped>\n    .dataframe tbody tr th:only-of-type {\n        vertical-align: middle;\n    }\n\n    .dataframe tbody tr th {\n        vertical-align: top;\n    }\n\n    .dataframe thead th {\n        text-align: right;\n    }\n</style>\n<table border=\"1\" class=\"dataframe\">\n  <thead>\n    <tr style=\"text-align: right;\">\n      <th></th>\n      <th>ticker</th>\n      <th>currentRatio</th>\n      <th>ir_curr_ratio</th>\n    </tr>\n    <tr>\n      <th>date_index</th>\n      <th></th>\n      <th></th>\n      <th></th>\n    </tr>\n  </thead>\n  <tbody>\n    <tr>\n      <th>1992-06-30</th>\n      <td>AAME</td>\n      <td>4.095960</td>\n      <td>-0.768074</td>\n    </tr>\n    <tr>\n      <th>1992-09-30</th>\n      <td>AAME</td>\n      <td>4.300275</td>\n      <td>-0.478593</td>\n    </tr>\n    <tr>\n      <th>1992-12-31</th>\n      <td>AAME</td>\n      <td>3.110357</td>\n      <td>-1.482579</td>\n    </tr>\n    <tr>\n      <th>1993-03-31</th>\n      <td>AAME</td>\n      <td>5.047091</td>\n      <td>1.138630</td>\n    </tr>\n    <tr>\n      <th>1993-06-30</th>\n      <td>AAME</td>\n      <td>4.627551</td>\n      <td>0.428089</td>\n    </tr>\n    <tr>\n      <th>...</th>\n      <td>...</td>\n      <td>...</td>\n      <td>...</td>\n    </tr>\n    <tr>\n      <th>2020-09-30</th>\n      <td>ZIXI</td>\n      <td>0.571908</td>\n      <td>1.294928</td>\n    </tr>\n    <tr>\n      <th>2020-12-31</th>\n      <td>ZIXI</td>\n      <td>0.553648</td>\n      <td>0.700286</td>\n    </tr>\n    <tr>\n      <th>2021-03-31</th>\n      <td>ZIXI</td>\n      <td>0.581397</td>\n      <td>0.724739</td>\n    </tr>\n    <tr>\n      <th>2021-06-30</th>\n      <td>ZIXI</td>\n      <td>0.679757</td>\n      <td>1.468592</td>\n    </tr>\n    <tr>\n      <th>2021-09-30</th>\n      <td>ZIXI</td>\n      <td>0.755666</td>\n      <td>1.218498</td>\n    </tr>\n  </tbody>\n</table>\n<p>82773 rows × 3 columns</p>\n</div>"
     },
     "execution_count": 103,
     "metadata": {},
     "output_type": "execute_result"
    }
   ],
   "source": [
    "ir_curr_ratio = industry_curr_ratio\n",
    "ir_curr_ratio['ir_curr_ratio'] = (ir_curr_ratio['currentRatio'] - ir_curr_ratio['ind_curr_ratio_avg']) / ir_curr_ratio['ind_curr_ratio_stdv']\n",
    "ir_curr_ratio = ir_curr_ratio.reset_index().sort_values(['ticker', 'date_index']).set_index('date_index')\n",
    "ir_curr_ratio.drop(columns=['industry', 'ind_curr_ratio_avg', 'ind_curr_ratio_stdv'], inplace=True)\n",
    "ir_curr_ratio.dropna(inplace=True)\n",
    "ir_curr_ratio"
   ],
   "metadata": {
    "collapsed": false
   }
  },
  {
   "cell_type": "code",
   "execution_count": 104,
   "outputs": [],
   "source": [
    "def mask_risk(x):\n",
    "    if abs(x) < 1:\n",
    "        return -1\n",
    "    else:\n",
    "        return 1"
   ],
   "metadata": {
    "collapsed": false
   }
  },
  {
   "cell_type": "code",
   "execution_count": 105,
   "outputs": [
    {
     "data": {
      "text/plain": "           ticker  currentRatio  ir_curr_ratio  curr_ratio_risk\ndate_index                                                     \n1992-06-30   AAME      4.095960      -0.768074                1\n1992-09-30   AAME      4.300275      -0.478593                1\n1992-12-31   AAME      3.110357      -1.482579                1\n1993-03-31   AAME      5.047091       1.138630                1\n1993-06-30   AAME      4.627551       0.428089                1\n...           ...           ...            ...              ...\n2020-09-30   ZIXI      0.571908       1.294928               -1\n2020-12-31   ZIXI      0.553648       0.700286               -1\n2021-03-31   ZIXI      0.581397       0.724739               -1\n2021-06-30   ZIXI      0.679757       1.468592               -1\n2021-09-30   ZIXI      0.755666       1.218498               -1\n\n[82773 rows x 4 columns]",
      "text/html": "<div>\n<style scoped>\n    .dataframe tbody tr th:only-of-type {\n        vertical-align: middle;\n    }\n\n    .dataframe tbody tr th {\n        vertical-align: top;\n    }\n\n    .dataframe thead th {\n        text-align: right;\n    }\n</style>\n<table border=\"1\" class=\"dataframe\">\n  <thead>\n    <tr style=\"text-align: right;\">\n      <th></th>\n      <th>ticker</th>\n      <th>currentRatio</th>\n      <th>ir_curr_ratio</th>\n      <th>curr_ratio_risk</th>\n    </tr>\n    <tr>\n      <th>date_index</th>\n      <th></th>\n      <th></th>\n      <th></th>\n      <th></th>\n    </tr>\n  </thead>\n  <tbody>\n    <tr>\n      <th>1992-06-30</th>\n      <td>AAME</td>\n      <td>4.095960</td>\n      <td>-0.768074</td>\n      <td>1</td>\n    </tr>\n    <tr>\n      <th>1992-09-30</th>\n      <td>AAME</td>\n      <td>4.300275</td>\n      <td>-0.478593</td>\n      <td>1</td>\n    </tr>\n    <tr>\n      <th>1992-12-31</th>\n      <td>AAME</td>\n      <td>3.110357</td>\n      <td>-1.482579</td>\n      <td>1</td>\n    </tr>\n    <tr>\n      <th>1993-03-31</th>\n      <td>AAME</td>\n      <td>5.047091</td>\n      <td>1.138630</td>\n      <td>1</td>\n    </tr>\n    <tr>\n      <th>1993-06-30</th>\n      <td>AAME</td>\n      <td>4.627551</td>\n      <td>0.428089</td>\n      <td>1</td>\n    </tr>\n    <tr>\n      <th>...</th>\n      <td>...</td>\n      <td>...</td>\n      <td>...</td>\n      <td>...</td>\n    </tr>\n    <tr>\n      <th>2020-09-30</th>\n      <td>ZIXI</td>\n      <td>0.571908</td>\n      <td>1.294928</td>\n      <td>-1</td>\n    </tr>\n    <tr>\n      <th>2020-12-31</th>\n      <td>ZIXI</td>\n      <td>0.553648</td>\n      <td>0.700286</td>\n      <td>-1</td>\n    </tr>\n    <tr>\n      <th>2021-03-31</th>\n      <td>ZIXI</td>\n      <td>0.581397</td>\n      <td>0.724739</td>\n      <td>-1</td>\n    </tr>\n    <tr>\n      <th>2021-06-30</th>\n      <td>ZIXI</td>\n      <td>0.679757</td>\n      <td>1.468592</td>\n      <td>-1</td>\n    </tr>\n    <tr>\n      <th>2021-09-30</th>\n      <td>ZIXI</td>\n      <td>0.755666</td>\n      <td>1.218498</td>\n      <td>-1</td>\n    </tr>\n  </tbody>\n</table>\n<p>82773 rows × 4 columns</p>\n</div>"
     },
     "execution_count": 105,
     "metadata": {},
     "output_type": "execute_result"
    }
   ],
   "source": [
    "risk_analysis = ir_curr_ratio\n",
    "risk_analysis['curr_ratio_risk'] = risk_analysis['currentRatio'].apply(mask_risk)\n",
    "risk_analysis"
   ],
   "metadata": {
    "collapsed": false
   }
  },
  {
   "cell_type": "code",
   "execution_count": 106,
   "outputs": [
    {
     "data": {
      "text/plain": "           ticker  currentRatio  ir_curr_ratio  curr_ratio_risk\ndate_index                                                     \n1992-07-01   AAME      4.095960      -0.768074              1.0\n1992-08-01   AAME      4.095960      -0.768074              1.0\n1992-09-01   AAME      4.095960      -0.768074              1.0\n1992-10-01   AAME      4.300275      -0.478593              1.0\n1992-11-01   AAME      4.300275      -0.478593              1.0\n...           ...           ...            ...              ...\n2015-05-01   WLYB      0.669398      -0.997983             -1.0\n2015-06-01   WLYB      0.669398      -0.997983             -1.0\n2015-07-01   WLYB      0.669398      -0.997983             -1.0\n2015-08-01   WLYB      0.669398      -0.997983             -1.0\n2015-09-01   WLYB      0.669398      -0.997983             -1.0\n\n[7322 rows x 4 columns]",
      "text/html": "<div>\n<style scoped>\n    .dataframe tbody tr th:only-of-type {\n        vertical-align: middle;\n    }\n\n    .dataframe tbody tr th {\n        vertical-align: top;\n    }\n\n    .dataframe thead th {\n        text-align: right;\n    }\n</style>\n<table border=\"1\" class=\"dataframe\">\n  <thead>\n    <tr style=\"text-align: right;\">\n      <th></th>\n      <th>ticker</th>\n      <th>currentRatio</th>\n      <th>ir_curr_ratio</th>\n      <th>curr_ratio_risk</th>\n    </tr>\n    <tr>\n      <th>date_index</th>\n      <th></th>\n      <th></th>\n      <th></th>\n      <th></th>\n    </tr>\n  </thead>\n  <tbody>\n    <tr>\n      <th>1992-07-01</th>\n      <td>AAME</td>\n      <td>4.095960</td>\n      <td>-0.768074</td>\n      <td>1.0</td>\n    </tr>\n    <tr>\n      <th>1992-08-01</th>\n      <td>AAME</td>\n      <td>4.095960</td>\n      <td>-0.768074</td>\n      <td>1.0</td>\n    </tr>\n    <tr>\n      <th>1992-09-01</th>\n      <td>AAME</td>\n      <td>4.095960</td>\n      <td>-0.768074</td>\n      <td>1.0</td>\n    </tr>\n    <tr>\n      <th>1992-10-01</th>\n      <td>AAME</td>\n      <td>4.300275</td>\n      <td>-0.478593</td>\n      <td>1.0</td>\n    </tr>\n    <tr>\n      <th>1992-11-01</th>\n      <td>AAME</td>\n      <td>4.300275</td>\n      <td>-0.478593</td>\n      <td>1.0</td>\n    </tr>\n    <tr>\n      <th>...</th>\n      <td>...</td>\n      <td>...</td>\n      <td>...</td>\n      <td>...</td>\n    </tr>\n    <tr>\n      <th>2015-05-01</th>\n      <td>WLYB</td>\n      <td>0.669398</td>\n      <td>-0.997983</td>\n      <td>-1.0</td>\n    </tr>\n    <tr>\n      <th>2015-06-01</th>\n      <td>WLYB</td>\n      <td>0.669398</td>\n      <td>-0.997983</td>\n      <td>-1.0</td>\n    </tr>\n    <tr>\n      <th>2015-07-01</th>\n      <td>WLYB</td>\n      <td>0.669398</td>\n      <td>-0.997983</td>\n      <td>-1.0</td>\n    </tr>\n    <tr>\n      <th>2015-08-01</th>\n      <td>WLYB</td>\n      <td>0.669398</td>\n      <td>-0.997983</td>\n      <td>-1.0</td>\n    </tr>\n    <tr>\n      <th>2015-09-01</th>\n      <td>WLYB</td>\n      <td>0.669398</td>\n      <td>-0.997983</td>\n      <td>-1.0</td>\n    </tr>\n  </tbody>\n</table>\n<p>7322 rows × 4 columns</p>\n</div>"
     },
     "execution_count": 106,
     "metadata": {},
     "output_type": "execute_result"
    }
   ],
   "source": [
    "no_duplicates = risk_analysis.reset_index().set_index(['date_index', 'ticker'])\n",
    "no_duplicates = no_duplicates.loc[~risk_analysis.index.duplicated(keep='first')].reset_index(level=1)\n",
    "resampled_analysis = no_duplicates.groupby('ticker').resample('MS', convention='start').ffill().dropna().reset_index(level=0, drop=True)\n",
    "resampled_analysis"
   ],
   "metadata": {
    "collapsed": false
   }
  },
  {
   "cell_type": "code",
   "execution_count": 109,
   "outputs": [
    {
     "name": "stderr",
     "output_type": "stream",
     "text": [
      "\n",
      "A value is trying to be set on a copy of a slice from a DataFrame.\n",
      "Try using .loc[row_indexer,col_indexer] = value instead\n",
      "\n",
      "See the caveats in the documentation: https://pandas.pydata.org/pandas-docs/stable/user_guide/indexing.html#returning-a-view-versus-a-copy\n"
     ]
    },
    {
     "data": {
      "text/plain": "           ticker  ir_curr_ratio  curr_ratio_risk\ndate_index                                       \n1992-06-30   AAME      -0.768074              1.0\n1992-09-30   AAME      -0.478593              1.0\n1992-12-31   AAME      -1.482579              1.0\n1993-03-31   AAME       1.138630              1.0\n1993-06-30   AAME       0.428089              1.0\n...           ...            ...              ...\n2020-09-30   ZIXI       1.294928             -1.0\n2020-12-31   ZIXI       0.700286             -1.0\n2021-03-31   ZIXI       0.724739             -1.0\n2021-06-30   ZIXI       1.468592             -1.0\n2021-09-30   ZIXI       1.218498             -1.0\n\n[82773 rows x 3 columns]",
      "text/html": "<div>\n<style scoped>\n    .dataframe tbody tr th:only-of-type {\n        vertical-align: middle;\n    }\n\n    .dataframe tbody tr th {\n        vertical-align: top;\n    }\n\n    .dataframe thead th {\n        text-align: right;\n    }\n</style>\n<table border=\"1\" class=\"dataframe\">\n  <thead>\n    <tr style=\"text-align: right;\">\n      <th></th>\n      <th>ticker</th>\n      <th>ir_curr_ratio</th>\n      <th>curr_ratio_risk</th>\n    </tr>\n    <tr>\n      <th>date_index</th>\n      <th></th>\n      <th></th>\n      <th></th>\n    </tr>\n  </thead>\n  <tbody>\n    <tr>\n      <th>1992-06-30</th>\n      <td>AAME</td>\n      <td>-0.768074</td>\n      <td>1.0</td>\n    </tr>\n    <tr>\n      <th>1992-09-30</th>\n      <td>AAME</td>\n      <td>-0.478593</td>\n      <td>1.0</td>\n    </tr>\n    <tr>\n      <th>1992-12-31</th>\n      <td>AAME</td>\n      <td>-1.482579</td>\n      <td>1.0</td>\n    </tr>\n    <tr>\n      <th>1993-03-31</th>\n      <td>AAME</td>\n      <td>1.138630</td>\n      <td>1.0</td>\n    </tr>\n    <tr>\n      <th>1993-06-30</th>\n      <td>AAME</td>\n      <td>0.428089</td>\n      <td>1.0</td>\n    </tr>\n    <tr>\n      <th>...</th>\n      <td>...</td>\n      <td>...</td>\n      <td>...</td>\n    </tr>\n    <tr>\n      <th>2020-09-30</th>\n      <td>ZIXI</td>\n      <td>1.294928</td>\n      <td>-1.0</td>\n    </tr>\n    <tr>\n      <th>2020-12-31</th>\n      <td>ZIXI</td>\n      <td>0.700286</td>\n      <td>-1.0</td>\n    </tr>\n    <tr>\n      <th>2021-03-31</th>\n      <td>ZIXI</td>\n      <td>0.724739</td>\n      <td>-1.0</td>\n    </tr>\n    <tr>\n      <th>2021-06-30</th>\n      <td>ZIXI</td>\n      <td>1.468592</td>\n      <td>-1.0</td>\n    </tr>\n    <tr>\n      <th>2021-09-30</th>\n      <td>ZIXI</td>\n      <td>1.218498</td>\n      <td>-1.0</td>\n    </tr>\n  </tbody>\n</table>\n<p>82773 rows × 3 columns</p>\n</div>"
     },
     "execution_count": 109,
     "metadata": {},
     "output_type": "execute_result"
    }
   ],
   "source": [
    "fundamental_data_dir = get_data_dir() / 'fundamental'\n",
    "current_ratio_factor = risk_analysis[['ticker', 'ir_curr_ratio', 'curr_ratio_risk']]\n",
    "current_ratio_factor['curr_ratio_risk'] = current_ratio_factor['curr_ratio_risk'].astype(float)\n",
    "current_ratio_factor.to_csv(fundamental_data_dir / 'curr_ratio_analysis.csv')\n",
    "current_ratio_factor"
   ],
   "metadata": {
    "collapsed": false
   }
  },
  {
   "cell_type": "code",
   "execution_count": null,
   "outputs": [],
   "source": [],
   "metadata": {
    "collapsed": false,
    "pycharm": {
     "is_executing": true
    }
   }
  },
  {
   "cell_type": "code",
   "execution_count": 95,
   "outputs": [],
   "source": [],
   "metadata": {
    "collapsed": false
   }
  }
 ],
 "metadata": {
  "kernelspec": {
   "display_name": "Python 3",
   "language": "python",
   "name": "python3"
  },
  "language_info": {
   "codemirror_mode": {
    "name": "ipython",
    "version": 2
   },
   "file_extension": ".py",
   "mimetype": "text/x-python",
   "name": "python",
   "nbconvert_exporter": "python",
   "pygments_lexer": "ipython2",
   "version": "2.7.6"
  }
 },
 "nbformat": 4,
 "nbformat_minor": 0
}
