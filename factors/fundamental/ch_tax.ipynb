{
 "cells": [
  {
   "cell_type": "code",
   "execution_count": 21,
   "metadata": {
    "collapsed": true
   },
   "outputs": [],
   "source": [
    "import pandas as pd\n",
    "import polars as pl\n",
    "\n",
    "from factorlib.utils.system import get_data_dir"
   ]
  },
  {
   "cell_type": "code",
   "execution_count": 22,
   "outputs": [
    {
     "data": {
      "text/plain": "          date symbol reportedCurrency        cik fillingDate  \\\n0   2023-04-30      A              USD  1090872.0  2023-05-26   \n1   2023-01-31      A              USD  1090872.0  2023-03-03   \n2   2022-10-31      A              USD  1090872.0  2022-12-21   \n3   2022-07-31      A              USD  1090872.0  2022-09-01   \n4   2022-04-30      A              USD  1090872.0  2022-05-31   \n..         ...    ...              ...        ...         ...   \n64  2006-06-30   ZZLL              USD  1365357.0  2006-06-30   \n65  2006-03-31   ZZLL              USD  1365357.0  2006-03-31   \n66  2005-12-31   ZZLL              USD  1365357.0  2005-12-31   \n67  2005-09-30   ZZLL              USD  1365357.0  2005-09-30   \n68  2005-06-30   ZZLL              USD  1365357.0  2005-06-30   \n\n           acceptedDate  calendarYear period       revenue  costOfRevenue  \\\n0   2023-05-26 17:28:42          2023     Q2  1.717000e+09    793000000.0   \n1   2023-03-02 18:52:33          2023     Q1  1.756000e+09    788000000.0   \n2   2022-12-20 18:42:30          2022     Q4  1.849000e+09    837000000.0   \n3   2022-08-31 18:53:26          2022     Q3  1.718000e+09    779000000.0   \n4   2022-05-27 19:33:57          2022     Q2  1.607000e+09    746000000.0   \n..                  ...           ...    ...           ...            ...   \n64  2006-06-30 00:00:00          2006     Q2  7.753012e+06      7443897.0   \n65  2006-03-31 00:00:00          2006     Q1  6.585533e+06            0.0   \n66  2005-12-31 00:00:00          2005     Q4  5.516982e+06            0.0   \n67  2005-09-30 00:00:00          2005     Q3  4.908798e+06            0.0   \n68  2005-06-30 00:00:00          2005     Q2  3.558967e+06            0.0   \n\n    ...  incomeBeforeTaxRatio  incomeTaxExpense    netIncome  netIncomeRatio  \\\n0   ...              0.219569        75000000.0  302000000.0        0.175888   \n1   ...              0.233485        58000000.0  352000000.0        0.200456   \n2   ...              0.246079        87000000.0  368000000.0        0.199027   \n3   ...              0.231083        68000000.0  329000000.0        0.191502   \n4   ...              0.207218        59000000.0  274000000.0        0.170504   \n..  ...                   ...               ...          ...             ...   \n64  ...             -0.001666            4439.0     -17355.0       -0.002238   \n65  ...              0.000000       -14211771.0       2190.0        0.000333   \n66  ...              0.000000         5591491.0     -74509.0       -0.013505   \n67  ...              0.000000         4992047.0     -83249.0       -0.016959   \n68  ...              0.000000         3623788.0     -64821.0       -0.018213   \n\n      eps  epsdiluted  weightedAverageShsOut  weightedAverageShsOutDil  \\\n0   1.020       1.020            296000000.0               297000000.0   \n1   1.190       1.190            296000000.0               297000000.0   \n2   1.240       1.230            296000000.0               298000000.0   \n3   1.100       1.100            298000000.0               299000000.0   \n4   0.920       0.910            299000000.0               301000000.0   \n..    ...         ...                    ...                       ...   \n64 -0.400      -0.400                43000.0                   43000.0   \n65  0.051       0.051                43000.0                   43000.0   \n66 -2.520      -2.520                29614.0                   29614.0   \n67 -1.940      -1.940                43000.0                   43000.0   \n68 -1.510      -1.510                43000.0                   43000.0   \n\n                                                 link  \\\n0   https://www.sec.gov/Archives/edgar/data/109087...   \n1   https://www.sec.gov/Archives/edgar/data/109087...   \n2   https://www.sec.gov/Archives/edgar/data/109087...   \n3   https://www.sec.gov/Archives/edgar/data/109087...   \n4   https://www.sec.gov/Archives/edgar/data/109087...   \n..                                                ...   \n64                                                NaN   \n65                                                NaN   \n66                                                NaN   \n67                                                NaN   \n68                                                NaN   \n\n                                            finalLink  \n0   https://www.sec.gov/Archives/edgar/data/109087...  \n1   https://www.sec.gov/Archives/edgar/data/109087...  \n2   https://www.sec.gov/Archives/edgar/data/109087...  \n3   https://www.sec.gov/Archives/edgar/data/109087...  \n4   https://www.sec.gov/Archives/edgar/data/109087...  \n..                                                ...  \n64                                                NaN  \n65                                                NaN  \n66                                                NaN  \n67                                                NaN  \n68                                                NaN  \n\n[683834 rows x 38 columns]",
      "text/html": "<div>\n<style scoped>\n    .dataframe tbody tr th:only-of-type {\n        vertical-align: middle;\n    }\n\n    .dataframe tbody tr th {\n        vertical-align: top;\n    }\n\n    .dataframe thead th {\n        text-align: right;\n    }\n</style>\n<table border=\"1\" class=\"dataframe\">\n  <thead>\n    <tr style=\"text-align: right;\">\n      <th></th>\n      <th>date</th>\n      <th>symbol</th>\n      <th>reportedCurrency</th>\n      <th>cik</th>\n      <th>fillingDate</th>\n      <th>acceptedDate</th>\n      <th>calendarYear</th>\n      <th>period</th>\n      <th>revenue</th>\n      <th>costOfRevenue</th>\n      <th>...</th>\n      <th>incomeBeforeTaxRatio</th>\n      <th>incomeTaxExpense</th>\n      <th>netIncome</th>\n      <th>netIncomeRatio</th>\n      <th>eps</th>\n      <th>epsdiluted</th>\n      <th>weightedAverageShsOut</th>\n      <th>weightedAverageShsOutDil</th>\n      <th>link</th>\n      <th>finalLink</th>\n    </tr>\n  </thead>\n  <tbody>\n    <tr>\n      <th>0</th>\n      <td>2023-04-30</td>\n      <td>A</td>\n      <td>USD</td>\n      <td>1090872.0</td>\n      <td>2023-05-26</td>\n      <td>2023-05-26 17:28:42</td>\n      <td>2023</td>\n      <td>Q2</td>\n      <td>1.717000e+09</td>\n      <td>793000000.0</td>\n      <td>...</td>\n      <td>0.219569</td>\n      <td>75000000.0</td>\n      <td>302000000.0</td>\n      <td>0.175888</td>\n      <td>1.020</td>\n      <td>1.020</td>\n      <td>296000000.0</td>\n      <td>297000000.0</td>\n      <td>https://www.sec.gov/Archives/edgar/data/109087...</td>\n      <td>https://www.sec.gov/Archives/edgar/data/109087...</td>\n    </tr>\n    <tr>\n      <th>1</th>\n      <td>2023-01-31</td>\n      <td>A</td>\n      <td>USD</td>\n      <td>1090872.0</td>\n      <td>2023-03-03</td>\n      <td>2023-03-02 18:52:33</td>\n      <td>2023</td>\n      <td>Q1</td>\n      <td>1.756000e+09</td>\n      <td>788000000.0</td>\n      <td>...</td>\n      <td>0.233485</td>\n      <td>58000000.0</td>\n      <td>352000000.0</td>\n      <td>0.200456</td>\n      <td>1.190</td>\n      <td>1.190</td>\n      <td>296000000.0</td>\n      <td>297000000.0</td>\n      <td>https://www.sec.gov/Archives/edgar/data/109087...</td>\n      <td>https://www.sec.gov/Archives/edgar/data/109087...</td>\n    </tr>\n    <tr>\n      <th>2</th>\n      <td>2022-10-31</td>\n      <td>A</td>\n      <td>USD</td>\n      <td>1090872.0</td>\n      <td>2022-12-21</td>\n      <td>2022-12-20 18:42:30</td>\n      <td>2022</td>\n      <td>Q4</td>\n      <td>1.849000e+09</td>\n      <td>837000000.0</td>\n      <td>...</td>\n      <td>0.246079</td>\n      <td>87000000.0</td>\n      <td>368000000.0</td>\n      <td>0.199027</td>\n      <td>1.240</td>\n      <td>1.230</td>\n      <td>296000000.0</td>\n      <td>298000000.0</td>\n      <td>https://www.sec.gov/Archives/edgar/data/109087...</td>\n      <td>https://www.sec.gov/Archives/edgar/data/109087...</td>\n    </tr>\n    <tr>\n      <th>3</th>\n      <td>2022-07-31</td>\n      <td>A</td>\n      <td>USD</td>\n      <td>1090872.0</td>\n      <td>2022-09-01</td>\n      <td>2022-08-31 18:53:26</td>\n      <td>2022</td>\n      <td>Q3</td>\n      <td>1.718000e+09</td>\n      <td>779000000.0</td>\n      <td>...</td>\n      <td>0.231083</td>\n      <td>68000000.0</td>\n      <td>329000000.0</td>\n      <td>0.191502</td>\n      <td>1.100</td>\n      <td>1.100</td>\n      <td>298000000.0</td>\n      <td>299000000.0</td>\n      <td>https://www.sec.gov/Archives/edgar/data/109087...</td>\n      <td>https://www.sec.gov/Archives/edgar/data/109087...</td>\n    </tr>\n    <tr>\n      <th>4</th>\n      <td>2022-04-30</td>\n      <td>A</td>\n      <td>USD</td>\n      <td>1090872.0</td>\n      <td>2022-05-31</td>\n      <td>2022-05-27 19:33:57</td>\n      <td>2022</td>\n      <td>Q2</td>\n      <td>1.607000e+09</td>\n      <td>746000000.0</td>\n      <td>...</td>\n      <td>0.207218</td>\n      <td>59000000.0</td>\n      <td>274000000.0</td>\n      <td>0.170504</td>\n      <td>0.920</td>\n      <td>0.910</td>\n      <td>299000000.0</td>\n      <td>301000000.0</td>\n      <td>https://www.sec.gov/Archives/edgar/data/109087...</td>\n      <td>https://www.sec.gov/Archives/edgar/data/109087...</td>\n    </tr>\n    <tr>\n      <th>...</th>\n      <td>...</td>\n      <td>...</td>\n      <td>...</td>\n      <td>...</td>\n      <td>...</td>\n      <td>...</td>\n      <td>...</td>\n      <td>...</td>\n      <td>...</td>\n      <td>...</td>\n      <td>...</td>\n      <td>...</td>\n      <td>...</td>\n      <td>...</td>\n      <td>...</td>\n      <td>...</td>\n      <td>...</td>\n      <td>...</td>\n      <td>...</td>\n      <td>...</td>\n      <td>...</td>\n    </tr>\n    <tr>\n      <th>64</th>\n      <td>2006-06-30</td>\n      <td>ZZLL</td>\n      <td>USD</td>\n      <td>1365357.0</td>\n      <td>2006-06-30</td>\n      <td>2006-06-30 00:00:00</td>\n      <td>2006</td>\n      <td>Q2</td>\n      <td>7.753012e+06</td>\n      <td>7443897.0</td>\n      <td>...</td>\n      <td>-0.001666</td>\n      <td>4439.0</td>\n      <td>-17355.0</td>\n      <td>-0.002238</td>\n      <td>-0.400</td>\n      <td>-0.400</td>\n      <td>43000.0</td>\n      <td>43000.0</td>\n      <td>NaN</td>\n      <td>NaN</td>\n    </tr>\n    <tr>\n      <th>65</th>\n      <td>2006-03-31</td>\n      <td>ZZLL</td>\n      <td>USD</td>\n      <td>1365357.0</td>\n      <td>2006-03-31</td>\n      <td>2006-03-31 00:00:00</td>\n      <td>2006</td>\n      <td>Q1</td>\n      <td>6.585533e+06</td>\n      <td>0.0</td>\n      <td>...</td>\n      <td>0.000000</td>\n      <td>-14211771.0</td>\n      <td>2190.0</td>\n      <td>0.000333</td>\n      <td>0.051</td>\n      <td>0.051</td>\n      <td>43000.0</td>\n      <td>43000.0</td>\n      <td>NaN</td>\n      <td>NaN</td>\n    </tr>\n    <tr>\n      <th>66</th>\n      <td>2005-12-31</td>\n      <td>ZZLL</td>\n      <td>USD</td>\n      <td>1365357.0</td>\n      <td>2005-12-31</td>\n      <td>2005-12-31 00:00:00</td>\n      <td>2005</td>\n      <td>Q4</td>\n      <td>5.516982e+06</td>\n      <td>0.0</td>\n      <td>...</td>\n      <td>0.000000</td>\n      <td>5591491.0</td>\n      <td>-74509.0</td>\n      <td>-0.013505</td>\n      <td>-2.520</td>\n      <td>-2.520</td>\n      <td>29614.0</td>\n      <td>29614.0</td>\n      <td>NaN</td>\n      <td>NaN</td>\n    </tr>\n    <tr>\n      <th>67</th>\n      <td>2005-09-30</td>\n      <td>ZZLL</td>\n      <td>USD</td>\n      <td>1365357.0</td>\n      <td>2005-09-30</td>\n      <td>2005-09-30 00:00:00</td>\n      <td>2005</td>\n      <td>Q3</td>\n      <td>4.908798e+06</td>\n      <td>0.0</td>\n      <td>...</td>\n      <td>0.000000</td>\n      <td>4992047.0</td>\n      <td>-83249.0</td>\n      <td>-0.016959</td>\n      <td>-1.940</td>\n      <td>-1.940</td>\n      <td>43000.0</td>\n      <td>43000.0</td>\n      <td>NaN</td>\n      <td>NaN</td>\n    </tr>\n    <tr>\n      <th>68</th>\n      <td>2005-06-30</td>\n      <td>ZZLL</td>\n      <td>USD</td>\n      <td>1365357.0</td>\n      <td>2005-06-30</td>\n      <td>2005-06-30 00:00:00</td>\n      <td>2005</td>\n      <td>Q2</td>\n      <td>3.558967e+06</td>\n      <td>0.0</td>\n      <td>...</td>\n      <td>0.000000</td>\n      <td>3623788.0</td>\n      <td>-64821.0</td>\n      <td>-0.018213</td>\n      <td>-1.510</td>\n      <td>-1.510</td>\n      <td>43000.0</td>\n      <td>43000.0</td>\n      <td>NaN</td>\n      <td>NaN</td>\n    </tr>\n  </tbody>\n</table>\n<p>683834 rows × 38 columns</p>\n</div>"
     },
     "execution_count": 22,
     "metadata": {},
     "output_type": "execute_result"
    }
   ],
   "source": [
    "raw_data_dir = get_data_dir() / 'raw'\n",
    "income_statements = pd.read_csv(raw_data_dir / 'income_statements.csv', index_col=0)\n",
    "income_statements"
   ],
   "metadata": {
    "collapsed": false
   }
  },
  {
   "cell_type": "code",
   "execution_count": 23,
   "outputs": [
    {
     "name": "stderr",
     "output_type": "stream",
     "text": [
      "\n",
      "A value is trying to be set on a copy of a slice from a DataFrame\n",
      "\n",
      "See the caveats in the documentation: https://pandas.pydata.org/pandas-docs/stable/user_guide/indexing.html#returning-a-view-versus-a-copy\n",
      "\n",
      "A value is trying to be set on a copy of a slice from a DataFrame\n",
      "\n",
      "See the caveats in the documentation: https://pandas.pydata.org/pandas-docs/stable/user_guide/indexing.html#returning-a-view-versus-a-copy\n"
     ]
    },
    {
     "data": {
      "text/plain": "    date_index ticker  incomeTaxExpense\n97  1999-01-31      A      1.712000e+09\n96  1999-04-30      A      1.853000e+09\n95  1999-07-31      A      1.952000e+09\n94  1999-10-31      A     -5.288000e+09\n93  2000-01-31      A      7.100000e+07\n..         ...    ...               ...\n4   2021-09-30   ZZLL      1.320000e+02\n3   2021-12-31   ZZLL      1.442320e+05\n2   2022-03-31   ZZLL      2.360800e+04\n1   2022-06-30   ZZLL      1.063000e+03\n0   2022-09-30   ZZLL      7.000000e+02\n\n[683834 rows x 3 columns]",
      "text/html": "<div>\n<style scoped>\n    .dataframe tbody tr th:only-of-type {\n        vertical-align: middle;\n    }\n\n    .dataframe tbody tr th {\n        vertical-align: top;\n    }\n\n    .dataframe thead th {\n        text-align: right;\n    }\n</style>\n<table border=\"1\" class=\"dataframe\">\n  <thead>\n    <tr style=\"text-align: right;\">\n      <th></th>\n      <th>date_index</th>\n      <th>ticker</th>\n      <th>incomeTaxExpense</th>\n    </tr>\n  </thead>\n  <tbody>\n    <tr>\n      <th>97</th>\n      <td>1999-01-31</td>\n      <td>A</td>\n      <td>1.712000e+09</td>\n    </tr>\n    <tr>\n      <th>96</th>\n      <td>1999-04-30</td>\n      <td>A</td>\n      <td>1.853000e+09</td>\n    </tr>\n    <tr>\n      <th>95</th>\n      <td>1999-07-31</td>\n      <td>A</td>\n      <td>1.952000e+09</td>\n    </tr>\n    <tr>\n      <th>94</th>\n      <td>1999-10-31</td>\n      <td>A</td>\n      <td>-5.288000e+09</td>\n    </tr>\n    <tr>\n      <th>93</th>\n      <td>2000-01-31</td>\n      <td>A</td>\n      <td>7.100000e+07</td>\n    </tr>\n    <tr>\n      <th>...</th>\n      <td>...</td>\n      <td>...</td>\n      <td>...</td>\n    </tr>\n    <tr>\n      <th>4</th>\n      <td>2021-09-30</td>\n      <td>ZZLL</td>\n      <td>1.320000e+02</td>\n    </tr>\n    <tr>\n      <th>3</th>\n      <td>2021-12-31</td>\n      <td>ZZLL</td>\n      <td>1.442320e+05</td>\n    </tr>\n    <tr>\n      <th>2</th>\n      <td>2022-03-31</td>\n      <td>ZZLL</td>\n      <td>2.360800e+04</td>\n    </tr>\n    <tr>\n      <th>1</th>\n      <td>2022-06-30</td>\n      <td>ZZLL</td>\n      <td>1.063000e+03</td>\n    </tr>\n    <tr>\n      <th>0</th>\n      <td>2022-09-30</td>\n      <td>ZZLL</td>\n      <td>7.000000e+02</td>\n    </tr>\n  </tbody>\n</table>\n<p>683834 rows × 3 columns</p>\n</div>"
     },
     "execution_count": 23,
     "metadata": {},
     "output_type": "execute_result"
    }
   ],
   "source": [
    "relevant_income_statements = income_statements[['date', 'symbol', 'incomeTaxExpense']]\n",
    "relevant_income_statements.rename(columns={'date': 'date_index',\n",
    "                           'symbol': 'ticker'}, inplace=True)\n",
    "relevant_income_statements.sort_values(by=['ticker', 'date_index'], inplace=True)\n",
    "relevant_income_statements"
   ],
   "metadata": {
    "collapsed": false
   }
  },
  {
   "cell_type": "code",
   "execution_count": 24,
   "outputs": [
    {
     "data": {
      "text/plain": "          date symbol reportedCurrency        cik fillingDate  \\\n0   2023-04-30      A              USD  1090872.0  2023-05-26   \n1   2023-01-31      A              USD  1090872.0  2023-03-03   \n2   2022-10-31      A              USD  1090872.0  2022-12-21   \n3   2022-07-31      A              USD  1090872.0  2022-09-01   \n4   2022-04-30      A              USD  1090872.0  2022-05-31   \n..         ...    ...              ...        ...         ...   \n61  2007-03-31   ZZLL              USD  1365357.0  2007-06-29   \n62  2006-12-31   ZZLL              USD  1365357.0  2006-12-31   \n63  2006-09-30   ZZLL              USD  1365357.0  2006-09-30   \n64  2006-06-30   ZZLL              USD  1365357.0  2006-06-30   \n65  2006-03-31   ZZLL              USD  1365357.0  2006-03-31   \n\n           acceptedDate  calendarYear period  cashAndCashEquivalents  \\\n0   2023-05-26 17:28:42          2023     Q2            1.175000e+09   \n1   2023-03-02 18:52:33          2023     Q1            1.250000e+09   \n2   2022-12-20 18:42:30          2022     Q4            1.053000e+09   \n3   2022-08-31 18:53:26          2022     Q3            1.071000e+09   \n4   2022-05-27 19:33:57          2022     Q2            1.186000e+09   \n..                  ...           ...    ...                     ...   \n61  2007-06-28 18:08:07          2007     Q1            7.704310e+05   \n62  2006-12-31 00:00:00          2006     Q4            1.099092e+06   \n63  2006-09-30 00:00:00          2006     Q3            6.326700e+05   \n64  2006-06-30 00:00:00          2006     Q2            1.710810e+05   \n65  2006-03-31 00:00:00          2006     Q1            2.285390e+05   \n\n    shortTermInvestments  ...  totalStockholdersEquity   totalEquity  \\\n0                    0.0  ...             5.781000e+09  5.781000e+09   \n1                    0.0  ...             5.609000e+09  5.609000e+09   \n2                    0.0  ...             5.289000e+09  5.289000e+09   \n3              6000000.0  ...             5.091000e+09  5.091000e+09   \n4             21000000.0  ...             5.122000e+09  5.122000e+09   \n..                   ...  ...                      ...           ...   \n61                   0.0  ...             4.101440e+05  4.101440e+05   \n62                   0.0  ...             4.168860e+05  4.168860e+05   \n63                   0.0  ...             5.204820e+05  5.204820e+05   \n64                   0.0  ...             6.653510e+05  6.653510e+05   \n65                   0.0  ...             6.782680e+05  6.782680e+05   \n\n    totalLiabilitiesAndStockholdersEquity  minorityInterest  \\\n0                            1.079200e+10               0.0   \n1                            1.091900e+10               0.0   \n2                            1.051600e+10               0.0   \n3                            1.048400e+10               0.0   \n4                            1.045500e+10               0.0   \n..                                    ...               ...   \n61                           3.685415e+06               0.0   \n62                           3.306484e+06               0.0   \n63                           3.170866e+06               0.0   \n64                           2.559134e+06               0.0   \n65                           2.393948e+06               0.0   \n\n    totalLiabilitiesAndTotalEquity  totalInvestments     totalDebt  \\\n0                     1.079200e+10       186000000.0  2.733000e+09   \n1                     1.091900e+10       195000000.0  2.971000e+09   \n2                     1.051600e+10       195000000.0  2.769000e+09   \n3                     1.048400e+10       200000000.0  2.912000e+09   \n4                     1.045500e+10       211000000.0  2.905000e+09   \n..                             ...               ...           ...   \n61                    3.685415e+06               0.0  0.000000e+00   \n62                    3.306484e+06               0.0  5.615390e+05   \n63                    3.170866e+06               0.0  5.615380e+05   \n64                    2.559134e+06               0.0  0.000000e+00   \n65                    2.393948e+06               0.0  0.000000e+00   \n\n         netDebt                                               link  \\\n0   1.558000e+09  https://www.sec.gov/Archives/edgar/data/109087...   \n1   1.721000e+09  https://www.sec.gov/Archives/edgar/data/109087...   \n2   1.716000e+09  https://www.sec.gov/Archives/edgar/data/109087...   \n3   1.841000e+09  https://www.sec.gov/Archives/edgar/data/109087...   \n4   1.719000e+09  https://www.sec.gov/Archives/edgar/data/109087...   \n..           ...                                                ...   \n61 -7.704310e+05  https://www.sec.gov/Archives/edgar/data/136535...   \n62 -5.375530e+05                                                NaN   \n63 -7.113200e+04                                                NaN   \n64 -1.710810e+05                                                NaN   \n65 -2.285390e+05                                                NaN   \n\n                                            finalLink  \n0   https://www.sec.gov/Archives/edgar/data/109087...  \n1   https://www.sec.gov/Archives/edgar/data/109087...  \n2   https://www.sec.gov/Archives/edgar/data/109087...  \n3   https://www.sec.gov/Archives/edgar/data/109087...  \n4   https://www.sec.gov/Archives/edgar/data/109087...  \n..                                                ...  \n61  https://www.sec.gov/Archives/edgar/data/136535...  \n62                                                NaN  \n63                                                NaN  \n64                                                NaN  \n65                                                NaN  \n\n[639637 rows x 54 columns]",
      "text/html": "<div>\n<style scoped>\n    .dataframe tbody tr th:only-of-type {\n        vertical-align: middle;\n    }\n\n    .dataframe tbody tr th {\n        vertical-align: top;\n    }\n\n    .dataframe thead th {\n        text-align: right;\n    }\n</style>\n<table border=\"1\" class=\"dataframe\">\n  <thead>\n    <tr style=\"text-align: right;\">\n      <th></th>\n      <th>date</th>\n      <th>symbol</th>\n      <th>reportedCurrency</th>\n      <th>cik</th>\n      <th>fillingDate</th>\n      <th>acceptedDate</th>\n      <th>calendarYear</th>\n      <th>period</th>\n      <th>cashAndCashEquivalents</th>\n      <th>shortTermInvestments</th>\n      <th>...</th>\n      <th>totalStockholdersEquity</th>\n      <th>totalEquity</th>\n      <th>totalLiabilitiesAndStockholdersEquity</th>\n      <th>minorityInterest</th>\n      <th>totalLiabilitiesAndTotalEquity</th>\n      <th>totalInvestments</th>\n      <th>totalDebt</th>\n      <th>netDebt</th>\n      <th>link</th>\n      <th>finalLink</th>\n    </tr>\n  </thead>\n  <tbody>\n    <tr>\n      <th>0</th>\n      <td>2023-04-30</td>\n      <td>A</td>\n      <td>USD</td>\n      <td>1090872.0</td>\n      <td>2023-05-26</td>\n      <td>2023-05-26 17:28:42</td>\n      <td>2023</td>\n      <td>Q2</td>\n      <td>1.175000e+09</td>\n      <td>0.0</td>\n      <td>...</td>\n      <td>5.781000e+09</td>\n      <td>5.781000e+09</td>\n      <td>1.079200e+10</td>\n      <td>0.0</td>\n      <td>1.079200e+10</td>\n      <td>186000000.0</td>\n      <td>2.733000e+09</td>\n      <td>1.558000e+09</td>\n      <td>https://www.sec.gov/Archives/edgar/data/109087...</td>\n      <td>https://www.sec.gov/Archives/edgar/data/109087...</td>\n    </tr>\n    <tr>\n      <th>1</th>\n      <td>2023-01-31</td>\n      <td>A</td>\n      <td>USD</td>\n      <td>1090872.0</td>\n      <td>2023-03-03</td>\n      <td>2023-03-02 18:52:33</td>\n      <td>2023</td>\n      <td>Q1</td>\n      <td>1.250000e+09</td>\n      <td>0.0</td>\n      <td>...</td>\n      <td>5.609000e+09</td>\n      <td>5.609000e+09</td>\n      <td>1.091900e+10</td>\n      <td>0.0</td>\n      <td>1.091900e+10</td>\n      <td>195000000.0</td>\n      <td>2.971000e+09</td>\n      <td>1.721000e+09</td>\n      <td>https://www.sec.gov/Archives/edgar/data/109087...</td>\n      <td>https://www.sec.gov/Archives/edgar/data/109087...</td>\n    </tr>\n    <tr>\n      <th>2</th>\n      <td>2022-10-31</td>\n      <td>A</td>\n      <td>USD</td>\n      <td>1090872.0</td>\n      <td>2022-12-21</td>\n      <td>2022-12-20 18:42:30</td>\n      <td>2022</td>\n      <td>Q4</td>\n      <td>1.053000e+09</td>\n      <td>0.0</td>\n      <td>...</td>\n      <td>5.289000e+09</td>\n      <td>5.289000e+09</td>\n      <td>1.051600e+10</td>\n      <td>0.0</td>\n      <td>1.051600e+10</td>\n      <td>195000000.0</td>\n      <td>2.769000e+09</td>\n      <td>1.716000e+09</td>\n      <td>https://www.sec.gov/Archives/edgar/data/109087...</td>\n      <td>https://www.sec.gov/Archives/edgar/data/109087...</td>\n    </tr>\n    <tr>\n      <th>3</th>\n      <td>2022-07-31</td>\n      <td>A</td>\n      <td>USD</td>\n      <td>1090872.0</td>\n      <td>2022-09-01</td>\n      <td>2022-08-31 18:53:26</td>\n      <td>2022</td>\n      <td>Q3</td>\n      <td>1.071000e+09</td>\n      <td>6000000.0</td>\n      <td>...</td>\n      <td>5.091000e+09</td>\n      <td>5.091000e+09</td>\n      <td>1.048400e+10</td>\n      <td>0.0</td>\n      <td>1.048400e+10</td>\n      <td>200000000.0</td>\n      <td>2.912000e+09</td>\n      <td>1.841000e+09</td>\n      <td>https://www.sec.gov/Archives/edgar/data/109087...</td>\n      <td>https://www.sec.gov/Archives/edgar/data/109087...</td>\n    </tr>\n    <tr>\n      <th>4</th>\n      <td>2022-04-30</td>\n      <td>A</td>\n      <td>USD</td>\n      <td>1090872.0</td>\n      <td>2022-05-31</td>\n      <td>2022-05-27 19:33:57</td>\n      <td>2022</td>\n      <td>Q2</td>\n      <td>1.186000e+09</td>\n      <td>21000000.0</td>\n      <td>...</td>\n      <td>5.122000e+09</td>\n      <td>5.122000e+09</td>\n      <td>1.045500e+10</td>\n      <td>0.0</td>\n      <td>1.045500e+10</td>\n      <td>211000000.0</td>\n      <td>2.905000e+09</td>\n      <td>1.719000e+09</td>\n      <td>https://www.sec.gov/Archives/edgar/data/109087...</td>\n      <td>https://www.sec.gov/Archives/edgar/data/109087...</td>\n    </tr>\n    <tr>\n      <th>...</th>\n      <td>...</td>\n      <td>...</td>\n      <td>...</td>\n      <td>...</td>\n      <td>...</td>\n      <td>...</td>\n      <td>...</td>\n      <td>...</td>\n      <td>...</td>\n      <td>...</td>\n      <td>...</td>\n      <td>...</td>\n      <td>...</td>\n      <td>...</td>\n      <td>...</td>\n      <td>...</td>\n      <td>...</td>\n      <td>...</td>\n      <td>...</td>\n      <td>...</td>\n      <td>...</td>\n    </tr>\n    <tr>\n      <th>61</th>\n      <td>2007-03-31</td>\n      <td>ZZLL</td>\n      <td>USD</td>\n      <td>1365357.0</td>\n      <td>2007-06-29</td>\n      <td>2007-06-28 18:08:07</td>\n      <td>2007</td>\n      <td>Q1</td>\n      <td>7.704310e+05</td>\n      <td>0.0</td>\n      <td>...</td>\n      <td>4.101440e+05</td>\n      <td>4.101440e+05</td>\n      <td>3.685415e+06</td>\n      <td>0.0</td>\n      <td>3.685415e+06</td>\n      <td>0.0</td>\n      <td>0.000000e+00</td>\n      <td>-7.704310e+05</td>\n      <td>https://www.sec.gov/Archives/edgar/data/136535...</td>\n      <td>https://www.sec.gov/Archives/edgar/data/136535...</td>\n    </tr>\n    <tr>\n      <th>62</th>\n      <td>2006-12-31</td>\n      <td>ZZLL</td>\n      <td>USD</td>\n      <td>1365357.0</td>\n      <td>2006-12-31</td>\n      <td>2006-12-31 00:00:00</td>\n      <td>2006</td>\n      <td>Q4</td>\n      <td>1.099092e+06</td>\n      <td>0.0</td>\n      <td>...</td>\n      <td>4.168860e+05</td>\n      <td>4.168860e+05</td>\n      <td>3.306484e+06</td>\n      <td>0.0</td>\n      <td>3.306484e+06</td>\n      <td>0.0</td>\n      <td>5.615390e+05</td>\n      <td>-5.375530e+05</td>\n      <td>NaN</td>\n      <td>NaN</td>\n    </tr>\n    <tr>\n      <th>63</th>\n      <td>2006-09-30</td>\n      <td>ZZLL</td>\n      <td>USD</td>\n      <td>1365357.0</td>\n      <td>2006-09-30</td>\n      <td>2006-09-30 00:00:00</td>\n      <td>2006</td>\n      <td>Q3</td>\n      <td>6.326700e+05</td>\n      <td>0.0</td>\n      <td>...</td>\n      <td>5.204820e+05</td>\n      <td>5.204820e+05</td>\n      <td>3.170866e+06</td>\n      <td>0.0</td>\n      <td>3.170866e+06</td>\n      <td>0.0</td>\n      <td>5.615380e+05</td>\n      <td>-7.113200e+04</td>\n      <td>NaN</td>\n      <td>NaN</td>\n    </tr>\n    <tr>\n      <th>64</th>\n      <td>2006-06-30</td>\n      <td>ZZLL</td>\n      <td>USD</td>\n      <td>1365357.0</td>\n      <td>2006-06-30</td>\n      <td>2006-06-30 00:00:00</td>\n      <td>2006</td>\n      <td>Q2</td>\n      <td>1.710810e+05</td>\n      <td>0.0</td>\n      <td>...</td>\n      <td>6.653510e+05</td>\n      <td>6.653510e+05</td>\n      <td>2.559134e+06</td>\n      <td>0.0</td>\n      <td>2.559134e+06</td>\n      <td>0.0</td>\n      <td>0.000000e+00</td>\n      <td>-1.710810e+05</td>\n      <td>NaN</td>\n      <td>NaN</td>\n    </tr>\n    <tr>\n      <th>65</th>\n      <td>2006-03-31</td>\n      <td>ZZLL</td>\n      <td>USD</td>\n      <td>1365357.0</td>\n      <td>2006-03-31</td>\n      <td>2006-03-31 00:00:00</td>\n      <td>2006</td>\n      <td>Q1</td>\n      <td>2.285390e+05</td>\n      <td>0.0</td>\n      <td>...</td>\n      <td>6.782680e+05</td>\n      <td>6.782680e+05</td>\n      <td>2.393948e+06</td>\n      <td>0.0</td>\n      <td>2.393948e+06</td>\n      <td>0.0</td>\n      <td>0.000000e+00</td>\n      <td>-2.285390e+05</td>\n      <td>NaN</td>\n      <td>NaN</td>\n    </tr>\n  </tbody>\n</table>\n<p>639637 rows × 54 columns</p>\n</div>"
     },
     "execution_count": 24,
     "metadata": {},
     "output_type": "execute_result"
    }
   ],
   "source": [
    "balance_sheets = pd.read_csv(raw_data_dir / 'balance_sheet_statements.csv', index_col=0)\n",
    "balance_sheets"
   ],
   "metadata": {
    "collapsed": false
   }
  },
  {
   "cell_type": "code",
   "execution_count": 27,
   "outputs": [
    {
     "name": "stderr",
     "output_type": "stream",
     "text": [
      "\n",
      "A value is trying to be set on a copy of a slice from a DataFrame\n",
      "\n",
      "See the caveats in the documentation: https://pandas.pydata.org/pandas-docs/stable/user_guide/indexing.html#returning-a-view-versus-a-copy\n",
      "\n",
      "A value is trying to be set on a copy of a slice from a DataFrame\n",
      "\n",
      "See the caveats in the documentation: https://pandas.pydata.org/pandas-docs/stable/user_guide/indexing.html#returning-a-view-versus-a-copy\n"
     ]
    },
    {
     "data": {
      "text/plain": "    date_index ticker   totalAssets\n94  1999-10-31      A  5.444000e+09\n93  2000-01-31      A  7.107000e+09\n92  2000-04-30      A  7.321000e+09\n91  2000-07-31      A  7.827000e+09\n90  2000-10-31      A  8.425000e+09\n..         ...    ...           ...\n4   2021-09-30   ZZLL  1.023050e+07\n3   2021-12-31   ZZLL  3.810411e+06\n2   2022-03-31   ZZLL  3.878541e+06\n1   2022-06-30   ZZLL  2.284492e+06\n0   2022-09-30   ZZLL  1.071875e+06\n\n[639637 rows x 3 columns]",
      "text/html": "<div>\n<style scoped>\n    .dataframe tbody tr th:only-of-type {\n        vertical-align: middle;\n    }\n\n    .dataframe tbody tr th {\n        vertical-align: top;\n    }\n\n    .dataframe thead th {\n        text-align: right;\n    }\n</style>\n<table border=\"1\" class=\"dataframe\">\n  <thead>\n    <tr style=\"text-align: right;\">\n      <th></th>\n      <th>date_index</th>\n      <th>ticker</th>\n      <th>totalAssets</th>\n    </tr>\n  </thead>\n  <tbody>\n    <tr>\n      <th>94</th>\n      <td>1999-10-31</td>\n      <td>A</td>\n      <td>5.444000e+09</td>\n    </tr>\n    <tr>\n      <th>93</th>\n      <td>2000-01-31</td>\n      <td>A</td>\n      <td>7.107000e+09</td>\n    </tr>\n    <tr>\n      <th>92</th>\n      <td>2000-04-30</td>\n      <td>A</td>\n      <td>7.321000e+09</td>\n    </tr>\n    <tr>\n      <th>91</th>\n      <td>2000-07-31</td>\n      <td>A</td>\n      <td>7.827000e+09</td>\n    </tr>\n    <tr>\n      <th>90</th>\n      <td>2000-10-31</td>\n      <td>A</td>\n      <td>8.425000e+09</td>\n    </tr>\n    <tr>\n      <th>...</th>\n      <td>...</td>\n      <td>...</td>\n      <td>...</td>\n    </tr>\n    <tr>\n      <th>4</th>\n      <td>2021-09-30</td>\n      <td>ZZLL</td>\n      <td>1.023050e+07</td>\n    </tr>\n    <tr>\n      <th>3</th>\n      <td>2021-12-31</td>\n      <td>ZZLL</td>\n      <td>3.810411e+06</td>\n    </tr>\n    <tr>\n      <th>2</th>\n      <td>2022-03-31</td>\n      <td>ZZLL</td>\n      <td>3.878541e+06</td>\n    </tr>\n    <tr>\n      <th>1</th>\n      <td>2022-06-30</td>\n      <td>ZZLL</td>\n      <td>2.284492e+06</td>\n    </tr>\n    <tr>\n      <th>0</th>\n      <td>2022-09-30</td>\n      <td>ZZLL</td>\n      <td>1.071875e+06</td>\n    </tr>\n  </tbody>\n</table>\n<p>639637 rows × 3 columns</p>\n</div>"
     },
     "execution_count": 27,
     "metadata": {},
     "output_type": "execute_result"
    }
   ],
   "source": [
    "relevant_balance_sheets = balance_sheets[['date', 'symbol', 'totalAssets']]\n",
    "relevant_balance_sheets.rename(columns={'date': 'date_index',\n",
    "                                        'symbol': 'ticker',\n",
    "                                        'totalAsset': 'ticker'}, inplace=True)\n",
    "relevant_balance_sheets.sort_values(by=['ticker', 'date_index'], inplace=True)\n",
    "relevant_balance_sheets"
   ],
   "metadata": {
    "collapsed": false
   }
  },
  {
   "cell_type": "code",
   "execution_count": 28,
   "outputs": [
    {
     "data": {
      "text/plain": "        date_index ticker  incomeTaxExpense   totalAssets\n0       1999-10-31      A     -5.288000e+09  5.444000e+09\n1       2000-01-31      A      7.100000e+07  7.107000e+09\n2       2000-04-30      A      9.000000e+07  7.321000e+09\n3       2000-07-31      A      8.300000e+07  7.827000e+09\n4       2000-10-31      A      1.630000e+08  8.425000e+09\n...            ...    ...               ...           ...\n623380  2021-09-30   ZZLL      1.320000e+02  1.023050e+07\n623381  2021-12-31   ZZLL      1.442320e+05  3.810411e+06\n623382  2022-03-31   ZZLL      2.360800e+04  3.878541e+06\n623383  2022-06-30   ZZLL      1.063000e+03  2.284492e+06\n623384  2022-09-30   ZZLL      7.000000e+02  1.071875e+06\n\n[623385 rows x 4 columns]",
      "text/html": "<div>\n<style scoped>\n    .dataframe tbody tr th:only-of-type {\n        vertical-align: middle;\n    }\n\n    .dataframe tbody tr th {\n        vertical-align: top;\n    }\n\n    .dataframe thead th {\n        text-align: right;\n    }\n</style>\n<table border=\"1\" class=\"dataframe\">\n  <thead>\n    <tr style=\"text-align: right;\">\n      <th></th>\n      <th>date_index</th>\n      <th>ticker</th>\n      <th>incomeTaxExpense</th>\n      <th>totalAssets</th>\n    </tr>\n  </thead>\n  <tbody>\n    <tr>\n      <th>0</th>\n      <td>1999-10-31</td>\n      <td>A</td>\n      <td>-5.288000e+09</td>\n      <td>5.444000e+09</td>\n    </tr>\n    <tr>\n      <th>1</th>\n      <td>2000-01-31</td>\n      <td>A</td>\n      <td>7.100000e+07</td>\n      <td>7.107000e+09</td>\n    </tr>\n    <tr>\n      <th>2</th>\n      <td>2000-04-30</td>\n      <td>A</td>\n      <td>9.000000e+07</td>\n      <td>7.321000e+09</td>\n    </tr>\n    <tr>\n      <th>3</th>\n      <td>2000-07-31</td>\n      <td>A</td>\n      <td>8.300000e+07</td>\n      <td>7.827000e+09</td>\n    </tr>\n    <tr>\n      <th>4</th>\n      <td>2000-10-31</td>\n      <td>A</td>\n      <td>1.630000e+08</td>\n      <td>8.425000e+09</td>\n    </tr>\n    <tr>\n      <th>...</th>\n      <td>...</td>\n      <td>...</td>\n      <td>...</td>\n      <td>...</td>\n    </tr>\n    <tr>\n      <th>623380</th>\n      <td>2021-09-30</td>\n      <td>ZZLL</td>\n      <td>1.320000e+02</td>\n      <td>1.023050e+07</td>\n    </tr>\n    <tr>\n      <th>623381</th>\n      <td>2021-12-31</td>\n      <td>ZZLL</td>\n      <td>1.442320e+05</td>\n      <td>3.810411e+06</td>\n    </tr>\n    <tr>\n      <th>623382</th>\n      <td>2022-03-31</td>\n      <td>ZZLL</td>\n      <td>2.360800e+04</td>\n      <td>3.878541e+06</td>\n    </tr>\n    <tr>\n      <th>623383</th>\n      <td>2022-06-30</td>\n      <td>ZZLL</td>\n      <td>1.063000e+03</td>\n      <td>2.284492e+06</td>\n    </tr>\n    <tr>\n      <th>623384</th>\n      <td>2022-09-30</td>\n      <td>ZZLL</td>\n      <td>7.000000e+02</td>\n      <td>1.071875e+06</td>\n    </tr>\n  </tbody>\n</table>\n<p>623385 rows × 4 columns</p>\n</div>"
     },
     "execution_count": 28,
     "metadata": {},
     "output_type": "execute_result"
    }
   ],
   "source": [
    "combined_raw_data = relevant_income_statements.merge(relevant_balance_sheets, on=['date_index', 'ticker'], how='inner')\n",
    "combined_raw_data.sort_values(by=['ticker', 'date_index'], inplace=True)\n",
    "combined_raw_data"
   ],
   "metadata": {
    "collapsed": false
   }
  },
  {
   "cell_type": "code",
   "execution_count": 20,
   "outputs": [
    {
     "data": {
      "text/plain": "        date_index ticker  incomeTaxExpense   totalAssets    ch_tax\n94      1999-10-31      A     -5.288000e+09  5.444000e+09       NaN\n93      2000-01-31      A      7.100000e+07  7.107000e+09       NaN\n92      2000-04-30      A      9.000000e+07  7.321000e+09       NaN\n91      2000-07-31      A      8.300000e+07  7.827000e+09       NaN\n90      2000-10-31      A      1.630000e+08  8.425000e+09       NaN\n...            ...    ...               ...           ...       ...\n623323  2021-09-30   ZZLL      1.320000e+02  1.023050e+07 -0.001851\n623322  2021-12-31   ZZLL      1.442320e+05  3.810411e+06  0.460034\n623321  2022-03-31   ZZLL      2.360800e+04  3.878541e+06  0.069671\n623320  2022-06-30   ZZLL      1.063000e+03  2.284492e+06  0.004359\n623319  2022-09-30   ZZLL      7.000000e+02  1.071875e+06  0.000672\n\n[623385 rows x 5 columns]",
      "text/html": "<div>\n<style scoped>\n    .dataframe tbody tr th:only-of-type {\n        vertical-align: middle;\n    }\n\n    .dataframe tbody tr th {\n        vertical-align: top;\n    }\n\n    .dataframe thead th {\n        text-align: right;\n    }\n</style>\n<table border=\"1\" class=\"dataframe\">\n  <thead>\n    <tr style=\"text-align: right;\">\n      <th></th>\n      <th>date_index</th>\n      <th>ticker</th>\n      <th>incomeTaxExpense</th>\n      <th>totalAssets</th>\n      <th>ch_tax</th>\n    </tr>\n  </thead>\n  <tbody>\n    <tr>\n      <th>94</th>\n      <td>1999-10-31</td>\n      <td>A</td>\n      <td>-5.288000e+09</td>\n      <td>5.444000e+09</td>\n      <td>NaN</td>\n    </tr>\n    <tr>\n      <th>93</th>\n      <td>2000-01-31</td>\n      <td>A</td>\n      <td>7.100000e+07</td>\n      <td>7.107000e+09</td>\n      <td>NaN</td>\n    </tr>\n    <tr>\n      <th>92</th>\n      <td>2000-04-30</td>\n      <td>A</td>\n      <td>9.000000e+07</td>\n      <td>7.321000e+09</td>\n      <td>NaN</td>\n    </tr>\n    <tr>\n      <th>91</th>\n      <td>2000-07-31</td>\n      <td>A</td>\n      <td>8.300000e+07</td>\n      <td>7.827000e+09</td>\n      <td>NaN</td>\n    </tr>\n    <tr>\n      <th>90</th>\n      <td>2000-10-31</td>\n      <td>A</td>\n      <td>1.630000e+08</td>\n      <td>8.425000e+09</td>\n      <td>NaN</td>\n    </tr>\n    <tr>\n      <th>...</th>\n      <td>...</td>\n      <td>...</td>\n      <td>...</td>\n      <td>...</td>\n      <td>...</td>\n    </tr>\n    <tr>\n      <th>623323</th>\n      <td>2021-09-30</td>\n      <td>ZZLL</td>\n      <td>1.320000e+02</td>\n      <td>1.023050e+07</td>\n      <td>-0.001851</td>\n    </tr>\n    <tr>\n      <th>623322</th>\n      <td>2021-12-31</td>\n      <td>ZZLL</td>\n      <td>1.442320e+05</td>\n      <td>3.810411e+06</td>\n      <td>0.460034</td>\n    </tr>\n    <tr>\n      <th>623321</th>\n      <td>2022-03-31</td>\n      <td>ZZLL</td>\n      <td>2.360800e+04</td>\n      <td>3.878541e+06</td>\n      <td>0.069671</td>\n    </tr>\n    <tr>\n      <th>623320</th>\n      <td>2022-06-30</td>\n      <td>ZZLL</td>\n      <td>1.063000e+03</td>\n      <td>2.284492e+06</td>\n      <td>0.004359</td>\n    </tr>\n    <tr>\n      <th>623319</th>\n      <td>2022-09-30</td>\n      <td>ZZLL</td>\n      <td>7.000000e+02</td>\n      <td>1.071875e+06</td>\n      <td>0.000672</td>\n    </tr>\n  </tbody>\n</table>\n<p>623385 rows × 5 columns</p>\n</div>"
     },
     "execution_count": 20,
     "metadata": {},
     "output_type": "execute_result"
    }
   ],
   "source": [
    "with_ch_tax = combined_raw_data\n",
    "with_ch_tax['ch_tax'] = (with_ch_tax.groupby('ticker')['incomeTaxExpense'].diff(12)) / with_ch_tax.groupby('ticker')['totalAssets'].shift(12)\n",
    "with_ch_tax"
   ],
   "metadata": {
    "collapsed": false
   }
  },
  {
   "cell_type": "code",
   "execution_count": 40,
   "outputs": [
    {
     "data": {
      "text/plain": "        ticker date_index    ch_tax\n0            A 1999-10-31       NaN\n1            A 1999-11-30       NaN\n2            A 1999-12-31       NaN\n3            A 2000-01-31       NaN\n4            A 2000-02-29       NaN\n...        ...        ...       ...\n1982577   ZZLL 2022-05-31  0.069671\n1982578   ZZLL 2022-06-30  0.004359\n1982579   ZZLL 2022-07-31  0.004359\n1982580   ZZLL 2022-08-31  0.004359\n1982581   ZZLL 2022-09-30  0.000672\n\n[1982582 rows x 3 columns]",
      "text/html": "<div>\n<style scoped>\n    .dataframe tbody tr th:only-of-type {\n        vertical-align: middle;\n    }\n\n    .dataframe tbody tr th {\n        vertical-align: top;\n    }\n\n    .dataframe thead th {\n        text-align: right;\n    }\n</style>\n<table border=\"1\" class=\"dataframe\">\n  <thead>\n    <tr style=\"text-align: right;\">\n      <th></th>\n      <th>ticker</th>\n      <th>date_index</th>\n      <th>ch_tax</th>\n    </tr>\n  </thead>\n  <tbody>\n    <tr>\n      <th>0</th>\n      <td>A</td>\n      <td>1999-10-31</td>\n      <td>NaN</td>\n    </tr>\n    <tr>\n      <th>1</th>\n      <td>A</td>\n      <td>1999-11-30</td>\n      <td>NaN</td>\n    </tr>\n    <tr>\n      <th>2</th>\n      <td>A</td>\n      <td>1999-12-31</td>\n      <td>NaN</td>\n    </tr>\n    <tr>\n      <th>3</th>\n      <td>A</td>\n      <td>2000-01-31</td>\n      <td>NaN</td>\n    </tr>\n    <tr>\n      <th>4</th>\n      <td>A</td>\n      <td>2000-02-29</td>\n      <td>NaN</td>\n    </tr>\n    <tr>\n      <th>...</th>\n      <td>...</td>\n      <td>...</td>\n      <td>...</td>\n    </tr>\n    <tr>\n      <th>1982577</th>\n      <td>ZZLL</td>\n      <td>2022-05-31</td>\n      <td>0.069671</td>\n    </tr>\n    <tr>\n      <th>1982578</th>\n      <td>ZZLL</td>\n      <td>2022-06-30</td>\n      <td>0.004359</td>\n    </tr>\n    <tr>\n      <th>1982579</th>\n      <td>ZZLL</td>\n      <td>2022-07-31</td>\n      <td>0.004359</td>\n    </tr>\n    <tr>\n      <th>1982580</th>\n      <td>ZZLL</td>\n      <td>2022-08-31</td>\n      <td>0.004359</td>\n    </tr>\n    <tr>\n      <th>1982581</th>\n      <td>ZZLL</td>\n      <td>2022-09-30</td>\n      <td>0.000672</td>\n    </tr>\n  </tbody>\n</table>\n<p>1982582 rows × 3 columns</p>\n</div>"
     },
     "execution_count": 40,
     "metadata": {},
     "output_type": "execute_result"
    }
   ],
   "source": [
    "ch_tax_final = with_ch_tax[['date_index', 'ticker', 'ch_tax']].set_index('date_index')\n",
    "ch_tax_final.index = pd.to_datetime(ch_tax_final.index)\n",
    "ch_tax_final = ch_tax_final.groupby('ticker').resample('M', convention='start').first().reset_index('date_index').drop(columns=['ticker']).reset_index()\n",
    "ch_tax_final = ch_tax_final.ffill()\n",
    "ch_tax_final"
   ],
   "metadata": {
    "collapsed": false
   }
  },
  {
   "cell_type": "code",
   "execution_count": 46,
   "outputs": [
    {
     "data": {
      "text/plain": "           ticker    ch_tax\ndate_index                 \n1999-10-31      A       NaN\n1999-11-30      A       NaN\n1999-12-31      A       NaN\n2000-01-31      A       NaN\n2000-02-29      A       NaN\n...           ...       ...\n2022-05-31   ZZLL  0.069671\n2022-06-30   ZZLL  0.004359\n2022-07-31   ZZLL  0.004359\n2022-08-31   ZZLL  0.004359\n2022-09-30   ZZLL  0.000672\n\n[1982582 rows x 2 columns]",
      "text/html": "<div>\n<style scoped>\n    .dataframe tbody tr th:only-of-type {\n        vertical-align: middle;\n    }\n\n    .dataframe tbody tr th {\n        vertical-align: top;\n    }\n\n    .dataframe thead th {\n        text-align: right;\n    }\n</style>\n<table border=\"1\" class=\"dataframe\">\n  <thead>\n    <tr style=\"text-align: right;\">\n      <th></th>\n      <th>ticker</th>\n      <th>ch_tax</th>\n    </tr>\n    <tr>\n      <th>date_index</th>\n      <th></th>\n      <th></th>\n    </tr>\n  </thead>\n  <tbody>\n    <tr>\n      <th>1999-10-31</th>\n      <td>A</td>\n      <td>NaN</td>\n    </tr>\n    <tr>\n      <th>1999-11-30</th>\n      <td>A</td>\n      <td>NaN</td>\n    </tr>\n    <tr>\n      <th>1999-12-31</th>\n      <td>A</td>\n      <td>NaN</td>\n    </tr>\n    <tr>\n      <th>2000-01-31</th>\n      <td>A</td>\n      <td>NaN</td>\n    </tr>\n    <tr>\n      <th>2000-02-29</th>\n      <td>A</td>\n      <td>NaN</td>\n    </tr>\n    <tr>\n      <th>...</th>\n      <td>...</td>\n      <td>...</td>\n    </tr>\n    <tr>\n      <th>2022-05-31</th>\n      <td>ZZLL</td>\n      <td>0.069671</td>\n    </tr>\n    <tr>\n      <th>2022-06-30</th>\n      <td>ZZLL</td>\n      <td>0.004359</td>\n    </tr>\n    <tr>\n      <th>2022-07-31</th>\n      <td>ZZLL</td>\n      <td>0.004359</td>\n    </tr>\n    <tr>\n      <th>2022-08-31</th>\n      <td>ZZLL</td>\n      <td>0.004359</td>\n    </tr>\n    <tr>\n      <th>2022-09-30</th>\n      <td>ZZLL</td>\n      <td>0.000672</td>\n    </tr>\n  </tbody>\n</table>\n<p>1982582 rows × 2 columns</p>\n</div>"
     },
     "execution_count": 46,
     "metadata": {},
     "output_type": "execute_result"
    }
   ],
   "source": [
    "fundamental_data_dir = get_data_dir() / 'fundamental'\n",
    "ch_tax_factor = ch_tax_final.set_index('date_index')\n",
    "ch_tax_factor.to_csv(fundamental_data_dir / 'ch_tax.csv')\n",
    "ch_tax_factor"
   ],
   "metadata": {
    "collapsed": false
   }
  },
  {
   "cell_type": "code",
   "execution_count": null,
   "outputs": [],
   "source": [],
   "metadata": {
    "collapsed": false
   }
  }
 ],
 "metadata": {
  "kernelspec": {
   "name": "venv",
   "language": "python",
   "display_name": "venv"
  },
  "language_info": {
   "codemirror_mode": {
    "name": "ipython",
    "version": 2
   },
   "file_extension": ".py",
   "mimetype": "text/x-python",
   "name": "python",
   "nbconvert_exporter": "python",
   "pygments_lexer": "ipython2",
   "version": "2.7.6"
  }
 },
 "nbformat": 4,
 "nbformat_minor": 0
}
