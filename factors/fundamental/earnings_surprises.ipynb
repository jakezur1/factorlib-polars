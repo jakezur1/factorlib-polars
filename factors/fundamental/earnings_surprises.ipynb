{
 "cells": [
  {
   "cell_type": "code",
   "execution_count": 3,
   "metadata": {
    "collapsed": true
   },
   "outputs": [],
   "source": [
    "import pandas as pd\n",
    "import polars as pl\n",
    "import numpy as np\n",
    "\n",
    "from factorlib.utils.system import get_data_dir"
   ]
  },
  {
   "cell_type": "code",
   "execution_count": 4,
   "outputs": [
    {
     "data": {
      "text/plain": "['AAME',\n 'AAON',\n 'AATC',\n 'AB',\n 'ABC',\n 'ABCB',\n 'ABM',\n 'ABMD',\n 'ABT',\n 'ACFN',\n 'ACGL',\n 'ACIW',\n 'ACU',\n 'ACUR',\n 'ADBE',\n 'ADC',\n 'ADM',\n 'ADP',\n 'ADSK',\n 'ADTN',\n 'AE',\n 'AEE',\n 'AEGN',\n 'AEIS',\n 'AEM',\n 'AEO',\n 'AEP',\n 'AES',\n 'AET',\n 'AEY',\n 'AFAM',\n 'AFG',\n 'AFL',\n 'AGCO',\n 'AGM',\n 'AGX',\n 'AGYS',\n 'AIG',\n 'AIN',\n 'AIR',\n 'AIRT',\n 'AIT',\n 'AIV',\n 'AJG',\n 'AJRD',\n 'AKR',\n 'AKRXQ',\n 'ALB',\n 'ALCO',\n 'ALE',\n 'ALG',\n 'ALJJ',\n 'ALK',\n 'ALKS',\n 'ALL',\n 'ALOG',\n 'ALOT',\n 'ALX',\n 'AMAG',\n 'AME',\n 'AMED',\n 'AMGN',\n 'AMOT',\n 'AMRN',\n 'AMS',\n 'AMSC',\n 'AMSWA',\n 'AMWD',\n 'AN',\n 'ANDE',\n 'ANIK',\n 'ANIX',\n 'AON',\n 'AOS',\n 'AP',\n 'APA',\n 'APD',\n 'APH',\n 'ARCB',\n 'ARGO',\n 'AROW',\n 'ARTNA',\n 'ARTW',\n 'ARW',\n 'ASB',\n 'ASGN',\n 'ASH',\n 'ASML',\n 'ASRV',\n 'ASTC',\n 'ASTE',\n 'ASUR',\n 'ASYS',\n 'ATGE',\n 'ATI',\n 'ATNI',\n 'ATO',\n 'ATR',\n 'ATRI',\n 'ATRO',\n 'AUB',\n 'AUBN',\n 'AVA',\n 'AVB',\n 'AVD',\n 'AVDL',\n 'AVID',\n 'AWR',\n 'AXAS',\n 'AXE',\n 'AXP',\n 'AXR',\n 'AZN',\n 'AZO',\n 'AZPN',\n 'AZZ',\n 'B',\n 'BA',\n 'BAC',\n 'BANF',\n 'BANR',\n 'BAP',\n 'BAX',\n 'BBAR',\n 'BBSI',\n 'BBVA',\n 'BC',\n 'BCE',\n 'BCO',\n 'BCPC',\n 'BCRX',\n 'BDC',\n 'BDL',\n 'BDN',\n 'BDX',\n 'BELFA',\n 'BEN',\n 'BFS',\n 'BH',\n 'BHC',\n 'BHE',\n 'BIIB',\n 'BIO',\n 'BIOL',\n 'BK',\n 'BKE',\n 'BKH',\n 'BKSC',\n 'BKTI',\n 'BLDP',\n 'BLFS',\n 'BLX',\n 'BMI',\n 'BMRA',\n 'BMS',\n 'BMTC',\n 'BMY',\n 'BN',\n 'BNSO',\n 'BOH',\n 'BOKF',\n 'BOOM',\n 'BP',\n 'BPFH',\n 'BPOP',\n 'BPT',\n 'BPYU',\n 'BRC',\n 'BRID',\n 'BRN',\n 'BRO',\n 'BRT',\n 'BSTC',\n 'BSX',\n 'BVN',\n 'BWA',\n 'BXMT',\n 'BYD',\n 'BYFC',\n 'BZH',\n 'C',\n 'CA',\n 'CAA',\n 'CACC',\n 'CACI',\n 'CAH',\n 'CAKE',\n 'CAMP',\n 'CAR',\n 'CARV',\n 'CASH',\n 'CASY',\n 'CAT',\n 'CATO',\n 'CATY',\n 'CB',\n 'CBB',\n 'CBLAQ',\n 'CBRL',\n 'CBSH',\n 'CBT',\n 'CBU',\n 'CBZ',\n 'CCEP',\n 'CCF',\n 'CCJ',\n 'CCK',\n 'CCL',\n 'CCRD',\n 'CCUR',\n 'CDE',\n 'CDMO',\n 'CDNS',\n 'CDOR',\n 'CDR',\n 'CDZI',\n 'CECO',\n 'CENX',\n 'CERN',\n 'CFNB',\n 'CFR',\n 'CGNX',\n 'CHCO',\n 'CHD',\n 'CHDN',\n 'CHE',\n 'CI',\n 'CIA',\n 'CINF',\n 'CKH',\n 'CL',\n 'CLB',\n 'CLF',\n 'CLFD',\n 'CLGX',\n 'CLH',\n 'CLRO',\n 'CLX',\n 'CMA',\n 'CMC',\n 'CMCL',\n 'CMCO',\n 'CMCSA',\n 'CMD',\n 'CMI',\n 'CMO',\n 'CMS',\n 'CMT',\n 'CMTL',\n 'CNA',\n 'CNBKA',\n 'CNMD',\n 'CNP',\n 'CNR',\n 'CNTY',\n 'COF',\n 'COHR',\n 'COKE',\n 'COO',\n 'COP',\n 'COST',\n 'CPE',\n 'CPF',\n 'CPHC',\n 'CPK',\n 'CPRT',\n 'CPSS',\n 'CPT',\n 'CR',\n 'CRMT',\n 'CRS',\n 'CRT',\n 'CRVL',\n 'CSCO',\n 'CSGS',\n 'CSL',\n 'CSPI',\n 'CSWC',\n 'CSX',\n 'CTAS',\n 'CTB',\n 'CTBI',\n 'CTG',\n 'CTO',\n 'CTRA',\n 'CTS',\n 'CUB',\n 'CUZ',\n 'CVA',\n 'CVBF',\n 'CVLG',\n 'CVM',\n 'CVR',\n 'CVS',\n 'CVU',\n 'CVX',\n 'CW',\n 'CWCO',\n 'CWT',\n 'CYAN',\n 'CYBE',\n 'D',\n 'DAIO',\n 'DCI',\n 'DCO',\n 'DD',\n 'DDD',\n 'DDS',\n 'DE',\n 'DECK',\n 'DENN',\n 'DGICB',\n 'DGII',\n 'DHI',\n 'DHR',\n 'DIN',\n 'DINO',\n 'DIOD',\n 'DIS',\n 'DISH',\n 'DIT',\n 'DJCO',\n 'DLHC',\n 'DLX',\n 'DOV',\n 'DRE',\n 'DSPG',\n 'DTE',\n 'DVA',\n 'DVCR',\n 'DWSN',\n 'DX',\n 'DXR',\n 'DYNT',\n 'EA',\n 'EAT',\n 'EBF',\n 'EBIX',\n 'ECL',\n 'ECOL',\n 'ED',\n 'EDUC',\n 'EFOI',\n 'EFX',\n 'EGP',\n 'EGY',\n 'EHC',\n 'EIX',\n 'EL',\n 'ELA',\n 'ELLO',\n 'ELME',\n 'ELS',\n 'ELSE',\n 'EME',\n 'EMN',\n 'EMR',\n 'ENB',\n 'ENZ',\n 'ENZN',\n 'EOG',\n 'EPAC',\n 'EPM',\n 'EQC',\n 'EQR',\n 'EQS',\n 'EQT',\n 'ERIE',\n 'ES',\n 'ESBK',\n 'ESCA',\n 'ESE',\n 'ESIO',\n 'ESND',\n 'ESP',\n 'ESS',\n 'ETD',\n 'ETR',\n 'EV',\n 'EVI',\n 'EXP',\n 'EXPD',\n 'EXPO',\n 'EZPW',\n 'F',\n 'FARM',\n 'FAST',\n 'FBNC',\n 'FBP',\n 'FC',\n 'FCEL',\n 'FCF',\n 'FCFS',\n 'FCN',\n 'FCNCA',\n 'FCX',\n 'FE',\n 'FEIM',\n 'FELE',\n 'FFBC',\n 'FFIC',\n 'FFIN',\n 'FFKT',\n 'FGH',\n 'FHN',\n 'FICO',\n 'FITB',\n 'FLEX',\n 'FLIC',\n 'FLL',\n 'FLS',\n 'FLXS',\n 'FMBI',\n 'FMC',\n 'FNB',\n 'FOE',\n 'FONR',\n 'FORD',\n 'FR',\n 'FRBK',\n 'FRD',\n 'FRME',\n 'FRPH',\n 'FRT',\n 'FSS',\n 'FSTR',\n 'FULT',\n 'FUN',\n 'FUNC',\n 'FWRD',\n 'GABC',\n 'GATX',\n 'GBCI',\n 'GBR',\n 'GBX',\n 'GD',\n 'GE',\n 'GEF',\n 'GEN',\n 'GENC',\n 'GEO',\n 'GFF',\n 'GFI',\n 'GGG',\n 'GHM',\n 'GIC',\n 'GIII',\n 'GILD',\n 'GL',\n 'GLT',\n 'GLW',\n 'GNTX',\n 'GPC',\n 'GPX',\n 'GRC',\n 'GSBC',\n 'GSK',\n 'GSS',\n 'GT',\n 'GTBP',\n 'GTIM',\n 'GTMAY',\n 'GTY',\n 'GURE',\n 'GV',\n 'GVA',\n 'GVP',\n 'GWW',\n 'GYRO',\n 'HA',\n 'HAL',\n 'HALL',\n 'HBAN',\n 'HBNC',\n 'HCSG',\n 'HDSN',\n 'HE',\n 'HEI',\n 'HELE',\n 'HES',\n 'HGBL',\n 'HHS',\n 'HIFS',\n 'HIG',\n 'HIW',\n 'HL',\n 'HLIT',\n 'HMC',\n 'HMG',\n 'HMN',\n 'HMNF',\n 'HMSY',\n 'HNGR',\n 'HOG',\n 'HON',\n 'HOV',\n 'HP',\n 'HPQ',\n 'HRB',\n 'HRTX',\n 'HSC',\n 'HSY',\n 'HTLD',\n 'HUBB',\n 'HUBG',\n 'HUM',\n 'HURC',\n 'HVT',\n 'HWC',\n 'HXL',\n 'IART',\n 'IBCP',\n 'IBM',\n 'ICAD',\n 'ICCC',\n 'ICON',\n 'ICUI',\n 'IDA',\n 'IDCC',\n 'IDXX',\n 'IEP',\n 'IEX',\n 'IFF',\n 'IHC',\n 'IHT',\n 'IIN',\n 'IMAX',\n 'IMBI',\n 'IMGN',\n 'IMKTA',\n 'IMMU',\n 'INCY',\n 'INDB',\n 'INOD',\n 'INT',\n 'INTG',\n 'INTU',\n 'IONS',\n 'IOR',\n 'IP',\n 'IPAR',\n 'IPG',\n 'IRIX',\n 'IRM',\n 'ISIG',\n 'IT',\n 'ITI',\n 'ITIC',\n 'ITRI',\n 'ITT',\n 'ITW',\n 'J',\n 'JAKK',\n 'JBHT',\n 'JBL',\n 'JBSS',\n 'JCI',\n 'JCS',\n 'JEF',\n 'JKHY',\n 'JOB',\n 'JOE',\n 'JOUT',\n 'JPM',\n 'KAMN',\n 'KBAL',\n 'KBH',\n 'KCLI',\n 'KEQU',\n 'KEX',\n 'KEY',\n 'KFRC',\n 'KGC',\n 'KIM',\n 'KLAC',\n 'KMB',\n 'KMPR',\n 'KMT',\n 'KNX',\n 'KO',\n 'KOSS',\n 'KSU',\n 'KUBTY',\n 'KVHI',\n 'KWR',\n 'L',\n 'LAKE',\n 'LANC',\n 'LARK',\n 'LCII',\n 'LCTX',\n 'LCUT',\n 'LDL',\n 'LECO',\n 'LEG',\n 'LEN',\n 'LFCR',\n 'LGL',\n 'LGND',\n 'LH',\n 'LHX',\n 'LINK',\n 'LIVN',\n 'LJPC',\n 'LLY',\n 'LM',\n 'LMT',\n 'LNC',\n 'LNCE',\n 'LNN',\n 'LNT',\n 'LNW',\n 'LOW',\n 'LPTH',\n 'LPX',\n 'LSI',\n 'LTC',\n 'LUB',\n 'LUMN',\n 'LUV',\n 'LWAY',\n 'LXP',\n 'LXU',\n 'LYTS',\n 'MAA',\n 'MAC',\n 'MAN',\n 'MARPS',\n 'MAS',\n 'MAT',\n 'MATV',\n 'MATW',\n 'MATX',\n 'MAYS',\n 'MBI',\n 'MCD',\n 'MCHP',\n 'MCK',\n 'MCRI',\n 'MCS',\n 'MCY',\n 'MD',\n 'MDC',\n 'MDP',\n 'MDT',\n 'MDU',\n 'MED',\n 'MFIN',\n 'MGA',\n 'MGEE',\n 'MGIC',\n 'MGM',\n 'MGPI',\n 'MGRC',\n 'MHK',\n 'MHO',\n 'MICR',\n 'MIND',\n 'MITK',\n 'MKC',\n 'MLAB',\n 'MLI',\n 'MLM',\n 'MLP',\n 'MLR',\n 'MLSS',\n 'MMC',\n 'MMM',\n 'MMSI',\n 'MNR',\n 'MNST',\n 'MO',\n 'MOD',\n 'MODG',\n 'MOV',\n 'MPAA',\n 'MPVDF',\n 'MRK',\n 'MRO',\n 'MRTN',\n 'MS',\n 'MSA',\n 'MSB',\n 'MSEX',\n 'MSFT',\n 'MSI',\n 'MSN',\n 'MSON',\n 'MTB',\n 'MTCH',\n 'MTG',\n 'MTH',\n 'MTR',\n 'MTRN',\n 'MTRX',\n 'MTW',\n 'MTX',\n 'MTZ',\n 'MU',\n 'MUR',\n 'MUX',\n 'MYE',\n 'MYGN',\n 'NAII',\n 'NASB',\n 'NATI',\n 'NATR',\n 'NAV',\n 'NAVB',\n 'NBIX',\n 'NBL',\n 'NBN',\n 'NBR',\n 'NBTB',\n 'NC',\n 'NCR',\n 'NDSN',\n 'NEE',\n 'NEN',\n 'NEOG',\n 'NFG',\n 'NHC',\n 'NHI',\n 'NHTC',\n 'NICE',\n 'NJR',\n 'NKE',\n 'NKTR',\n 'NL',\n 'NNBR',\n 'NNN',\n 'NPK',\n 'NR',\n 'NRIM',\n 'NRT',\n 'NSC',\n 'NSEC',\n 'NSIT',\n 'NSSC',\n 'NSYS',\n 'NTAP',\n 'NTIC',\n 'NTR',\n 'NTRS',\n 'NTZ',\n 'NUE',\n 'NVAX',\n 'NVR',\n 'NWBI',\n 'NWL',\n 'NWLI',\n 'NWN',\n 'NWPX',\n 'NXGN',\n 'NYCB',\n 'NYT',\n 'O',\n 'OBCI',\n 'OCC',\n 'ODC',\n 'ODFL',\n 'OFC',\n 'OFG',\n 'OFIX',\n 'OGE',\n 'OI',\n 'OII',\n 'OKE',\n 'OLED',\n 'OLN',\n 'OLP',\n 'OMC',\n 'OMI',\n 'ONB',\n 'OPK',\n 'OPY',\n 'ORCL',\n 'ORI',\n 'ORLY',\n 'OSBC',\n 'OSK',\n 'OSUR',\n 'OTTR',\n 'OVBC',\n 'OXY',\n 'PAAS',\n 'PAR',\n 'PATK',\n 'PAYX',\n 'PBI',\n 'PBT',\n 'PCAR',\n 'PCG',\n 'PCH',\n 'PCYO',\n 'PDCE',\n 'PDEX',\n 'PEAK',\n 'PEBK',\n 'PEBO',\n 'PEG',\n 'PENN',\n 'PESI',\n 'PFC',\n 'PFE',\n 'PFIN',\n 'PG',\n 'PGR',\n 'PH',\n 'PHG',\n 'PHM',\n 'PHX',\n 'PII',\n 'PKOH',\n 'PLAB',\n 'PLD',\n 'PMD',\n 'PNC',\n 'PNM',\n 'PNR',\n 'PNRG',\n 'PNW',\n 'POOL',\n 'POPE',\n 'POWL',\n 'PPG',\n 'PPIH',\n 'PPL',\n 'PRA',\n 'PRCP',\n 'PRG',\n 'PRGO',\n 'PRGS',\n 'PRK',\n 'PRKR',\n 'PSA',\n 'PSB',\n 'PTC',\n 'PTEN',\n 'PTSI',\n 'PTVCB',\n 'PXD',\n 'QCRH',\n 'QDEL',\n 'QUMU',\n 'R',\n 'RAMP',\n 'RAVN',\n 'RCKY',\n 'RCMT',\n 'RDN',\n 'RE',\n 'REFR',\n 'REG',\n 'REGN',\n 'RES',\n 'REVRQ',\n 'REX',\n 'RGA',\n 'RGCO',\n 'RGEN',\n 'RGLD',\n 'RGR',\n 'RGS',\n 'RHI',\n 'RHP',\n 'RICK',\n 'RIG',\n 'RJF',\n 'RLI',\n 'RMD',\n 'RNR',\n 'RNST',\n 'ROCK',\n 'ROG',\n 'ROK',\n 'ROL',\n 'ROP',\n 'RPM',\n 'RPT',\n 'RRC',\n 'RRD',\n 'RRX',\n 'RS',\n 'RTX',\n 'RUSHB',\n 'RVSB',\n 'RVTY',\n 'RWT',\n 'RY',\n 'RYN',\n 'SAFM',\n 'SASR',\n 'SBCF',\n 'SBGI',\n 'SBR',\n 'SCCO',\n 'SCHL',\n 'SCHN',\n 'SCHW',\n 'SCI',\n 'SCKT',\n 'SCL',\n 'SCSC',\n 'SCWO',\n 'SCX',\n 'SEB',\n 'SEE',\n 'SEIC',\n 'SENEA',\n 'SF',\n 'SFE',\n 'SFNC',\n 'SGA',\n 'SGC',\n 'SGMA',\n 'SGU',\n 'SHLM',\n 'SHOO',\n 'SHW',\n 'SHYF',\n 'SIEB',\n 'SIF',\n 'SIGI',\n 'SIRI',\n 'SITC',\n 'SJI',\n 'SJM',\n 'SJT',\n 'SJW',\n 'SKT',\n 'SKYW',\n 'SLB',\n 'SLNH',\n 'SM',\n 'SMBC',\n 'SMG',\n 'SMID',\n 'SMIT',\n 'SMP',\n 'SMSI',\n 'SMTC',\n 'SNEX',\n 'SNFCA',\n 'SNGX',\n 'SNPS',\n 'SNV',\n 'SO',\n 'SON',\n 'SONC',\n 'SONY',\n 'SOTK',\n 'SPB',\n 'SPG',\n 'SPGI',\n 'SPNS',\n 'SPNX',\n 'SPXC',\n 'SR',\n 'SRCE',\n 'SSD',\n 'SSL',\n 'SSP',\n 'SSY',\n 'SSYS',\n 'STAA',\n 'STAR',\n 'STBA',\n 'STC',\n 'STCN',\n 'STE',\n 'STFC',\n 'STRL',\n 'STRM',\n 'STRS',\n 'STT',\n 'STZ',\n 'SU',\n 'SUI',\n 'SUP',\n 'SVC',\n 'SVT',\n 'SVU',\n 'SWKS',\n 'SWN',\n 'SWX',\n 'SXI',\n 'SXT',\n 'SYBT',\n 'SYK',\n 'SYPR',\n 'T',\n 'TAIT',\n 'TAYD',\n 'TCBK',\n 'TCF',\n 'TCI',\n 'TCX',\n 'TECD',\n 'TECH',\n ...]"
     },
     "execution_count": 4,
     "metadata": {},
     "output_type": "execute_result"
    }
   ],
   "source": [
    "raw_data_dir = get_data_dir() / 'raw'\n",
    "tickers = pl.scan_csv(raw_data_dir / 'tickers_to_train.csv').collect(streaming=True).to_series().to_list()\n",
    "tickers"
   ],
   "metadata": {
    "collapsed": false
   }
  },
  {
   "cell_type": "code",
   "execution_count": 5,
   "outputs": [
    {
     "data": {
      "text/plain": "shape: (99_860, 3)\n┌─────────────────────┬────────┬───────────────────┐\n│ date_index          ┆ ticker ┆ earnings_surprise │\n│ ---                 ┆ ---    ┆ ---               │\n│ datetime[μs]        ┆ str    ┆ f64               │\n╞═════════════════════╪════════╪═══════════════════╡\n│ 2023-05-04 00:00:00 ┆ AAON   ┆ 0.264151          │\n│ 2023-02-27 00:00:00 ┆ AAON   ┆ 0.267857          │\n│ 2022-11-07 00:00:00 ┆ AAON   ┆ 0.214286          │\n│ 2022-08-08 00:00:00 ┆ AAON   ┆ -0.268293         │\n│ …                   ┆ …      ┆ …                 │\n│ 1993-10-25 00:00:00 ┆ ZIXI   ┆ 0.125             │\n│ 1993-08-11 00:00:00 ┆ ZIXI   ┆ 0.6               │\n│ 1993-05-03 00:00:00 ┆ ZIXI   ┆ -0.018868         │\n│ 1993-02-01 00:00:00 ┆ ZIXI   ┆ 0.333333          │\n└─────────────────────┴────────┴───────────────────┘",
      "text/html": "<div><style>\n.dataframe > thead > tr > th,\n.dataframe > tbody > tr > td {\n  text-align: right;\n}\n</style>\n<small>shape: (99_860, 3)</small><table border=\"1\" class=\"dataframe\"><thead><tr><th>date_index</th><th>ticker</th><th>earnings_surprise</th></tr><tr><td>datetime[μs]</td><td>str</td><td>f64</td></tr></thead><tbody><tr><td>2023-05-04 00:00:00</td><td>&quot;AAON&quot;</td><td>0.264151</td></tr><tr><td>2023-02-27 00:00:00</td><td>&quot;AAON&quot;</td><td>0.267857</td></tr><tr><td>2022-11-07 00:00:00</td><td>&quot;AAON&quot;</td><td>0.214286</td></tr><tr><td>2022-08-08 00:00:00</td><td>&quot;AAON&quot;</td><td>-0.268293</td></tr><tr><td>2022-05-05 00:00:00</td><td>&quot;AAON&quot;</td><td>0.222222</td></tr><tr><td>2022-02-28 00:00:00</td><td>&quot;AAON&quot;</td><td>-0.357143</td></tr><tr><td>2021-11-04 00:00:00</td><td>&quot;AAON&quot;</td><td>-0.236842</td></tr><tr><td>2021-08-05 00:00:00</td><td>&quot;AAON&quot;</td><td>0.1875</td></tr><tr><td>2021-05-06 00:00:00</td><td>&quot;AAON&quot;</td><td>0.111111</td></tr><tr><td>2021-02-25 00:00:00</td><td>&quot;AAON&quot;</td><td>-0.068966</td></tr><tr><td>2020-11-05 00:00:00</td><td>&quot;AAON&quot;</td><td>0.151515</td></tr><tr><td>2020-08-06 00:00:00</td><td>&quot;AAON&quot;</td><td>-0.055556</td></tr><tr><td>&hellip;</td><td>&hellip;</td><td>&hellip;</td></tr><tr><td>1995-10-30 00:00:00</td><td>&quot;ZIXI&quot;</td><td>-1.117647</td></tr><tr><td>1995-08-08 00:00:00</td><td>&quot;ZIXI&quot;</td><td>1.25</td></tr><tr><td>1995-05-12 00:00:00</td><td>&quot;ZIXI&quot;</td><td>-0.0</td></tr><tr><td>1995-02-15 00:00:00</td><td>&quot;ZIXI&quot;</td><td>-0.25</td></tr><tr><td>1994-11-03 00:00:00</td><td>&quot;ZIXI&quot;</td><td>0.0</td></tr><tr><td>1994-08-01 00:00:00</td><td>&quot;ZIXI&quot;</td><td>0.045455</td></tr><tr><td>1994-05-04 00:00:00</td><td>&quot;ZIXI&quot;</td><td>0.785714</td></tr><tr><td>1994-02-18 00:00:00</td><td>&quot;ZIXI&quot;</td><td>0.333333</td></tr><tr><td>1993-10-25 00:00:00</td><td>&quot;ZIXI&quot;</td><td>0.125</td></tr><tr><td>1993-08-11 00:00:00</td><td>&quot;ZIXI&quot;</td><td>0.6</td></tr><tr><td>1993-05-03 00:00:00</td><td>&quot;ZIXI&quot;</td><td>-0.018868</td></tr><tr><td>1993-02-01 00:00:00</td><td>&quot;ZIXI&quot;</td><td>0.333333</td></tr></tbody></table></div>"
     },
     "execution_count": 5,
     "metadata": {},
     "output_type": "execute_result"
    }
   ],
   "source": [
    "earnings_surprises = pl.scan_csv(raw_data_dir / 'earnings_surprises.csv', try_parse_dates=True).collect(\n",
    "    streaming=True)\n",
    "earnings_surprises = (\n",
    "    earnings_surprises.lazy()\n",
    "    .select(\n",
    "        pl.col('date').cast(pl.Datetime).alias('date_index'),\n",
    "        pl.col('symbol').alias('ticker'),\n",
    "        ((pl.col('actualEarningResult') - pl.col('estimatedEarning') )/ pl.col('estimatedEarning')).alias('earnings_surprise')\n",
    "    )\n",
    "    .collect(streaming=True)\n",
    ")\n",
    "earnings_surprises = earnings_surprises.lazy().filter(pl.col('ticker').is_in(tickers)).collect(\n",
    "    streaming=True)\n",
    "earnings_surprises"
   ],
   "metadata": {
    "collapsed": false
   }
  },
  {
   "cell_type": "code",
   "execution_count": 6,
   "outputs": [
    {
     "data": {
      "text/plain": "1097"
     },
     "execution_count": 6,
     "metadata": {},
     "output_type": "execute_result"
    }
   ],
   "source": [
    "len(earnings_surprises.select(pl.col('ticker').unique()))  # good enough i guess, lol not much to do."
   ],
   "metadata": {
    "collapsed": false
   }
  },
  {
   "cell_type": "code",
   "execution_count": 7,
   "outputs": [
    {
     "data": {
      "text/plain": "      date_index ticker  earnings_surprise\n106   1994-07-12   AAON           0.000000\n105   1994-10-11   AAON           0.041667\n104   1995-02-15   AAON           0.100110\n103   1995-04-18   AAON          -0.266825\n102   1995-07-20   AAON          -0.096845\n...          ...    ...                ...\n99734 2020-11-09   ZIXI           0.133333\n99733 2021-02-25   ZIXI           0.000000\n99732 2021-05-05   ZIXI           0.000000\n99731 2021-08-05   ZIXI           0.000000\n99730 2021-11-08   ZIXI           0.000000\n\n[99815 rows x 3 columns]",
      "text/html": "<div>\n<style scoped>\n    .dataframe tbody tr th:only-of-type {\n        vertical-align: middle;\n    }\n\n    .dataframe tbody tr th {\n        vertical-align: top;\n    }\n\n    .dataframe thead th {\n        text-align: right;\n    }\n</style>\n<table border=\"1\" class=\"dataframe\">\n  <thead>\n    <tr style=\"text-align: right;\">\n      <th></th>\n      <th>date_index</th>\n      <th>ticker</th>\n      <th>earnings_surprise</th>\n    </tr>\n  </thead>\n  <tbody>\n    <tr>\n      <th>106</th>\n      <td>1994-07-12</td>\n      <td>AAON</td>\n      <td>0.000000</td>\n    </tr>\n    <tr>\n      <th>105</th>\n      <td>1994-10-11</td>\n      <td>AAON</td>\n      <td>0.041667</td>\n    </tr>\n    <tr>\n      <th>104</th>\n      <td>1995-02-15</td>\n      <td>AAON</td>\n      <td>0.100110</td>\n    </tr>\n    <tr>\n      <th>103</th>\n      <td>1995-04-18</td>\n      <td>AAON</td>\n      <td>-0.266825</td>\n    </tr>\n    <tr>\n      <th>102</th>\n      <td>1995-07-20</td>\n      <td>AAON</td>\n      <td>-0.096845</td>\n    </tr>\n    <tr>\n      <th>...</th>\n      <td>...</td>\n      <td>...</td>\n      <td>...</td>\n    </tr>\n    <tr>\n      <th>99734</th>\n      <td>2020-11-09</td>\n      <td>ZIXI</td>\n      <td>0.133333</td>\n    </tr>\n    <tr>\n      <th>99733</th>\n      <td>2021-02-25</td>\n      <td>ZIXI</td>\n      <td>0.000000</td>\n    </tr>\n    <tr>\n      <th>99732</th>\n      <td>2021-05-05</td>\n      <td>ZIXI</td>\n      <td>0.000000</td>\n    </tr>\n    <tr>\n      <th>99731</th>\n      <td>2021-08-05</td>\n      <td>ZIXI</td>\n      <td>0.000000</td>\n    </tr>\n    <tr>\n      <th>99730</th>\n      <td>2021-11-08</td>\n      <td>ZIXI</td>\n      <td>0.000000</td>\n    </tr>\n  </tbody>\n</table>\n<p>99815 rows × 3 columns</p>\n</div>"
     },
     "execution_count": 7,
     "metadata": {},
     "output_type": "execute_result"
    }
   ],
   "source": [
    "no_duplicates = earnings_surprises.to_pandas().set_index(['date_index', 'ticker'])\n",
    "no_duplicates = no_duplicates.loc[~no_duplicates.index.duplicated(keep='first')].reset_index(level=1)\n",
    "no_duplicates.reset_index().sort_values(['ticker', 'date_index'])"
   ],
   "metadata": {
    "collapsed": false
   }
  },
  {
   "cell_type": "code",
   "execution_count": 9,
   "outputs": [
    {
     "data": {
      "text/plain": "           ticker  earnings_surprise\ndate_index                          \n1994-07-12   AAON                0.0\n1994-07-13   AAON                0.0\n1994-07-14   AAON                0.0\n1994-07-15   AAON                0.0\n1994-07-16   AAON                0.0\n...           ...                ...\n2021-11-04   ZIXI                0.0\n2021-11-05   ZIXI                0.0\n2021-11-06   ZIXI                0.0\n2021-11-07   ZIXI                0.0\n2021-11-08   ZIXI                0.0\n\n[10171103 rows x 2 columns]",
      "text/html": "<div>\n<style scoped>\n    .dataframe tbody tr th:only-of-type {\n        vertical-align: middle;\n    }\n\n    .dataframe tbody tr th {\n        vertical-align: top;\n    }\n\n    .dataframe thead th {\n        text-align: right;\n    }\n</style>\n<table border=\"1\" class=\"dataframe\">\n  <thead>\n    <tr style=\"text-align: right;\">\n      <th></th>\n      <th>ticker</th>\n      <th>earnings_surprise</th>\n    </tr>\n    <tr>\n      <th>date_index</th>\n      <th></th>\n      <th></th>\n    </tr>\n  </thead>\n  <tbody>\n    <tr>\n      <th>1994-07-12</th>\n      <td>AAON</td>\n      <td>0.0</td>\n    </tr>\n    <tr>\n      <th>1994-07-13</th>\n      <td>AAON</td>\n      <td>0.0</td>\n    </tr>\n    <tr>\n      <th>1994-07-14</th>\n      <td>AAON</td>\n      <td>0.0</td>\n    </tr>\n    <tr>\n      <th>1994-07-15</th>\n      <td>AAON</td>\n      <td>0.0</td>\n    </tr>\n    <tr>\n      <th>1994-07-16</th>\n      <td>AAON</td>\n      <td>0.0</td>\n    </tr>\n    <tr>\n      <th>...</th>\n      <td>...</td>\n      <td>...</td>\n    </tr>\n    <tr>\n      <th>2021-11-04</th>\n      <td>ZIXI</td>\n      <td>0.0</td>\n    </tr>\n    <tr>\n      <th>2021-11-05</th>\n      <td>ZIXI</td>\n      <td>0.0</td>\n    </tr>\n    <tr>\n      <th>2021-11-06</th>\n      <td>ZIXI</td>\n      <td>0.0</td>\n    </tr>\n    <tr>\n      <th>2021-11-07</th>\n      <td>ZIXI</td>\n      <td>0.0</td>\n    </tr>\n    <tr>\n      <th>2021-11-08</th>\n      <td>ZIXI</td>\n      <td>0.0</td>\n    </tr>\n  </tbody>\n</table>\n<p>10171103 rows × 2 columns</p>\n</div>"
     },
     "execution_count": 9,
     "metadata": {},
     "output_type": "execute_result"
    }
   ],
   "source": [
    "earnings_surprises_resampled = no_duplicates.reset_index().set_index('date_index').groupby('ticker').resample('1d', convention='start').ffill().reset_index(drop=True, level=0)\n",
    "earnings_surprises_resampled"
   ],
   "metadata": {
    "collapsed": false
   }
  },
  {
   "cell_type": "code",
   "execution_count": 23,
   "outputs": [],
   "source": [
    "fundamental_data_dir = get_data_dir() / 'fundamental'\n",
    "earnings_surprises_resampled.to_csv(fundamental_data_dir / 'earnings_surprises.csv')"
   ],
   "metadata": {
    "collapsed": false
   }
  },
  {
   "cell_type": "code",
   "execution_count": null,
   "outputs": [],
   "source": [],
   "metadata": {
    "collapsed": false
   }
  }
 ],
 "metadata": {
  "kernelspec": {
   "display_name": "Python 3",
   "language": "python",
   "name": "python3"
  },
  "language_info": {
   "codemirror_mode": {
    "name": "ipython",
    "version": 2
   },
   "file_extension": ".py",
   "mimetype": "text/x-python",
   "name": "python",
   "nbconvert_exporter": "python",
   "pygments_lexer": "ipython2",
   "version": "2.7.6"
  }
 },
 "nbformat": 4,
 "nbformat_minor": 0
}
