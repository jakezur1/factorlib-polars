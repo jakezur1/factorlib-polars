{
 "cells": [
  {
   "cell_type": "code",
   "execution_count": 18,
   "id": "5fcec8ec",
   "metadata": {},
   "outputs": [
    {
     "name": "stdout",
     "output_type": "stream",
     "text": [
      "/Users/camilosaiz/Desktop/Jake/factorlib-polars\n"
     ]
    }
   ],
   "source": [
    "import os\n",
    "print(os.getcwd())"
   ]
  },
  {
   "cell_type": "code",
   "execution_count": 19,
   "id": "7bd9b172",
   "metadata": {},
   "outputs": [],
   "source": [
    "import polars as pl\n",
    "from factorlib.utils.system import get_data_dir"
   ]
  },
  {
   "cell_type": "code",
   "execution_count": 20,
   "id": "1924fb23",
   "metadata": {},
   "outputs": [],
   "source": [
    "# load data\n",
    "raw_data = get_data_dir() / 'raw'\n",
    "gdp = pl.scan_csv(raw_data / 'gdp_us_quarterly.csv', try_parse_dates=True).collect(streaming=True)\n"
   ]
  },
  {
   "cell_type": "code",
   "execution_count": 21,
   "id": "ae3463f8",
   "metadata": {},
   "outputs": [
    {
     "name": "stdout",
     "output_type": "stream",
     "text": [
      "shape: (32, 1)\n",
      "┌───────────────────────────────────┐\n",
      "│ Table 1.1.1. Percent Change From… │\n",
      "│ ---                               │\n",
      "│ str                               │\n",
      "╞═══════════════════════════════════╡\n",
      "│ Table 1.1.1. Percent Change From… │\n",
      "│ Last Revised on: April 27, 2023 … │\n",
      "│ Line                              │\n",
      "│ Line                              │\n",
      "│ …                                 │\n",
      "│ 25                                │\n",
      "│ 26                                │\n",
      "│ null                              │\n",
      "│ 27                                │\n",
      "└───────────────────────────────────┘\n"
     ]
    }
   ],
   "source": [
    "print(gdp)"
   ]
  },
  {
   "cell_type": "code",
   "execution_count": null,
   "id": "9c001810",
   "metadata": {},
   "outputs": [],
   "source": []
  }
 ],
 "metadata": {
  "kernelspec": {
   "display_name": "venv",
   "language": "python",
   "name": "venv"
  },
  "language_info": {
   "codemirror_mode": {
    "name": "ipython",
    "version": 3
   },
   "file_extension": ".py",
   "mimetype": "text/x-python",
   "name": "python",
   "nbconvert_exporter": "python",
   "pygments_lexer": "ipython3",
   "version": "3.10.11"
  }
 },
 "nbformat": 4,
 "nbformat_minor": 5
}
