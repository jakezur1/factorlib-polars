{
 "cells": [
  {
   "cell_type": "code",
   "execution_count": null,
   "metadata": {
    "collapsed": true
   },
   "outputs": [],
   "source": [
    "import pandas as pd\n",
    "import numpy as np\n",
    "import polars as pl\n",
    "\n",
    "from statsmodels.tsa.seasonal import seasonal_decompose\n",
    "from factorlib.utils.system import get_data_dir"
   ]
  },
  {
   "cell_type": "code",
   "execution_count": null,
   "outputs": [],
   "source": [
    "raw_data_dir = get_data_dir() / 'raw'\n",
    "ohclv_raw = pl.scan_csv(raw_data_dir / 'ohclv_daily.csv', try_parse_dates=True).collect(streaming=True)\n",
    "ohclv_raw"
   ],
   "metadata": {
    "collapsed": false
   }
  },
  {
   "cell_type": "code",
   "execution_count": null,
   "outputs": [],
   "source": [
    "closes_raw = ohclv_raw.lazy().select(pl.col('date_index'), pl.col('ticker'), pl.col('prccd')).collect(streaming=True)\n",
    "closes_raw = closes_raw.to_pandas().set_index('date_index')\n",
    "closes_raw"
   ],
   "metadata": {
    "collapsed": false
   }
  },
  {
   "cell_type": "code",
   "execution_count": null,
   "outputs": [],
   "source": [
    "returns = closes_raw\n",
    "returns['ret'] = closes_raw.groupby('ticker').pct_change().dropna()"
   ],
   "metadata": {
    "collapsed": false
   }
  },
  {
   "cell_type": "code",
   "execution_count": null,
   "outputs": [],
   "source": [
    "decomposition = seasonal_decompose(returns['ret'], model='additive')\n",
    "seasonal_decomposition = returns\n",
    "seasonal_decomposition['trend'] = decomposition.trend\n",
    "seasonal_decomposition['seasonality'] = decomposition.seasonal\n",
    "seasonal_decomposition['resid'] = decomposition.resid"
   ],
   "metadata": {
    "collapsed": false
   }
  },
  {
   "cell_type": "code",
   "execution_count": null,
   "outputs": [],
   "source": [
    "seasonal_decomposition_factor = seasonal_decomposition\n",
    "seasonal_decomposition_factor = seasonal_decomposition_factor.drop(columns=['ret', 'prccd'])\n",
    "seasonal_decomposition_factor.to_csv('seasonal_decomposition.csv')"
   ],
   "metadata": {
    "collapsed": false
   }
  }
 ],
 "metadata": {
  "kernelspec": {
   "name": "venv",
   "language": "python",
   "display_name": "venv"
  },
  "language_info": {
   "codemirror_mode": {
    "name": "ipython",
    "version": 2
   },
   "file_extension": ".py",
   "mimetype": "text/x-python",
   "name": "python",
   "nbconvert_exporter": "python",
   "pygments_lexer": "ipython2",
   "version": "2.7.6"
  }
 },
 "nbformat": 4,
 "nbformat_minor": 0
}
