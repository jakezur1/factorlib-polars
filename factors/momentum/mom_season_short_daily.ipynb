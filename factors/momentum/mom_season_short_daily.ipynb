{
 "cells": [
  {
   "cell_type": "code",
   "execution_count": 35,
   "metadata": {
    "collapsed": true
   },
   "outputs": [],
   "source": [
    "import pandas as pd\n",
    "import polars as pl\n",
    "\n",
    "from factorlib.utils.system import get_data_dir\n",
    "from factorlib.utils.helpers import resample"
   ]
  },
  {
   "cell_type": "code",
   "execution_count": 36,
   "outputs": [
    {
     "data": {
      "text/plain": "shape: (16_083_126, 17)\n┌────────┬─────┬────────────┬────────┬───┬───────┬────────┬────────┬────────┐\n│ GVKEY  ┆ iid ┆ date_index ┆ ticker ┆ … ┆ prcod ┆ prchd  ┆ prcld  ┆ prccd  │\n│ ---    ┆ --- ┆ ---        ┆ ---    ┆   ┆ ---   ┆ ---    ┆ ---    ┆ ---    │\n│ i64    ┆ i64 ┆ date       ┆ str    ┆   ┆ str   ┆ f64    ┆ f64    ┆ f64    │\n╞════════╪═════╪════════════╪════════╪═══╪═══════╪════════╪════════╪════════╡\n│ 126554 ┆ 1   ┆ 2002-01-02 ┆ A      ┆ … ┆ null  ┆ 29.34  ┆ 28.46  ┆ 29.25  │\n│ 126554 ┆ 1   ┆ 2002-01-03 ┆ A      ┆ … ┆ null  ┆ 31.2   ┆ 29.42  ┆ 31.1   │\n│ 126554 ┆ 1   ┆ 2002-01-04 ┆ A      ┆ … ┆ null  ┆ 32.94  ┆ 31.65  ┆ 32.78  │\n│ 126554 ┆ 1   ┆ 2002-01-07 ┆ A      ┆ … ┆ null  ┆ 32.89  ┆ 32.2   ┆ 32.65  │\n│ …      ┆ …   ┆ …          ┆ …      ┆ … ┆ …     ┆ …      ┆ …      ┆ …      │\n│ 25128  ┆ 1   ┆ 2023-02-28 ┆ ZYNE   ┆ … ┆ 0.51  ┆ 0.5189 ┆ 0.46   ┆ 0.462  │\n│ 25128  ┆ 1   ┆ 2023-03-01 ┆ ZYNE   ┆ … ┆ 0.5   ┆ 0.503  ┆ 0.4629 ┆ 0.4629 │\n│ 25128  ┆ 1   ┆ 2023-03-02 ┆ ZYNE   ┆ … ┆ 0.48  ┆ 0.493  ┆ 0.454  ┆ 0.489  │\n│ 25128  ┆ 1   ┆ 2023-03-03 ┆ ZYNE   ┆ … ┆ 0.47  ┆ 0.4962 ┆ 0.4639 ┆ 0.4962 │\n└────────┴─────┴────────────┴────────┴───┴───────┴────────┴────────┴────────┘",
      "text/html": "<div><style>\n.dataframe > thead > tr > th,\n.dataframe > tbody > tr > td {\n  text-align: right;\n}\n</style>\n<small>shape: (16_083_126, 17)</small><table border=\"1\" class=\"dataframe\"><thead><tr><th>GVKEY</th><th>iid</th><th>date_index</th><th>ticker</th><th>conm</th><th>divd</th><th>cshtrd</th><th>eps</th><th>busdesc</th><th>gind</th><th>gsector</th><th>gsubind</th><th>sic</th><th>prcod</th><th>prchd</th><th>prcld</th><th>prccd</th></tr><tr><td>i64</td><td>i64</td><td>date</td><td>str</td><td>str</td><td>str</td><td>f64</td><td>f64</td><td>str</td><td>i64</td><td>i64</td><td>i64</td><td>i64</td><td>str</td><td>f64</td><td>f64</td><td>f64</td></tr></thead><tbody><tr><td>126554</td><td>1</td><td>2002-01-02</td><td>&quot;A&quot;</td><td>&quot;AGILENT TECHNO…</td><td>null</td><td>2.1593e6</td><td>0.38</td><td>&quot;Agilent Techno…</td><td>352030</td><td>35</td><td>35203010</td><td>3826</td><td>null</td><td>29.34</td><td>28.46</td><td>29.25</td></tr><tr><td>126554</td><td>1</td><td>2002-01-03</td><td>&quot;A&quot;</td><td>&quot;AGILENT TECHNO…</td><td>null</td><td>3.2606e6</td><td>0.38</td><td>&quot;Agilent Techno…</td><td>352030</td><td>35</td><td>35203010</td><td>3826</td><td>null</td><td>31.2</td><td>29.42</td><td>31.1</td></tr><tr><td>126554</td><td>1</td><td>2002-01-04</td><td>&quot;A&quot;</td><td>&quot;AGILENT TECHNO…</td><td>null</td><td>5.1182e6</td><td>0.38</td><td>&quot;Agilent Techno…</td><td>352030</td><td>35</td><td>35203010</td><td>3826</td><td>null</td><td>32.94</td><td>31.65</td><td>32.78</td></tr><tr><td>126554</td><td>1</td><td>2002-01-07</td><td>&quot;A&quot;</td><td>&quot;AGILENT TECHNO…</td><td>null</td><td>3.8092e6</td><td>0.38</td><td>&quot;Agilent Techno…</td><td>352030</td><td>35</td><td>35203010</td><td>3826</td><td>null</td><td>32.89</td><td>32.2</td><td>32.65</td></tr><tr><td>126554</td><td>1</td><td>2002-01-08</td><td>&quot;A&quot;</td><td>&quot;AGILENT TECHNO…</td><td>null</td><td>2.4954e6</td><td>0.38</td><td>&quot;Agilent Techno…</td><td>352030</td><td>35</td><td>35203010</td><td>3826</td><td>null</td><td>32.89</td><td>32.25</td><td>32.75</td></tr><tr><td>126554</td><td>1</td><td>2002-01-09</td><td>&quot;A&quot;</td><td>&quot;AGILENT TECHNO…</td><td>null</td><td>2.1168e6</td><td>0.38</td><td>&quot;Agilent Techno…</td><td>352030</td><td>35</td><td>35203010</td><td>3826</td><td>null</td><td>33.3</td><td>31.69</td><td>31.97</td></tr><tr><td>126554</td><td>1</td><td>2002-01-10</td><td>&quot;A&quot;</td><td>&quot;AGILENT TECHNO…</td><td>null</td><td>1.2381e6</td><td>0.38</td><td>&quot;Agilent Techno…</td><td>352030</td><td>35</td><td>35203010</td><td>3826</td><td>null</td><td>31.97</td><td>31.3</td><td>31.72</td></tr><tr><td>126554</td><td>1</td><td>2002-01-11</td><td>&quot;A&quot;</td><td>&quot;AGILENT TECHNO…</td><td>null</td><td>1.4162e6</td><td>0.38</td><td>&quot;Agilent Techno…</td><td>352030</td><td>35</td><td>35203010</td><td>3826</td><td>null</td><td>31.9</td><td>30.71</td><td>31.04</td></tr><tr><td>126554</td><td>1</td><td>2002-01-14</td><td>&quot;A&quot;</td><td>&quot;AGILENT TECHNO…</td><td>null</td><td>2.2298e6</td><td>0.38</td><td>&quot;Agilent Techno…</td><td>352030</td><td>35</td><td>35203010</td><td>3826</td><td>null</td><td>30.62</td><td>30.07</td><td>30.42</td></tr><tr><td>126554</td><td>1</td><td>2002-01-15</td><td>&quot;A&quot;</td><td>&quot;AGILENT TECHNO…</td><td>null</td><td>1.86e6</td><td>0.38</td><td>&quot;Agilent Techno…</td><td>352030</td><td>35</td><td>35203010</td><td>3826</td><td>null</td><td>31.15</td><td>30.18</td><td>30.45</td></tr><tr><td>126554</td><td>1</td><td>2002-01-16</td><td>&quot;A&quot;</td><td>&quot;AGILENT TECHNO…</td><td>null</td><td>2.5589e6</td><td>0.38</td><td>&quot;Agilent Techno…</td><td>352030</td><td>35</td><td>35203010</td><td>3826</td><td>null</td><td>29.8</td><td>28.65</td><td>28.86</td></tr><tr><td>126554</td><td>1</td><td>2002-01-17</td><td>&quot;A&quot;</td><td>&quot;AGILENT TECHNO…</td><td>null</td><td>1.426e6</td><td>0.38</td><td>&quot;Agilent Techno…</td><td>352030</td><td>35</td><td>35203010</td><td>3826</td><td>null</td><td>29.49</td><td>28.62</td><td>29.37</td></tr><tr><td>&hellip;</td><td>&hellip;</td><td>&hellip;</td><td>&hellip;</td><td>&hellip;</td><td>&hellip;</td><td>&hellip;</td><td>&hellip;</td><td>&hellip;</td><td>&hellip;</td><td>&hellip;</td><td>&hellip;</td><td>&hellip;</td><td>&hellip;</td><td>&hellip;</td><td>&hellip;</td><td>&hellip;</td></tr><tr><td>25128</td><td>1</td><td>2023-02-15</td><td>&quot;ZYNE&quot;</td><td>&quot;ZYNERBA PHARMA…</td><td>null</td><td>511549.0</td><td>-0.87</td><td>&quot;Zynerba Pharma…</td><td>352020</td><td>35</td><td>35202010</td><td>2834</td><td>&quot;0.5545&quot;</td><td>0.5578</td><td>0.5261</td><td>0.5428</td></tr><tr><td>25128</td><td>1</td><td>2023-02-16</td><td>&quot;ZYNE&quot;</td><td>&quot;ZYNERBA PHARMA…</td><td>null</td><td>268797.0</td><td>-0.87</td><td>&quot;Zynerba Pharma…</td><td>352020</td><td>35</td><td>35202010</td><td>2834</td><td>&quot;0.56&quot;</td><td>0.568</td><td>0.5214</td><td>0.5572</td></tr><tr><td>25128</td><td>1</td><td>2023-02-17</td><td>&quot;ZYNE&quot;</td><td>&quot;ZYNERBA PHARMA…</td><td>null</td><td>218631.0</td><td>-0.87</td><td>&quot;Zynerba Pharma…</td><td>352020</td><td>35</td><td>35202010</td><td>2834</td><td>&quot;0.55&quot;</td><td>0.56</td><td>0.5181</td><td>0.5181</td></tr><tr><td>25128</td><td>1</td><td>2023-02-21</td><td>&quot;ZYNE&quot;</td><td>&quot;ZYNERBA PHARMA…</td><td>null</td><td>411740.0</td><td>-0.87</td><td>&quot;Zynerba Pharma…</td><td>352020</td><td>35</td><td>35202010</td><td>2834</td><td>&quot;0.55&quot;</td><td>0.55</td><td>0.5</td><td>0.5</td></tr><tr><td>25128</td><td>1</td><td>2023-02-22</td><td>&quot;ZYNE&quot;</td><td>&quot;ZYNERBA PHARMA…</td><td>null</td><td>261567.0</td><td>-0.87</td><td>&quot;Zynerba Pharma…</td><td>352020</td><td>35</td><td>35202010</td><td>2834</td><td>&quot;0.5&quot;</td><td>0.53</td><td>0.492</td><td>0.53</td></tr><tr><td>25128</td><td>1</td><td>2023-02-23</td><td>&quot;ZYNE&quot;</td><td>&quot;ZYNERBA PHARMA…</td><td>null</td><td>164182.0</td><td>-0.87</td><td>&quot;Zynerba Pharma…</td><td>352020</td><td>35</td><td>35202010</td><td>2834</td><td>&quot;0.525&quot;</td><td>0.53</td><td>0.499</td><td>0.499</td></tr><tr><td>25128</td><td>1</td><td>2023-02-24</td><td>&quot;ZYNE&quot;</td><td>&quot;ZYNERBA PHARMA…</td><td>null</td><td>212538.0</td><td>-0.87</td><td>&quot;Zynerba Pharma…</td><td>352020</td><td>35</td><td>35202010</td><td>2834</td><td>&quot;0.5&quot;</td><td>0.52</td><td>0.481</td><td>0.52</td></tr><tr><td>25128</td><td>1</td><td>2023-02-27</td><td>&quot;ZYNE&quot;</td><td>&quot;ZYNERBA PHARMA…</td><td>null</td><td>98745.0</td><td>-0.87</td><td>&quot;Zynerba Pharma…</td><td>352020</td><td>35</td><td>35202010</td><td>2834</td><td>&quot;0.52&quot;</td><td>0.52</td><td>0.4955</td><td>0.519</td></tr><tr><td>25128</td><td>1</td><td>2023-02-28</td><td>&quot;ZYNE&quot;</td><td>&quot;ZYNERBA PHARMA…</td><td>null</td><td>235009.0</td><td>-0.87</td><td>&quot;Zynerba Pharma…</td><td>352020</td><td>35</td><td>35202010</td><td>2834</td><td>&quot;0.51&quot;</td><td>0.5189</td><td>0.46</td><td>0.462</td></tr><tr><td>25128</td><td>1</td><td>2023-03-01</td><td>&quot;ZYNE&quot;</td><td>&quot;ZYNERBA PHARMA…</td><td>null</td><td>306714.0</td><td>-0.87</td><td>&quot;Zynerba Pharma…</td><td>352020</td><td>35</td><td>35202010</td><td>2834</td><td>&quot;0.5&quot;</td><td>0.503</td><td>0.4629</td><td>0.4629</td></tr><tr><td>25128</td><td>1</td><td>2023-03-02</td><td>&quot;ZYNE&quot;</td><td>&quot;ZYNERBA PHARMA…</td><td>null</td><td>286371.0</td><td>-0.87</td><td>&quot;Zynerba Pharma…</td><td>352020</td><td>35</td><td>35202010</td><td>2834</td><td>&quot;0.48&quot;</td><td>0.493</td><td>0.454</td><td>0.489</td></tr><tr><td>25128</td><td>1</td><td>2023-03-03</td><td>&quot;ZYNE&quot;</td><td>&quot;ZYNERBA PHARMA…</td><td>null</td><td>249243.0</td><td>-0.87</td><td>&quot;Zynerba Pharma…</td><td>352020</td><td>35</td><td>35202010</td><td>2834</td><td>&quot;0.47&quot;</td><td>0.4962</td><td>0.4639</td><td>0.4962</td></tr></tbody></table></div>"
     },
     "execution_count": 36,
     "metadata": {},
     "output_type": "execute_result"
    }
   ],
   "source": [
    "raw_data_dir = get_data_dir() / 'raw'\n",
    "ohclv_raw = pl.scan_csv(raw_data_dir / 'ohclv_daily.csv', try_parse_dates=True).collect(streaming=True)\n",
    "ohclv_raw"
   ],
   "metadata": {
    "collapsed": false
   }
  },
  {
   "cell_type": "code",
   "execution_count": 37,
   "outputs": [
    {
     "data": {
      "text/plain": "shape: (16_083_126, 3)\n┌────────────┬────────┬────────┐\n│ date_index ┆ ticker ┆ prccd  │\n│ ---        ┆ ---    ┆ ---    │\n│ date       ┆ str    ┆ f64    │\n╞════════════╪════════╪════════╡\n│ 2002-01-02 ┆ A      ┆ 29.25  │\n│ 2002-01-03 ┆ A      ┆ 31.1   │\n│ 2002-01-04 ┆ A      ┆ 32.78  │\n│ 2002-01-07 ┆ A      ┆ 32.65  │\n│ …          ┆ …      ┆ …      │\n│ 2023-02-28 ┆ ZYNE   ┆ 0.462  │\n│ 2023-03-01 ┆ ZYNE   ┆ 0.4629 │\n│ 2023-03-02 ┆ ZYNE   ┆ 0.489  │\n│ 2023-03-03 ┆ ZYNE   ┆ 0.4962 │\n└────────────┴────────┴────────┘",
      "text/html": "<div><style>\n.dataframe > thead > tr > th,\n.dataframe > tbody > tr > td {\n  text-align: right;\n}\n</style>\n<small>shape: (16_083_126, 3)</small><table border=\"1\" class=\"dataframe\"><thead><tr><th>date_index</th><th>ticker</th><th>prccd</th></tr><tr><td>date</td><td>str</td><td>f64</td></tr></thead><tbody><tr><td>2002-01-02</td><td>&quot;A&quot;</td><td>29.25</td></tr><tr><td>2002-01-03</td><td>&quot;A&quot;</td><td>31.1</td></tr><tr><td>2002-01-04</td><td>&quot;A&quot;</td><td>32.78</td></tr><tr><td>2002-01-07</td><td>&quot;A&quot;</td><td>32.65</td></tr><tr><td>2002-01-08</td><td>&quot;A&quot;</td><td>32.75</td></tr><tr><td>2002-01-09</td><td>&quot;A&quot;</td><td>31.97</td></tr><tr><td>2002-01-10</td><td>&quot;A&quot;</td><td>31.72</td></tr><tr><td>2002-01-11</td><td>&quot;A&quot;</td><td>31.04</td></tr><tr><td>2002-01-14</td><td>&quot;A&quot;</td><td>30.42</td></tr><tr><td>2002-01-15</td><td>&quot;A&quot;</td><td>30.45</td></tr><tr><td>2002-01-16</td><td>&quot;A&quot;</td><td>28.86</td></tr><tr><td>2002-01-17</td><td>&quot;A&quot;</td><td>29.37</td></tr><tr><td>&hellip;</td><td>&hellip;</td><td>&hellip;</td></tr><tr><td>2023-02-15</td><td>&quot;ZYNE&quot;</td><td>0.5428</td></tr><tr><td>2023-02-16</td><td>&quot;ZYNE&quot;</td><td>0.5572</td></tr><tr><td>2023-02-17</td><td>&quot;ZYNE&quot;</td><td>0.5181</td></tr><tr><td>2023-02-21</td><td>&quot;ZYNE&quot;</td><td>0.5</td></tr><tr><td>2023-02-22</td><td>&quot;ZYNE&quot;</td><td>0.53</td></tr><tr><td>2023-02-23</td><td>&quot;ZYNE&quot;</td><td>0.499</td></tr><tr><td>2023-02-24</td><td>&quot;ZYNE&quot;</td><td>0.52</td></tr><tr><td>2023-02-27</td><td>&quot;ZYNE&quot;</td><td>0.519</td></tr><tr><td>2023-02-28</td><td>&quot;ZYNE&quot;</td><td>0.462</td></tr><tr><td>2023-03-01</td><td>&quot;ZYNE&quot;</td><td>0.4629</td></tr><tr><td>2023-03-02</td><td>&quot;ZYNE&quot;</td><td>0.489</td></tr><tr><td>2023-03-03</td><td>&quot;ZYNE&quot;</td><td>0.4962</td></tr></tbody></table></div>"
     },
     "execution_count": 37,
     "metadata": {},
     "output_type": "execute_result"
    }
   ],
   "source": [
    "closes_raw = ohclv_raw.lazy().select(pl.col('date_index'), pl.col('ticker'), pl.col('prccd')).collect(streaming=True)\n",
    "closes_raw = closes_raw.sort(['ticker', 'date_index'])\n",
    "closes_raw"
   ],
   "metadata": {
    "collapsed": false
   }
  },
  {
   "cell_type": "code",
   "execution_count": 38,
   "outputs": [
    {
     "data": {
      "text/plain": "           ticker    prccd       ret\ndate_index                          \n2002-01-02      A  29.2500       NaN\n2002-01-03      A  31.1000  0.063248\n2002-01-04      A  32.7800  0.054019\n2002-01-07      A  32.6500 -0.003966\n2002-01-08      A  32.7500  0.003063\n...           ...      ...       ...\n2023-02-27   ZYNE   0.5190 -0.001923\n2023-02-28   ZYNE   0.4620 -0.109827\n2023-03-01   ZYNE   0.4629  0.001948\n2023-03-02   ZYNE   0.4890  0.056384\n2023-03-03   ZYNE   0.4962  0.014724\n\n[16083126 rows x 3 columns]",
      "text/html": "<div>\n<style scoped>\n    .dataframe tbody tr th:only-of-type {\n        vertical-align: middle;\n    }\n\n    .dataframe tbody tr th {\n        vertical-align: top;\n    }\n\n    .dataframe thead th {\n        text-align: right;\n    }\n</style>\n<table border=\"1\" class=\"dataframe\">\n  <thead>\n    <tr style=\"text-align: right;\">\n      <th></th>\n      <th>ticker</th>\n      <th>prccd</th>\n      <th>ret</th>\n    </tr>\n    <tr>\n      <th>date_index</th>\n      <th></th>\n      <th></th>\n      <th></th>\n    </tr>\n  </thead>\n  <tbody>\n    <tr>\n      <th>2002-01-02</th>\n      <td>A</td>\n      <td>29.2500</td>\n      <td>NaN</td>\n    </tr>\n    <tr>\n      <th>2002-01-03</th>\n      <td>A</td>\n      <td>31.1000</td>\n      <td>0.063248</td>\n    </tr>\n    <tr>\n      <th>2002-01-04</th>\n      <td>A</td>\n      <td>32.7800</td>\n      <td>0.054019</td>\n    </tr>\n    <tr>\n      <th>2002-01-07</th>\n      <td>A</td>\n      <td>32.6500</td>\n      <td>-0.003966</td>\n    </tr>\n    <tr>\n      <th>2002-01-08</th>\n      <td>A</td>\n      <td>32.7500</td>\n      <td>0.003063</td>\n    </tr>\n    <tr>\n      <th>...</th>\n      <td>...</td>\n      <td>...</td>\n      <td>...</td>\n    </tr>\n    <tr>\n      <th>2023-02-27</th>\n      <td>ZYNE</td>\n      <td>0.5190</td>\n      <td>-0.001923</td>\n    </tr>\n    <tr>\n      <th>2023-02-28</th>\n      <td>ZYNE</td>\n      <td>0.4620</td>\n      <td>-0.109827</td>\n    </tr>\n    <tr>\n      <th>2023-03-01</th>\n      <td>ZYNE</td>\n      <td>0.4629</td>\n      <td>0.001948</td>\n    </tr>\n    <tr>\n      <th>2023-03-02</th>\n      <td>ZYNE</td>\n      <td>0.4890</td>\n      <td>0.056384</td>\n    </tr>\n    <tr>\n      <th>2023-03-03</th>\n      <td>ZYNE</td>\n      <td>0.4962</td>\n      <td>0.014724</td>\n    </tr>\n  </tbody>\n</table>\n<p>16083126 rows × 3 columns</p>\n</div>"
     },
     "execution_count": 38,
     "metadata": {},
     "output_type": "execute_result"
    }
   ],
   "source": [
    "returns = closes_raw.to_pandas().set_index('date_index')\n",
    "returns['ret'] = returns.groupby('ticker')['prccd'].pct_change()\n",
    "returns"
   ],
   "metadata": {
    "collapsed": false
   }
  },
  {
   "cell_type": "code",
   "execution_count": 39,
   "outputs": [
    {
     "data": {
      "text/plain": "           ticker    prccd       ret  MomSeasonShort\ndate_index                                          \n2003-06-13      A  18.9200  0.004246        0.000000\n2003-06-16      A  19.2400  0.016913        0.063248\n2003-06-17      A  19.2400  0.000000        0.054019\n2003-06-18      A  19.5600  0.016632       -0.003966\n2003-06-19      A  19.2600 -0.015337        0.003063\n...           ...      ...       ...             ...\n2023-02-27   ZYNE   0.5190 -0.001923        0.009281\n2023-02-28   ZYNE   0.4620 -0.109827       -0.006897\n2023-03-01   ZYNE   0.4629  0.001948       -0.020833\n2023-03-02   ZYNE   0.4890  0.056384       -0.014184\n2023-03-03   ZYNE   0.4962  0.014724        0.043165\n\n[16081974 rows x 4 columns]",
      "text/html": "<div>\n<style scoped>\n    .dataframe tbody tr th:only-of-type {\n        vertical-align: middle;\n    }\n\n    .dataframe tbody tr th {\n        vertical-align: top;\n    }\n\n    .dataframe thead th {\n        text-align: right;\n    }\n</style>\n<table border=\"1\" class=\"dataframe\">\n  <thead>\n    <tr style=\"text-align: right;\">\n      <th></th>\n      <th>ticker</th>\n      <th>prccd</th>\n      <th>ret</th>\n      <th>MomSeasonShort</th>\n    </tr>\n    <tr>\n      <th>date_index</th>\n      <th></th>\n      <th></th>\n      <th></th>\n      <th></th>\n    </tr>\n  </thead>\n  <tbody>\n    <tr>\n      <th>2003-06-13</th>\n      <td>A</td>\n      <td>18.9200</td>\n      <td>0.004246</td>\n      <td>0.000000</td>\n    </tr>\n    <tr>\n      <th>2003-06-16</th>\n      <td>A</td>\n      <td>19.2400</td>\n      <td>0.016913</td>\n      <td>0.063248</td>\n    </tr>\n    <tr>\n      <th>2003-06-17</th>\n      <td>A</td>\n      <td>19.2400</td>\n      <td>0.000000</td>\n      <td>0.054019</td>\n    </tr>\n    <tr>\n      <th>2003-06-18</th>\n      <td>A</td>\n      <td>19.5600</td>\n      <td>0.016632</td>\n      <td>-0.003966</td>\n    </tr>\n    <tr>\n      <th>2003-06-19</th>\n      <td>A</td>\n      <td>19.2600</td>\n      <td>-0.015337</td>\n      <td>0.003063</td>\n    </tr>\n    <tr>\n      <th>...</th>\n      <td>...</td>\n      <td>...</td>\n      <td>...</td>\n      <td>...</td>\n    </tr>\n    <tr>\n      <th>2023-02-27</th>\n      <td>ZYNE</td>\n      <td>0.5190</td>\n      <td>-0.001923</td>\n      <td>0.009281</td>\n    </tr>\n    <tr>\n      <th>2023-02-28</th>\n      <td>ZYNE</td>\n      <td>0.4620</td>\n      <td>-0.109827</td>\n      <td>-0.006897</td>\n    </tr>\n    <tr>\n      <th>2023-03-01</th>\n      <td>ZYNE</td>\n      <td>0.4629</td>\n      <td>0.001948</td>\n      <td>-0.020833</td>\n    </tr>\n    <tr>\n      <th>2023-03-02</th>\n      <td>ZYNE</td>\n      <td>0.4890</td>\n      <td>0.056384</td>\n      <td>-0.014184</td>\n    </tr>\n    <tr>\n      <th>2023-03-03</th>\n      <td>ZYNE</td>\n      <td>0.4962</td>\n      <td>0.014724</td>\n      <td>0.043165</td>\n    </tr>\n  </tbody>\n</table>\n<p>16081974 rows × 4 columns</p>\n</div>"
     },
     "execution_count": 39,
     "metadata": {},
     "output_type": "execute_result"
    }
   ],
   "source": [
    "with_mom_season = returns\n",
    "with_mom_season['ret'] = with_mom_season['ret'].fillna(0)\n",
    "with_mom_season['MomSeasonShort'] = with_mom_season['ret'].shift(364)\n",
    "with_mom_season.dropna(inplace=True)\n",
    "with_mom_season"
   ],
   "metadata": {
    "collapsed": false
   }
  },
  {
   "cell_type": "code",
   "execution_count": 40,
   "outputs": [
    {
     "name": "stderr",
     "output_type": "stream",
     "text": [
      "\n",
      "A value is trying to be set on a copy of a slice from a DataFrame\n",
      "\n",
      "See the caveats in the documentation: https://pandas.pydata.org/pandas-docs/stable/user_guide/indexing.html#returning-a-view-versus-a-copy\n"
     ]
    },
    {
     "data": {
      "text/plain": "           ticker  mom_season_short_daily\ndate_index                               \n2003-06-13      A                0.000000\n2003-06-16      A                0.063248\n2003-06-17      A                0.054019\n2003-06-18      A               -0.003966\n2003-06-19      A                0.003063\n...           ...                     ...\n2023-02-27   ZYNE                0.009281\n2023-02-28   ZYNE               -0.006897\n2023-03-01   ZYNE               -0.020833\n2023-03-02   ZYNE               -0.014184\n2023-03-03   ZYNE                0.043165\n\n[16081974 rows x 2 columns]",
      "text/html": "<div>\n<style scoped>\n    .dataframe tbody tr th:only-of-type {\n        vertical-align: middle;\n    }\n\n    .dataframe tbody tr th {\n        vertical-align: top;\n    }\n\n    .dataframe thead th {\n        text-align: right;\n    }\n</style>\n<table border=\"1\" class=\"dataframe\">\n  <thead>\n    <tr style=\"text-align: right;\">\n      <th></th>\n      <th>ticker</th>\n      <th>mom_season_short_daily</th>\n    </tr>\n    <tr>\n      <th>date_index</th>\n      <th></th>\n      <th></th>\n    </tr>\n  </thead>\n  <tbody>\n    <tr>\n      <th>2003-06-13</th>\n      <td>A</td>\n      <td>0.000000</td>\n    </tr>\n    <tr>\n      <th>2003-06-16</th>\n      <td>A</td>\n      <td>0.063248</td>\n    </tr>\n    <tr>\n      <th>2003-06-17</th>\n      <td>A</td>\n      <td>0.054019</td>\n    </tr>\n    <tr>\n      <th>2003-06-18</th>\n      <td>A</td>\n      <td>-0.003966</td>\n    </tr>\n    <tr>\n      <th>2003-06-19</th>\n      <td>A</td>\n      <td>0.003063</td>\n    </tr>\n    <tr>\n      <th>...</th>\n      <td>...</td>\n      <td>...</td>\n    </tr>\n    <tr>\n      <th>2023-02-27</th>\n      <td>ZYNE</td>\n      <td>0.009281</td>\n    </tr>\n    <tr>\n      <th>2023-02-28</th>\n      <td>ZYNE</td>\n      <td>-0.006897</td>\n    </tr>\n    <tr>\n      <th>2023-03-01</th>\n      <td>ZYNE</td>\n      <td>-0.020833</td>\n    </tr>\n    <tr>\n      <th>2023-03-02</th>\n      <td>ZYNE</td>\n      <td>-0.014184</td>\n    </tr>\n    <tr>\n      <th>2023-03-03</th>\n      <td>ZYNE</td>\n      <td>0.043165</td>\n    </tr>\n  </tbody>\n</table>\n<p>16081974 rows × 2 columns</p>\n</div>"
     },
     "execution_count": 40,
     "metadata": {},
     "output_type": "execute_result"
    }
   ],
   "source": [
    "mom_season_short_daily = with_mom_season[['ticker', 'MomSeasonShort']]\n",
    "mom_season_short_daily.rename(columns={'MomSeasonShort': 'mom_season_short_daily'}, inplace=True)\n",
    "mom_season_short_daily"
   ],
   "metadata": {
    "collapsed": false
   }
  },
  {
   "cell_type": "code",
   "execution_count": 41,
   "outputs": [],
   "source": [
    "momentum_data_dir = get_data_dir() / 'momentum'\n",
    "mom_season_short_daily.to_csv(momentum_data_dir / 'mom_season_short_daily.csv')"
   ],
   "metadata": {
    "collapsed": false
   }
  },
  {
   "cell_type": "code",
   "execution_count": null,
   "outputs": [],
   "source": [],
   "metadata": {
    "collapsed": false
   }
  }
 ],
 "metadata": {
  "kernelspec": {
   "name": "venv",
   "language": "python",
   "display_name": "venv"
  },
  "language_info": {
   "codemirror_mode": {
    "name": "ipython",
    "version": 2
   },
   "file_extension": ".py",
   "mimetype": "text/x-python",
   "name": "python",
   "nbconvert_exporter": "python",
   "pygments_lexer": "ipython2",
   "version": "2.7.6"
  }
 },
 "nbformat": 4,
 "nbformat_minor": 0
}
