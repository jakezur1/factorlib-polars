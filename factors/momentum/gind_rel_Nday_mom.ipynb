{
 "cells": [
  {
   "cell_type": "code",
   "execution_count": 129,
   "outputs": [],
   "source": [
    "import polars as pl\n",
    "import pandas as pd\n",
    "import numpy as np\n",
    "import datetime as dt\n",
    "\n",
    "from factorlib.utils.system import get_data_dir"
   ],
   "metadata": {
    "collapsed": false
   }
  },
  {
   "cell_type": "code",
   "execution_count": 29,
   "outputs": [
    {
     "data": {
      "text/plain": "shape: (32_127_394, 17)\n┌────────┬─────┬────────────┬─────┬───┬───────┬───────┬───────┬───────┐\n│ GVKEY  ┆ iid ┆ datadate   ┆ tic ┆ … ┆ prcod ┆ prchd ┆ prcld ┆ prccd │\n│ ---    ┆ --- ┆ ---        ┆ --- ┆   ┆ ---   ┆ ---   ┆ ---   ┆ ---   │\n│ i64    ┆ i64 ┆ date       ┆ str ┆   ┆ f64   ┆ f64   ┆ f64   ┆ f64   │\n╞════════╪═════╪════════════╪═════╪═══╪═══════╪═══════╪═══════╪═══════╡\n│ 1004   ┆ 1   ┆ 2013-10-24 ┆ AIR ┆ … ┆ 29.21 ┆ 29.67 ┆ 29.08 ┆ 29.38 │\n│ 1004   ┆ 1   ┆ 2002-03-01 ┆ AIR ┆ … ┆ null  ┆ 7.45  ┆ 7.15  ┆ 7.44  │\n│ 1004   ┆ 1   ┆ 2007-11-30 ┆ AIR ┆ … ┆ 32.99 ┆ 33.75 ┆ 32.81 ┆ 33.02 │\n│ 1004   ┆ 1   ┆ 2015-06-30 ┆ AIR ┆ … ┆ 32.1  ┆ 32.17 ┆ 31.73 ┆ 31.87 │\n│ …      ┆ …   ┆ …          ┆ …   ┆ … ┆ …     ┆ …     ┆ …     ┆ …     │\n│ 353444 ┆ 90  ┆ 2022-07-27 ┆ HLN ┆ … ┆ 7.51  ┆ 7.56  ┆ 7.23  ┆ 7.32  │\n│ 353444 ┆ 90  ┆ 2022-07-26 ┆ HLN ┆ … ┆ 7.31  ┆ 7.41  ┆ 7.29  ┆ 7.35  │\n│ 353444 ┆ 90  ┆ 2022-07-25 ┆ HLN ┆ … ┆ 7.41  ┆ 7.45  ┆ 7.16  ┆ 7.3   │\n│ 353444 ┆ 90  ┆ 2022-07-22 ┆ HLN ┆ … ┆ 7.55  ┆ 7.65  ┆ 7.4   ┆ 7.41  │\n└────────┴─────┴────────────┴─────┴───┴───────┴───────┴───────┴───────┘",
      "text/html": "<div><style>\n.dataframe > thead > tr > th,\n.dataframe > tbody > tr > td {\n  text-align: right;\n}\n</style>\n<small>shape: (32_127_394, 17)</small><table border=\"1\" class=\"dataframe\"><thead><tr><th>GVKEY</th><th>iid</th><th>datadate</th><th>tic</th><th>conm</th><th>divd</th><th>cshtrd</th><th>eps</th><th>busdesc</th><th>gind</th><th>gsector</th><th>gsubind</th><th>sic</th><th>prcod</th><th>prchd</th><th>prcld</th><th>prccd</th></tr><tr><td>i64</td><td>i64</td><td>date</td><td>str</td><td>str</td><td>f64</td><td>f64</td><td>f64</td><td>str</td><td>i64</td><td>i64</td><td>i64</td><td>i64</td><td>f64</td><td>f64</td><td>f64</td><td>f64</td></tr></thead><tbody><tr><td>1004</td><td>1</td><td>2013-10-24</td><td>&quot;AIR&quot;</td><td>&quot;AAR CORP&quot;</td><td>null</td><td>351238.0</td><td>1.37</td><td>&quot;AAR Corp. prov…</td><td>201010</td><td>20</td><td>20101010</td><td>5080</td><td>29.21</td><td>29.67</td><td>29.08</td><td>29.38</td></tr><tr><td>1004</td><td>1</td><td>2002-03-01</td><td>&quot;AIR&quot;</td><td>&quot;AAR CORP&quot;</td><td>null</td><td>75300.0</td><td>-1.6</td><td>&quot;AAR Corp. prov…</td><td>201010</td><td>20</td><td>20101010</td><td>5080</td><td>null</td><td>7.45</td><td>7.15</td><td>7.44</td></tr><tr><td>1004</td><td>1</td><td>2007-11-30</td><td>&quot;AIR&quot;</td><td>&quot;AAR CORP&quot;</td><td>null</td><td>354300.0</td><td>1.7</td><td>&quot;AAR Corp. prov…</td><td>201010</td><td>20</td><td>20101010</td><td>5080</td><td>32.99</td><td>33.75</td><td>32.81</td><td>33.02</td></tr><tr><td>1004</td><td>1</td><td>2015-06-30</td><td>&quot;AIR&quot;</td><td>&quot;AAR CORP&quot;</td><td>null</td><td>248059.0</td><td>1.23</td><td>&quot;AAR Corp. prov…</td><td>201010</td><td>20</td><td>20101010</td><td>5080</td><td>32.1</td><td>32.17</td><td>31.73</td><td>31.87</td></tr><tr><td>1004</td><td>1</td><td>2019-11-08</td><td>&quot;AIR&quot;</td><td>&quot;AAR CORP&quot;</td><td>null</td><td>106407.0</td><td>2.37</td><td>&quot;AAR Corp. prov…</td><td>201010</td><td>20</td><td>20101010</td><td>5080</td><td>44.08</td><td>44.29</td><td>43.14</td><td>43.35</td></tr><tr><td>1004</td><td>1</td><td>2022-09-14</td><td>&quot;AIR&quot;</td><td>&quot;AAR CORP&quot;</td><td>null</td><td>303898.0</td><td>2.19</td><td>&quot;AAR Corp. prov…</td><td>201010</td><td>20</td><td>20101010</td><td>5080</td><td>41.39</td><td>41.81</td><td>40.31</td><td>41.0</td></tr><tr><td>1004</td><td>1</td><td>2003-07-11</td><td>&quot;AIR&quot;</td><td>&quot;AAR CORP&quot;</td><td>null</td><td>55900.0</td><td>-0.39</td><td>&quot;AAR Corp. prov…</td><td>201010</td><td>20</td><td>20101010</td><td>5080</td><td>null</td><td>6.9</td><td>6.27</td><td>6.89</td></tr><tr><td>1004</td><td>1</td><td>2014-01-13</td><td>&quot;AIR&quot;</td><td>&quot;AAR CORP&quot;</td><td>null</td><td>281396.0</td><td>1.44</td><td>&quot;AAR Corp. prov…</td><td>201010</td><td>20</td><td>20101010</td><td>5080</td><td>26.86</td><td>26.88</td><td>26.65</td><td>26.84</td></tr><tr><td>1004</td><td>1</td><td>2013-01-07</td><td>&quot;AIR&quot;</td><td>&quot;AAR CORP&quot;</td><td>null</td><td>303724.0</td><td>1.73</td><td>&quot;AAR Corp. prov…</td><td>201010</td><td>20</td><td>20101010</td><td>5080</td><td>20.03</td><td>20.16</td><td>19.68</td><td>19.75</td></tr><tr><td>1004</td><td>1</td><td>2021-07-22</td><td>&quot;AIR&quot;</td><td>&quot;AAR CORP&quot;</td><td>null</td><td>392224.0</td><td>1.31</td><td>&quot;AAR Corp. prov…</td><td>201010</td><td>20</td><td>20101010</td><td>5080</td><td>37.16</td><td>37.3</td><td>36.32</td><td>36.38</td></tr><tr><td>1004</td><td>1</td><td>2002-06-25</td><td>&quot;AIR&quot;</td><td>&quot;AAR CORP&quot;</td><td>null</td><td>147500.0</td><td>-1.87</td><td>&quot;AAR Corp. prov…</td><td>201010</td><td>20</td><td>20101010</td><td>5080</td><td>null</td><td>10.5</td><td>9.45</td><td>9.55</td></tr><tr><td>1004</td><td>1</td><td>2019-02-19</td><td>&quot;AIR&quot;</td><td>&quot;AAR CORP&quot;</td><td>null</td><td>308997.0</td><td>2.3</td><td>&quot;AAR Corp. prov…</td><td>201010</td><td>20</td><td>20101010</td><td>5080</td><td>37.68</td><td>38.35</td><td>37.54</td><td>37.92</td></tr><tr><td>&hellip;</td><td>&hellip;</td><td>&hellip;</td><td>&hellip;</td><td>&hellip;</td><td>&hellip;</td><td>&hellip;</td><td>&hellip;</td><td>&hellip;</td><td>&hellip;</td><td>&hellip;</td><td>&hellip;</td><td>&hellip;</td><td>&hellip;</td><td>&hellip;</td><td>&hellip;</td><td>&hellip;</td></tr><tr><td>353444</td><td>90</td><td>2022-08-08</td><td>&quot;HLN&quot;</td><td>&quot;HALEON PLC&quot;</td><td>null</td><td>8.003678e6</td><td>null</td><td>&quot;Haleon plc eng…</td><td>303020</td><td>30</td><td>30302010</td><td>2834</td><td>7.38</td><td>7.495</td><td>7.32</td><td>7.49</td></tr><tr><td>353444</td><td>90</td><td>2022-08-05</td><td>&quot;HLN&quot;</td><td>&quot;HALEON PLC&quot;</td><td>null</td><td>7.947168e6</td><td>null</td><td>&quot;Haleon plc eng…</td><td>303020</td><td>30</td><td>30302010</td><td>2834</td><td>7.33</td><td>7.51</td><td>7.32</td><td>7.47</td></tr><tr><td>353444</td><td>90</td><td>2022-08-04</td><td>&quot;HLN&quot;</td><td>&quot;HALEON PLC&quot;</td><td>null</td><td>8.784473e6</td><td>null</td><td>&quot;Haleon plc eng…</td><td>303020</td><td>30</td><td>30302010</td><td>2834</td><td>7.4</td><td>7.4</td><td>7.29</td><td>7.31</td></tr><tr><td>353444</td><td>90</td><td>2022-08-03</td><td>&quot;HLN&quot;</td><td>&quot;HALEON PLC&quot;</td><td>null</td><td>6.799236e6</td><td>null</td><td>&quot;Haleon plc eng…</td><td>303020</td><td>30</td><td>30302010</td><td>2834</td><td>7.41</td><td>7.47</td><td>7.3</td><td>7.3</td></tr><tr><td>353444</td><td>90</td><td>2022-08-02</td><td>&quot;HLN&quot;</td><td>&quot;HALEON PLC&quot;</td><td>null</td><td>6.512318e6</td><td>null</td><td>&quot;Haleon plc eng…</td><td>303020</td><td>30</td><td>30302010</td><td>2834</td><td>7.45</td><td>7.5588</td><td>7.35</td><td>7.4</td></tr><tr><td>353444</td><td>90</td><td>2022-08-01</td><td>&quot;HLN&quot;</td><td>&quot;HALEON PLC&quot;</td><td>null</td><td>7.488109e6</td><td>null</td><td>&quot;Haleon plc eng…</td><td>303020</td><td>30</td><td>30302010</td><td>2834</td><td>7.15</td><td>7.41</td><td>7.13</td><td>7.37</td></tr><tr><td>353444</td><td>90</td><td>2022-07-29</td><td>&quot;HLN&quot;</td><td>&quot;HALEON PLC&quot;</td><td>null</td><td>9.559218e6</td><td>null</td><td>&quot;Haleon plc eng…</td><td>303020</td><td>30</td><td>30302010</td><td>2834</td><td>6.92</td><td>7.08</td><td>6.89</td><td>7.03</td></tr><tr><td>353444</td><td>90</td><td>2022-07-28</td><td>&quot;HLN&quot;</td><td>&quot;HALEON PLC&quot;</td><td>null</td><td>1.527188e7</td><td>null</td><td>&quot;Haleon plc eng…</td><td>303020</td><td>30</td><td>30302010</td><td>2834</td><td>7.2</td><td>7.24</td><td>6.97</td><td>7.0</td></tr><tr><td>353444</td><td>90</td><td>2022-07-27</td><td>&quot;HLN&quot;</td><td>&quot;HALEON PLC&quot;</td><td>null</td><td>1.500676e7</td><td>null</td><td>&quot;Haleon plc eng…</td><td>303020</td><td>30</td><td>30302010</td><td>2834</td><td>7.51</td><td>7.56</td><td>7.23</td><td>7.32</td></tr><tr><td>353444</td><td>90</td><td>2022-07-26</td><td>&quot;HLN&quot;</td><td>&quot;HALEON PLC&quot;</td><td>null</td><td>2.723529e7</td><td>null</td><td>&quot;Haleon plc eng…</td><td>303020</td><td>30</td><td>30302010</td><td>2834</td><td>7.31</td><td>7.41</td><td>7.29</td><td>7.35</td></tr><tr><td>353444</td><td>90</td><td>2022-07-25</td><td>&quot;HLN&quot;</td><td>&quot;HALEON PLC&quot;</td><td>null</td><td>1.934979e7</td><td>null</td><td>&quot;Haleon plc eng…</td><td>303020</td><td>30</td><td>30302010</td><td>2834</td><td>7.41</td><td>7.45</td><td>7.16</td><td>7.3</td></tr><tr><td>353444</td><td>90</td><td>2022-07-22</td><td>&quot;HLN&quot;</td><td>&quot;HALEON PLC&quot;</td><td>null</td><td>1.209343e7</td><td>null</td><td>&quot;Haleon plc eng…</td><td>303020</td><td>30</td><td>30302010</td><td>2834</td><td>7.55</td><td>7.65</td><td>7.4</td><td>7.41</td></tr></tbody></table></div>"
     },
     "execution_count": 29,
     "metadata": {},
     "output_type": "execute_result"
    }
   ],
   "source": [
    "raw_data_dir = get_data_dir() / 'raw'\n",
    "ohclv_raw = pl.scan_csv(raw_data_dir / 'ohclv_daily.csv', try_parse_dates=True).collect(streaming=True)\n",
    "ohclv_raw"
   ],
   "metadata": {
    "collapsed": false
   }
  },
  {
   "cell_type": "code",
   "execution_count": 30,
   "outputs": [
    {
     "data": {
      "text/plain": "shape: (32_127_394, 5)\n┌────────────┬─────┬───────┬────────┬──────────┐\n│ datadate   ┆ tic ┆ prccd ┆ gind   ┆ gsubind  │\n│ ---        ┆ --- ┆ ---   ┆ ---    ┆ ---      │\n│ date       ┆ str ┆ f64   ┆ i64    ┆ i64      │\n╞════════════╪═════╪═══════╪════════╪══════════╡\n│ 2013-10-24 ┆ AIR ┆ 29.38 ┆ 201010 ┆ 20101010 │\n│ 2002-03-01 ┆ AIR ┆ 7.44  ┆ 201010 ┆ 20101010 │\n│ 2007-11-30 ┆ AIR ┆ 33.02 ┆ 201010 ┆ 20101010 │\n│ 2015-06-30 ┆ AIR ┆ 31.87 ┆ 201010 ┆ 20101010 │\n│ …          ┆ …   ┆ …     ┆ …      ┆ …        │\n│ 2022-07-27 ┆ HLN ┆ 7.32  ┆ 303020 ┆ 30302010 │\n│ 2022-07-26 ┆ HLN ┆ 7.35  ┆ 303020 ┆ 30302010 │\n│ 2022-07-25 ┆ HLN ┆ 7.3   ┆ 303020 ┆ 30302010 │\n│ 2022-07-22 ┆ HLN ┆ 7.41  ┆ 303020 ┆ 30302010 │\n└────────────┴─────┴───────┴────────┴──────────┘",
      "text/html": "<div><style>\n.dataframe > thead > tr > th,\n.dataframe > tbody > tr > td {\n  text-align: right;\n}\n</style>\n<small>shape: (32_127_394, 5)</small><table border=\"1\" class=\"dataframe\"><thead><tr><th>datadate</th><th>tic</th><th>prccd</th><th>gind</th><th>gsubind</th></tr><tr><td>date</td><td>str</td><td>f64</td><td>i64</td><td>i64</td></tr></thead><tbody><tr><td>2013-10-24</td><td>&quot;AIR&quot;</td><td>29.38</td><td>201010</td><td>20101010</td></tr><tr><td>2002-03-01</td><td>&quot;AIR&quot;</td><td>7.44</td><td>201010</td><td>20101010</td></tr><tr><td>2007-11-30</td><td>&quot;AIR&quot;</td><td>33.02</td><td>201010</td><td>20101010</td></tr><tr><td>2015-06-30</td><td>&quot;AIR&quot;</td><td>31.87</td><td>201010</td><td>20101010</td></tr><tr><td>2019-11-08</td><td>&quot;AIR&quot;</td><td>43.35</td><td>201010</td><td>20101010</td></tr><tr><td>2022-09-14</td><td>&quot;AIR&quot;</td><td>41.0</td><td>201010</td><td>20101010</td></tr><tr><td>2003-07-11</td><td>&quot;AIR&quot;</td><td>6.89</td><td>201010</td><td>20101010</td></tr><tr><td>2014-01-13</td><td>&quot;AIR&quot;</td><td>26.84</td><td>201010</td><td>20101010</td></tr><tr><td>2013-01-07</td><td>&quot;AIR&quot;</td><td>19.75</td><td>201010</td><td>20101010</td></tr><tr><td>2021-07-22</td><td>&quot;AIR&quot;</td><td>36.38</td><td>201010</td><td>20101010</td></tr><tr><td>2002-06-25</td><td>&quot;AIR&quot;</td><td>9.55</td><td>201010</td><td>20101010</td></tr><tr><td>2019-02-19</td><td>&quot;AIR&quot;</td><td>37.92</td><td>201010</td><td>20101010</td></tr><tr><td>&hellip;</td><td>&hellip;</td><td>&hellip;</td><td>&hellip;</td><td>&hellip;</td></tr><tr><td>2022-08-08</td><td>&quot;HLN&quot;</td><td>7.49</td><td>303020</td><td>30302010</td></tr><tr><td>2022-08-05</td><td>&quot;HLN&quot;</td><td>7.47</td><td>303020</td><td>30302010</td></tr><tr><td>2022-08-04</td><td>&quot;HLN&quot;</td><td>7.31</td><td>303020</td><td>30302010</td></tr><tr><td>2022-08-03</td><td>&quot;HLN&quot;</td><td>7.3</td><td>303020</td><td>30302010</td></tr><tr><td>2022-08-02</td><td>&quot;HLN&quot;</td><td>7.4</td><td>303020</td><td>30302010</td></tr><tr><td>2022-08-01</td><td>&quot;HLN&quot;</td><td>7.37</td><td>303020</td><td>30302010</td></tr><tr><td>2022-07-29</td><td>&quot;HLN&quot;</td><td>7.03</td><td>303020</td><td>30302010</td></tr><tr><td>2022-07-28</td><td>&quot;HLN&quot;</td><td>7.0</td><td>303020</td><td>30302010</td></tr><tr><td>2022-07-27</td><td>&quot;HLN&quot;</td><td>7.32</td><td>303020</td><td>30302010</td></tr><tr><td>2022-07-26</td><td>&quot;HLN&quot;</td><td>7.35</td><td>303020</td><td>30302010</td></tr><tr><td>2022-07-25</td><td>&quot;HLN&quot;</td><td>7.3</td><td>303020</td><td>30302010</td></tr><tr><td>2022-07-22</td><td>&quot;HLN&quot;</td><td>7.41</td><td>303020</td><td>30302010</td></tr></tbody></table></div>"
     },
     "execution_count": 30,
     "metadata": {},
     "output_type": "execute_result"
    }
   ],
   "source": [
    "relevant_data = ohclv_raw.lazy().select(pl.col('datadate'), pl.col('tic'), pl.col('prccd'), pl.col('gind'),\n",
    "                                        pl.col('gsubind')).collect(streaming=True)\n",
    "relevant_data"
   ],
   "metadata": {
    "collapsed": false
   }
  },
  {
   "cell_type": "code",
   "execution_count": 31,
   "outputs": [
    {
     "data": {
      "text/plain": "shape: (16_094_421, 6)\n┌────────────┬────────┬───────┬────────┬──────────┬──────┐\n│ date_index ┆ ticker ┆ prccd ┆ gind   ┆ gsubind  ┆ mask │\n│ ---        ┆ ---    ┆ ---   ┆ ---    ┆ ---      ┆ ---  │\n│ date       ┆ str    ┆ f64   ┆ i64    ┆ i64      ┆ bool │\n╞════════════╪════════╪═══════╪════════╪══════════╪══════╡\n│ 2015-11-11 ┆ AAAP   ┆ 24.5  ┆ 352010 ┆ 35201010 ┆ true │\n│ 2015-11-12 ┆ AAAP   ┆ 25.0  ┆ 352010 ┆ 35201010 ┆ true │\n│ 2015-11-13 ┆ AAAP   ┆ 25.26 ┆ 352010 ┆ 35201010 ┆ true │\n│ 2015-11-16 ┆ AAAP   ┆ 25.02 ┆ 352010 ┆ 35201010 ┆ true │\n│ …          ┆ …      ┆ …     ┆ …      ┆ …        ┆ …    │\n│ 2013-03-12 ┆ ZZ     ┆ 2.21  ┆ 252010 ┆ 25201020 ┆ true │\n│ 2013-03-13 ┆ ZZ     ┆ 2.21  ┆ 252010 ┆ 25201020 ┆ true │\n│ 2013-03-14 ┆ ZZ     ┆ 2.21  ┆ 252010 ┆ 25201020 ┆ true │\n│ 2013-03-15 ┆ ZZ     ┆ 2.19  ┆ 252010 ┆ 25201020 ┆ true │\n└────────────┴────────┴───────┴────────┴──────────┴──────┘",
      "text/html": "<div><style>\n.dataframe > thead > tr > th,\n.dataframe > tbody > tr > td {\n  text-align: right;\n}\n</style>\n<small>shape: (16_094_421, 6)</small><table border=\"1\" class=\"dataframe\"><thead><tr><th>date_index</th><th>ticker</th><th>prccd</th><th>gind</th><th>gsubind</th><th>mask</th></tr><tr><td>date</td><td>str</td><td>f64</td><td>i64</td><td>i64</td><td>bool</td></tr></thead><tbody><tr><td>2015-11-11</td><td>&quot;AAAP&quot;</td><td>24.5</td><td>352010</td><td>35201010</td><td>true</td></tr><tr><td>2015-11-12</td><td>&quot;AAAP&quot;</td><td>25.0</td><td>352010</td><td>35201010</td><td>true</td></tr><tr><td>2015-11-13</td><td>&quot;AAAP&quot;</td><td>25.26</td><td>352010</td><td>35201010</td><td>true</td></tr><tr><td>2015-11-16</td><td>&quot;AAAP&quot;</td><td>25.02</td><td>352010</td><td>35201010</td><td>true</td></tr><tr><td>2015-11-17</td><td>&quot;AAAP&quot;</td><td>24.62</td><td>352010</td><td>35201010</td><td>true</td></tr><tr><td>2015-11-18</td><td>&quot;AAAP&quot;</td><td>25.0</td><td>352010</td><td>35201010</td><td>true</td></tr><tr><td>2015-11-19</td><td>&quot;AAAP&quot;</td><td>25.9</td><td>352010</td><td>35201010</td><td>true</td></tr><tr><td>2015-11-20</td><td>&quot;AAAP&quot;</td><td>25.2</td><td>352010</td><td>35201010</td><td>true</td></tr><tr><td>2015-11-23</td><td>&quot;AAAP&quot;</td><td>25.15</td><td>352010</td><td>35201010</td><td>true</td></tr><tr><td>2015-11-24</td><td>&quot;AAAP&quot;</td><td>25.62</td><td>352010</td><td>35201010</td><td>true</td></tr><tr><td>2015-11-25</td><td>&quot;AAAP&quot;</td><td>25.8</td><td>352010</td><td>35201010</td><td>true</td></tr><tr><td>2015-11-27</td><td>&quot;AAAP&quot;</td><td>26.5</td><td>352010</td><td>35201010</td><td>true</td></tr><tr><td>&hellip;</td><td>&hellip;</td><td>&hellip;</td><td>&hellip;</td><td>&hellip;</td><td>&hellip;</td></tr><tr><td>2013-02-28</td><td>&quot;ZZ&quot;</td><td>2.18</td><td>252010</td><td>25201020</td><td>true</td></tr><tr><td>2013-03-01</td><td>&quot;ZZ&quot;</td><td>2.19</td><td>252010</td><td>25201020</td><td>true</td></tr><tr><td>2013-03-04</td><td>&quot;ZZ&quot;</td><td>2.17</td><td>252010</td><td>25201020</td><td>true</td></tr><tr><td>2013-03-05</td><td>&quot;ZZ&quot;</td><td>2.19</td><td>252010</td><td>25201020</td><td>true</td></tr><tr><td>2013-03-06</td><td>&quot;ZZ&quot;</td><td>2.17</td><td>252010</td><td>25201020</td><td>true</td></tr><tr><td>2013-03-07</td><td>&quot;ZZ&quot;</td><td>2.19</td><td>252010</td><td>25201020</td><td>true</td></tr><tr><td>2013-03-08</td><td>&quot;ZZ&quot;</td><td>2.2</td><td>252010</td><td>25201020</td><td>true</td></tr><tr><td>2013-03-11</td><td>&quot;ZZ&quot;</td><td>2.2</td><td>252010</td><td>25201020</td><td>true</td></tr><tr><td>2013-03-12</td><td>&quot;ZZ&quot;</td><td>2.21</td><td>252010</td><td>25201020</td><td>true</td></tr><tr><td>2013-03-13</td><td>&quot;ZZ&quot;</td><td>2.21</td><td>252010</td><td>25201020</td><td>true</td></tr><tr><td>2013-03-14</td><td>&quot;ZZ&quot;</td><td>2.21</td><td>252010</td><td>25201020</td><td>true</td></tr><tr><td>2013-03-15</td><td>&quot;ZZ&quot;</td><td>2.19</td><td>252010</td><td>25201020</td><td>true</td></tr></tbody></table></div>"
     },
     "execution_count": 31,
     "metadata": {},
     "output_type": "execute_result"
    }
   ],
   "source": [
    "pattern = r'^[a-zA-Z]+$'\n",
    "mask = relevant_data.lazy().with_columns(pl.col('tic').str.contains(pattern).alias('mask')).collect(streaming=True)\n",
    "alpha_only = mask.lazy().filter(pl.col('mask') == True).collect(streaming=True)\n",
    "alpha_only = alpha_only.rename(\n",
    "    {\n",
    "        'tic': 'ticker',\n",
    "        'datadate': 'date_index'\n",
    "    }\n",
    ")\n",
    "alpha_only = alpha_only.lazy().sort(['ticker', 'date_index']).collect(streaming=True)\n",
    "alpha_only"
   ],
   "metadata": {
    "collapsed": false
   }
  },
  {
   "cell_type": "code",
   "execution_count": 98,
   "outputs": [
    {
     "data": {
      "text/plain": "           ticker   prccd    gind   gsubind  mask\ndate_index                                       \n2013-12-09    AAL   24.60  203020  20302010  True\n2013-12-10    AAL   24.88  203020  20302010  True\n2013-12-11    AAL   25.99  203020  20302010  True\n2013-12-12    AAL   25.45  203020  20302010  True\n2013-12-13    AAL   26.23  203020  20302010  True\n...           ...     ...     ...       ...   ...\n2023-02-27    ZTS  165.47  352020  35202010  True\n2023-02-28    ZTS  167.00  352020  35202010  True\n2023-03-01    ZTS  167.57  352020  35202010  True\n2023-03-02    ZTS  168.58  352020  35202010  True\n2023-03-03    ZTS  170.56  352020  35202010  True\n\n[2309153 rows x 5 columns]",
      "text/html": "<div>\n<style scoped>\n    .dataframe tbody tr th:only-of-type {\n        vertical-align: middle;\n    }\n\n    .dataframe tbody tr th {\n        vertical-align: top;\n    }\n\n    .dataframe thead th {\n        text-align: right;\n    }\n</style>\n<table border=\"1\" class=\"dataframe\">\n  <thead>\n    <tr style=\"text-align: right;\">\n      <th></th>\n      <th>ticker</th>\n      <th>prccd</th>\n      <th>gind</th>\n      <th>gsubind</th>\n      <th>mask</th>\n    </tr>\n    <tr>\n      <th>date_index</th>\n      <th></th>\n      <th></th>\n      <th></th>\n      <th></th>\n      <th></th>\n    </tr>\n  </thead>\n  <tbody>\n    <tr>\n      <th>2013-12-09</th>\n      <td>AAL</td>\n      <td>24.60</td>\n      <td>203020</td>\n      <td>20302010</td>\n      <td>True</td>\n    </tr>\n    <tr>\n      <th>2013-12-10</th>\n      <td>AAL</td>\n      <td>24.88</td>\n      <td>203020</td>\n      <td>20302010</td>\n      <td>True</td>\n    </tr>\n    <tr>\n      <th>2013-12-11</th>\n      <td>AAL</td>\n      <td>25.99</td>\n      <td>203020</td>\n      <td>20302010</td>\n      <td>True</td>\n    </tr>\n    <tr>\n      <th>2013-12-12</th>\n      <td>AAL</td>\n      <td>25.45</td>\n      <td>203020</td>\n      <td>20302010</td>\n      <td>True</td>\n    </tr>\n    <tr>\n      <th>2013-12-13</th>\n      <td>AAL</td>\n      <td>26.23</td>\n      <td>203020</td>\n      <td>20302010</td>\n      <td>True</td>\n    </tr>\n    <tr>\n      <th>...</th>\n      <td>...</td>\n      <td>...</td>\n      <td>...</td>\n      <td>...</td>\n      <td>...</td>\n    </tr>\n    <tr>\n      <th>2023-02-27</th>\n      <td>ZTS</td>\n      <td>165.47</td>\n      <td>352020</td>\n      <td>35202010</td>\n      <td>True</td>\n    </tr>\n    <tr>\n      <th>2023-02-28</th>\n      <td>ZTS</td>\n      <td>167.00</td>\n      <td>352020</td>\n      <td>35202010</td>\n      <td>True</td>\n    </tr>\n    <tr>\n      <th>2023-03-01</th>\n      <td>ZTS</td>\n      <td>167.57</td>\n      <td>352020</td>\n      <td>35202010</td>\n      <td>True</td>\n    </tr>\n    <tr>\n      <th>2023-03-02</th>\n      <td>ZTS</td>\n      <td>168.58</td>\n      <td>352020</td>\n      <td>35202010</td>\n      <td>True</td>\n    </tr>\n    <tr>\n      <th>2023-03-03</th>\n      <td>ZTS</td>\n      <td>170.56</td>\n      <td>352020</td>\n      <td>35202010</td>\n      <td>True</td>\n    </tr>\n  </tbody>\n</table>\n<p>2309153 rows × 5 columns</p>\n</div>"
     },
     "execution_count": 98,
     "metadata": {},
     "output_type": "execute_result"
    }
   ],
   "source": [
    "sp500_tickers = pd.read_html(\n",
    "    'https://en.wikipedia.org/wiki/List_of_S%26P_500_companies')[0]\n",
    "sp500_tickers = pl.Series(sp500_tickers['Symbol'])\n",
    "sp500_only = alpha_only.lazy().filter(pl.col('ticker').is_in(sp500_tickers)).collect(streaming=True)\n",
    "sp500_only = sp500_only.to_pandas().set_index('date_index').groupby('ticker').resample('D').ffill().reset_index(level=0, drop=True)\n",
    "sp500_only"
   ],
   "metadata": {
    "collapsed": false
   }
  },
  {
   "cell_type": "code",
   "execution_count": 99,
   "outputs": [
    {
     "data": {
      "text/plain": "           ticker   prccd    gind   gsubind  mask       ret\ndate_index                                                 \n2013-12-10    AAL   24.88  203020  20302010  True  0.011382\n2013-12-11    AAL   25.99  203020  20302010  True  0.044614\n2013-12-12    AAL   25.45  203020  20302010  True -0.020777\n2013-12-13    AAL   26.23  203020  20302010  True  0.030648\n2013-12-14    AAL   26.23  203020  20302010  True  0.000000\n...           ...     ...     ...       ...   ...       ...\n2023-02-27    ZTS  165.47  352020  35202010  True -0.005170\n2023-02-28    ZTS  167.00  352020  35202010  True  0.009246\n2023-03-01    ZTS  167.57  352020  35202010  True  0.003413\n2023-03-02    ZTS  168.58  352020  35202010  True  0.006027\n2023-03-03    ZTS  170.56  352020  35202010  True  0.011745\n\n[2308731 rows x 6 columns]",
      "text/html": "<div>\n<style scoped>\n    .dataframe tbody tr th:only-of-type {\n        vertical-align: middle;\n    }\n\n    .dataframe tbody tr th {\n        vertical-align: top;\n    }\n\n    .dataframe thead th {\n        text-align: right;\n    }\n</style>\n<table border=\"1\" class=\"dataframe\">\n  <thead>\n    <tr style=\"text-align: right;\">\n      <th></th>\n      <th>ticker</th>\n      <th>prccd</th>\n      <th>gind</th>\n      <th>gsubind</th>\n      <th>mask</th>\n      <th>ret</th>\n    </tr>\n    <tr>\n      <th>date_index</th>\n      <th></th>\n      <th></th>\n      <th></th>\n      <th></th>\n      <th></th>\n      <th></th>\n    </tr>\n  </thead>\n  <tbody>\n    <tr>\n      <th>2013-12-10</th>\n      <td>AAL</td>\n      <td>24.88</td>\n      <td>203020</td>\n      <td>20302010</td>\n      <td>True</td>\n      <td>0.011382</td>\n    </tr>\n    <tr>\n      <th>2013-12-11</th>\n      <td>AAL</td>\n      <td>25.99</td>\n      <td>203020</td>\n      <td>20302010</td>\n      <td>True</td>\n      <td>0.044614</td>\n    </tr>\n    <tr>\n      <th>2013-12-12</th>\n      <td>AAL</td>\n      <td>25.45</td>\n      <td>203020</td>\n      <td>20302010</td>\n      <td>True</td>\n      <td>-0.020777</td>\n    </tr>\n    <tr>\n      <th>2013-12-13</th>\n      <td>AAL</td>\n      <td>26.23</td>\n      <td>203020</td>\n      <td>20302010</td>\n      <td>True</td>\n      <td>0.030648</td>\n    </tr>\n    <tr>\n      <th>2013-12-14</th>\n      <td>AAL</td>\n      <td>26.23</td>\n      <td>203020</td>\n      <td>20302010</td>\n      <td>True</td>\n      <td>0.000000</td>\n    </tr>\n    <tr>\n      <th>...</th>\n      <td>...</td>\n      <td>...</td>\n      <td>...</td>\n      <td>...</td>\n      <td>...</td>\n      <td>...</td>\n    </tr>\n    <tr>\n      <th>2023-02-27</th>\n      <td>ZTS</td>\n      <td>165.47</td>\n      <td>352020</td>\n      <td>35202010</td>\n      <td>True</td>\n      <td>-0.005170</td>\n    </tr>\n    <tr>\n      <th>2023-02-28</th>\n      <td>ZTS</td>\n      <td>167.00</td>\n      <td>352020</td>\n      <td>35202010</td>\n      <td>True</td>\n      <td>0.009246</td>\n    </tr>\n    <tr>\n      <th>2023-03-01</th>\n      <td>ZTS</td>\n      <td>167.57</td>\n      <td>352020</td>\n      <td>35202010</td>\n      <td>True</td>\n      <td>0.003413</td>\n    </tr>\n    <tr>\n      <th>2023-03-02</th>\n      <td>ZTS</td>\n      <td>168.58</td>\n      <td>352020</td>\n      <td>35202010</td>\n      <td>True</td>\n      <td>0.006027</td>\n    </tr>\n    <tr>\n      <th>2023-03-03</th>\n      <td>ZTS</td>\n      <td>170.56</td>\n      <td>352020</td>\n      <td>35202010</td>\n      <td>True</td>\n      <td>0.011745</td>\n    </tr>\n  </tbody>\n</table>\n<p>2308731 rows × 6 columns</p>\n</div>"
     },
     "execution_count": 99,
     "metadata": {},
     "output_type": "execute_result"
    }
   ],
   "source": [
    "with_returns = sp500_only\n",
    "with_returns['ret'] = with_returns.groupby('ticker')['prccd'].pct_change()\n",
    "with_returns = with_returns.dropna()\n",
    "with_returns"
   ],
   "metadata": {
    "collapsed": false
   }
  },
  {
   "cell_type": "code",
   "execution_count": 185,
   "outputs": [
    {
     "name": "stderr",
     "output_type": "stream",
     "text": [
      "\n",
      "A value is trying to be set on a copy of a slice from a DataFrame.\n",
      "Try using .loc[row_indexer,col_indexer] = value instead\n",
      "\n",
      "See the caveats in the documentation: https://pandas.pydata.org/pandas-docs/stable/user_guide/indexing.html#returning-a-view-versus-a-copy\n"
     ]
    },
    {
     "data": {
      "text/plain": "        date_index ticker   prccd    gind   gsubind  mask       ret  \\\n0       2002-01-03   AMGN   54.34  352010  35201010  True -0.036525   \n1       2002-01-03    PXD   18.21  101020  10102020  True -0.013543   \n2       2002-01-03    CVX  179.00  101020  10102010  True  0.000224   \n3       2002-01-03    TSN   11.50  302020  30202030  True  0.019504   \n4       2002-01-03     MS   56.82  402030  40203020  True  0.028975   \n...            ...    ...     ...     ...       ...   ...       ...   \n2308726 2023-03-30    STT   90.42  402030  40203010  True  0.000000   \n2308727 2023-03-30     GL  120.58  403010  40301020  True  0.000000   \n2308728 2023-03-30    APD  294.78  151010  15101040  True  0.000000   \n2308729 2023-03-30    CAH   75.20  351020  35102010  True  0.000000   \n2308730 2023-03-30    RJF  107.94  402030  40203020  True  0.000000   \n\n         momentum_short  \n0                   NaN  \n1                   NaN  \n2                   NaN  \n3                   NaN  \n4                   NaN  \n...                 ...  \n2308726        0.244650  \n2308727        0.170874  \n2308728        0.157649  \n2308729        0.088432  \n2308730        0.016043  \n\n[2308731 rows x 8 columns]",
      "text/html": "<div>\n<style scoped>\n    .dataframe tbody tr th:only-of-type {\n        vertical-align: middle;\n    }\n\n    .dataframe tbody tr th {\n        vertical-align: top;\n    }\n\n    .dataframe thead th {\n        text-align: right;\n    }\n</style>\n<table border=\"1\" class=\"dataframe\">\n  <thead>\n    <tr style=\"text-align: right;\">\n      <th></th>\n      <th>date_index</th>\n      <th>ticker</th>\n      <th>prccd</th>\n      <th>gind</th>\n      <th>gsubind</th>\n      <th>mask</th>\n      <th>ret</th>\n      <th>momentum_short</th>\n    </tr>\n  </thead>\n  <tbody>\n    <tr>\n      <th>0</th>\n      <td>2002-01-03</td>\n      <td>AMGN</td>\n      <td>54.34</td>\n      <td>352010</td>\n      <td>35201010</td>\n      <td>True</td>\n      <td>-0.036525</td>\n      <td>NaN</td>\n    </tr>\n    <tr>\n      <th>1</th>\n      <td>2002-01-03</td>\n      <td>PXD</td>\n      <td>18.21</td>\n      <td>101020</td>\n      <td>10102020</td>\n      <td>True</td>\n      <td>-0.013543</td>\n      <td>NaN</td>\n    </tr>\n    <tr>\n      <th>2</th>\n      <td>2002-01-03</td>\n      <td>CVX</td>\n      <td>179.00</td>\n      <td>101020</td>\n      <td>10102010</td>\n      <td>True</td>\n      <td>0.000224</td>\n      <td>NaN</td>\n    </tr>\n    <tr>\n      <th>3</th>\n      <td>2002-01-03</td>\n      <td>TSN</td>\n      <td>11.50</td>\n      <td>302020</td>\n      <td>30202030</td>\n      <td>True</td>\n      <td>0.019504</td>\n      <td>NaN</td>\n    </tr>\n    <tr>\n      <th>4</th>\n      <td>2002-01-03</td>\n      <td>MS</td>\n      <td>56.82</td>\n      <td>402030</td>\n      <td>40203020</td>\n      <td>True</td>\n      <td>0.028975</td>\n      <td>NaN</td>\n    </tr>\n    <tr>\n      <th>...</th>\n      <td>...</td>\n      <td>...</td>\n      <td>...</td>\n      <td>...</td>\n      <td>...</td>\n      <td>...</td>\n      <td>...</td>\n      <td>...</td>\n    </tr>\n    <tr>\n      <th>2308726</th>\n      <td>2023-03-30</td>\n      <td>STT</td>\n      <td>90.42</td>\n      <td>402030</td>\n      <td>40203010</td>\n      <td>True</td>\n      <td>0.000000</td>\n      <td>0.244650</td>\n    </tr>\n    <tr>\n      <th>2308727</th>\n      <td>2023-03-30</td>\n      <td>GL</td>\n      <td>120.58</td>\n      <td>403010</td>\n      <td>40301020</td>\n      <td>True</td>\n      <td>0.000000</td>\n      <td>0.170874</td>\n    </tr>\n    <tr>\n      <th>2308728</th>\n      <td>2023-03-30</td>\n      <td>APD</td>\n      <td>294.78</td>\n      <td>151010</td>\n      <td>15101040</td>\n      <td>True</td>\n      <td>0.000000</td>\n      <td>0.157649</td>\n    </tr>\n    <tr>\n      <th>2308729</th>\n      <td>2023-03-30</td>\n      <td>CAH</td>\n      <td>75.20</td>\n      <td>351020</td>\n      <td>35102010</td>\n      <td>True</td>\n      <td>0.000000</td>\n      <td>0.088432</td>\n    </tr>\n    <tr>\n      <th>2308730</th>\n      <td>2023-03-30</td>\n      <td>RJF</td>\n      <td>107.94</td>\n      <td>402030</td>\n      <td>40203020</td>\n      <td>True</td>\n      <td>0.000000</td>\n      <td>0.016043</td>\n    </tr>\n  </tbody>\n</table>\n<p>2308731 rows × 8 columns</p>\n</div>"
     },
     "execution_count": 185,
     "metadata": {},
     "output_type": "execute_result"
    }
   ],
   "source": [
    "window = 200\n",
    "tickers_momentum_short = with_returns\n",
    "tickers_momentum_short['momentum_short'] = tickers_momentum_short.groupby('ticker')['ret'].rolling(window).sum().reset_index(level=0, drop=True)\n",
    "tickers_momentum_short = tickers_momentum_short.sort_index().reset_index()\n",
    "tickers_momentum_short"
   ],
   "metadata": {
    "collapsed": false
   }
  },
  {
   "cell_type": "code",
   "execution_count": 186,
   "outputs": [
    {
     "name": "stderr",
     "output_type": "stream",
     "text": [
      "\n",
      "A value is trying to be set on a copy of a slice from a DataFrame.\n",
      "Try using .loc[row_indexer,col_indexer] = value instead\n",
      "\n",
      "See the caveats in the documentation: https://pandas.pydata.org/pandas-docs/stable/user_guide/indexing.html#returning-a-view-versus-a-copy\n",
      "\n",
      "A value is trying to be set on a copy of a slice from a DataFrame\n",
      "\n",
      "See the caveats in the documentation: https://pandas.pydata.org/pandas-docs/stable/user_guide/indexing.html#returning-a-view-versus-a-copy\n"
     ]
    }
   ],
   "source": [
    "industry_average_momentum = tickers_momentum_short[['gind', 'ticker', 'momentum_short', 'date_index']]\n",
    "industry_average_momentum['industry_average'] = industry_average_momentum.groupby(['gind', 'date_index'])['momentum_short'].transform('mean')\n",
    "industry_average_momentum.drop(columns=['momentum_short'], inplace=True)"
   ],
   "metadata": {
    "collapsed": false
   }
  },
  {
   "cell_type": "code",
   "execution_count": 187,
   "outputs": [
    {
     "data": {
      "text/plain": "        date_index ticker   prccd    gind   gsubind  mask       ret  \\\n1240876 2013-12-10    AAL   24.88  203020  20302010  True  0.011382   \n1241177 2013-12-11    AAL   25.99  203020  20302010  True  0.044614   \n1241272 2013-12-12    AAL   25.45  203020  20302010  True -0.020777   \n1241664 2013-12-13    AAL   26.23  203020  20302010  True  0.030648   \n1241988 2013-12-14    AAL   26.23  203020  20302010  True  0.000000   \n...            ...    ...     ...     ...       ...   ...       ...   \n2306162 2023-02-27    ZTS  165.47  352020  35202010  True -0.005170   \n2306611 2023-02-28    ZTS  167.00  352020  35202010  True  0.009246   \n2307006 2023-03-01    ZTS  167.57  352020  35202010  True  0.003413   \n2307052 2023-03-02    ZTS  168.58  352020  35202010  True  0.006027   \n2307570 2023-03-03    ZTS  170.56  352020  35202010  True  0.011745   \n\n         momentum_short  industry_average  \n1240876             NaN          0.280690  \n1241177             NaN          0.253906  \n1241272             NaN          0.273445  \n1241664             NaN          0.278505  \n1241988             NaN          0.295786  \n...                 ...               ...  \n2306162       -0.015095          0.035245  \n2306611       -0.020227          0.013802  \n2307006       -0.016814          0.015495  \n2307052       -0.010786          0.014337  \n2307570        0.007904          0.020414  \n\n[2308731 rows x 9 columns]",
      "text/html": "<div>\n<style scoped>\n    .dataframe tbody tr th:only-of-type {\n        vertical-align: middle;\n    }\n\n    .dataframe tbody tr th {\n        vertical-align: top;\n    }\n\n    .dataframe thead th {\n        text-align: right;\n    }\n</style>\n<table border=\"1\" class=\"dataframe\">\n  <thead>\n    <tr style=\"text-align: right;\">\n      <th></th>\n      <th>date_index</th>\n      <th>ticker</th>\n      <th>prccd</th>\n      <th>gind</th>\n      <th>gsubind</th>\n      <th>mask</th>\n      <th>ret</th>\n      <th>momentum_short</th>\n      <th>industry_average</th>\n    </tr>\n  </thead>\n  <tbody>\n    <tr>\n      <th>1240876</th>\n      <td>2013-12-10</td>\n      <td>AAL</td>\n      <td>24.88</td>\n      <td>203020</td>\n      <td>20302010</td>\n      <td>True</td>\n      <td>0.011382</td>\n      <td>NaN</td>\n      <td>0.280690</td>\n    </tr>\n    <tr>\n      <th>1241177</th>\n      <td>2013-12-11</td>\n      <td>AAL</td>\n      <td>25.99</td>\n      <td>203020</td>\n      <td>20302010</td>\n      <td>True</td>\n      <td>0.044614</td>\n      <td>NaN</td>\n      <td>0.253906</td>\n    </tr>\n    <tr>\n      <th>1241272</th>\n      <td>2013-12-12</td>\n      <td>AAL</td>\n      <td>25.45</td>\n      <td>203020</td>\n      <td>20302010</td>\n      <td>True</td>\n      <td>-0.020777</td>\n      <td>NaN</td>\n      <td>0.273445</td>\n    </tr>\n    <tr>\n      <th>1241664</th>\n      <td>2013-12-13</td>\n      <td>AAL</td>\n      <td>26.23</td>\n      <td>203020</td>\n      <td>20302010</td>\n      <td>True</td>\n      <td>0.030648</td>\n      <td>NaN</td>\n      <td>0.278505</td>\n    </tr>\n    <tr>\n      <th>1241988</th>\n      <td>2013-12-14</td>\n      <td>AAL</td>\n      <td>26.23</td>\n      <td>203020</td>\n      <td>20302010</td>\n      <td>True</td>\n      <td>0.000000</td>\n      <td>NaN</td>\n      <td>0.295786</td>\n    </tr>\n    <tr>\n      <th>...</th>\n      <td>...</td>\n      <td>...</td>\n      <td>...</td>\n      <td>...</td>\n      <td>...</td>\n      <td>...</td>\n      <td>...</td>\n      <td>...</td>\n      <td>...</td>\n    </tr>\n    <tr>\n      <th>2306162</th>\n      <td>2023-02-27</td>\n      <td>ZTS</td>\n      <td>165.47</td>\n      <td>352020</td>\n      <td>35202010</td>\n      <td>True</td>\n      <td>-0.005170</td>\n      <td>-0.015095</td>\n      <td>0.035245</td>\n    </tr>\n    <tr>\n      <th>2306611</th>\n      <td>2023-02-28</td>\n      <td>ZTS</td>\n      <td>167.00</td>\n      <td>352020</td>\n      <td>35202010</td>\n      <td>True</td>\n      <td>0.009246</td>\n      <td>-0.020227</td>\n      <td>0.013802</td>\n    </tr>\n    <tr>\n      <th>2307006</th>\n      <td>2023-03-01</td>\n      <td>ZTS</td>\n      <td>167.57</td>\n      <td>352020</td>\n      <td>35202010</td>\n      <td>True</td>\n      <td>0.003413</td>\n      <td>-0.016814</td>\n      <td>0.015495</td>\n    </tr>\n    <tr>\n      <th>2307052</th>\n      <td>2023-03-02</td>\n      <td>ZTS</td>\n      <td>168.58</td>\n      <td>352020</td>\n      <td>35202010</td>\n      <td>True</td>\n      <td>0.006027</td>\n      <td>-0.010786</td>\n      <td>0.014337</td>\n    </tr>\n    <tr>\n      <th>2307570</th>\n      <td>2023-03-03</td>\n      <td>ZTS</td>\n      <td>170.56</td>\n      <td>352020</td>\n      <td>35202010</td>\n      <td>True</td>\n      <td>0.011745</td>\n      <td>0.007904</td>\n      <td>0.020414</td>\n    </tr>\n  </tbody>\n</table>\n<p>2308731 rows × 9 columns</p>\n</div>"
     },
     "execution_count": 187,
     "metadata": {},
     "output_type": "execute_result"
    }
   ],
   "source": [
    "combined_momentums = tickers_momentum_short.merge(industry_average_momentum, on=['date_index', 'gind', 'ticker'], how='inner')\n",
    "combined_momentums = combined_momentums.sort_values(['ticker', 'date_index'])\n",
    "combined_momentums"
   ],
   "metadata": {
    "collapsed": false
   }
  },
  {
   "cell_type": "code",
   "execution_count": 188,
   "outputs": [
    {
     "data": {
      "text/plain": "           ticker  industry_relative\ndate_index                          \n2002-07-21   AAPL           0.057472\n2002-07-21    ABT          -0.237851\n2002-07-21   ADBE           0.264195\n2002-07-21    ADI           0.023836\n2002-07-21    ADM          -0.041327\n...           ...                ...\n2023-03-30    APD           0.000000\n2023-03-30    CAH           0.000000\n2023-03-30     GL           0.000000\n2023-03-30    RJF          -0.114303\n2023-03-30    STT           0.114303\n\n[2244852 rows x 2 columns]",
      "text/html": "<div>\n<style scoped>\n    .dataframe tbody tr th:only-of-type {\n        vertical-align: middle;\n    }\n\n    .dataframe tbody tr th {\n        vertical-align: top;\n    }\n\n    .dataframe thead th {\n        text-align: right;\n    }\n</style>\n<table border=\"1\" class=\"dataframe\">\n  <thead>\n    <tr style=\"text-align: right;\">\n      <th></th>\n      <th>ticker</th>\n      <th>industry_relative</th>\n    </tr>\n    <tr>\n      <th>date_index</th>\n      <th></th>\n      <th></th>\n    </tr>\n  </thead>\n  <tbody>\n    <tr>\n      <th>2002-07-21</th>\n      <td>AAPL</td>\n      <td>0.057472</td>\n    </tr>\n    <tr>\n      <th>2002-07-21</th>\n      <td>ABT</td>\n      <td>-0.237851</td>\n    </tr>\n    <tr>\n      <th>2002-07-21</th>\n      <td>ADBE</td>\n      <td>0.264195</td>\n    </tr>\n    <tr>\n      <th>2002-07-21</th>\n      <td>ADI</td>\n      <td>0.023836</td>\n    </tr>\n    <tr>\n      <th>2002-07-21</th>\n      <td>ADM</td>\n      <td>-0.041327</td>\n    </tr>\n    <tr>\n      <th>...</th>\n      <td>...</td>\n      <td>...</td>\n    </tr>\n    <tr>\n      <th>2023-03-30</th>\n      <td>APD</td>\n      <td>0.000000</td>\n    </tr>\n    <tr>\n      <th>2023-03-30</th>\n      <td>CAH</td>\n      <td>0.000000</td>\n    </tr>\n    <tr>\n      <th>2023-03-30</th>\n      <td>GL</td>\n      <td>0.000000</td>\n    </tr>\n    <tr>\n      <th>2023-03-30</th>\n      <td>RJF</td>\n      <td>-0.114303</td>\n    </tr>\n    <tr>\n      <th>2023-03-30</th>\n      <td>STT</td>\n      <td>0.114303</td>\n    </tr>\n  </tbody>\n</table>\n<p>2244852 rows × 2 columns</p>\n</div>"
     },
     "execution_count": 188,
     "metadata": {},
     "output_type": "execute_result"
    }
   ],
   "source": [
    "industry_relative_momentum = combined_momentums\n",
    "industry_relative_momentum['industry_relative'] = industry_relative_momentum['momentum_short'] - industry_relative_momentum['industry_average']\n",
    "industry_relative_momentum = industry_relative_momentum[['date_index', 'ticker', 'industry_relative']]\n",
    "industry_relative_momentum = industry_relative_momentum.dropna().sort_values(['date_index', 'ticker']).set_index('date_index')\n",
    "industry_relative_momentum"
   ],
   "metadata": {
    "collapsed": false
   }
  },
  {
   "cell_type": "code",
   "execution_count": 189,
   "outputs": [],
   "source": [
    "momentum_data_dir = get_data_dir() / 'momentum'\n",
    "industry_relative_momentum.to_csv(momentum_data_dir / f'gind_rel_{window}day_mom.csv')"
   ],
   "metadata": {
    "collapsed": false
   }
  },
  {
   "cell_type": "code",
   "execution_count": null,
   "outputs": [],
   "source": [],
   "metadata": {
    "collapsed": false
   }
  }
 ],
 "metadata": {
  "kernelspec": {
   "name": "venv",
   "language": "python",
   "display_name": "venv"
  },
  "language_info": {
   "codemirror_mode": {
    "name": "ipython",
    "version": 2
   },
   "file_extension": ".py",
   "mimetype": "text/x-python",
   "name": "python",
   "nbconvert_exporter": "python",
   "pygments_lexer": "ipython2",
   "version": "2.7.6"
  }
 },
 "nbformat": 4,
 "nbformat_minor": 0
}
