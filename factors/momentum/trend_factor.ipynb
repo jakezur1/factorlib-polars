{
 "cells": [
  {
   "cell_type": "code",
   "execution_count": 57,
   "metadata": {
    "collapsed": true
   },
   "outputs": [],
   "source": [
    "import pandas as pd\n",
    "import polars as pl\n",
    "\n",
    "from factorlib.utils.system import get_data_dir\n",
    "from sklearn.linear_model import LinearRegression"
   ]
  },
  {
   "cell_type": "code",
   "execution_count": 105,
   "outputs": [
    {
     "data": {
      "text/plain": "258"
     },
     "execution_count": 105,
     "metadata": {},
     "output_type": "execute_result"
    }
   ],
   "source": [
    "raw_data_dir = get_data_dir() / 'raw'\n",
    "returns = pd.read_csv(raw_data_dir / 'training_returns.csv').set_index('date_index')\n",
    "returns = returns.stack()\n",
    "returns = returns.reset_index(level=1)\n",
    "returns.index = pd.to_datetime(returns.index)\n",
    "returns.columns = ['ticker', 'ret']\n",
    "returns = returns.reset_index()\n",
    "returns.sort_values(['ticker', 'date_index'])\n",
    "len(returns['ticker'].unique())"
   ],
   "metadata": {
    "collapsed": false
   }
  },
  {
   "cell_type": "code",
   "execution_count": 102,
   "outputs": [
    {
     "data": {
      "text/plain": "          date_index ticker   price\n41650550  1996-12-19  0081A  12.625\n41650551  1996-12-20  0081A  12.375\n41650552  1996-12-23  0081A  12.125\n41650553  1996-12-24  0081A  12.000\n41650554  1996-12-26  0081A  12.000\n...              ...    ...     ...\n9326840   2013-03-11     ZZ   2.200\n9326841   2013-03-12     ZZ   2.210\n9326842   2013-03-13     ZZ   2.210\n9326843   2013-03-14     ZZ   2.210\n9326844   2013-03-15     ZZ   2.190\n\n[56274435 rows x 3 columns]",
      "text/html": "<div>\n<style scoped>\n    .dataframe tbody tr th:only-of-type {\n        vertical-align: middle;\n    }\n\n    .dataframe tbody tr th {\n        vertical-align: top;\n    }\n\n    .dataframe thead th {\n        text-align: right;\n    }\n</style>\n<table border=\"1\" class=\"dataframe\">\n  <thead>\n    <tr style=\"text-align: right;\">\n      <th></th>\n      <th>date_index</th>\n      <th>ticker</th>\n      <th>price</th>\n    </tr>\n  </thead>\n  <tbody>\n    <tr>\n      <th>41650550</th>\n      <td>1996-12-19</td>\n      <td>0081A</td>\n      <td>12.625</td>\n    </tr>\n    <tr>\n      <th>41650551</th>\n      <td>1996-12-20</td>\n      <td>0081A</td>\n      <td>12.375</td>\n    </tr>\n    <tr>\n      <th>41650552</th>\n      <td>1996-12-23</td>\n      <td>0081A</td>\n      <td>12.125</td>\n    </tr>\n    <tr>\n      <th>41650553</th>\n      <td>1996-12-24</td>\n      <td>0081A</td>\n      <td>12.000</td>\n    </tr>\n    <tr>\n      <th>41650554</th>\n      <td>1996-12-26</td>\n      <td>0081A</td>\n      <td>12.000</td>\n    </tr>\n    <tr>\n      <th>...</th>\n      <td>...</td>\n      <td>...</td>\n      <td>...</td>\n    </tr>\n    <tr>\n      <th>9326840</th>\n      <td>2013-03-11</td>\n      <td>ZZ</td>\n      <td>2.200</td>\n    </tr>\n    <tr>\n      <th>9326841</th>\n      <td>2013-03-12</td>\n      <td>ZZ</td>\n      <td>2.210</td>\n    </tr>\n    <tr>\n      <th>9326842</th>\n      <td>2013-03-13</td>\n      <td>ZZ</td>\n      <td>2.210</td>\n    </tr>\n    <tr>\n      <th>9326843</th>\n      <td>2013-03-14</td>\n      <td>ZZ</td>\n      <td>2.210</td>\n    </tr>\n    <tr>\n      <th>9326844</th>\n      <td>2013-03-15</td>\n      <td>ZZ</td>\n      <td>2.190</td>\n    </tr>\n  </tbody>\n</table>\n<p>56274435 rows × 3 columns</p>\n</div>"
     },
     "execution_count": 102,
     "metadata": {},
     "output_type": "execute_result"
    }
   ],
   "source": [
    "prices = pl.scan_csv(raw_data_dir / 'prices_wrds.csv').collect(streaming=True)\n",
    "prices = (\n",
    "    prices.lazy()\n",
    "    .select(\n",
    "        pl.col('datadate').alias('date_index'),\n",
    "        pl.col('tic').alias('ticker'),\n",
    "        (pl.col('prccd').cast(pl.Float64) / pl.col('ajexdi').cast(pl.Float64)).alias('price')\n",
    "    )\n",
    "    .collect(streaming=True)\n",
    ")\n",
    "prices = prices.to_pandas()\n",
    "prices.sort_values(['ticker', 'date_index'])"
   ],
   "metadata": {
    "collapsed": false
   }
  },
  {
   "cell_type": "code",
   "execution_count": 88,
   "outputs": [
    {
     "data": {
      "text/plain": "     date_index ticker  sharesOutstanding\n0    2022-09-30   AAME       2.041791e+07\n1    2022-06-30   AAME       2.040097e+07\n2    2022-03-31   AAME       2.186154e+07\n3    2021-12-31   AAME       2.050000e+07\n4    2021-09-30   AAME       1.830000e+07\n..          ...    ...                ...\n126  1990-03-31   ZIXI       2.276776e+07\n127  1989-12-31   ZIXI                NaN\n128  1989-09-30   ZIXI      -0.000000e+00\n129  1989-06-30   ZIXI      -0.000000e+00\n130  1989-03-31   ZIXI      -0.000000e+00\n\n[156798 rows x 3 columns]",
      "text/html": "<div>\n<style scoped>\n    .dataframe tbody tr th:only-of-type {\n        vertical-align: middle;\n    }\n\n    .dataframe tbody tr th {\n        vertical-align: top;\n    }\n\n    .dataframe thead th {\n        text-align: right;\n    }\n</style>\n<table border=\"1\" class=\"dataframe\">\n  <thead>\n    <tr style=\"text-align: right;\">\n      <th></th>\n      <th>date_index</th>\n      <th>ticker</th>\n      <th>sharesOutstanding</th>\n    </tr>\n  </thead>\n  <tbody>\n    <tr>\n      <th>0</th>\n      <td>2022-09-30</td>\n      <td>AAME</td>\n      <td>2.041791e+07</td>\n    </tr>\n    <tr>\n      <th>1</th>\n      <td>2022-06-30</td>\n      <td>AAME</td>\n      <td>2.040097e+07</td>\n    </tr>\n    <tr>\n      <th>2</th>\n      <td>2022-03-31</td>\n      <td>AAME</td>\n      <td>2.186154e+07</td>\n    </tr>\n    <tr>\n      <th>3</th>\n      <td>2021-12-31</td>\n      <td>AAME</td>\n      <td>2.050000e+07</td>\n    </tr>\n    <tr>\n      <th>4</th>\n      <td>2021-09-30</td>\n      <td>AAME</td>\n      <td>1.830000e+07</td>\n    </tr>\n    <tr>\n      <th>...</th>\n      <td>...</td>\n      <td>...</td>\n      <td>...</td>\n    </tr>\n    <tr>\n      <th>126</th>\n      <td>1990-03-31</td>\n      <td>ZIXI</td>\n      <td>2.276776e+07</td>\n    </tr>\n    <tr>\n      <th>127</th>\n      <td>1989-12-31</td>\n      <td>ZIXI</td>\n      <td>NaN</td>\n    </tr>\n    <tr>\n      <th>128</th>\n      <td>1989-09-30</td>\n      <td>ZIXI</td>\n      <td>-0.000000e+00</td>\n    </tr>\n    <tr>\n      <th>129</th>\n      <td>1989-06-30</td>\n      <td>ZIXI</td>\n      <td>-0.000000e+00</td>\n    </tr>\n    <tr>\n      <th>130</th>\n      <td>1989-03-31</td>\n      <td>ZIXI</td>\n      <td>-0.000000e+00</td>\n    </tr>\n  </tbody>\n</table>\n<p>156798 rows × 3 columns</p>\n</div>"
     },
     "execution_count": 88,
     "metadata": {},
     "output_type": "execute_result"
    }
   ],
   "source": [
    "income_statements = pd.read_csv(raw_data_dir / 'income_statements.csv', index_col=0)\n",
    "trainable_tickers = pd.read_csv(raw_data_dir / 'tickers_to_train.csv')['ticker'].to_list()\n",
    "income_statements = income_statements.loc[income_statements['symbol'].isin(trainable_tickers)]\n",
    "# balance_sheets = balance_sheets[['symbol', 'date', 'marketCap']]\n",
    "income_statements = income_statements[['date', 'symbol', 'eps', 'netIncome']]\n",
    "income_statements.columns = ['date_index', 'ticker', 'eps', 'netIncome']\n",
    "income_statements['sharesOutstanding'] = income_statements['netIncome'] / income_statements['eps']\n",
    "income_statements = income_statements[['date_index', 'ticker', 'sharesOutstanding']]\n",
    "income_statements"
   ],
   "metadata": {
    "collapsed": false
   }
  },
  {
   "cell_type": "code",
   "execution_count": 89,
   "outputs": [
    {
     "data": {
      "text/plain": "       date_index ticker         mve_c      price\n0      2022-09-30   AAME  5.839522e+07   2.860000\n1      2022-06-30   AAME  5.447060e+07   2.670000\n2      2022-03-31   AAME  6.842662e+07   3.130000\n3      2021-12-31   AAME  5.022500e+07   2.450000\n4      2021-09-30   AAME  7.594500e+07   4.150000\n...           ...    ...           ...        ...\n99165  1992-06-30   ZIXI  2.100000e+08  12.600000\n99166  1992-03-31   ZIXI  4.125000e+08  22.000000\n99167  1991-12-31   ZIXI  1.861888e+08  14.933333\n99168  1991-09-30   ZIXI  2.390606e+08  10.200000\n99169  1990-12-31   ZIXI  6.156507e+07   5.066667\n\n[99170 rows x 4 columns]",
      "text/html": "<div>\n<style scoped>\n    .dataframe tbody tr th:only-of-type {\n        vertical-align: middle;\n    }\n\n    .dataframe tbody tr th {\n        vertical-align: top;\n    }\n\n    .dataframe thead th {\n        text-align: right;\n    }\n</style>\n<table border=\"1\" class=\"dataframe\">\n  <thead>\n    <tr style=\"text-align: right;\">\n      <th></th>\n      <th>date_index</th>\n      <th>ticker</th>\n      <th>mve_c</th>\n      <th>price</th>\n    </tr>\n  </thead>\n  <tbody>\n    <tr>\n      <th>0</th>\n      <td>2022-09-30</td>\n      <td>AAME</td>\n      <td>5.839522e+07</td>\n      <td>2.860000</td>\n    </tr>\n    <tr>\n      <th>1</th>\n      <td>2022-06-30</td>\n      <td>AAME</td>\n      <td>5.447060e+07</td>\n      <td>2.670000</td>\n    </tr>\n    <tr>\n      <th>2</th>\n      <td>2022-03-31</td>\n      <td>AAME</td>\n      <td>6.842662e+07</td>\n      <td>3.130000</td>\n    </tr>\n    <tr>\n      <th>3</th>\n      <td>2021-12-31</td>\n      <td>AAME</td>\n      <td>5.022500e+07</td>\n      <td>2.450000</td>\n    </tr>\n    <tr>\n      <th>4</th>\n      <td>2021-09-30</td>\n      <td>AAME</td>\n      <td>7.594500e+07</td>\n      <td>4.150000</td>\n    </tr>\n    <tr>\n      <th>...</th>\n      <td>...</td>\n      <td>...</td>\n      <td>...</td>\n      <td>...</td>\n    </tr>\n    <tr>\n      <th>99165</th>\n      <td>1992-06-30</td>\n      <td>ZIXI</td>\n      <td>2.100000e+08</td>\n      <td>12.600000</td>\n    </tr>\n    <tr>\n      <th>99166</th>\n      <td>1992-03-31</td>\n      <td>ZIXI</td>\n      <td>4.125000e+08</td>\n      <td>22.000000</td>\n    </tr>\n    <tr>\n      <th>99167</th>\n      <td>1991-12-31</td>\n      <td>ZIXI</td>\n      <td>1.861888e+08</td>\n      <td>14.933333</td>\n    </tr>\n    <tr>\n      <th>99168</th>\n      <td>1991-09-30</td>\n      <td>ZIXI</td>\n      <td>2.390606e+08</td>\n      <td>10.200000</td>\n    </tr>\n    <tr>\n      <th>99169</th>\n      <td>1990-12-31</td>\n      <td>ZIXI</td>\n      <td>6.156507e+07</td>\n      <td>5.066667</td>\n    </tr>\n  </tbody>\n</table>\n<p>99170 rows × 4 columns</p>\n</div>"
     },
     "execution_count": 89,
     "metadata": {},
     "output_type": "execute_result"
    }
   ],
   "source": [
    "mve_c = income_statements.merge(prices, how='inner',\n",
    "                                on=['date_index', 'ticker'])\n",
    "mve_c['mve_c'] = mve_c['sharesOutstanding'] * mve_c['price']\n",
    "mve_c = mve_c[['date_index', 'ticker', 'mve_c', 'price']]\n",
    "mve_c"
   ],
   "metadata": {
    "collapsed": false
   }
  },
  {
   "cell_type": "code",
   "execution_count": 101,
   "outputs": [
    {
     "data": {
      "text/plain": "      date_index ticker       ret         mve_c      price\n3213  1995-06-30    ABC -0.008130  5.275506e+08   2.851625\n3541  1996-09-30    ABC  0.034884  1.056875e+09   5.562500\n3767  1996-12-31    ABC  0.078212  1.138700e+09   6.031250\n4011  1997-03-31    ABC -0.069149  1.011719e+09   5.468750\n4241  1997-06-30    ABC  0.075472  1.122187e+09   6.234375\n...          ...    ...       ...           ...        ...\n21914 2021-12-31   ZION  0.000475  9.678475e+09  63.160000\n22149 2022-03-31   ZION -0.026867  1.047928e+10  65.560000\n22383 2022-06-30   ZION -0.020589  8.009845e+09  50.900000\n22624 2022-09-30   ZION -0.017767  7.883300e+09  50.860000\n22895 2023-03-31   ZION -0.012211  4.590767e+09  29.930000\n\n[22898 rows x 5 columns]",
      "text/html": "<div>\n<style scoped>\n    .dataframe tbody tr th:only-of-type {\n        vertical-align: middle;\n    }\n\n    .dataframe tbody tr th {\n        vertical-align: top;\n    }\n\n    .dataframe thead th {\n        text-align: right;\n    }\n</style>\n<table border=\"1\" class=\"dataframe\">\n  <thead>\n    <tr style=\"text-align: right;\">\n      <th></th>\n      <th>date_index</th>\n      <th>ticker</th>\n      <th>ret</th>\n      <th>mve_c</th>\n      <th>price</th>\n    </tr>\n  </thead>\n  <tbody>\n    <tr>\n      <th>3213</th>\n      <td>1995-06-30</td>\n      <td>ABC</td>\n      <td>-0.008130</td>\n      <td>5.275506e+08</td>\n      <td>2.851625</td>\n    </tr>\n    <tr>\n      <th>3541</th>\n      <td>1996-09-30</td>\n      <td>ABC</td>\n      <td>0.034884</td>\n      <td>1.056875e+09</td>\n      <td>5.562500</td>\n    </tr>\n    <tr>\n      <th>3767</th>\n      <td>1996-12-31</td>\n      <td>ABC</td>\n      <td>0.078212</td>\n      <td>1.138700e+09</td>\n      <td>6.031250</td>\n    </tr>\n    <tr>\n      <th>4011</th>\n      <td>1997-03-31</td>\n      <td>ABC</td>\n      <td>-0.069149</td>\n      <td>1.011719e+09</td>\n      <td>5.468750</td>\n    </tr>\n    <tr>\n      <th>4241</th>\n      <td>1997-06-30</td>\n      <td>ABC</td>\n      <td>0.075472</td>\n      <td>1.122187e+09</td>\n      <td>6.234375</td>\n    </tr>\n    <tr>\n      <th>...</th>\n      <td>...</td>\n      <td>...</td>\n      <td>...</td>\n      <td>...</td>\n      <td>...</td>\n    </tr>\n    <tr>\n      <th>21914</th>\n      <td>2021-12-31</td>\n      <td>ZION</td>\n      <td>0.000475</td>\n      <td>9.678475e+09</td>\n      <td>63.160000</td>\n    </tr>\n    <tr>\n      <th>22149</th>\n      <td>2022-03-31</td>\n      <td>ZION</td>\n      <td>-0.026867</td>\n      <td>1.047928e+10</td>\n      <td>65.560000</td>\n    </tr>\n    <tr>\n      <th>22383</th>\n      <td>2022-06-30</td>\n      <td>ZION</td>\n      <td>-0.020589</td>\n      <td>8.009845e+09</td>\n      <td>50.900000</td>\n    </tr>\n    <tr>\n      <th>22624</th>\n      <td>2022-09-30</td>\n      <td>ZION</td>\n      <td>-0.017767</td>\n      <td>7.883300e+09</td>\n      <td>50.860000</td>\n    </tr>\n    <tr>\n      <th>22895</th>\n      <td>2023-03-31</td>\n      <td>ZION</td>\n      <td>-0.012211</td>\n      <td>4.590767e+09</td>\n      <td>29.930000</td>\n    </tr>\n  </tbody>\n</table>\n<p>22898 rows × 5 columns</p>\n</div>"
     },
     "execution_count": 101,
     "metadata": {},
     "output_type": "execute_result"
    }
   ],
   "source": [
    "returns['date_index'] = pd.to_datetime(returns['date_index'])\n",
    "mve_c['date_index'] = pd.to_datetime(mve_c['date_index'])\n",
    "trend_factor_raw_data = returns.merge(mve_c, on=['date_index', 'ticker'], how='inner')\n",
    "trend_factor_raw_data.sort_values(['ticker', 'date_index'])"
   ],
   "metadata": {
    "collapsed": false
   }
  },
  {
   "cell_type": "code",
   "execution_count": 99,
   "outputs": [
    {
     "data": {
      "text/plain": "22898"
     },
     "execution_count": 99,
     "metadata": {},
     "output_type": "execute_result"
    }
   ],
   "source": [
    "with_moving_avgs = trend_factor_raw_data\n",
    "lags = [3, 5, 10, 20, 50, 100, 200, 400, 600, 800, 1000]\n",
    "for lag in lags:\n",
    "    with_moving_avgs[f'A_{lag}'] = with_moving_avgs.groupby('ticker')['price'].transform(lambda x: x.rolling(window=lag).mean())\n",
    "\n",
    "# Normalization\n",
    "for lag in lags:\n",
    "    with_moving_avgs[f'A_{lag}'] = with_moving_avgs[f'A_{lag}'] / with_moving_avgs['price']\n",
    "\n",
    "with_moving_avgs"
   ],
   "metadata": {
    "collapsed": false
   }
  },
  {
   "cell_type": "code",
   "execution_count": 97,
   "outputs": [
    {
     "data": {
      "text/plain": "      date_index ticker       ret         mve_c        price       A_3  \\\n0     1990-01-31   ADSK  0.012821  9.495192e+08     4.937500       NaN   \n1     1990-01-31    COO  0.000000           NaN     6.750675       NaN   \n2     1990-01-31     DE  0.005736  4.779051e+09    10.958333       NaN   \n3     1990-01-31    HPQ  0.008475  1.072240e+10     5.578125       NaN   \n4     1990-01-31    LOW  0.038095  9.885955e+08     0.851562       NaN   \n...          ...    ...       ...           ...          ...       ...   \n22893 2023-03-31    XOM  0.001553  4.337072e+11   109.660000  0.859049   \n22894 2023-03-31   XRAY  0.018672  8.213091e+09    39.280000  0.877122   \n22895 2023-03-31   ZION -0.012211  4.590767e+09    29.930000  1.466644   \n22896 2023-05-31    AZO -0.027621  5.165423e+10  2386.840000  0.340997   \n22897 2023-05-31   COST  0.006948  2.265480e+11   511.560000  0.582019   \n\n            A_5      A_10      A_20      A_50  A_100  A_200  A_400  A_600  \\\n0           NaN       NaN       NaN       NaN    NaN    NaN    NaN    NaN   \n1           NaN       NaN       NaN       NaN    NaN    NaN    NaN    NaN   \n2           NaN       NaN       NaN       NaN    NaN    NaN    NaN    NaN   \n3           NaN       NaN       NaN       NaN    NaN    NaN    NaN    NaN   \n4           NaN       NaN       NaN       NaN    NaN    NaN    NaN    NaN   \n...         ...       ...       ...       ...    ...    ...    ...    ...   \n22893  0.777658  0.619798  0.637557  0.685572    NaN    NaN    NaN    NaN   \n22894  1.060947  1.246385  1.311049  1.122195    NaN    NaN    NaN    NaN   \n22895  1.740127  1.679853  1.448363  1.201828    NaN    NaN    NaN    NaN   \n22896  0.208798  0.109950       NaN       NaN    NaN    NaN    NaN    NaN   \n22897       NaN       NaN       NaN       NaN    NaN    NaN    NaN    NaN   \n\n       A_800  A_1000          qu10  \n0        NaN     NaN  4.581203e+08  \n1        NaN     NaN  4.581203e+08  \n2        NaN     NaN  4.581203e+08  \n3        NaN     NaN  4.581203e+08  \n4        NaN     NaN  4.581203e+08  \n...      ...     ...           ...  \n22893    NaN     NaN  1.120741e+10  \n22894    NaN     NaN  1.120741e+10  \n22895    NaN     NaN  1.120741e+10  \n22896    NaN     NaN  6.914361e+10  \n22897    NaN     NaN  6.914361e+10  \n\n[22898 rows x 17 columns]",
      "text/html": "<div>\n<style scoped>\n    .dataframe tbody tr th:only-of-type {\n        vertical-align: middle;\n    }\n\n    .dataframe tbody tr th {\n        vertical-align: top;\n    }\n\n    .dataframe thead th {\n        text-align: right;\n    }\n</style>\n<table border=\"1\" class=\"dataframe\">\n  <thead>\n    <tr style=\"text-align: right;\">\n      <th></th>\n      <th>date_index</th>\n      <th>ticker</th>\n      <th>ret</th>\n      <th>mve_c</th>\n      <th>price</th>\n      <th>A_3</th>\n      <th>A_5</th>\n      <th>A_10</th>\n      <th>A_20</th>\n      <th>A_50</th>\n      <th>A_100</th>\n      <th>A_200</th>\n      <th>A_400</th>\n      <th>A_600</th>\n      <th>A_800</th>\n      <th>A_1000</th>\n      <th>qu10</th>\n    </tr>\n  </thead>\n  <tbody>\n    <tr>\n      <th>0</th>\n      <td>1990-01-31</td>\n      <td>ADSK</td>\n      <td>0.012821</td>\n      <td>9.495192e+08</td>\n      <td>4.937500</td>\n      <td>NaN</td>\n      <td>NaN</td>\n      <td>NaN</td>\n      <td>NaN</td>\n      <td>NaN</td>\n      <td>NaN</td>\n      <td>NaN</td>\n      <td>NaN</td>\n      <td>NaN</td>\n      <td>NaN</td>\n      <td>NaN</td>\n      <td>4.581203e+08</td>\n    </tr>\n    <tr>\n      <th>1</th>\n      <td>1990-01-31</td>\n      <td>COO</td>\n      <td>0.000000</td>\n      <td>NaN</td>\n      <td>6.750675</td>\n      <td>NaN</td>\n      <td>NaN</td>\n      <td>NaN</td>\n      <td>NaN</td>\n      <td>NaN</td>\n      <td>NaN</td>\n      <td>NaN</td>\n      <td>NaN</td>\n      <td>NaN</td>\n      <td>NaN</td>\n      <td>NaN</td>\n      <td>4.581203e+08</td>\n    </tr>\n    <tr>\n      <th>2</th>\n      <td>1990-01-31</td>\n      <td>DE</td>\n      <td>0.005736</td>\n      <td>4.779051e+09</td>\n      <td>10.958333</td>\n      <td>NaN</td>\n      <td>NaN</td>\n      <td>NaN</td>\n      <td>NaN</td>\n      <td>NaN</td>\n      <td>NaN</td>\n      <td>NaN</td>\n      <td>NaN</td>\n      <td>NaN</td>\n      <td>NaN</td>\n      <td>NaN</td>\n      <td>4.581203e+08</td>\n    </tr>\n    <tr>\n      <th>3</th>\n      <td>1990-01-31</td>\n      <td>HPQ</td>\n      <td>0.008475</td>\n      <td>1.072240e+10</td>\n      <td>5.578125</td>\n      <td>NaN</td>\n      <td>NaN</td>\n      <td>NaN</td>\n      <td>NaN</td>\n      <td>NaN</td>\n      <td>NaN</td>\n      <td>NaN</td>\n      <td>NaN</td>\n      <td>NaN</td>\n      <td>NaN</td>\n      <td>NaN</td>\n      <td>4.581203e+08</td>\n    </tr>\n    <tr>\n      <th>4</th>\n      <td>1990-01-31</td>\n      <td>LOW</td>\n      <td>0.038095</td>\n      <td>9.885955e+08</td>\n      <td>0.851562</td>\n      <td>NaN</td>\n      <td>NaN</td>\n      <td>NaN</td>\n      <td>NaN</td>\n      <td>NaN</td>\n      <td>NaN</td>\n      <td>NaN</td>\n      <td>NaN</td>\n      <td>NaN</td>\n      <td>NaN</td>\n      <td>NaN</td>\n      <td>4.581203e+08</td>\n    </tr>\n    <tr>\n      <th>...</th>\n      <td>...</td>\n      <td>...</td>\n      <td>...</td>\n      <td>...</td>\n      <td>...</td>\n      <td>...</td>\n      <td>...</td>\n      <td>...</td>\n      <td>...</td>\n      <td>...</td>\n      <td>...</td>\n      <td>...</td>\n      <td>...</td>\n      <td>...</td>\n      <td>...</td>\n      <td>...</td>\n      <td>...</td>\n    </tr>\n    <tr>\n      <th>22893</th>\n      <td>2023-03-31</td>\n      <td>XOM</td>\n      <td>0.001553</td>\n      <td>4.337072e+11</td>\n      <td>109.660000</td>\n      <td>0.859049</td>\n      <td>0.777658</td>\n      <td>0.619798</td>\n      <td>0.637557</td>\n      <td>0.685572</td>\n      <td>NaN</td>\n      <td>NaN</td>\n      <td>NaN</td>\n      <td>NaN</td>\n      <td>NaN</td>\n      <td>NaN</td>\n      <td>1.120741e+10</td>\n    </tr>\n    <tr>\n      <th>22894</th>\n      <td>2023-03-31</td>\n      <td>XRAY</td>\n      <td>0.018672</td>\n      <td>8.213091e+09</td>\n      <td>39.280000</td>\n      <td>0.877122</td>\n      <td>1.060947</td>\n      <td>1.246385</td>\n      <td>1.311049</td>\n      <td>1.122195</td>\n      <td>NaN</td>\n      <td>NaN</td>\n      <td>NaN</td>\n      <td>NaN</td>\n      <td>NaN</td>\n      <td>NaN</td>\n      <td>1.120741e+10</td>\n    </tr>\n    <tr>\n      <th>22895</th>\n      <td>2023-03-31</td>\n      <td>ZION</td>\n      <td>-0.012211</td>\n      <td>4.590767e+09</td>\n      <td>29.930000</td>\n      <td>1.466644</td>\n      <td>1.740127</td>\n      <td>1.679853</td>\n      <td>1.448363</td>\n      <td>1.201828</td>\n      <td>NaN</td>\n      <td>NaN</td>\n      <td>NaN</td>\n      <td>NaN</td>\n      <td>NaN</td>\n      <td>NaN</td>\n      <td>1.120741e+10</td>\n    </tr>\n    <tr>\n      <th>22896</th>\n      <td>2023-05-31</td>\n      <td>AZO</td>\n      <td>-0.027621</td>\n      <td>5.165423e+10</td>\n      <td>2386.840000</td>\n      <td>0.340997</td>\n      <td>0.208798</td>\n      <td>0.109950</td>\n      <td>NaN</td>\n      <td>NaN</td>\n      <td>NaN</td>\n      <td>NaN</td>\n      <td>NaN</td>\n      <td>NaN</td>\n      <td>NaN</td>\n      <td>NaN</td>\n      <td>6.914361e+10</td>\n    </tr>\n    <tr>\n      <th>22897</th>\n      <td>2023-05-31</td>\n      <td>COST</td>\n      <td>0.006948</td>\n      <td>2.265480e+11</td>\n      <td>511.560000</td>\n      <td>0.582019</td>\n      <td>NaN</td>\n      <td>NaN</td>\n      <td>NaN</td>\n      <td>NaN</td>\n      <td>NaN</td>\n      <td>NaN</td>\n      <td>NaN</td>\n      <td>NaN</td>\n      <td>NaN</td>\n      <td>NaN</td>\n      <td>6.914361e+10</td>\n    </tr>\n  </tbody>\n</table>\n<p>22898 rows × 17 columns</p>\n</div>"
     },
     "execution_count": 97,
     "metadata": {},
     "output_type": "execute_result"
    }
   ],
   "source": [
    "filtered = with_moving_avgs\n",
    "qu10 = filtered.groupby('date_index')['mve_c'].quantile(0.1)\n",
    "qu10.name = 'qu10'\n",
    "qu10\n",
    "filtered = filtered.merge(qu10, on='date_index', how='inner')\n",
    "filtered\n",
    "# filtered = filtered[(filtered['price'].abs()>=5) & (filtered['mve_c'] >= filtered['qu10'])]\n",
    "# filtered = filtered.sort_values(by='date_index')\n",
    "# filtered = filtered.dropna()\n",
    "# filtered"
   ],
   "metadata": {
    "collapsed": false
   }
  },
  {
   "cell_type": "code",
   "execution_count": 94,
   "outputs": [
    {
     "ename": "ValueError",
     "evalue": "Found array with 0 sample(s) (shape=(0, 11)) while a minimum of 1 is required by LinearRegression.",
     "output_type": "error",
     "traceback": [
      "\u001B[0;31m---------------------------------------------------------------------------\u001B[0m",
      "\u001B[0;31mValueError\u001B[0m                                Traceback (most recent call last)",
      "Cell \u001B[0;32mIn[94], line 7\u001B[0m\n\u001B[1;32m      5\u001B[0m X \u001B[38;5;241m=\u001B[39m training\u001B[38;5;241m.\u001B[39mshift(\u001B[38;5;241m1\u001B[39m)\u001B[38;5;241m.\u001B[39mdropna()  \u001B[38;5;66;03m# lagged moving averages\u001B[39;00m\n\u001B[1;32m      6\u001B[0m y \u001B[38;5;241m=\u001B[39m filtered[\u001B[38;5;124m'\u001B[39m\u001B[38;5;124mret\u001B[39m\u001B[38;5;124m'\u001B[39m][\u001B[38;5;241m1\u001B[39m:]\n\u001B[0;32m----> 7\u001B[0m \u001B[43mmodel\u001B[49m\u001B[38;5;241;43m.\u001B[39;49m\u001B[43mfit\u001B[49m\u001B[43m(\u001B[49m\u001B[43mX\u001B[49m\u001B[43m,\u001B[49m\u001B[43m \u001B[49m\u001B[43my\u001B[49m\u001B[43m)\u001B[49m\n",
      "File \u001B[0;32m~/Documents/finance/factorlib/venv/lib/python3.10/site-packages/sklearn/linear_model/_base.py:648\u001B[0m, in \u001B[0;36mLinearRegression.fit\u001B[0;34m(self, X, y, sample_weight)\u001B[0m\n\u001B[1;32m    644\u001B[0m n_jobs_ \u001B[38;5;241m=\u001B[39m \u001B[38;5;28mself\u001B[39m\u001B[38;5;241m.\u001B[39mn_jobs\n\u001B[1;32m    646\u001B[0m accept_sparse \u001B[38;5;241m=\u001B[39m \u001B[38;5;28;01mFalse\u001B[39;00m \u001B[38;5;28;01mif\u001B[39;00m \u001B[38;5;28mself\u001B[39m\u001B[38;5;241m.\u001B[39mpositive \u001B[38;5;28;01melse\u001B[39;00m [\u001B[38;5;124m\"\u001B[39m\u001B[38;5;124mcsr\u001B[39m\u001B[38;5;124m\"\u001B[39m, \u001B[38;5;124m\"\u001B[39m\u001B[38;5;124mcsc\u001B[39m\u001B[38;5;124m\"\u001B[39m, \u001B[38;5;124m\"\u001B[39m\u001B[38;5;124mcoo\u001B[39m\u001B[38;5;124m\"\u001B[39m]\n\u001B[0;32m--> 648\u001B[0m X, y \u001B[38;5;241m=\u001B[39m \u001B[38;5;28;43mself\u001B[39;49m\u001B[38;5;241;43m.\u001B[39;49m\u001B[43m_validate_data\u001B[49m\u001B[43m(\u001B[49m\n\u001B[1;32m    649\u001B[0m \u001B[43m    \u001B[49m\u001B[43mX\u001B[49m\u001B[43m,\u001B[49m\u001B[43m \u001B[49m\u001B[43my\u001B[49m\u001B[43m,\u001B[49m\u001B[43m \u001B[49m\u001B[43maccept_sparse\u001B[49m\u001B[38;5;241;43m=\u001B[39;49m\u001B[43maccept_sparse\u001B[49m\u001B[43m,\u001B[49m\u001B[43m \u001B[49m\u001B[43my_numeric\u001B[49m\u001B[38;5;241;43m=\u001B[39;49m\u001B[38;5;28;43;01mTrue\u001B[39;49;00m\u001B[43m,\u001B[49m\u001B[43m \u001B[49m\u001B[43mmulti_output\u001B[49m\u001B[38;5;241;43m=\u001B[39;49m\u001B[38;5;28;43;01mTrue\u001B[39;49;00m\n\u001B[1;32m    650\u001B[0m \u001B[43m\u001B[49m\u001B[43m)\u001B[49m\n\u001B[1;32m    652\u001B[0m sample_weight \u001B[38;5;241m=\u001B[39m _check_sample_weight(\n\u001B[1;32m    653\u001B[0m     sample_weight, X, dtype\u001B[38;5;241m=\u001B[39mX\u001B[38;5;241m.\u001B[39mdtype, only_non_negative\u001B[38;5;241m=\u001B[39m\u001B[38;5;28;01mTrue\u001B[39;00m\n\u001B[1;32m    654\u001B[0m )\n\u001B[1;32m    656\u001B[0m X, y, X_offset, y_offset, X_scale \u001B[38;5;241m=\u001B[39m _preprocess_data(\n\u001B[1;32m    657\u001B[0m     X,\n\u001B[1;32m    658\u001B[0m     y,\n\u001B[0;32m   (...)\u001B[0m\n\u001B[1;32m    661\u001B[0m     sample_weight\u001B[38;5;241m=\u001B[39msample_weight,\n\u001B[1;32m    662\u001B[0m )\n",
      "File \u001B[0;32m~/Documents/finance/factorlib/venv/lib/python3.10/site-packages/sklearn/base.py:565\u001B[0m, in \u001B[0;36mBaseEstimator._validate_data\u001B[0;34m(self, X, y, reset, validate_separately, **check_params)\u001B[0m\n\u001B[1;32m    563\u001B[0m         y \u001B[38;5;241m=\u001B[39m check_array(y, input_name\u001B[38;5;241m=\u001B[39m\u001B[38;5;124m\"\u001B[39m\u001B[38;5;124my\u001B[39m\u001B[38;5;124m\"\u001B[39m, \u001B[38;5;241m*\u001B[39m\u001B[38;5;241m*\u001B[39mcheck_y_params)\n\u001B[1;32m    564\u001B[0m     \u001B[38;5;28;01melse\u001B[39;00m:\n\u001B[0;32m--> 565\u001B[0m         X, y \u001B[38;5;241m=\u001B[39m \u001B[43mcheck_X_y\u001B[49m\u001B[43m(\u001B[49m\u001B[43mX\u001B[49m\u001B[43m,\u001B[49m\u001B[43m \u001B[49m\u001B[43my\u001B[49m\u001B[43m,\u001B[49m\u001B[43m \u001B[49m\u001B[38;5;241;43m*\u001B[39;49m\u001B[38;5;241;43m*\u001B[39;49m\u001B[43mcheck_params\u001B[49m\u001B[43m)\u001B[49m\n\u001B[1;32m    566\u001B[0m     out \u001B[38;5;241m=\u001B[39m X, y\n\u001B[1;32m    568\u001B[0m \u001B[38;5;28;01mif\u001B[39;00m \u001B[38;5;129;01mnot\u001B[39;00m no_val_X \u001B[38;5;129;01mand\u001B[39;00m check_params\u001B[38;5;241m.\u001B[39mget(\u001B[38;5;124m\"\u001B[39m\u001B[38;5;124mensure_2d\u001B[39m\u001B[38;5;124m\"\u001B[39m, \u001B[38;5;28;01mTrue\u001B[39;00m):\n",
      "File \u001B[0;32m~/Documents/finance/factorlib/venv/lib/python3.10/site-packages/sklearn/utils/validation.py:1106\u001B[0m, in \u001B[0;36mcheck_X_y\u001B[0;34m(X, y, accept_sparse, accept_large_sparse, dtype, order, copy, force_all_finite, ensure_2d, allow_nd, multi_output, ensure_min_samples, ensure_min_features, y_numeric, estimator)\u001B[0m\n\u001B[1;32m   1101\u001B[0m         estimator_name \u001B[38;5;241m=\u001B[39m _check_estimator_name(estimator)\n\u001B[1;32m   1102\u001B[0m     \u001B[38;5;28;01mraise\u001B[39;00m \u001B[38;5;167;01mValueError\u001B[39;00m(\n\u001B[1;32m   1103\u001B[0m         \u001B[38;5;124mf\u001B[39m\u001B[38;5;124m\"\u001B[39m\u001B[38;5;132;01m{\u001B[39;00mestimator_name\u001B[38;5;132;01m}\u001B[39;00m\u001B[38;5;124m requires y to be passed, but the target y is None\u001B[39m\u001B[38;5;124m\"\u001B[39m\n\u001B[1;32m   1104\u001B[0m     )\n\u001B[0;32m-> 1106\u001B[0m X \u001B[38;5;241m=\u001B[39m \u001B[43mcheck_array\u001B[49m\u001B[43m(\u001B[49m\n\u001B[1;32m   1107\u001B[0m \u001B[43m    \u001B[49m\u001B[43mX\u001B[49m\u001B[43m,\u001B[49m\n\u001B[1;32m   1108\u001B[0m \u001B[43m    \u001B[49m\u001B[43maccept_sparse\u001B[49m\u001B[38;5;241;43m=\u001B[39;49m\u001B[43maccept_sparse\u001B[49m\u001B[43m,\u001B[49m\n\u001B[1;32m   1109\u001B[0m \u001B[43m    \u001B[49m\u001B[43maccept_large_sparse\u001B[49m\u001B[38;5;241;43m=\u001B[39;49m\u001B[43maccept_large_sparse\u001B[49m\u001B[43m,\u001B[49m\n\u001B[1;32m   1110\u001B[0m \u001B[43m    \u001B[49m\u001B[43mdtype\u001B[49m\u001B[38;5;241;43m=\u001B[39;49m\u001B[43mdtype\u001B[49m\u001B[43m,\u001B[49m\n\u001B[1;32m   1111\u001B[0m \u001B[43m    \u001B[49m\u001B[43morder\u001B[49m\u001B[38;5;241;43m=\u001B[39;49m\u001B[43morder\u001B[49m\u001B[43m,\u001B[49m\n\u001B[1;32m   1112\u001B[0m \u001B[43m    \u001B[49m\u001B[43mcopy\u001B[49m\u001B[38;5;241;43m=\u001B[39;49m\u001B[43mcopy\u001B[49m\u001B[43m,\u001B[49m\n\u001B[1;32m   1113\u001B[0m \u001B[43m    \u001B[49m\u001B[43mforce_all_finite\u001B[49m\u001B[38;5;241;43m=\u001B[39;49m\u001B[43mforce_all_finite\u001B[49m\u001B[43m,\u001B[49m\n\u001B[1;32m   1114\u001B[0m \u001B[43m    \u001B[49m\u001B[43mensure_2d\u001B[49m\u001B[38;5;241;43m=\u001B[39;49m\u001B[43mensure_2d\u001B[49m\u001B[43m,\u001B[49m\n\u001B[1;32m   1115\u001B[0m \u001B[43m    \u001B[49m\u001B[43mallow_nd\u001B[49m\u001B[38;5;241;43m=\u001B[39;49m\u001B[43mallow_nd\u001B[49m\u001B[43m,\u001B[49m\n\u001B[1;32m   1116\u001B[0m \u001B[43m    \u001B[49m\u001B[43mensure_min_samples\u001B[49m\u001B[38;5;241;43m=\u001B[39;49m\u001B[43mensure_min_samples\u001B[49m\u001B[43m,\u001B[49m\n\u001B[1;32m   1117\u001B[0m \u001B[43m    \u001B[49m\u001B[43mensure_min_features\u001B[49m\u001B[38;5;241;43m=\u001B[39;49m\u001B[43mensure_min_features\u001B[49m\u001B[43m,\u001B[49m\n\u001B[1;32m   1118\u001B[0m \u001B[43m    \u001B[49m\u001B[43mestimator\u001B[49m\u001B[38;5;241;43m=\u001B[39;49m\u001B[43mestimator\u001B[49m\u001B[43m,\u001B[49m\n\u001B[1;32m   1119\u001B[0m \u001B[43m    \u001B[49m\u001B[43minput_name\u001B[49m\u001B[38;5;241;43m=\u001B[39;49m\u001B[38;5;124;43m\"\u001B[39;49m\u001B[38;5;124;43mX\u001B[39;49m\u001B[38;5;124;43m\"\u001B[39;49m\u001B[43m,\u001B[49m\n\u001B[1;32m   1120\u001B[0m \u001B[43m\u001B[49m\u001B[43m)\u001B[49m\n\u001B[1;32m   1122\u001B[0m y \u001B[38;5;241m=\u001B[39m _check_y(y, multi_output\u001B[38;5;241m=\u001B[39mmulti_output, y_numeric\u001B[38;5;241m=\u001B[39my_numeric, estimator\u001B[38;5;241m=\u001B[39mestimator)\n\u001B[1;32m   1124\u001B[0m check_consistent_length(X, y)\n",
      "File \u001B[0;32m~/Documents/finance/factorlib/venv/lib/python3.10/site-packages/sklearn/utils/validation.py:931\u001B[0m, in \u001B[0;36mcheck_array\u001B[0;34m(array, accept_sparse, accept_large_sparse, dtype, order, copy, force_all_finite, ensure_2d, allow_nd, ensure_min_samples, ensure_min_features, estimator, input_name)\u001B[0m\n\u001B[1;32m    929\u001B[0m     n_samples \u001B[38;5;241m=\u001B[39m _num_samples(array)\n\u001B[1;32m    930\u001B[0m     \u001B[38;5;28;01mif\u001B[39;00m n_samples \u001B[38;5;241m<\u001B[39m ensure_min_samples:\n\u001B[0;32m--> 931\u001B[0m         \u001B[38;5;28;01mraise\u001B[39;00m \u001B[38;5;167;01mValueError\u001B[39;00m(\n\u001B[1;32m    932\u001B[0m             \u001B[38;5;124m\"\u001B[39m\u001B[38;5;124mFound array with \u001B[39m\u001B[38;5;132;01m%d\u001B[39;00m\u001B[38;5;124m sample(s) (shape=\u001B[39m\u001B[38;5;132;01m%s\u001B[39;00m\u001B[38;5;124m) while a\u001B[39m\u001B[38;5;124m\"\u001B[39m\n\u001B[1;32m    933\u001B[0m             \u001B[38;5;124m\"\u001B[39m\u001B[38;5;124m minimum of \u001B[39m\u001B[38;5;132;01m%d\u001B[39;00m\u001B[38;5;124m is required\u001B[39m\u001B[38;5;132;01m%s\u001B[39;00m\u001B[38;5;124m.\u001B[39m\u001B[38;5;124m\"\u001B[39m\n\u001B[1;32m    934\u001B[0m             \u001B[38;5;241m%\u001B[39m (n_samples, array\u001B[38;5;241m.\u001B[39mshape, ensure_min_samples, context)\n\u001B[1;32m    935\u001B[0m         )\n\u001B[1;32m    937\u001B[0m \u001B[38;5;28;01mif\u001B[39;00m ensure_min_features \u001B[38;5;241m>\u001B[39m \u001B[38;5;241m0\u001B[39m \u001B[38;5;129;01mand\u001B[39;00m array\u001B[38;5;241m.\u001B[39mndim \u001B[38;5;241m==\u001B[39m \u001B[38;5;241m2\u001B[39m:\n\u001B[1;32m    938\u001B[0m     n_features \u001B[38;5;241m=\u001B[39m array\u001B[38;5;241m.\u001B[39mshape[\u001B[38;5;241m1\u001B[39m]\n",
      "\u001B[0;31mValueError\u001B[0m: Found array with 0 sample(s) (shape=(0, 11)) while a minimum of 1 is required by LinearRegression."
     ]
    }
   ],
   "source": [
    "# Linear regression model\n",
    "model = LinearRegression()\n",
    "training = filtered\n",
    "training = training[[f'A_{lag}' for lag in lags]].dropna()\n",
    "X = training.shift(1).dropna()  # lagged moving averages\n",
    "y = filtered['ret'][1:]\n",
    "model.fit(X, y)"
   ],
   "metadata": {
    "collapsed": false
   }
  },
  {
   "cell_type": "code",
   "execution_count": 24,
   "outputs": [
    {
     "data": {
      "text/plain": "       date_index     gvkey ticker  SHRCD  EXCHCD           PRC         mve_c  \\\n545602 2002-10-01    9311.0   SBEI   11.0     3.0     67.000000  2.718860e+02   \n546999 2002-11-01    9311.0   SBEI   11.0     3.0     50.000000  2.029000e+02   \n323064 2003-04-01   61414.0   SNUS   11.0     3.0  93600.000000  1.281571e+06   \n323549 2003-04-01   65243.0   NUVO   11.0     3.0  41818.181818  9.660418e+05   \n321776 2003-04-01    9311.0   SBEI   11.0     3.0     32.000000  1.298560e+02   \n...           ...       ...    ...    ...     ...           ...           ...   \n696305 2020-05-01   11600.0    WOR   11.0     1.0     25.460000  1.412215e+03   \n696288 2020-05-01    5071.0    GIS   11.0     1.0     59.580000  3.586120e+04   \n696284 2020-05-01   12142.0   ORCL   11.0     1.0     51.790000  1.739626e+05   \n696291 2020-05-01    7401.0   MLHR   11.0     3.0     21.540000  1.266423e+03   \n696326 2020-05-01  264387.0   ANGO   11.0     3.0     10.060000  3.783968e+02   \n\n             A_3       A_5      A_10  ...    beta_5   beta_10  beta_20  \\\n545602  0.352388  0.222699  0.125371  ... -0.169574  0.330387 -0.20903   \n546999  0.792933  0.490936  0.264258  ... -0.169574  0.330387 -0.20903   \n323064  1.012821  1.011111  1.005556  ... -0.169574  0.330387 -0.20903   \n323549  0.971014  0.971739  0.932500  ... -0.169574  0.330387 -0.20903   \n321776  0.307292  0.650000  0.189844  ... -0.169574  0.330387 -0.20903   \n...          ...       ...       ...  ...       ...       ...      ...   \n696305  1.054857  1.027965  0.968500  ... -0.169574  0.330387 -0.20903   \n696288  1.005763  1.009433  1.009785  ... -0.169574  0.330387 -0.20903   \n696284  1.021047  1.024175  1.018884  ... -0.169574  0.330387 -0.20903   \n696291  1.051223  1.039786  0.967363  ... -0.169574  0.330387 -0.20903   \n696326  1.043075  1.036779  1.033400  ... -0.169574  0.330387 -0.20903   \n\n         beta_50  beta_100  beta_200  beta_400  beta_600  beta_800  beta_1000  \n545602  0.179096 -0.112885  0.013443 -0.003145  0.002012 -0.000574   0.000095  \n546999  0.179096 -0.112885  0.013443 -0.003145  0.002012 -0.000574   0.000095  \n323064  0.179096 -0.112885  0.013443 -0.003145  0.002012 -0.000574   0.000095  \n323549  0.179096 -0.112885  0.013443 -0.003145  0.002012 -0.000574   0.000095  \n321776  0.179096 -0.112885  0.013443 -0.003145  0.002012 -0.000574   0.000095  \n...          ...       ...       ...       ...       ...       ...        ...  \n696305  0.179096 -0.112885  0.013443 -0.003145  0.002012 -0.000574   0.000095  \n696288  0.179096 -0.112885  0.013443 -0.003145  0.002012 -0.000574   0.000095  \n696284  0.179096 -0.112885  0.013443 -0.003145  0.002012 -0.000574   0.000095  \n696291  0.179096 -0.112885  0.013443 -0.003145  0.002012 -0.000574   0.000095  \n696326  0.179096 -0.112885  0.013443 -0.003145  0.002012 -0.000574   0.000095  \n\n[149275 rows x 31 columns]",
      "text/html": "<div>\n<style scoped>\n    .dataframe tbody tr th:only-of-type {\n        vertical-align: middle;\n    }\n\n    .dataframe tbody tr th {\n        vertical-align: top;\n    }\n\n    .dataframe thead th {\n        text-align: right;\n    }\n</style>\n<table border=\"1\" class=\"dataframe\">\n  <thead>\n    <tr style=\"text-align: right;\">\n      <th></th>\n      <th>date_index</th>\n      <th>gvkey</th>\n      <th>ticker</th>\n      <th>SHRCD</th>\n      <th>EXCHCD</th>\n      <th>PRC</th>\n      <th>mve_c</th>\n      <th>A_3</th>\n      <th>A_5</th>\n      <th>A_10</th>\n      <th>...</th>\n      <th>beta_5</th>\n      <th>beta_10</th>\n      <th>beta_20</th>\n      <th>beta_50</th>\n      <th>beta_100</th>\n      <th>beta_200</th>\n      <th>beta_400</th>\n      <th>beta_600</th>\n      <th>beta_800</th>\n      <th>beta_1000</th>\n    </tr>\n  </thead>\n  <tbody>\n    <tr>\n      <th>545602</th>\n      <td>2002-10-01</td>\n      <td>9311.0</td>\n      <td>SBEI</td>\n      <td>11.0</td>\n      <td>3.0</td>\n      <td>67.000000</td>\n      <td>2.718860e+02</td>\n      <td>0.352388</td>\n      <td>0.222699</td>\n      <td>0.125371</td>\n      <td>...</td>\n      <td>-0.169574</td>\n      <td>0.330387</td>\n      <td>-0.20903</td>\n      <td>0.179096</td>\n      <td>-0.112885</td>\n      <td>0.013443</td>\n      <td>-0.003145</td>\n      <td>0.002012</td>\n      <td>-0.000574</td>\n      <td>0.000095</td>\n    </tr>\n    <tr>\n      <th>546999</th>\n      <td>2002-11-01</td>\n      <td>9311.0</td>\n      <td>SBEI</td>\n      <td>11.0</td>\n      <td>3.0</td>\n      <td>50.000000</td>\n      <td>2.029000e+02</td>\n      <td>0.792933</td>\n      <td>0.490936</td>\n      <td>0.264258</td>\n      <td>...</td>\n      <td>-0.169574</td>\n      <td>0.330387</td>\n      <td>-0.20903</td>\n      <td>0.179096</td>\n      <td>-0.112885</td>\n      <td>0.013443</td>\n      <td>-0.003145</td>\n      <td>0.002012</td>\n      <td>-0.000574</td>\n      <td>0.000095</td>\n    </tr>\n    <tr>\n      <th>323064</th>\n      <td>2003-04-01</td>\n      <td>61414.0</td>\n      <td>SNUS</td>\n      <td>11.0</td>\n      <td>3.0</td>\n      <td>93600.000000</td>\n      <td>1.281571e+06</td>\n      <td>1.012821</td>\n      <td>1.011111</td>\n      <td>1.005556</td>\n      <td>...</td>\n      <td>-0.169574</td>\n      <td>0.330387</td>\n      <td>-0.20903</td>\n      <td>0.179096</td>\n      <td>-0.112885</td>\n      <td>0.013443</td>\n      <td>-0.003145</td>\n      <td>0.002012</td>\n      <td>-0.000574</td>\n      <td>0.000095</td>\n    </tr>\n    <tr>\n      <th>323549</th>\n      <td>2003-04-01</td>\n      <td>65243.0</td>\n      <td>NUVO</td>\n      <td>11.0</td>\n      <td>3.0</td>\n      <td>41818.181818</td>\n      <td>9.660418e+05</td>\n      <td>0.971014</td>\n      <td>0.971739</td>\n      <td>0.932500</td>\n      <td>...</td>\n      <td>-0.169574</td>\n      <td>0.330387</td>\n      <td>-0.20903</td>\n      <td>0.179096</td>\n      <td>-0.112885</td>\n      <td>0.013443</td>\n      <td>-0.003145</td>\n      <td>0.002012</td>\n      <td>-0.000574</td>\n      <td>0.000095</td>\n    </tr>\n    <tr>\n      <th>321776</th>\n      <td>2003-04-01</td>\n      <td>9311.0</td>\n      <td>SBEI</td>\n      <td>11.0</td>\n      <td>3.0</td>\n      <td>32.000000</td>\n      <td>1.298560e+02</td>\n      <td>0.307292</td>\n      <td>0.650000</td>\n      <td>0.189844</td>\n      <td>...</td>\n      <td>-0.169574</td>\n      <td>0.330387</td>\n      <td>-0.20903</td>\n      <td>0.179096</td>\n      <td>-0.112885</td>\n      <td>0.013443</td>\n      <td>-0.003145</td>\n      <td>0.002012</td>\n      <td>-0.000574</td>\n      <td>0.000095</td>\n    </tr>\n    <tr>\n      <th>...</th>\n      <td>...</td>\n      <td>...</td>\n      <td>...</td>\n      <td>...</td>\n      <td>...</td>\n      <td>...</td>\n      <td>...</td>\n      <td>...</td>\n      <td>...</td>\n      <td>...</td>\n      <td>...</td>\n      <td>...</td>\n      <td>...</td>\n      <td>...</td>\n      <td>...</td>\n      <td>...</td>\n      <td>...</td>\n      <td>...</td>\n      <td>...</td>\n      <td>...</td>\n      <td>...</td>\n    </tr>\n    <tr>\n      <th>696305</th>\n      <td>2020-05-01</td>\n      <td>11600.0</td>\n      <td>WOR</td>\n      <td>11.0</td>\n      <td>1.0</td>\n      <td>25.460000</td>\n      <td>1.412215e+03</td>\n      <td>1.054857</td>\n      <td>1.027965</td>\n      <td>0.968500</td>\n      <td>...</td>\n      <td>-0.169574</td>\n      <td>0.330387</td>\n      <td>-0.20903</td>\n      <td>0.179096</td>\n      <td>-0.112885</td>\n      <td>0.013443</td>\n      <td>-0.003145</td>\n      <td>0.002012</td>\n      <td>-0.000574</td>\n      <td>0.000095</td>\n    </tr>\n    <tr>\n      <th>696288</th>\n      <td>2020-05-01</td>\n      <td>5071.0</td>\n      <td>GIS</td>\n      <td>11.0</td>\n      <td>1.0</td>\n      <td>59.580000</td>\n      <td>3.586120e+04</td>\n      <td>1.005763</td>\n      <td>1.009433</td>\n      <td>1.009785</td>\n      <td>...</td>\n      <td>-0.169574</td>\n      <td>0.330387</td>\n      <td>-0.20903</td>\n      <td>0.179096</td>\n      <td>-0.112885</td>\n      <td>0.013443</td>\n      <td>-0.003145</td>\n      <td>0.002012</td>\n      <td>-0.000574</td>\n      <td>0.000095</td>\n    </tr>\n    <tr>\n      <th>696284</th>\n      <td>2020-05-01</td>\n      <td>12142.0</td>\n      <td>ORCL</td>\n      <td>11.0</td>\n      <td>1.0</td>\n      <td>51.790000</td>\n      <td>1.739626e+05</td>\n      <td>1.021047</td>\n      <td>1.024175</td>\n      <td>1.018884</td>\n      <td>...</td>\n      <td>-0.169574</td>\n      <td>0.330387</td>\n      <td>-0.20903</td>\n      <td>0.179096</td>\n      <td>-0.112885</td>\n      <td>0.013443</td>\n      <td>-0.003145</td>\n      <td>0.002012</td>\n      <td>-0.000574</td>\n      <td>0.000095</td>\n    </tr>\n    <tr>\n      <th>696291</th>\n      <td>2020-05-01</td>\n      <td>7401.0</td>\n      <td>MLHR</td>\n      <td>11.0</td>\n      <td>3.0</td>\n      <td>21.540000</td>\n      <td>1.266423e+03</td>\n      <td>1.051223</td>\n      <td>1.039786</td>\n      <td>0.967363</td>\n      <td>...</td>\n      <td>-0.169574</td>\n      <td>0.330387</td>\n      <td>-0.20903</td>\n      <td>0.179096</td>\n      <td>-0.112885</td>\n      <td>0.013443</td>\n      <td>-0.003145</td>\n      <td>0.002012</td>\n      <td>-0.000574</td>\n      <td>0.000095</td>\n    </tr>\n    <tr>\n      <th>696326</th>\n      <td>2020-05-01</td>\n      <td>264387.0</td>\n      <td>ANGO</td>\n      <td>11.0</td>\n      <td>3.0</td>\n      <td>10.060000</td>\n      <td>3.783968e+02</td>\n      <td>1.043075</td>\n      <td>1.036779</td>\n      <td>1.033400</td>\n      <td>...</td>\n      <td>-0.169574</td>\n      <td>0.330387</td>\n      <td>-0.20903</td>\n      <td>0.179096</td>\n      <td>-0.112885</td>\n      <td>0.013443</td>\n      <td>-0.003145</td>\n      <td>0.002012</td>\n      <td>-0.000574</td>\n      <td>0.000095</td>\n    </tr>\n  </tbody>\n</table>\n<p>149275 rows × 31 columns</p>\n</div>"
     },
     "execution_count": 24,
     "metadata": {},
     "output_type": "execute_result"
    }
   ],
   "source": [
    "# Calculate beta coefficients\n",
    "betas = filtered\n",
    "betas[[f'beta_{lag}' for lag in lags]] = pd.Series(model.coef_)\n",
    "betas"
   ],
   "metadata": {
    "collapsed": false
   }
  },
  {
   "cell_type": "code",
   "execution_count": 25,
   "outputs": [
    {
     "data": {
      "text/plain": "           ticker  TrendFactor\ndate_index                    \n2006-11-01      A     0.288263\n2006-12-01      A     0.299175\n2007-01-01      A     0.299175\n2007-02-01      A     0.291252\n2007-03-01      A     0.297710\n...           ...          ...\n2019-09-01   ZUMZ     0.305350\n2019-10-01   ZUMZ     0.282010\n2019-11-01   ZUMZ     0.303787\n2019-07-01   ZYNE     0.304919\n2019-08-01   ZYNE     0.303802\n\n[246273 rows x 2 columns]",
      "text/html": "<div>\n<style scoped>\n    .dataframe tbody tr th:only-of-type {\n        vertical-align: middle;\n    }\n\n    .dataframe tbody tr th {\n        vertical-align: top;\n    }\n\n    .dataframe thead th {\n        text-align: right;\n    }\n</style>\n<table border=\"1\" class=\"dataframe\">\n  <thead>\n    <tr style=\"text-align: right;\">\n      <th></th>\n      <th>ticker</th>\n      <th>TrendFactor</th>\n    </tr>\n    <tr>\n      <th>date_index</th>\n      <th></th>\n      <th></th>\n    </tr>\n  </thead>\n  <tbody>\n    <tr>\n      <th>2006-11-01</th>\n      <td>A</td>\n      <td>0.288263</td>\n    </tr>\n    <tr>\n      <th>2006-12-01</th>\n      <td>A</td>\n      <td>0.299175</td>\n    </tr>\n    <tr>\n      <th>2007-01-01</th>\n      <td>A</td>\n      <td>0.299175</td>\n    </tr>\n    <tr>\n      <th>2007-02-01</th>\n      <td>A</td>\n      <td>0.291252</td>\n    </tr>\n    <tr>\n      <th>2007-03-01</th>\n      <td>A</td>\n      <td>0.297710</td>\n    </tr>\n    <tr>\n      <th>...</th>\n      <td>...</td>\n      <td>...</td>\n    </tr>\n    <tr>\n      <th>2019-09-01</th>\n      <td>ZUMZ</td>\n      <td>0.305350</td>\n    </tr>\n    <tr>\n      <th>2019-10-01</th>\n      <td>ZUMZ</td>\n      <td>0.282010</td>\n    </tr>\n    <tr>\n      <th>2019-11-01</th>\n      <td>ZUMZ</td>\n      <td>0.303787</td>\n    </tr>\n    <tr>\n      <th>2019-07-01</th>\n      <td>ZYNE</td>\n      <td>0.304919</td>\n    </tr>\n    <tr>\n      <th>2019-08-01</th>\n      <td>ZYNE</td>\n      <td>0.303802</td>\n    </tr>\n  </tbody>\n</table>\n<p>246273 rows × 2 columns</p>\n</div>"
     },
     "execution_count": 25,
     "metadata": {},
     "output_type": "execute_result"
    }
   ],
   "source": [
    "# NOTHING IS ALIGNED LOOK TMRW\n",
    "rolling_betas = betas\n",
    "for lag in lags:\n",
    "    rolling_betas[f'EBeta_{lag}'] = rolling_betas[f'beta_{lag}'].rolling(window=12).mean()\n",
    "\n",
    "# Calculate expected return E[r] = \\sum E[\\beta_i]A_L_i\n",
    "rolling_betas['TrendFactor'] = sum(rolling_betas[f'EBeta_{lag}'] * rolling_betas[f'A_{lag}'] for lag in lags)\n",
    "rolling_betas = rolling_betas[['date_index', 'ticker', 'TrendFactor']]\n",
    "rolling_betas = rolling_betas.set_index('date_index').groupby('ticker').resample('MS').first()\n",
    "rolling_betas = rolling_betas.reset_index(level=0, drop=True).reset_index().ffill()\n",
    "rolling_betas['date_index'] = pd.to_datetime(rolling_betas['date_index'])\n",
    "rolling_betas = rolling_betas.set_index('date_index')\n",
    "rolling_betas"
   ],
   "metadata": {
    "collapsed": false
   }
  },
  {
   "cell_type": "code",
   "execution_count": 30,
   "outputs": [
    {
     "data": {
      "text/plain": "                   TrendFactor\ndate_index ticker             \n2006-11-01 A          0.288263\n2006-12-01 A          0.299175\n2007-01-01 A          0.299175\n2007-02-01 A          0.291252\n2007-03-01 A          0.297710\n...                        ...\n2002-11-01 SBEI       0.299518\n2002-12-01 SBEI       0.299518\n2003-01-01 SBEI       0.299518\n2003-02-01 SBEI       0.299518\n2003-03-01 SBEI       0.299518\n\n[212 rows x 1 columns]",
      "text/html": "<div>\n<style scoped>\n    .dataframe tbody tr th:only-of-type {\n        vertical-align: middle;\n    }\n\n    .dataframe tbody tr th {\n        vertical-align: top;\n    }\n\n    .dataframe thead th {\n        text-align: right;\n    }\n</style>\n<table border=\"1\" class=\"dataframe\">\n  <thead>\n    <tr style=\"text-align: right;\">\n      <th></th>\n      <th></th>\n      <th>TrendFactor</th>\n    </tr>\n    <tr>\n      <th>date_index</th>\n      <th>ticker</th>\n      <th></th>\n    </tr>\n  </thead>\n  <tbody>\n    <tr>\n      <th>2006-11-01</th>\n      <th>A</th>\n      <td>0.288263</td>\n    </tr>\n    <tr>\n      <th>2006-12-01</th>\n      <th>A</th>\n      <td>0.299175</td>\n    </tr>\n    <tr>\n      <th>2007-01-01</th>\n      <th>A</th>\n      <td>0.299175</td>\n    </tr>\n    <tr>\n      <th>2007-02-01</th>\n      <th>A</th>\n      <td>0.291252</td>\n    </tr>\n    <tr>\n      <th>2007-03-01</th>\n      <th>A</th>\n      <td>0.297710</td>\n    </tr>\n    <tr>\n      <th>...</th>\n      <th>...</th>\n      <td>...</td>\n    </tr>\n    <tr>\n      <th>2002-11-01</th>\n      <th>SBEI</th>\n      <td>0.299518</td>\n    </tr>\n    <tr>\n      <th>2002-12-01</th>\n      <th>SBEI</th>\n      <td>0.299518</td>\n    </tr>\n    <tr>\n      <th>2003-01-01</th>\n      <th>SBEI</th>\n      <td>0.299518</td>\n    </tr>\n    <tr>\n      <th>2003-02-01</th>\n      <th>SBEI</th>\n      <td>0.299518</td>\n    </tr>\n    <tr>\n      <th>2003-03-01</th>\n      <th>SBEI</th>\n      <td>0.299518</td>\n    </tr>\n  </tbody>\n</table>\n<p>212 rows × 1 columns</p>\n</div>"
     },
     "execution_count": 30,
     "metadata": {},
     "output_type": "execute_result"
    }
   ],
   "source": [
    "# added this after testing because it seemed like there were duplicates\n",
    "no_duplicates = rolling_betas.reset_index().set_index(['date_index', 'ticker'])\n",
    "no_duplicates = no_duplicates.loc[~rolling_betas.index.duplicated(keep='first')]\n",
    "no_duplicates"
   ],
   "metadata": {
    "collapsed": false
   }
  },
  {
   "cell_type": "code",
   "execution_count": 32,
   "outputs": [],
   "source": [
    "momentum_dir = get_data_dir() / 'momentum'\n",
    "no_duplicates.to_csv(momentum_dir / 'trend_factor.csv')"
   ],
   "metadata": {
    "collapsed": false
   }
  },
  {
   "cell_type": "code",
   "execution_count": 31,
   "outputs": [],
   "source": [],
   "metadata": {
    "collapsed": false
   }
  },
  {
   "cell_type": "code",
   "execution_count": null,
   "outputs": [],
   "source": [],
   "metadata": {
    "collapsed": false
   }
  }
 ],
 "metadata": {
  "kernelspec": {
   "name": "venv",
   "language": "python",
   "display_name": "venv"
  },
  "language_info": {
   "codemirror_mode": {
    "name": "ipython",
    "version": 2
   },
   "file_extension": ".py",
   "mimetype": "text/x-python",
   "name": "python",
   "nbconvert_exporter": "python",
   "pygments_lexer": "ipython2",
   "version": "2.7.6"
  }
 },
 "nbformat": 4,
 "nbformat_minor": 0
}
