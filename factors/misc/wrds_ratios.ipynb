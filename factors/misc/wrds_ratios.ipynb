{
 "cells": [
  {
   "cell_type": "code",
   "execution_count": 3,
   "metadata": {
    "collapsed": true
   },
   "outputs": [],
   "source": [
    "import pandas as pd\n",
    "import csv"
   ]
  },
  {
   "cell_type": "code",
   "execution_count": 4,
   "outputs": [],
   "source": [
    "with open('../data/tickers.csv') as f:\n",
    "    reader = csv.reader(f)\n",
    "    tickers = {}\n",
    "    next(reader)\n",
    "    for line in reader:\n",
    "        tickers[line[0]] = line[-1]"
   ],
   "metadata": {
    "collapsed": false
   }
  },
  {
   "cell_type": "code",
   "execution_count": 5,
   "outputs": [],
   "source": [
    "tickers = pd.read_csv('../data/tickers.csv')[['gvkey', 'co_tic']]\n",
    "tickers_list = tickers['co_tic'].unique()"
   ],
   "metadata": {
    "collapsed": false
   }
  },
  {
   "cell_type": "code",
   "execution_count": 6,
   "outputs": [],
   "source": [
    "ratios = pd.read_csv('../data/ratios-history-full.csv')"
   ],
   "metadata": {
    "collapsed": false
   }
  },
  {
   "cell_type": "code",
   "execution_count": 10,
   "outputs": [
    {
     "data": {
      "text/plain": "        gvkey co_tic\n0        1078    ABT\n1        1300    HON\n2        1440    AEP\n3        2285     BA\n4        2403    BMY\n...       ...    ...\n70070  153813   DTSI\n70071   28940    BDC\n70072   19518     KN\n70073   14561   IIVI\n70074    2124  BELFB\n\n[70075 rows x 2 columns]",
      "text/html": "<div>\n<style scoped>\n    .dataframe tbody tr th:only-of-type {\n        vertical-align: middle;\n    }\n\n    .dataframe tbody tr th {\n        vertical-align: top;\n    }\n\n    .dataframe thead th {\n        text-align: right;\n    }\n</style>\n<table border=\"1\" class=\"dataframe\">\n  <thead>\n    <tr style=\"text-align: right;\">\n      <th></th>\n      <th>gvkey</th>\n      <th>co_tic</th>\n    </tr>\n  </thead>\n  <tbody>\n    <tr>\n      <th>0</th>\n      <td>1078</td>\n      <td>ABT</td>\n    </tr>\n    <tr>\n      <th>1</th>\n      <td>1300</td>\n      <td>HON</td>\n    </tr>\n    <tr>\n      <th>2</th>\n      <td>1440</td>\n      <td>AEP</td>\n    </tr>\n    <tr>\n      <th>3</th>\n      <td>2285</td>\n      <td>BA</td>\n    </tr>\n    <tr>\n      <th>4</th>\n      <td>2403</td>\n      <td>BMY</td>\n    </tr>\n    <tr>\n      <th>...</th>\n      <td>...</td>\n      <td>...</td>\n    </tr>\n    <tr>\n      <th>70070</th>\n      <td>153813</td>\n      <td>DTSI</td>\n    </tr>\n    <tr>\n      <th>70071</th>\n      <td>28940</td>\n      <td>BDC</td>\n    </tr>\n    <tr>\n      <th>70072</th>\n      <td>19518</td>\n      <td>KN</td>\n    </tr>\n    <tr>\n      <th>70073</th>\n      <td>14561</td>\n      <td>IIVI</td>\n    </tr>\n    <tr>\n      <th>70074</th>\n      <td>2124</td>\n      <td>BELFB</td>\n    </tr>\n  </tbody>\n</table>\n<p>70075 rows × 2 columns</p>\n</div>"
     },
     "execution_count": 10,
     "metadata": {},
     "output_type": "execute_result"
    }
   ],
   "source": [
    "tickers"
   ],
   "metadata": {
    "collapsed": false
   }
  },
  {
   "cell_type": "code",
   "execution_count": 38,
   "outputs": [],
   "source": [
    "ratios_with_tickers = ratios.merge(tickers, on='gvkey').drop_duplicates()\n",
    "ratios_with_tickers.drop(['gvkey', 'adate', 'qdate'], inplace=True, axis=1)"
   ],
   "metadata": {
    "collapsed": false
   }
  },
  {
   "cell_type": "code",
   "execution_count": 40,
   "outputs": [
    {
     "data": {
      "text/plain": "co_tic                 NaN                                                 \\\n            PEG_1yrforward aftret_invcapx     bm capital_ratio curr_ratio   \npublic_date                                                                 \n01/31/2001           0.999          0.000  0.079         0.080      1.450   \n01/31/2002          -2.701          0.000  0.076         0.090      1.288   \n01/31/2003           1.397          0.000  0.063         0.101      1.041   \n01/31/2004           1.341          0.410  0.064         0.087      1.010   \n01/31/2005           1.291          0.494  0.068         0.076      1.029   \n...                    ...            ...    ...           ...        ...   \n12/31/2015             NaN            NaN    NaN           NaN        NaN   \n12/31/2016             NaN            NaN    NaN           NaN        NaN   \n12/31/2017             NaN            NaN    NaN           NaN        NaN   \n12/31/2018             NaN            NaN    NaN           NaN        NaN   \n12/31/2019             NaN          0.145    NaN         1.064      0.758   \n\nco_tic                                                    ...   ZUMZ  \\\n               gpm     pcf pe_op_dil     ptb quick_ratio  ...     bm   \npublic_date                                               ...          \n01/31/2001   0.213  17.655    31.860  11.158       1.374  ...    NaN   \n01/31/2002   0.186  18.070    41.652  14.987       1.240  ...    NaN   \n01/31/2003   0.184  17.919    32.243  13.239       1.004  ...    NaN   \n01/31/2004   0.189  22.799    35.200  14.541       0.964  ...    NaN   \n01/31/2005   0.189  22.807    34.512  17.649       0.986  ...    NaN   \n...            ...     ...       ...     ...         ...  ...    ...   \n12/31/2015     NaN     NaN       NaN     NaN         NaN  ...  0.647   \n12/31/2016     NaN     NaN       NaN     NaN         NaN  ...  0.522   \n12/31/2017     NaN     NaN       NaN     NaN         NaN  ...  0.733   \n12/31/2018     NaN     NaN       NaN     NaN         NaN  ...  0.621   \n12/31/2019   0.351   1.493     8.262     NaN       0.685  ...  0.518   \n\nco_tic                                                                \\\n            capital_ratio curr_ratio    gpm     pcf pe_op_dil    ptb   \npublic_date                                                            \n01/31/2001            NaN        NaN    NaN     NaN       NaN    NaN   \n01/31/2002            NaN        NaN    NaN     NaN       NaN    NaN   \n01/31/2003            NaN        NaN    NaN     NaN       NaN    NaN   \n01/31/2004            NaN        NaN    NaN     NaN       NaN    NaN   \n01/31/2005            NaN        NaN    NaN     NaN       NaN    NaN   \n...                   ...        ...    ...     ...       ...    ...   \n12/31/2015           0.00      2.893  0.381   7.208    11.118  1.337   \n12/31/2016           0.00      2.253  0.362  10.438    26.012  1.880   \n12/31/2017           0.00      2.370  0.358   9.013    20.417  1.610   \n12/31/2018           0.00      2.586  0.371   7.117    13.693  1.327   \n12/31/2019           0.35      2.382  0.373  11.478    14.888  2.088   \n\nco_tic                                 \n            quick_ratio    roa    roe  \npublic_date                            \n01/31/2001          NaN    NaN    NaN  \n01/31/2002          NaN    NaN    NaN  \n01/31/2003          NaN    NaN    NaN  \n01/31/2004          NaN    NaN    NaN  \n01/31/2005          NaN    NaN    NaN  \n...                 ...    ...    ...  \n12/31/2015        1.617  0.192  0.095  \n12/31/2016        0.930  0.147  0.071  \n12/31/2017        1.059  0.149  0.082  \n12/31/2018        1.339  0.175  0.102  \n12/31/2019        1.375  0.142  0.150  \n\n[228 rows x 34272 columns]",
      "text/html": "<div>\n<style scoped>\n    .dataframe tbody tr th:only-of-type {\n        vertical-align: middle;\n    }\n\n    .dataframe tbody tr th {\n        vertical-align: top;\n    }\n\n    .dataframe thead tr th {\n        text-align: left;\n    }\n\n    .dataframe thead tr:last-of-type th {\n        text-align: right;\n    }\n</style>\n<table border=\"1\" class=\"dataframe\">\n  <thead>\n    <tr>\n      <th>co_tic</th>\n      <th colspan=\"10\" halign=\"left\">NaN</th>\n      <th>...</th>\n      <th colspan=\"10\" halign=\"left\">ZUMZ</th>\n    </tr>\n    <tr>\n      <th></th>\n      <th>PEG_1yrforward</th>\n      <th>aftret_invcapx</th>\n      <th>bm</th>\n      <th>capital_ratio</th>\n      <th>curr_ratio</th>\n      <th>gpm</th>\n      <th>pcf</th>\n      <th>pe_op_dil</th>\n      <th>ptb</th>\n      <th>quick_ratio</th>\n      <th>...</th>\n      <th>bm</th>\n      <th>capital_ratio</th>\n      <th>curr_ratio</th>\n      <th>gpm</th>\n      <th>pcf</th>\n      <th>pe_op_dil</th>\n      <th>ptb</th>\n      <th>quick_ratio</th>\n      <th>roa</th>\n      <th>roe</th>\n    </tr>\n    <tr>\n      <th>public_date</th>\n      <th></th>\n      <th></th>\n      <th></th>\n      <th></th>\n      <th></th>\n      <th></th>\n      <th></th>\n      <th></th>\n      <th></th>\n      <th></th>\n      <th></th>\n      <th></th>\n      <th></th>\n      <th></th>\n      <th></th>\n      <th></th>\n      <th></th>\n      <th></th>\n      <th></th>\n      <th></th>\n      <th></th>\n    </tr>\n  </thead>\n  <tbody>\n    <tr>\n      <th>01/31/2001</th>\n      <td>0.999</td>\n      <td>0.000</td>\n      <td>0.079</td>\n      <td>0.080</td>\n      <td>1.450</td>\n      <td>0.213</td>\n      <td>17.655</td>\n      <td>31.860</td>\n      <td>11.158</td>\n      <td>1.374</td>\n      <td>...</td>\n      <td>NaN</td>\n      <td>NaN</td>\n      <td>NaN</td>\n      <td>NaN</td>\n      <td>NaN</td>\n      <td>NaN</td>\n      <td>NaN</td>\n      <td>NaN</td>\n      <td>NaN</td>\n      <td>NaN</td>\n    </tr>\n    <tr>\n      <th>01/31/2002</th>\n      <td>-2.701</td>\n      <td>0.000</td>\n      <td>0.076</td>\n      <td>0.090</td>\n      <td>1.288</td>\n      <td>0.186</td>\n      <td>18.070</td>\n      <td>41.652</td>\n      <td>14.987</td>\n      <td>1.240</td>\n      <td>...</td>\n      <td>NaN</td>\n      <td>NaN</td>\n      <td>NaN</td>\n      <td>NaN</td>\n      <td>NaN</td>\n      <td>NaN</td>\n      <td>NaN</td>\n      <td>NaN</td>\n      <td>NaN</td>\n      <td>NaN</td>\n    </tr>\n    <tr>\n      <th>01/31/2003</th>\n      <td>1.397</td>\n      <td>0.000</td>\n      <td>0.063</td>\n      <td>0.101</td>\n      <td>1.041</td>\n      <td>0.184</td>\n      <td>17.919</td>\n      <td>32.243</td>\n      <td>13.239</td>\n      <td>1.004</td>\n      <td>...</td>\n      <td>NaN</td>\n      <td>NaN</td>\n      <td>NaN</td>\n      <td>NaN</td>\n      <td>NaN</td>\n      <td>NaN</td>\n      <td>NaN</td>\n      <td>NaN</td>\n      <td>NaN</td>\n      <td>NaN</td>\n    </tr>\n    <tr>\n      <th>01/31/2004</th>\n      <td>1.341</td>\n      <td>0.410</td>\n      <td>0.064</td>\n      <td>0.087</td>\n      <td>1.010</td>\n      <td>0.189</td>\n      <td>22.799</td>\n      <td>35.200</td>\n      <td>14.541</td>\n      <td>0.964</td>\n      <td>...</td>\n      <td>NaN</td>\n      <td>NaN</td>\n      <td>NaN</td>\n      <td>NaN</td>\n      <td>NaN</td>\n      <td>NaN</td>\n      <td>NaN</td>\n      <td>NaN</td>\n      <td>NaN</td>\n      <td>NaN</td>\n    </tr>\n    <tr>\n      <th>01/31/2005</th>\n      <td>1.291</td>\n      <td>0.494</td>\n      <td>0.068</td>\n      <td>0.076</td>\n      <td>1.029</td>\n      <td>0.189</td>\n      <td>22.807</td>\n      <td>34.512</td>\n      <td>17.649</td>\n      <td>0.986</td>\n      <td>...</td>\n      <td>NaN</td>\n      <td>NaN</td>\n      <td>NaN</td>\n      <td>NaN</td>\n      <td>NaN</td>\n      <td>NaN</td>\n      <td>NaN</td>\n      <td>NaN</td>\n      <td>NaN</td>\n      <td>NaN</td>\n    </tr>\n    <tr>\n      <th>...</th>\n      <td>...</td>\n      <td>...</td>\n      <td>...</td>\n      <td>...</td>\n      <td>...</td>\n      <td>...</td>\n      <td>...</td>\n      <td>...</td>\n      <td>...</td>\n      <td>...</td>\n      <td>...</td>\n      <td>...</td>\n      <td>...</td>\n      <td>...</td>\n      <td>...</td>\n      <td>...</td>\n      <td>...</td>\n      <td>...</td>\n      <td>...</td>\n      <td>...</td>\n      <td>...</td>\n    </tr>\n    <tr>\n      <th>12/31/2015</th>\n      <td>NaN</td>\n      <td>NaN</td>\n      <td>NaN</td>\n      <td>NaN</td>\n      <td>NaN</td>\n      <td>NaN</td>\n      <td>NaN</td>\n      <td>NaN</td>\n      <td>NaN</td>\n      <td>NaN</td>\n      <td>...</td>\n      <td>0.647</td>\n      <td>0.00</td>\n      <td>2.893</td>\n      <td>0.381</td>\n      <td>7.208</td>\n      <td>11.118</td>\n      <td>1.337</td>\n      <td>1.617</td>\n      <td>0.192</td>\n      <td>0.095</td>\n    </tr>\n    <tr>\n      <th>12/31/2016</th>\n      <td>NaN</td>\n      <td>NaN</td>\n      <td>NaN</td>\n      <td>NaN</td>\n      <td>NaN</td>\n      <td>NaN</td>\n      <td>NaN</td>\n      <td>NaN</td>\n      <td>NaN</td>\n      <td>NaN</td>\n      <td>...</td>\n      <td>0.522</td>\n      <td>0.00</td>\n      <td>2.253</td>\n      <td>0.362</td>\n      <td>10.438</td>\n      <td>26.012</td>\n      <td>1.880</td>\n      <td>0.930</td>\n      <td>0.147</td>\n      <td>0.071</td>\n    </tr>\n    <tr>\n      <th>12/31/2017</th>\n      <td>NaN</td>\n      <td>NaN</td>\n      <td>NaN</td>\n      <td>NaN</td>\n      <td>NaN</td>\n      <td>NaN</td>\n      <td>NaN</td>\n      <td>NaN</td>\n      <td>NaN</td>\n      <td>NaN</td>\n      <td>...</td>\n      <td>0.733</td>\n      <td>0.00</td>\n      <td>2.370</td>\n      <td>0.358</td>\n      <td>9.013</td>\n      <td>20.417</td>\n      <td>1.610</td>\n      <td>1.059</td>\n      <td>0.149</td>\n      <td>0.082</td>\n    </tr>\n    <tr>\n      <th>12/31/2018</th>\n      <td>NaN</td>\n      <td>NaN</td>\n      <td>NaN</td>\n      <td>NaN</td>\n      <td>NaN</td>\n      <td>NaN</td>\n      <td>NaN</td>\n      <td>NaN</td>\n      <td>NaN</td>\n      <td>NaN</td>\n      <td>...</td>\n      <td>0.621</td>\n      <td>0.00</td>\n      <td>2.586</td>\n      <td>0.371</td>\n      <td>7.117</td>\n      <td>13.693</td>\n      <td>1.327</td>\n      <td>1.339</td>\n      <td>0.175</td>\n      <td>0.102</td>\n    </tr>\n    <tr>\n      <th>12/31/2019</th>\n      <td>NaN</td>\n      <td>0.145</td>\n      <td>NaN</td>\n      <td>1.064</td>\n      <td>0.758</td>\n      <td>0.351</td>\n      <td>1.493</td>\n      <td>8.262</td>\n      <td>NaN</td>\n      <td>0.685</td>\n      <td>...</td>\n      <td>0.518</td>\n      <td>0.35</td>\n      <td>2.382</td>\n      <td>0.373</td>\n      <td>11.478</td>\n      <td>14.888</td>\n      <td>2.088</td>\n      <td>1.375</td>\n      <td>0.142</td>\n      <td>0.150</td>\n    </tr>\n  </tbody>\n</table>\n<p>228 rows × 34272 columns</p>\n</div>"
     },
     "execution_count": 40,
     "metadata": {},
     "output_type": "execute_result"
    }
   ],
   "source": [
    "ratios_by_tickers = ratios_with_tickers.set_index(['public_date', 'co_tic'])\n",
    "ratios_by_tickers = ratios_by_tickers.unstack(level=-1)\n",
    "ratios_by_tickers = ratios_by_tickers.swaplevel(0, 1, axis=1)\n",
    "ratios_by_tickers = ratios_by_tickers.sort_index(axis=1, level=0)\n",
    "ratios_by_tickers = ratios_by_tickers.sort_index(axis=0)\n",
    "ratios_by_tickers"
   ],
   "metadata": {
    "collapsed": false
   }
  },
  {
   "cell_type": "code",
   "execution_count": null,
   "outputs": [],
   "source": [
    "ratios_by_tickers.to_csv('../data/wrds_ratios_formatted.csv')"
   ],
   "metadata": {
    "collapsed": false,
    "pycharm": {
     "is_executing": true
    }
   }
  },
  {
   "cell_type": "code",
   "execution_count": null,
   "outputs": [],
   "source": [],
   "metadata": {
    "collapsed": false,
    "pycharm": {
     "is_executing": true
    }
   }
  }
 ],
 "metadata": {
  "kernelspec": {
   "display_name": "Python 3",
   "language": "python",
   "name": "python3"
  },
  "language_info": {
   "codemirror_mode": {
    "name": "ipython",
    "version": 2
   },
   "file_extension": ".py",
   "mimetype": "text/x-python",
   "name": "python",
   "nbconvert_exporter": "python",
   "pygments_lexer": "ipython2",
   "version": "2.7.6"
  }
 },
 "nbformat": 4,
 "nbformat_minor": 0
}
