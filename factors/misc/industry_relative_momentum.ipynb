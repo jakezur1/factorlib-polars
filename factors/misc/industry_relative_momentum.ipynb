{
 "cells": [
  {
   "cell_type": "code",
   "execution_count": 1,
   "outputs": [
    {
     "name": "stdout",
     "output_type": "stream",
     "text": [
      "INFO: Pandarallel will run on 10 workers.\n",
      "INFO: Pandarallel will use standard multiprocessing data transfer (pipe) to transfer data between the main process and workers.\n"
     ]
    }
   ],
   "source": [
    "import pandas as pd\n",
    "import numpy as np\n",
    "from pandarallel import pandarallel\n",
    "\n",
    "pandarallel.initialize(progress_bar=True)"
   ],
   "metadata": {
    "collapsed": false
   }
  },
  {
   "cell_type": "code",
   "execution_count": 2,
   "outputs": [
    {
     "data": {
      "text/plain": "             index   GVKEY  iid    datadate  tic        conm  divd  ajexdi  \\\n0                0    1004    1  2013/10/24  AIR    AAR CORP   NaN     1.0   \n1                1    1004    1  2002/03/01  AIR    AAR CORP   NaN     1.0   \n2                2    1004    1  2007/11/30  AIR    AAR CORP   NaN     1.0   \n3                3    1004    1  2015/06/30  AIR    AAR CORP   NaN     1.0   \n4                4    1004    1  2019/11/08  AIR    AAR CORP   NaN     1.0   \n...            ...     ...  ...         ...  ...         ...   ...     ...   \n32127389  32127389  353444   90  2022/07/28  HLN  HALEON PLC   NaN     1.0   \n32127390  32127390  353444   90  2022/07/27  HLN  HALEON PLC   NaN     1.0   \n32127391  32127391  353444   90  2022/07/26  HLN  HALEON PLC   NaN     1.0   \n32127392  32127392  353444   90  2022/07/25  HLN  HALEON PLC   NaN     1.0   \n32127393  32127393  353444   90  2022/07/22  HLN  HALEON PLC   NaN     1.0   \n\n              cshtrd   eps  prccd  prchd  prcld  prcod  \\\n0           351238.0  1.37  29.38  29.67  29.08  29.21   \n1            75300.0 -1.60   7.44   7.45   7.15    NaN   \n2           354300.0  1.70  33.02  33.75  32.81  32.99   \n3           248059.0  1.23  31.87  32.17  31.73  32.10   \n4           106407.0  2.37  43.35  44.29  43.14  44.08   \n...              ...   ...    ...    ...    ...    ...   \n32127389  15271880.0   NaN   7.00   7.24   6.97   7.20   \n32127390  15006760.0   NaN   7.32   7.56   7.23   7.51   \n32127391  27235290.0   NaN   7.35   7.41   7.29   7.31   \n32127392  19349790.0   NaN   7.30   7.45   7.16   7.41   \n32127393  12093430.0   NaN   7.41   7.65   7.40   7.55   \n\n                                                    busdesc      gind  \\\n0         AAR Corp. provides products and services to co...  201010.0   \n1         AAR Corp. provides products and services to co...  201010.0   \n2         AAR Corp. provides products and services to co...  201010.0   \n3         AAR Corp. provides products and services to co...  201010.0   \n4         AAR Corp. provides products and services to co...  201010.0   \n...                                                     ...       ...   \n32127389  Haleon plc engages in the research and develop...  303020.0   \n32127390  Haleon plc engages in the research and develop...  303020.0   \n32127391  Haleon plc engages in the research and develop...  303020.0   \n32127392  Haleon plc engages in the research and develop...  303020.0   \n32127393  Haleon plc engages in the research and develop...  303020.0   \n\n          gsector     gsubind   sic  \n0            20.0  20101010.0  5080  \n1            20.0  20101010.0  5080  \n2            20.0  20101010.0  5080  \n3            20.0  20101010.0  5080  \n4            20.0  20101010.0  5080  \n...           ...         ...   ...  \n32127389     30.0  30302010.0  2834  \n32127390     30.0  30302010.0  2834  \n32127391     30.0  30302010.0  2834  \n32127392     30.0  30302010.0  2834  \n32127393     30.0  30302010.0  2834  \n\n[32127394 rows x 19 columns]",
      "text/html": "<div>\n<style scoped>\n    .dataframe tbody tr th:only-of-type {\n        vertical-align: middle;\n    }\n\n    .dataframe tbody tr th {\n        vertical-align: top;\n    }\n\n    .dataframe thead th {\n        text-align: right;\n    }\n</style>\n<table border=\"1\" class=\"dataframe\">\n  <thead>\n    <tr style=\"text-align: right;\">\n      <th></th>\n      <th>index</th>\n      <th>GVKEY</th>\n      <th>iid</th>\n      <th>datadate</th>\n      <th>tic</th>\n      <th>conm</th>\n      <th>divd</th>\n      <th>ajexdi</th>\n      <th>cshtrd</th>\n      <th>eps</th>\n      <th>prccd</th>\n      <th>prchd</th>\n      <th>prcld</th>\n      <th>prcod</th>\n      <th>busdesc</th>\n      <th>gind</th>\n      <th>gsector</th>\n      <th>gsubind</th>\n      <th>sic</th>\n    </tr>\n  </thead>\n  <tbody>\n    <tr>\n      <th>0</th>\n      <td>0</td>\n      <td>1004</td>\n      <td>1</td>\n      <td>2013/10/24</td>\n      <td>AIR</td>\n      <td>AAR CORP</td>\n      <td>NaN</td>\n      <td>1.0</td>\n      <td>351238.0</td>\n      <td>1.37</td>\n      <td>29.38</td>\n      <td>29.67</td>\n      <td>29.08</td>\n      <td>29.21</td>\n      <td>AAR Corp. provides products and services to co...</td>\n      <td>201010.0</td>\n      <td>20.0</td>\n      <td>20101010.0</td>\n      <td>5080</td>\n    </tr>\n    <tr>\n      <th>1</th>\n      <td>1</td>\n      <td>1004</td>\n      <td>1</td>\n      <td>2002/03/01</td>\n      <td>AIR</td>\n      <td>AAR CORP</td>\n      <td>NaN</td>\n      <td>1.0</td>\n      <td>75300.0</td>\n      <td>-1.60</td>\n      <td>7.44</td>\n      <td>7.45</td>\n      <td>7.15</td>\n      <td>NaN</td>\n      <td>AAR Corp. provides products and services to co...</td>\n      <td>201010.0</td>\n      <td>20.0</td>\n      <td>20101010.0</td>\n      <td>5080</td>\n    </tr>\n    <tr>\n      <th>2</th>\n      <td>2</td>\n      <td>1004</td>\n      <td>1</td>\n      <td>2007/11/30</td>\n      <td>AIR</td>\n      <td>AAR CORP</td>\n      <td>NaN</td>\n      <td>1.0</td>\n      <td>354300.0</td>\n      <td>1.70</td>\n      <td>33.02</td>\n      <td>33.75</td>\n      <td>32.81</td>\n      <td>32.99</td>\n      <td>AAR Corp. provides products and services to co...</td>\n      <td>201010.0</td>\n      <td>20.0</td>\n      <td>20101010.0</td>\n      <td>5080</td>\n    </tr>\n    <tr>\n      <th>3</th>\n      <td>3</td>\n      <td>1004</td>\n      <td>1</td>\n      <td>2015/06/30</td>\n      <td>AIR</td>\n      <td>AAR CORP</td>\n      <td>NaN</td>\n      <td>1.0</td>\n      <td>248059.0</td>\n      <td>1.23</td>\n      <td>31.87</td>\n      <td>32.17</td>\n      <td>31.73</td>\n      <td>32.10</td>\n      <td>AAR Corp. provides products and services to co...</td>\n      <td>201010.0</td>\n      <td>20.0</td>\n      <td>20101010.0</td>\n      <td>5080</td>\n    </tr>\n    <tr>\n      <th>4</th>\n      <td>4</td>\n      <td>1004</td>\n      <td>1</td>\n      <td>2019/11/08</td>\n      <td>AIR</td>\n      <td>AAR CORP</td>\n      <td>NaN</td>\n      <td>1.0</td>\n      <td>106407.0</td>\n      <td>2.37</td>\n      <td>43.35</td>\n      <td>44.29</td>\n      <td>43.14</td>\n      <td>44.08</td>\n      <td>AAR Corp. provides products and services to co...</td>\n      <td>201010.0</td>\n      <td>20.0</td>\n      <td>20101010.0</td>\n      <td>5080</td>\n    </tr>\n    <tr>\n      <th>...</th>\n      <td>...</td>\n      <td>...</td>\n      <td>...</td>\n      <td>...</td>\n      <td>...</td>\n      <td>...</td>\n      <td>...</td>\n      <td>...</td>\n      <td>...</td>\n      <td>...</td>\n      <td>...</td>\n      <td>...</td>\n      <td>...</td>\n      <td>...</td>\n      <td>...</td>\n      <td>...</td>\n      <td>...</td>\n      <td>...</td>\n      <td>...</td>\n    </tr>\n    <tr>\n      <th>32127389</th>\n      <td>32127389</td>\n      <td>353444</td>\n      <td>90</td>\n      <td>2022/07/28</td>\n      <td>HLN</td>\n      <td>HALEON PLC</td>\n      <td>NaN</td>\n      <td>1.0</td>\n      <td>15271880.0</td>\n      <td>NaN</td>\n      <td>7.00</td>\n      <td>7.24</td>\n      <td>6.97</td>\n      <td>7.20</td>\n      <td>Haleon plc engages in the research and develop...</td>\n      <td>303020.0</td>\n      <td>30.0</td>\n      <td>30302010.0</td>\n      <td>2834</td>\n    </tr>\n    <tr>\n      <th>32127390</th>\n      <td>32127390</td>\n      <td>353444</td>\n      <td>90</td>\n      <td>2022/07/27</td>\n      <td>HLN</td>\n      <td>HALEON PLC</td>\n      <td>NaN</td>\n      <td>1.0</td>\n      <td>15006760.0</td>\n      <td>NaN</td>\n      <td>7.32</td>\n      <td>7.56</td>\n      <td>7.23</td>\n      <td>7.51</td>\n      <td>Haleon plc engages in the research and develop...</td>\n      <td>303020.0</td>\n      <td>30.0</td>\n      <td>30302010.0</td>\n      <td>2834</td>\n    </tr>\n    <tr>\n      <th>32127391</th>\n      <td>32127391</td>\n      <td>353444</td>\n      <td>90</td>\n      <td>2022/07/26</td>\n      <td>HLN</td>\n      <td>HALEON PLC</td>\n      <td>NaN</td>\n      <td>1.0</td>\n      <td>27235290.0</td>\n      <td>NaN</td>\n      <td>7.35</td>\n      <td>7.41</td>\n      <td>7.29</td>\n      <td>7.31</td>\n      <td>Haleon plc engages in the research and develop...</td>\n      <td>303020.0</td>\n      <td>30.0</td>\n      <td>30302010.0</td>\n      <td>2834</td>\n    </tr>\n    <tr>\n      <th>32127392</th>\n      <td>32127392</td>\n      <td>353444</td>\n      <td>90</td>\n      <td>2022/07/25</td>\n      <td>HLN</td>\n      <td>HALEON PLC</td>\n      <td>NaN</td>\n      <td>1.0</td>\n      <td>19349790.0</td>\n      <td>NaN</td>\n      <td>7.30</td>\n      <td>7.45</td>\n      <td>7.16</td>\n      <td>7.41</td>\n      <td>Haleon plc engages in the research and develop...</td>\n      <td>303020.0</td>\n      <td>30.0</td>\n      <td>30302010.0</td>\n      <td>2834</td>\n    </tr>\n    <tr>\n      <th>32127393</th>\n      <td>32127393</td>\n      <td>353444</td>\n      <td>90</td>\n      <td>2022/07/22</td>\n      <td>HLN</td>\n      <td>HALEON PLC</td>\n      <td>NaN</td>\n      <td>1.0</td>\n      <td>12093430.0</td>\n      <td>NaN</td>\n      <td>7.41</td>\n      <td>7.65</td>\n      <td>7.40</td>\n      <td>7.55</td>\n      <td>Haleon plc engages in the research and develop...</td>\n      <td>303020.0</td>\n      <td>30.0</td>\n      <td>30302010.0</td>\n      <td>2834</td>\n    </tr>\n  </tbody>\n</table>\n<p>32127394 rows × 19 columns</p>\n</div>"
     },
     "execution_count": 2,
     "metadata": {},
     "output_type": "execute_result"
    }
   ],
   "source": [
    "wrds_data = pd.read_csv('../data/wrds-data.csv')\n",
    "wrds_data = wrds_data.reset_index()\n",
    "wrds_data"
   ],
   "metadata": {
    "collapsed": false
   }
  },
  {
   "cell_type": "code",
   "execution_count": 4,
   "outputs": [
    {
     "data": {
      "text/plain": "            datadate  tic      gind  prccd\n0         2013/10/24  AIR  201010.0  29.38\n1         2002/03/01  AIR  201010.0   7.44\n2         2007/11/30  AIR  201010.0  33.02\n3         2015/06/30  AIR  201010.0  31.87\n4         2019/11/08  AIR  201010.0  43.35\n...              ...  ...       ...    ...\n32127389  2022/07/28  HLN  303020.0   7.00\n32127390  2022/07/27  HLN  303020.0   7.32\n32127391  2022/07/26  HLN  303020.0   7.35\n32127392  2022/07/25  HLN  303020.0   7.30\n32127393  2022/07/22  HLN  303020.0   7.41\n\n[29559186 rows x 4 columns]",
      "text/html": "<div>\n<style scoped>\n    .dataframe tbody tr th:only-of-type {\n        vertical-align: middle;\n    }\n\n    .dataframe tbody tr th {\n        vertical-align: top;\n    }\n\n    .dataframe thead th {\n        text-align: right;\n    }\n</style>\n<table border=\"1\" class=\"dataframe\">\n  <thead>\n    <tr style=\"text-align: right;\">\n      <th></th>\n      <th>datadate</th>\n      <th>tic</th>\n      <th>gind</th>\n      <th>prccd</th>\n    </tr>\n  </thead>\n  <tbody>\n    <tr>\n      <th>0</th>\n      <td>2013/10/24</td>\n      <td>AIR</td>\n      <td>201010.0</td>\n      <td>29.38</td>\n    </tr>\n    <tr>\n      <th>1</th>\n      <td>2002/03/01</td>\n      <td>AIR</td>\n      <td>201010.0</td>\n      <td>7.44</td>\n    </tr>\n    <tr>\n      <th>2</th>\n      <td>2007/11/30</td>\n      <td>AIR</td>\n      <td>201010.0</td>\n      <td>33.02</td>\n    </tr>\n    <tr>\n      <th>3</th>\n      <td>2015/06/30</td>\n      <td>AIR</td>\n      <td>201010.0</td>\n      <td>31.87</td>\n    </tr>\n    <tr>\n      <th>4</th>\n      <td>2019/11/08</td>\n      <td>AIR</td>\n      <td>201010.0</td>\n      <td>43.35</td>\n    </tr>\n    <tr>\n      <th>...</th>\n      <td>...</td>\n      <td>...</td>\n      <td>...</td>\n      <td>...</td>\n    </tr>\n    <tr>\n      <th>32127389</th>\n      <td>2022/07/28</td>\n      <td>HLN</td>\n      <td>303020.0</td>\n      <td>7.00</td>\n    </tr>\n    <tr>\n      <th>32127390</th>\n      <td>2022/07/27</td>\n      <td>HLN</td>\n      <td>303020.0</td>\n      <td>7.32</td>\n    </tr>\n    <tr>\n      <th>32127391</th>\n      <td>2022/07/26</td>\n      <td>HLN</td>\n      <td>303020.0</td>\n      <td>7.35</td>\n    </tr>\n    <tr>\n      <th>32127392</th>\n      <td>2022/07/25</td>\n      <td>HLN</td>\n      <td>303020.0</td>\n      <td>7.30</td>\n    </tr>\n    <tr>\n      <th>32127393</th>\n      <td>2022/07/22</td>\n      <td>HLN</td>\n      <td>303020.0</td>\n      <td>7.41</td>\n    </tr>\n  </tbody>\n</table>\n<p>29559186 rows × 4 columns</p>\n</div>"
     },
     "execution_count": 4,
     "metadata": {},
     "output_type": "execute_result"
    }
   ],
   "source": [
    "relevant_data = wrds_data.loc[:, ['datadate', 'tic', 'gind', 'prccd', 'ajexdi']]\n",
    "relevant_data.loc[:, 'prccd'] = relevant_data.loc[:, 'ajexdi'] * relevant_data.loc[:, 'prccd']\n",
    "relevant_data = relevant_data.drop(columns='ajexdi')\n",
    "\n",
    "# filter non alpha tickers\n",
    "pattern = r'^[a-zA-Z]+$'\n",
    "mask = relevant_data['tic'].str.match(pattern)\n",
    "mask = mask.fillna(False)\n",
    "relevant_data = relevant_data.loc[mask]\n",
    "relevant_data"
   ],
   "metadata": {
    "collapsed": false
   }
  },
  {
   "cell_type": "code",
   "execution_count": 7,
   "outputs": [
    {
     "data": {
      "text/plain": "tic           A   AA AAAGY AAAP AABA AABC  AAC AACB AACC AACG  ...  ZVUE  \\\n           gind gind  gind gind gind gind gind gind gind gind  ... prccd   \ndatadate                                                       ...         \n2002-01-02  NaN  NaN   NaN  NaN  NaN  NaN  NaN  NaN  NaN  NaN  ...   NaN   \n2002-01-03  NaN  NaN   NaN  NaN  NaN  NaN  NaN  NaN  NaN  NaN  ...   NaN   \n2002-01-04  NaN  NaN   NaN  NaN  NaN  NaN  NaN  NaN  NaN  NaN  ...   NaN   \n2002-01-07  NaN  NaN   NaN  NaN  NaN  NaN  NaN  NaN  NaN  NaN  ...   NaN   \n2002-01-08  NaN  NaN   NaN  NaN  NaN  NaN  NaN  NaN  NaN  NaN  ...   NaN   \n...         ...  ...   ...  ...  ...  ...  ...  ...  ...  ...  ...   ...   \n2023-03-27  NaN  NaN   NaN  NaN  NaN  NaN  NaN  NaN  NaN  NaN  ...   NaN   \n2023-03-28  NaN  NaN   NaN  NaN  NaN  NaN  NaN  NaN  NaN  NaN  ...   NaN   \n2023-03-29  NaN  NaN   NaN  NaN  NaN  NaN  NaN  NaN  NaN  NaN  ...   NaN   \n2023-03-30  NaN  NaN   NaN  NaN  NaN  NaN  NaN  NaN  NaN  NaN  ...   NaN   \n2023-03-31  NaN  NaN   NaN  NaN  NaN  NaN  NaN  NaN  NaN  NaN  ...   NaN   \n\ntic         ZVXI  ZWRK   ZWS ZXAIY    ZY  ZYME  ZYNE  ZYXI    ZZ  \n           prccd prccd prccd prccd prccd prccd prccd prccd prccd  \ndatadate                                                          \n2002-01-02   NaN   NaN   NaN   NaN   NaN   NaN   NaN   NaN   NaN  \n2002-01-03   NaN   NaN   NaN   NaN   NaN   NaN   NaN   NaN   NaN  \n2002-01-04   NaN   NaN   NaN   NaN   NaN   NaN   NaN   NaN   NaN  \n2002-01-07   NaN   NaN   NaN   NaN   NaN   NaN   NaN   NaN   NaN  \n2002-01-08   NaN   NaN   NaN   NaN   NaN   NaN   NaN   NaN   NaN  \n...          ...   ...   ...   ...   ...   ...   ...   ...   ...  \n2023-03-27   NaN   NaN   NaN   NaN   NaN   NaN   NaN   NaN   NaN  \n2023-03-28   NaN   NaN   NaN   NaN   NaN   NaN   NaN   NaN   NaN  \n2023-03-29   NaN   NaN   NaN   NaN   NaN   NaN   NaN   NaN   NaN  \n2023-03-30   NaN   NaN   NaN   NaN   NaN   NaN   NaN   NaN   NaN  \n2023-03-31   NaN   NaN   NaN   NaN   NaN   NaN   NaN   NaN   NaN  \n\n[5367 rows x 26942 columns]",
      "text/html": "<div>\n<style scoped>\n    .dataframe tbody tr th:only-of-type {\n        vertical-align: middle;\n    }\n\n    .dataframe tbody tr th {\n        vertical-align: top;\n    }\n\n    .dataframe thead tr th {\n        text-align: left;\n    }\n\n    .dataframe thead tr:last-of-type th {\n        text-align: right;\n    }\n</style>\n<table border=\"1\" class=\"dataframe\">\n  <thead>\n    <tr>\n      <th>tic</th>\n      <th>A</th>\n      <th>AA</th>\n      <th>AAAGY</th>\n      <th>AAAP</th>\n      <th>AABA</th>\n      <th>AABC</th>\n      <th>AAC</th>\n      <th>AACB</th>\n      <th>AACC</th>\n      <th>AACG</th>\n      <th>...</th>\n      <th>ZVUE</th>\n      <th>ZVXI</th>\n      <th>ZWRK</th>\n      <th>ZWS</th>\n      <th>ZXAIY</th>\n      <th>ZY</th>\n      <th>ZYME</th>\n      <th>ZYNE</th>\n      <th>ZYXI</th>\n      <th>ZZ</th>\n    </tr>\n    <tr>\n      <th></th>\n      <th>gind</th>\n      <th>gind</th>\n      <th>gind</th>\n      <th>gind</th>\n      <th>gind</th>\n      <th>gind</th>\n      <th>gind</th>\n      <th>gind</th>\n      <th>gind</th>\n      <th>gind</th>\n      <th>...</th>\n      <th>prccd</th>\n      <th>prccd</th>\n      <th>prccd</th>\n      <th>prccd</th>\n      <th>prccd</th>\n      <th>prccd</th>\n      <th>prccd</th>\n      <th>prccd</th>\n      <th>prccd</th>\n      <th>prccd</th>\n    </tr>\n    <tr>\n      <th>datadate</th>\n      <th></th>\n      <th></th>\n      <th></th>\n      <th></th>\n      <th></th>\n      <th></th>\n      <th></th>\n      <th></th>\n      <th></th>\n      <th></th>\n      <th></th>\n      <th></th>\n      <th></th>\n      <th></th>\n      <th></th>\n      <th></th>\n      <th></th>\n      <th></th>\n      <th></th>\n      <th></th>\n      <th></th>\n    </tr>\n  </thead>\n  <tbody>\n    <tr>\n      <th>2002-01-02</th>\n      <td>NaN</td>\n      <td>NaN</td>\n      <td>NaN</td>\n      <td>NaN</td>\n      <td>NaN</td>\n      <td>NaN</td>\n      <td>NaN</td>\n      <td>NaN</td>\n      <td>NaN</td>\n      <td>NaN</td>\n      <td>...</td>\n      <td>NaN</td>\n      <td>NaN</td>\n      <td>NaN</td>\n      <td>NaN</td>\n      <td>NaN</td>\n      <td>NaN</td>\n      <td>NaN</td>\n      <td>NaN</td>\n      <td>NaN</td>\n      <td>NaN</td>\n    </tr>\n    <tr>\n      <th>2002-01-03</th>\n      <td>NaN</td>\n      <td>NaN</td>\n      <td>NaN</td>\n      <td>NaN</td>\n      <td>NaN</td>\n      <td>NaN</td>\n      <td>NaN</td>\n      <td>NaN</td>\n      <td>NaN</td>\n      <td>NaN</td>\n      <td>...</td>\n      <td>NaN</td>\n      <td>NaN</td>\n      <td>NaN</td>\n      <td>NaN</td>\n      <td>NaN</td>\n      <td>NaN</td>\n      <td>NaN</td>\n      <td>NaN</td>\n      <td>NaN</td>\n      <td>NaN</td>\n    </tr>\n    <tr>\n      <th>2002-01-04</th>\n      <td>NaN</td>\n      <td>NaN</td>\n      <td>NaN</td>\n      <td>NaN</td>\n      <td>NaN</td>\n      <td>NaN</td>\n      <td>NaN</td>\n      <td>NaN</td>\n      <td>NaN</td>\n      <td>NaN</td>\n      <td>...</td>\n      <td>NaN</td>\n      <td>NaN</td>\n      <td>NaN</td>\n      <td>NaN</td>\n      <td>NaN</td>\n      <td>NaN</td>\n      <td>NaN</td>\n      <td>NaN</td>\n      <td>NaN</td>\n      <td>NaN</td>\n    </tr>\n    <tr>\n      <th>2002-01-07</th>\n      <td>NaN</td>\n      <td>NaN</td>\n      <td>NaN</td>\n      <td>NaN</td>\n      <td>NaN</td>\n      <td>NaN</td>\n      <td>NaN</td>\n      <td>NaN</td>\n      <td>NaN</td>\n      <td>NaN</td>\n      <td>...</td>\n      <td>NaN</td>\n      <td>NaN</td>\n      <td>NaN</td>\n      <td>NaN</td>\n      <td>NaN</td>\n      <td>NaN</td>\n      <td>NaN</td>\n      <td>NaN</td>\n      <td>NaN</td>\n      <td>NaN</td>\n    </tr>\n    <tr>\n      <th>2002-01-08</th>\n      <td>NaN</td>\n      <td>NaN</td>\n      <td>NaN</td>\n      <td>NaN</td>\n      <td>NaN</td>\n      <td>NaN</td>\n      <td>NaN</td>\n      <td>NaN</td>\n      <td>NaN</td>\n      <td>NaN</td>\n      <td>...</td>\n      <td>NaN</td>\n      <td>NaN</td>\n      <td>NaN</td>\n      <td>NaN</td>\n      <td>NaN</td>\n      <td>NaN</td>\n      <td>NaN</td>\n      <td>NaN</td>\n      <td>NaN</td>\n      <td>NaN</td>\n    </tr>\n    <tr>\n      <th>...</th>\n      <td>...</td>\n      <td>...</td>\n      <td>...</td>\n      <td>...</td>\n      <td>...</td>\n      <td>...</td>\n      <td>...</td>\n      <td>...</td>\n      <td>...</td>\n      <td>...</td>\n      <td>...</td>\n      <td>...</td>\n      <td>...</td>\n      <td>...</td>\n      <td>...</td>\n      <td>...</td>\n      <td>...</td>\n      <td>...</td>\n      <td>...</td>\n      <td>...</td>\n      <td>...</td>\n    </tr>\n    <tr>\n      <th>2023-03-27</th>\n      <td>NaN</td>\n      <td>NaN</td>\n      <td>NaN</td>\n      <td>NaN</td>\n      <td>NaN</td>\n      <td>NaN</td>\n      <td>NaN</td>\n      <td>NaN</td>\n      <td>NaN</td>\n      <td>NaN</td>\n      <td>...</td>\n      <td>NaN</td>\n      <td>NaN</td>\n      <td>NaN</td>\n      <td>NaN</td>\n      <td>NaN</td>\n      <td>NaN</td>\n      <td>NaN</td>\n      <td>NaN</td>\n      <td>NaN</td>\n      <td>NaN</td>\n    </tr>\n    <tr>\n      <th>2023-03-28</th>\n      <td>NaN</td>\n      <td>NaN</td>\n      <td>NaN</td>\n      <td>NaN</td>\n      <td>NaN</td>\n      <td>NaN</td>\n      <td>NaN</td>\n      <td>NaN</td>\n      <td>NaN</td>\n      <td>NaN</td>\n      <td>...</td>\n      <td>NaN</td>\n      <td>NaN</td>\n      <td>NaN</td>\n      <td>NaN</td>\n      <td>NaN</td>\n      <td>NaN</td>\n      <td>NaN</td>\n      <td>NaN</td>\n      <td>NaN</td>\n      <td>NaN</td>\n    </tr>\n    <tr>\n      <th>2023-03-29</th>\n      <td>NaN</td>\n      <td>NaN</td>\n      <td>NaN</td>\n      <td>NaN</td>\n      <td>NaN</td>\n      <td>NaN</td>\n      <td>NaN</td>\n      <td>NaN</td>\n      <td>NaN</td>\n      <td>NaN</td>\n      <td>...</td>\n      <td>NaN</td>\n      <td>NaN</td>\n      <td>NaN</td>\n      <td>NaN</td>\n      <td>NaN</td>\n      <td>NaN</td>\n      <td>NaN</td>\n      <td>NaN</td>\n      <td>NaN</td>\n      <td>NaN</td>\n    </tr>\n    <tr>\n      <th>2023-03-30</th>\n      <td>NaN</td>\n      <td>NaN</td>\n      <td>NaN</td>\n      <td>NaN</td>\n      <td>NaN</td>\n      <td>NaN</td>\n      <td>NaN</td>\n      <td>NaN</td>\n      <td>NaN</td>\n      <td>NaN</td>\n      <td>...</td>\n      <td>NaN</td>\n      <td>NaN</td>\n      <td>NaN</td>\n      <td>NaN</td>\n      <td>NaN</td>\n      <td>NaN</td>\n      <td>NaN</td>\n      <td>NaN</td>\n      <td>NaN</td>\n      <td>NaN</td>\n    </tr>\n    <tr>\n      <th>2023-03-31</th>\n      <td>NaN</td>\n      <td>NaN</td>\n      <td>NaN</td>\n      <td>NaN</td>\n      <td>NaN</td>\n      <td>NaN</td>\n      <td>NaN</td>\n      <td>NaN</td>\n      <td>NaN</td>\n      <td>NaN</td>\n      <td>...</td>\n      <td>NaN</td>\n      <td>NaN</td>\n      <td>NaN</td>\n      <td>NaN</td>\n      <td>NaN</td>\n      <td>NaN</td>\n      <td>NaN</td>\n      <td>NaN</td>\n      <td>NaN</td>\n      <td>NaN</td>\n    </tr>\n  </tbody>\n</table>\n<p>5367 rows × 26942 columns</p>\n</div>"
     },
     "execution_count": 6,
     "metadata": {},
     "output_type": "execute_result"
    },
    {
     "name": "stderr",
     "output_type": "stream",
     "text": [
      "\n",
      "KeyboardInterrupt\n",
      "\n"
     ]
    }
   ],
   "source": [
    "tickers_unstacked = relevant_data.set_index(['datadate', 'tic'])\n",
    "tickers_unstacked['gind'] = tickers_unstacked['gind'].astype(str)\n",
    "tickers_unstacked = tickers_unstacked.unstack(level=1).swaplevel(0, 1, axis=1)\n",
    "tickers_unstacked.index = pd.to_datetime(tickers_unstacked.index)\n",
    "tickers_returns = tickers_unstacked.swaplevel(0, 1, axis=1)\n",
    "tickers_returns['prccd'] = tickers_returns['prccd'].pct_change()\n",
    "tickers_returns = tickers_unstacked.swaplevel(0, 1, axis=1)\n",
    "short_window = 20\n",
    "tickers_momentum_short = tickers_unstacked.rolling(short_window).sum()\n",
    "tickers_momentum_short"
   ],
   "metadata": {
    "collapsed": false
   }
  },
  {
   "cell_type": "code",
   "execution_count": 2,
   "outputs": [
    {
     "ename": "NameError",
     "evalue": "name 'tickers_momentum_short' is not defined",
     "output_type": "error",
     "traceback": [
      "\u001B[0;31m---------------------------------------------------------------------------\u001B[0m",
      "\u001B[0;31mNameError\u001B[0m                                 Traceback (most recent call last)",
      "Cell \u001B[0;32mIn[2], line 1\u001B[0m\n\u001B[0;32m----> 1\u001B[0m industry_organized \u001B[38;5;241m=\u001B[39m \u001B[43mtickers_momentum_short\u001B[49m\u001B[38;5;241m.\u001B[39mstack(level\u001B[38;5;241m=\u001B[39m\u001B[38;5;241m0\u001B[39m)\u001B[38;5;241m.\u001B[39mreset_index()\u001B[38;5;241m.\u001B[39mset_index([\u001B[38;5;124m'\u001B[39m\u001B[38;5;124mdatadate\u001B[39m\u001B[38;5;124m'\u001B[39m,\u001B[38;5;124m'\u001B[39m\u001B[38;5;124mgind\u001B[39m\u001B[38;5;124m'\u001B[39m])\n\u001B[1;32m      2\u001B[0m industry_average_momentum \u001B[38;5;241m=\u001B[39m industry_organized\u001B[38;5;241m.\u001B[39mgroupby(\u001B[38;5;124m'\u001B[39m\u001B[38;5;124mgind\u001B[39m\u001B[38;5;124m'\u001B[39m)[\u001B[38;5;124m'\u001B[39m\u001B[38;5;124mprccd\u001B[39m\u001B[38;5;124m'\u001B[39m]\u001B[38;5;241m.\u001B[39mrolling(short_window)\u001B[38;5;241m.\u001B[39mmean()\n\u001B[1;32m      3\u001B[0m industry_average_momentum \u001B[38;5;241m=\u001B[39m industry_average_momentum\u001B[38;5;241m.\u001B[39mreset_index(level\u001B[38;5;241m=\u001B[39m\u001B[38;5;241m2\u001B[39m)\n",
      "\u001B[0;31mNameError\u001B[0m: name 'tickers_momentum_short' is not defined"
     ]
    }
   ],
   "source": [
    "industry_organized = tickers_momentum_short.stack(level=0).reset_index().set_index(['datadate','gind'])\n",
    "industry_average_momentum = industry_organized.groupby('gind')['prccd'].rolling(short_window).mean()\n",
    "industry_average_momentum = industry_average_momentum.reset_index(level=2)\n",
    "industry_average_momentum = industry_average_momentum.drop(columns=['gind'])\n",
    "industry_average_momentum = industry_average_momentum.rename(columns={'prccd': 'industry_means'})\n",
    "industry_average_momentum"
   ],
   "metadata": {
    "collapsed": false
   }
  },
  {
   "cell_type": "code",
   "execution_count": 1,
   "outputs": [
    {
     "ename": "NameError",
     "evalue": "name 'industry_organized' is not defined",
     "output_type": "error",
     "traceback": [
      "\u001B[0;31m---------------------------------------------------------------------------\u001B[0m",
      "\u001B[0;31mNameError\u001B[0m                                 Traceback (most recent call last)",
      "Cell \u001B[0;32mIn[1], line 1\u001B[0m\n\u001B[0;32m----> 1\u001B[0m industry_organized \u001B[38;5;241m=\u001B[39m \u001B[43mindustry_organized\u001B[49m\u001B[38;5;241m.\u001B[39mreset_index()\n\u001B[1;32m      2\u001B[0m industry_relative_momentum \u001B[38;5;241m=\u001B[39m industry_organized\u001B[38;5;241m.\u001B[39mmerge(industry_average_momentum, on\u001B[38;5;241m=\u001B[39m[\u001B[38;5;124m'\u001B[39m\u001B[38;5;124mgind\u001B[39m\u001B[38;5;124m'\u001B[39m, \u001B[38;5;124m'\u001B[39m\u001B[38;5;124mdatadate\u001B[39m\u001B[38;5;124m'\u001B[39m])\n\u001B[1;32m      3\u001B[0m industry_relative_momentum[\u001B[38;5;124m'\u001B[39m\u001B[38;5;124mindustry_relative\u001B[39m\u001B[38;5;124m'\u001B[39m] \u001B[38;5;241m=\u001B[39m industry_relative_momentum[\u001B[38;5;124m'\u001B[39m\u001B[38;5;124mprccd\u001B[39m\u001B[38;5;124m'\u001B[39m] \u001B[38;5;241m-\u001B[39m industry_relative_momentum[\u001B[38;5;124m'\u001B[39m\u001B[38;5;124mindustry_means\u001B[39m\u001B[38;5;124m'\u001B[39m]\n",
      "\u001B[0;31mNameError\u001B[0m: name 'industry_organized' is not defined"
     ]
    }
   ],
   "source": [
    "industry_organized = industry_organized.reset_index()\n",
    "industry_relative_momentum = industry_organized.merge(industry_average_momentum, on=['gind', 'datadate'])\n",
    "industry_relative_momentum['industry_relative'] = industry_relative_momentum['prccd'] - industry_relative_momentum['industry_means']\n",
    "industry_relative_momentum"
   ],
   "metadata": {
    "collapsed": false
   }
  },
  {
   "cell_type": "code",
   "execution_count": null,
   "outputs": [],
   "source": [],
   "metadata": {
    "collapsed": false
   }
  }
 ],
 "metadata": {
  "kernelspec": {
   "name": "venv",
   "language": "python",
   "display_name": "venv"
  },
  "language_info": {
   "codemirror_mode": {
    "name": "ipython",
    "version": 2
   },
   "file_extension": ".py",
   "mimetype": "text/x-python",
   "name": "python",
   "nbconvert_exporter": "python",
   "pygments_lexer": "ipython2",
   "version": "2.7.6"
  }
 },
 "nbformat": 4,
 "nbformat_minor": 0
}
