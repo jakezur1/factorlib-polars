{
 "cells": [
  {
   "cell_type": "code",
   "execution_count": 5,
   "outputs": [],
   "source": [
    "import pandas as pd\n",
    "import polars as pl\n",
    "import numpy as np\n",
    "\n",
    "from factorlib.utils.system import get_data_dir"
   ],
   "metadata": {
    "collapsed": false
   }
  },
  {
   "cell_type": "code",
   "execution_count": 6,
   "outputs": [],
   "source": [
    "tickers = [\"OPRA\", \"SMCI\", \"LMB\", \"MLTX\", \"YPF\", \"CABA\", \"WEAV\", \"ELF\", \"EDN\", \"ACLS\", \"INTT\", \"ETNB\", \"CIR\", \"RCL\",\n",
    "           \"NVDA\", \"DAKT\", \"TCMD\", \"DMAC\", \"IMVT\", \"MMMB\", \"ENIC\", \"WFRD\", \"IPDN\", \"STRL\", \"RMBS\", \"MOD\", \"NGL\", \"TDW\",\n",
    "           \"TAYD\", \"VIST\", \"EXTR\", \"SYM\", \"CCL\", \"CMT\", \"CBAY\", \"TGLS\", \"BELFB\", \"VECT\", \"AEHR\", \"CUK\", \"UFPT\", \"AUGX\",\n",
    "           \"ISEE\", \"TAST\", \"COCO\", \"VRT\", \"BWMN\", \"ONCY\", \"BLDR\", \"ODC\", \"ATEC\", \"NVTS\", \"RMTI\", \"AVDL\", \"IRS\", \"DFH\",\n",
    "           \"CVRX\", \"PEN\", \"TGS\", \"GRBK\", \"PLPC\", \"SKYW\", \"USAP\", \"ACVA\", \"RETA\", \"BTBT\", \"TROO\", \"POWL\", \"PPSI\", \"FTI\",\n",
    "           \"DO\", \"SGML\", \"GGAL\", \"PCYG\", \"NETI\", \"TRHC\", \"ARDX\", \"STVN\", \"NFLX\", \"INTA\", \"MORF\", \"RXST\", \"HGBL\", \"GE\",\n",
    "           \"BZH\", \"BBAR\", \"PESI\", \"RIG\", \"NU\", \"TK\", \"JBL\", \"ERO\", \"SMHI\", \"IRON\", \"EVLV\", \"GENI\", \"ELTK\", \"ENVX\",\n",
    "           \"META\", \"NCLH\"]"
   ],
   "metadata": {
    "collapsed": false
   }
  },
  {
   "cell_type": "code",
   "execution_count": 7,
   "outputs": [
    {
     "data": {
      "text/plain": "           ticker  industry  subindustry\ndate_index                              \n2023-06-06  BELFB    452030     45203015\n2023-06-02  BELFB    452030     45203015\n2023-06-01  BELFB    452030     45203015\n2023-05-31  BELFB    452030     45203015\n2023-05-26  BELFB    452030     45203015\n...           ...       ...          ...\n2020-01-24   VIST    101020     10102020\n2019-10-14   VIST    101020     10102020\n2020-01-09   VIST    101020     10102020\n2020-07-02   VIST    101020     10102020\n2020-06-29   VIST    101020     10102020\n\n[363629 rows x 3 columns]",
      "text/html": "<div>\n<style scoped>\n    .dataframe tbody tr th:only-of-type {\n        vertical-align: middle;\n    }\n\n    .dataframe tbody tr th {\n        vertical-align: top;\n    }\n\n    .dataframe thead th {\n        text-align: right;\n    }\n</style>\n<table border=\"1\" class=\"dataframe\">\n  <thead>\n    <tr style=\"text-align: right;\">\n      <th></th>\n      <th>ticker</th>\n      <th>industry</th>\n      <th>subindustry</th>\n    </tr>\n    <tr>\n      <th>date_index</th>\n      <th></th>\n      <th></th>\n      <th></th>\n    </tr>\n  </thead>\n  <tbody>\n    <tr>\n      <th>2023-06-06</th>\n      <td>BELFB</td>\n      <td>452030</td>\n      <td>45203015</td>\n    </tr>\n    <tr>\n      <th>2023-06-02</th>\n      <td>BELFB</td>\n      <td>452030</td>\n      <td>45203015</td>\n    </tr>\n    <tr>\n      <th>2023-06-01</th>\n      <td>BELFB</td>\n      <td>452030</td>\n      <td>45203015</td>\n    </tr>\n    <tr>\n      <th>2023-05-31</th>\n      <td>BELFB</td>\n      <td>452030</td>\n      <td>45203015</td>\n    </tr>\n    <tr>\n      <th>2023-05-26</th>\n      <td>BELFB</td>\n      <td>452030</td>\n      <td>45203015</td>\n    </tr>\n    <tr>\n      <th>...</th>\n      <td>...</td>\n      <td>...</td>\n      <td>...</td>\n    </tr>\n    <tr>\n      <th>2020-01-24</th>\n      <td>VIST</td>\n      <td>101020</td>\n      <td>10102020</td>\n    </tr>\n    <tr>\n      <th>2019-10-14</th>\n      <td>VIST</td>\n      <td>101020</td>\n      <td>10102020</td>\n    </tr>\n    <tr>\n      <th>2020-01-09</th>\n      <td>VIST</td>\n      <td>101020</td>\n      <td>10102020</td>\n    </tr>\n    <tr>\n      <th>2020-07-02</th>\n      <td>VIST</td>\n      <td>101020</td>\n      <td>10102020</td>\n    </tr>\n    <tr>\n      <th>2020-06-29</th>\n      <td>VIST</td>\n      <td>101020</td>\n      <td>10102020</td>\n    </tr>\n  </tbody>\n</table>\n<p>363629 rows × 3 columns</p>\n</div>"
     },
     "execution_count": 7,
     "metadata": {},
     "output_type": "execute_result"
    }
   ],
   "source": [
    "raw_data_dir = get_data_dir() / 'raw'\n",
    "industry_codes = pl.scan_csv(raw_data_dir / 'ohclv_daily.csv').select(pl.col('datadate').alias('date_index'), pl.col('tic').alias('ticker'), pl.col('gind').alias('industry'), pl.col('gsubind').alias('subindustry')).filter(pl.col('ticker').is_in(tickers)).collect(streaming=True)\n",
    "industry_codes = industry_codes.to_pandas().set_index('date_index')\n",
    "industry_codes.index = pd.to_datetime(industry_codes.index)\n",
    "industry_codes"
   ],
   "metadata": {
    "collapsed": false
   }
  },
  {
   "cell_type": "code",
   "execution_count": 8,
   "outputs": [],
   "source": [
    "general_data_dir = get_data_dir() / 'general'\n",
    "industry_codes.to_csv(general_data_dir / 'industry_codes.csv')"
   ],
   "metadata": {
    "collapsed": false
   }
  },
  {
   "cell_type": "code",
   "execution_count": null,
   "outputs": [],
   "source": [],
   "metadata": {
    "collapsed": false
   }
  }
 ],
 "metadata": {
  "kernelspec": {
   "name": "venv",
   "language": "python",
   "display_name": "venv"
  },
  "language_info": {
   "codemirror_mode": {
    "name": "ipython",
    "version": 2
   },
   "file_extension": ".py",
   "mimetype": "text/x-python",
   "name": "python",
   "nbconvert_exporter": "python",
   "pygments_lexer": "ipython2",
   "version": "2.7.6"
  }
 },
 "nbformat": 4,
 "nbformat_minor": 0
}
