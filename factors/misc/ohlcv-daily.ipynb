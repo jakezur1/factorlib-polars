{
 "cells": [
  {
   "cell_type": "code",
   "execution_count": 2,
   "metadata": {
    "collapsed": true
   },
   "outputs": [],
   "source": [
    "import pandas as pd\n",
    "import numpy as np"
   ]
  },
  {
   "cell_type": "code",
   "execution_count": 3,
   "outputs": [],
   "source": [
    "ohlcv_data = pd.read_parquet('../data/daily-by-ticker.parquet')\n",
    "ohlcv_data = ohlcv_data.swaplevel(0, 1, axis=1)\n",
    "ohlcv_data = ohlcv_data[['o', 'h', 'l', 'c', 'cshtrd']]\n",
    "ohlcv_data = ohlcv_data.swaplevel(0, 1, axis=1).sort_index(level=0, axis=1)"
   ],
   "metadata": {
    "collapsed": false
   }
  },
  {
   "cell_type": "code",
   "execution_count": 4,
   "outputs": [],
   "source": [
    "pattern = r'^[a-zA-Z]+$'\n",
    "mask = ohlcv_data.columns.get_level_values(0).str.match(pattern)\n",
    "valid_ohlcv = ohlcv_data.loc[:, mask]"
   ],
   "metadata": {
    "collapsed": false
   }
  },
  {
   "cell_type": "code",
   "execution_count": 5,
   "outputs": [],
   "source": [
    "valid_ohlcv.to_parquet('../data/ohlcv-daily-by-ticker.parquet')"
   ],
   "metadata": {
    "collapsed": false
   }
  },
  {
   "cell_type": "code",
   "execution_count": null,
   "outputs": [],
   "source": [],
   "metadata": {
    "collapsed": false
   }
  }
 ],
 "metadata": {
  "kernelspec": {
   "name": "venv",
   "language": "python",
   "display_name": "venv"
  },
  "language_info": {
   "codemirror_mode": {
    "name": "ipython",
    "version": 2
   },
   "file_extension": ".py",
   "mimetype": "text/x-python",
   "name": "python",
   "nbconvert_exporter": "python",
   "pygments_lexer": "ipython2",
   "version": "2.7.6"
  }
 },
 "nbformat": 4,
 "nbformat_minor": 0
}
