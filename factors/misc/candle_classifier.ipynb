{
 "cells": [
  {
   "cell_type": "code",
   "execution_count": 61,
   "metadata": {
    "collapsed": true
   },
   "outputs": [],
   "source": [
    "import pandas as pd\n",
    "from tqdm.notebook import tqdm_notebook"
   ]
  },
  {
   "cell_type": "code",
   "execution_count": 133,
   "outputs": [
    {
     "data": {
      "text/plain": "             o                                            ...     c          \\\ntic          A  AA AABA AACB AAL AAMRQ AAP AAPL  AB ABAX  ...  ZCCC ZEN  ZG   \ndatadate                                                  ...                 \n2002-01-02 NaN NaN  NaN  NaN NaN   NaN NaN  NaN NaN  NaN  ...  2.51 NaN NaN   \n2002-01-03 NaN NaN  NaN  NaN NaN   NaN NaN  NaN NaN  NaN  ...  2.50 NaN NaN   \n2002-01-04 NaN NaN  NaN  NaN NaN   NaN NaN  NaN NaN  NaN  ...  2.47 NaN NaN   \n2002-01-07 NaN NaN  NaN  NaN NaN   NaN NaN  NaN NaN  NaN  ...  2.50 NaN NaN   \n2002-01-08 NaN NaN  NaN  NaN NaN   NaN NaN  NaN NaN  NaN  ...  2.46 NaN NaN   \n...         ..  ..  ...  ...  ..   ...  ..  ...  ..  ...  ...   ...  ..  ..   \n2023-03-22 NaN NaN  NaN  NaN NaN   NaN NaN  NaN NaN  NaN  ...   NaN NaN NaN   \n2023-03-23 NaN NaN  NaN  NaN NaN   NaN NaN  NaN NaN  NaN  ...   NaN NaN NaN   \n2023-03-28 NaN NaN  NaN  NaN NaN   NaN NaN  NaN NaN  NaN  ...   NaN NaN NaN   \n2023-03-30 NaN NaN  NaN  NaN NaN   NaN NaN  NaN NaN  NaN  ...   NaN NaN NaN   \n2023-03-31 NaN NaN  NaN  NaN NaN   NaN NaN  NaN NaN  NaN  ...   NaN NaN NaN   \n\n                                                \ntic          ZION  ZM ZNGA   ZOOXQ  ZS ZTS  ZU  \ndatadate                                        \n2002-01-02  51.58 NaN  NaN  0.7500 NaN NaN NaN  \n2002-01-03  52.43 NaN  NaN  0.7700 NaN NaN NaN  \n2002-01-04  52.87 NaN  NaN  0.7901 NaN NaN NaN  \n2002-01-07  52.84 NaN  NaN  0.7600 NaN NaN NaN  \n2002-01-08  52.75 NaN  NaN  0.6900 NaN NaN NaN  \n...           ...  ..  ...     ...  ..  ..  ..  \n2023-03-22    NaN NaN  NaN     NaN NaN NaN NaN  \n2023-03-23    NaN NaN  NaN     NaN NaN NaN NaN  \n2023-03-28    NaN NaN  NaN     NaN NaN NaN NaN  \n2023-03-30    NaN NaN  NaN     NaN NaN NaN NaN  \n2023-03-31    NaN NaN  NaN     NaN NaN NaN NaN  \n\n[5354 rows x 9252 columns]",
      "text/html": "<div>\n<style scoped>\n    .dataframe tbody tr th:only-of-type {\n        vertical-align: middle;\n    }\n\n    .dataframe tbody tr th {\n        vertical-align: top;\n    }\n\n    .dataframe thead tr th {\n        text-align: left;\n    }\n\n    .dataframe thead tr:last-of-type th {\n        text-align: right;\n    }\n</style>\n<table border=\"1\" class=\"dataframe\">\n  <thead>\n    <tr>\n      <th></th>\n      <th colspan=\"10\" halign=\"left\">o</th>\n      <th>...</th>\n      <th colspan=\"10\" halign=\"left\">c</th>\n    </tr>\n    <tr>\n      <th>tic</th>\n      <th>A</th>\n      <th>AA</th>\n      <th>AABA</th>\n      <th>AACB</th>\n      <th>AAL</th>\n      <th>AAMRQ</th>\n      <th>AAP</th>\n      <th>AAPL</th>\n      <th>AB</th>\n      <th>ABAX</th>\n      <th>...</th>\n      <th>ZCCC</th>\n      <th>ZEN</th>\n      <th>ZG</th>\n      <th>ZION</th>\n      <th>ZM</th>\n      <th>ZNGA</th>\n      <th>ZOOXQ</th>\n      <th>ZS</th>\n      <th>ZTS</th>\n      <th>ZU</th>\n    </tr>\n    <tr>\n      <th>datadate</th>\n      <th></th>\n      <th></th>\n      <th></th>\n      <th></th>\n      <th></th>\n      <th></th>\n      <th></th>\n      <th></th>\n      <th></th>\n      <th></th>\n      <th></th>\n      <th></th>\n      <th></th>\n      <th></th>\n      <th></th>\n      <th></th>\n      <th></th>\n      <th></th>\n      <th></th>\n      <th></th>\n      <th></th>\n    </tr>\n  </thead>\n  <tbody>\n    <tr>\n      <th>2002-01-02</th>\n      <td>NaN</td>\n      <td>NaN</td>\n      <td>NaN</td>\n      <td>NaN</td>\n      <td>NaN</td>\n      <td>NaN</td>\n      <td>NaN</td>\n      <td>NaN</td>\n      <td>NaN</td>\n      <td>NaN</td>\n      <td>...</td>\n      <td>2.51</td>\n      <td>NaN</td>\n      <td>NaN</td>\n      <td>51.58</td>\n      <td>NaN</td>\n      <td>NaN</td>\n      <td>0.7500</td>\n      <td>NaN</td>\n      <td>NaN</td>\n      <td>NaN</td>\n    </tr>\n    <tr>\n      <th>2002-01-03</th>\n      <td>NaN</td>\n      <td>NaN</td>\n      <td>NaN</td>\n      <td>NaN</td>\n      <td>NaN</td>\n      <td>NaN</td>\n      <td>NaN</td>\n      <td>NaN</td>\n      <td>NaN</td>\n      <td>NaN</td>\n      <td>...</td>\n      <td>2.50</td>\n      <td>NaN</td>\n      <td>NaN</td>\n      <td>52.43</td>\n      <td>NaN</td>\n      <td>NaN</td>\n      <td>0.7700</td>\n      <td>NaN</td>\n      <td>NaN</td>\n      <td>NaN</td>\n    </tr>\n    <tr>\n      <th>2002-01-04</th>\n      <td>NaN</td>\n      <td>NaN</td>\n      <td>NaN</td>\n      <td>NaN</td>\n      <td>NaN</td>\n      <td>NaN</td>\n      <td>NaN</td>\n      <td>NaN</td>\n      <td>NaN</td>\n      <td>NaN</td>\n      <td>...</td>\n      <td>2.47</td>\n      <td>NaN</td>\n      <td>NaN</td>\n      <td>52.87</td>\n      <td>NaN</td>\n      <td>NaN</td>\n      <td>0.7901</td>\n      <td>NaN</td>\n      <td>NaN</td>\n      <td>NaN</td>\n    </tr>\n    <tr>\n      <th>2002-01-07</th>\n      <td>NaN</td>\n      <td>NaN</td>\n      <td>NaN</td>\n      <td>NaN</td>\n      <td>NaN</td>\n      <td>NaN</td>\n      <td>NaN</td>\n      <td>NaN</td>\n      <td>NaN</td>\n      <td>NaN</td>\n      <td>...</td>\n      <td>2.50</td>\n      <td>NaN</td>\n      <td>NaN</td>\n      <td>52.84</td>\n      <td>NaN</td>\n      <td>NaN</td>\n      <td>0.7600</td>\n      <td>NaN</td>\n      <td>NaN</td>\n      <td>NaN</td>\n    </tr>\n    <tr>\n      <th>2002-01-08</th>\n      <td>NaN</td>\n      <td>NaN</td>\n      <td>NaN</td>\n      <td>NaN</td>\n      <td>NaN</td>\n      <td>NaN</td>\n      <td>NaN</td>\n      <td>NaN</td>\n      <td>NaN</td>\n      <td>NaN</td>\n      <td>...</td>\n      <td>2.46</td>\n      <td>NaN</td>\n      <td>NaN</td>\n      <td>52.75</td>\n      <td>NaN</td>\n      <td>NaN</td>\n      <td>0.6900</td>\n      <td>NaN</td>\n      <td>NaN</td>\n      <td>NaN</td>\n    </tr>\n    <tr>\n      <th>...</th>\n      <td>...</td>\n      <td>...</td>\n      <td>...</td>\n      <td>...</td>\n      <td>...</td>\n      <td>...</td>\n      <td>...</td>\n      <td>...</td>\n      <td>...</td>\n      <td>...</td>\n      <td>...</td>\n      <td>...</td>\n      <td>...</td>\n      <td>...</td>\n      <td>...</td>\n      <td>...</td>\n      <td>...</td>\n      <td>...</td>\n      <td>...</td>\n      <td>...</td>\n      <td>...</td>\n    </tr>\n    <tr>\n      <th>2023-03-22</th>\n      <td>NaN</td>\n      <td>NaN</td>\n      <td>NaN</td>\n      <td>NaN</td>\n      <td>NaN</td>\n      <td>NaN</td>\n      <td>NaN</td>\n      <td>NaN</td>\n      <td>NaN</td>\n      <td>NaN</td>\n      <td>...</td>\n      <td>NaN</td>\n      <td>NaN</td>\n      <td>NaN</td>\n      <td>NaN</td>\n      <td>NaN</td>\n      <td>NaN</td>\n      <td>NaN</td>\n      <td>NaN</td>\n      <td>NaN</td>\n      <td>NaN</td>\n    </tr>\n    <tr>\n      <th>2023-03-23</th>\n      <td>NaN</td>\n      <td>NaN</td>\n      <td>NaN</td>\n      <td>NaN</td>\n      <td>NaN</td>\n      <td>NaN</td>\n      <td>NaN</td>\n      <td>NaN</td>\n      <td>NaN</td>\n      <td>NaN</td>\n      <td>...</td>\n      <td>NaN</td>\n      <td>NaN</td>\n      <td>NaN</td>\n      <td>NaN</td>\n      <td>NaN</td>\n      <td>NaN</td>\n      <td>NaN</td>\n      <td>NaN</td>\n      <td>NaN</td>\n      <td>NaN</td>\n    </tr>\n    <tr>\n      <th>2023-03-28</th>\n      <td>NaN</td>\n      <td>NaN</td>\n      <td>NaN</td>\n      <td>NaN</td>\n      <td>NaN</td>\n      <td>NaN</td>\n      <td>NaN</td>\n      <td>NaN</td>\n      <td>NaN</td>\n      <td>NaN</td>\n      <td>...</td>\n      <td>NaN</td>\n      <td>NaN</td>\n      <td>NaN</td>\n      <td>NaN</td>\n      <td>NaN</td>\n      <td>NaN</td>\n      <td>NaN</td>\n      <td>NaN</td>\n      <td>NaN</td>\n      <td>NaN</td>\n    </tr>\n    <tr>\n      <th>2023-03-30</th>\n      <td>NaN</td>\n      <td>NaN</td>\n      <td>NaN</td>\n      <td>NaN</td>\n      <td>NaN</td>\n      <td>NaN</td>\n      <td>NaN</td>\n      <td>NaN</td>\n      <td>NaN</td>\n      <td>NaN</td>\n      <td>...</td>\n      <td>NaN</td>\n      <td>NaN</td>\n      <td>NaN</td>\n      <td>NaN</td>\n      <td>NaN</td>\n      <td>NaN</td>\n      <td>NaN</td>\n      <td>NaN</td>\n      <td>NaN</td>\n      <td>NaN</td>\n    </tr>\n    <tr>\n      <th>2023-03-31</th>\n      <td>NaN</td>\n      <td>NaN</td>\n      <td>NaN</td>\n      <td>NaN</td>\n      <td>NaN</td>\n      <td>NaN</td>\n      <td>NaN</td>\n      <td>NaN</td>\n      <td>NaN</td>\n      <td>NaN</td>\n      <td>...</td>\n      <td>NaN</td>\n      <td>NaN</td>\n      <td>NaN</td>\n      <td>NaN</td>\n      <td>NaN</td>\n      <td>NaN</td>\n      <td>NaN</td>\n      <td>NaN</td>\n      <td>NaN</td>\n      <td>NaN</td>\n    </tr>\n  </tbody>\n</table>\n<p>5354 rows × 9252 columns</p>\n</div>"
     },
     "execution_count": 133,
     "metadata": {},
     "output_type": "execute_result"
    }
   ],
   "source": [
    "ohlcv_daily = pd.read_parquet('../data/ohlcv-daily-by-ticker.parquet')\n",
    "ohlcv_daily.index = pd.to_datetime(ohlcv_daily.index)\n",
    "ohlcv_daily = ohlcv_daily.swaplevel(0, 1, axis=1)\n",
    "ohlc_daily = ohlcv_daily[['o', 'h', 'l', 'c']]\n",
    "ohlc_daily"
   ],
   "metadata": {
    "collapsed": false
   }
  },
  {
   "cell_type": "code",
   "execution_count": 134,
   "outputs": [
    {
     "data": {
      "text/plain": "tic             A                                             AA      ... ZTS  \\\n                c      h      l   o    p_c    p_h    p_l p_o   c   h  ... p_l   \ndatadate                                                              ...       \n2002-01-02  29.25  29.34  28.46 NaN    NaN    NaN    NaN NaN NaN NaN  ... NaN   \n2002-01-03  31.10  31.20  29.42 NaN  29.25  29.34  28.46 NaN NaN NaN  ... NaN   \n2002-01-04  32.78  32.94  31.65 NaN  31.10  31.20  29.42 NaN NaN NaN  ... NaN   \n2002-01-07  32.65  32.89  32.20 NaN  32.78  32.94  31.65 NaN NaN NaN  ... NaN   \n2002-01-08  32.75  32.89  32.25 NaN  32.65  32.89  32.20 NaN NaN NaN  ... NaN   \n...           ...    ...    ...  ..    ...    ...    ...  ..  ..  ..  ...  ..   \n2023-03-22    NaN    NaN    NaN NaN    NaN    NaN    NaN NaN NaN NaN  ... NaN   \n2023-03-23    NaN    NaN    NaN NaN    NaN    NaN    NaN NaN NaN NaN  ... NaN   \n2023-03-28    NaN    NaN    NaN NaN    NaN    NaN    NaN NaN NaN NaN  ... NaN   \n2023-03-30    NaN    NaN    NaN NaN    NaN    NaN    NaN NaN NaN NaN  ... NaN   \n2023-03-31    NaN    NaN    NaN NaN    NaN    NaN    NaN NaN NaN NaN  ... NaN   \n\ntic             ZU                              \n           p_o   c   h   l   o p_c p_h p_l p_o  \ndatadate                                        \n2002-01-02 NaN NaN NaN NaN NaN NaN NaN NaN NaN  \n2002-01-03 NaN NaN NaN NaN NaN NaN NaN NaN NaN  \n2002-01-04 NaN NaN NaN NaN NaN NaN NaN NaN NaN  \n2002-01-07 NaN NaN NaN NaN NaN NaN NaN NaN NaN  \n2002-01-08 NaN NaN NaN NaN NaN NaN NaN NaN NaN  \n...         ..  ..  ..  ..  ..  ..  ..  ..  ..  \n2023-03-22 NaN NaN NaN NaN NaN NaN NaN NaN NaN  \n2023-03-23 NaN NaN NaN NaN NaN NaN NaN NaN NaN  \n2023-03-28 NaN NaN NaN NaN NaN NaN NaN NaN NaN  \n2023-03-30 NaN NaN NaN NaN NaN NaN NaN NaN NaN  \n2023-03-31 NaN NaN NaN NaN NaN NaN NaN NaN NaN  \n\n[5354 rows x 18504 columns]",
      "text/html": "<div>\n<style scoped>\n    .dataframe tbody tr th:only-of-type {\n        vertical-align: middle;\n    }\n\n    .dataframe tbody tr th {\n        vertical-align: top;\n    }\n\n    .dataframe thead tr th {\n        text-align: left;\n    }\n\n    .dataframe thead tr:last-of-type th {\n        text-align: right;\n    }\n</style>\n<table border=\"1\" class=\"dataframe\">\n  <thead>\n    <tr>\n      <th>tic</th>\n      <th colspan=\"8\" halign=\"left\">A</th>\n      <th colspan=\"2\" halign=\"left\">AA</th>\n      <th>...</th>\n      <th colspan=\"2\" halign=\"left\">ZTS</th>\n      <th colspan=\"8\" halign=\"left\">ZU</th>\n    </tr>\n    <tr>\n      <th></th>\n      <th>c</th>\n      <th>h</th>\n      <th>l</th>\n      <th>o</th>\n      <th>p_c</th>\n      <th>p_h</th>\n      <th>p_l</th>\n      <th>p_o</th>\n      <th>c</th>\n      <th>h</th>\n      <th>...</th>\n      <th>p_l</th>\n      <th>p_o</th>\n      <th>c</th>\n      <th>h</th>\n      <th>l</th>\n      <th>o</th>\n      <th>p_c</th>\n      <th>p_h</th>\n      <th>p_l</th>\n      <th>p_o</th>\n    </tr>\n    <tr>\n      <th>datadate</th>\n      <th></th>\n      <th></th>\n      <th></th>\n      <th></th>\n      <th></th>\n      <th></th>\n      <th></th>\n      <th></th>\n      <th></th>\n      <th></th>\n      <th></th>\n      <th></th>\n      <th></th>\n      <th></th>\n      <th></th>\n      <th></th>\n      <th></th>\n      <th></th>\n      <th></th>\n      <th></th>\n      <th></th>\n    </tr>\n  </thead>\n  <tbody>\n    <tr>\n      <th>2002-01-02</th>\n      <td>29.25</td>\n      <td>29.34</td>\n      <td>28.46</td>\n      <td>NaN</td>\n      <td>NaN</td>\n      <td>NaN</td>\n      <td>NaN</td>\n      <td>NaN</td>\n      <td>NaN</td>\n      <td>NaN</td>\n      <td>...</td>\n      <td>NaN</td>\n      <td>NaN</td>\n      <td>NaN</td>\n      <td>NaN</td>\n      <td>NaN</td>\n      <td>NaN</td>\n      <td>NaN</td>\n      <td>NaN</td>\n      <td>NaN</td>\n      <td>NaN</td>\n    </tr>\n    <tr>\n      <th>2002-01-03</th>\n      <td>31.10</td>\n      <td>31.20</td>\n      <td>29.42</td>\n      <td>NaN</td>\n      <td>29.25</td>\n      <td>29.34</td>\n      <td>28.46</td>\n      <td>NaN</td>\n      <td>NaN</td>\n      <td>NaN</td>\n      <td>...</td>\n      <td>NaN</td>\n      <td>NaN</td>\n      <td>NaN</td>\n      <td>NaN</td>\n      <td>NaN</td>\n      <td>NaN</td>\n      <td>NaN</td>\n      <td>NaN</td>\n      <td>NaN</td>\n      <td>NaN</td>\n    </tr>\n    <tr>\n      <th>2002-01-04</th>\n      <td>32.78</td>\n      <td>32.94</td>\n      <td>31.65</td>\n      <td>NaN</td>\n      <td>31.10</td>\n      <td>31.20</td>\n      <td>29.42</td>\n      <td>NaN</td>\n      <td>NaN</td>\n      <td>NaN</td>\n      <td>...</td>\n      <td>NaN</td>\n      <td>NaN</td>\n      <td>NaN</td>\n      <td>NaN</td>\n      <td>NaN</td>\n      <td>NaN</td>\n      <td>NaN</td>\n      <td>NaN</td>\n      <td>NaN</td>\n      <td>NaN</td>\n    </tr>\n    <tr>\n      <th>2002-01-07</th>\n      <td>32.65</td>\n      <td>32.89</td>\n      <td>32.20</td>\n      <td>NaN</td>\n      <td>32.78</td>\n      <td>32.94</td>\n      <td>31.65</td>\n      <td>NaN</td>\n      <td>NaN</td>\n      <td>NaN</td>\n      <td>...</td>\n      <td>NaN</td>\n      <td>NaN</td>\n      <td>NaN</td>\n      <td>NaN</td>\n      <td>NaN</td>\n      <td>NaN</td>\n      <td>NaN</td>\n      <td>NaN</td>\n      <td>NaN</td>\n      <td>NaN</td>\n    </tr>\n    <tr>\n      <th>2002-01-08</th>\n      <td>32.75</td>\n      <td>32.89</td>\n      <td>32.25</td>\n      <td>NaN</td>\n      <td>32.65</td>\n      <td>32.89</td>\n      <td>32.20</td>\n      <td>NaN</td>\n      <td>NaN</td>\n      <td>NaN</td>\n      <td>...</td>\n      <td>NaN</td>\n      <td>NaN</td>\n      <td>NaN</td>\n      <td>NaN</td>\n      <td>NaN</td>\n      <td>NaN</td>\n      <td>NaN</td>\n      <td>NaN</td>\n      <td>NaN</td>\n      <td>NaN</td>\n    </tr>\n    <tr>\n      <th>...</th>\n      <td>...</td>\n      <td>...</td>\n      <td>...</td>\n      <td>...</td>\n      <td>...</td>\n      <td>...</td>\n      <td>...</td>\n      <td>...</td>\n      <td>...</td>\n      <td>...</td>\n      <td>...</td>\n      <td>...</td>\n      <td>...</td>\n      <td>...</td>\n      <td>...</td>\n      <td>...</td>\n      <td>...</td>\n      <td>...</td>\n      <td>...</td>\n      <td>...</td>\n      <td>...</td>\n    </tr>\n    <tr>\n      <th>2023-03-22</th>\n      <td>NaN</td>\n      <td>NaN</td>\n      <td>NaN</td>\n      <td>NaN</td>\n      <td>NaN</td>\n      <td>NaN</td>\n      <td>NaN</td>\n      <td>NaN</td>\n      <td>NaN</td>\n      <td>NaN</td>\n      <td>...</td>\n      <td>NaN</td>\n      <td>NaN</td>\n      <td>NaN</td>\n      <td>NaN</td>\n      <td>NaN</td>\n      <td>NaN</td>\n      <td>NaN</td>\n      <td>NaN</td>\n      <td>NaN</td>\n      <td>NaN</td>\n    </tr>\n    <tr>\n      <th>2023-03-23</th>\n      <td>NaN</td>\n      <td>NaN</td>\n      <td>NaN</td>\n      <td>NaN</td>\n      <td>NaN</td>\n      <td>NaN</td>\n      <td>NaN</td>\n      <td>NaN</td>\n      <td>NaN</td>\n      <td>NaN</td>\n      <td>...</td>\n      <td>NaN</td>\n      <td>NaN</td>\n      <td>NaN</td>\n      <td>NaN</td>\n      <td>NaN</td>\n      <td>NaN</td>\n      <td>NaN</td>\n      <td>NaN</td>\n      <td>NaN</td>\n      <td>NaN</td>\n    </tr>\n    <tr>\n      <th>2023-03-28</th>\n      <td>NaN</td>\n      <td>NaN</td>\n      <td>NaN</td>\n      <td>NaN</td>\n      <td>NaN</td>\n      <td>NaN</td>\n      <td>NaN</td>\n      <td>NaN</td>\n      <td>NaN</td>\n      <td>NaN</td>\n      <td>...</td>\n      <td>NaN</td>\n      <td>NaN</td>\n      <td>NaN</td>\n      <td>NaN</td>\n      <td>NaN</td>\n      <td>NaN</td>\n      <td>NaN</td>\n      <td>NaN</td>\n      <td>NaN</td>\n      <td>NaN</td>\n    </tr>\n    <tr>\n      <th>2023-03-30</th>\n      <td>NaN</td>\n      <td>NaN</td>\n      <td>NaN</td>\n      <td>NaN</td>\n      <td>NaN</td>\n      <td>NaN</td>\n      <td>NaN</td>\n      <td>NaN</td>\n      <td>NaN</td>\n      <td>NaN</td>\n      <td>...</td>\n      <td>NaN</td>\n      <td>NaN</td>\n      <td>NaN</td>\n      <td>NaN</td>\n      <td>NaN</td>\n      <td>NaN</td>\n      <td>NaN</td>\n      <td>NaN</td>\n      <td>NaN</td>\n      <td>NaN</td>\n    </tr>\n    <tr>\n      <th>2023-03-31</th>\n      <td>NaN</td>\n      <td>NaN</td>\n      <td>NaN</td>\n      <td>NaN</td>\n      <td>NaN</td>\n      <td>NaN</td>\n      <td>NaN</td>\n      <td>NaN</td>\n      <td>NaN</td>\n      <td>NaN</td>\n      <td>...</td>\n      <td>NaN</td>\n      <td>NaN</td>\n      <td>NaN</td>\n      <td>NaN</td>\n      <td>NaN</td>\n      <td>NaN</td>\n      <td>NaN</td>\n      <td>NaN</td>\n      <td>NaN</td>\n      <td>NaN</td>\n    </tr>\n  </tbody>\n</table>\n<p>5354 rows × 18504 columns</p>\n</div>"
     },
     "execution_count": 134,
     "metadata": {},
     "output_type": "execute_result"
    }
   ],
   "source": [
    "shifted_open = ohlc_daily['o'].shift(1)\n",
    "shifted_open.columns = pd.MultiIndex.from_product([['p_o'], shifted_open.columns])\n",
    "shifted_high = ohlc_daily['h'].shift(1)\n",
    "shifted_high.columns = pd.MultiIndex.from_product([['p_h'], shifted_high.columns])\n",
    "shifted_low = ohlc_daily['l'].shift(1)\n",
    "shifted_low.columns = pd.MultiIndex.from_product([['p_l'], shifted_low.columns])\n",
    "shifted_close = ohlc_daily['c'].shift(1)\n",
    "shifted_close.columns = pd.MultiIndex.from_product([['p_c'], shifted_close.columns])\n",
    "ohlc_prev_daily = pd.concat([ohlc_daily, shifted_open, shifted_high, shifted_low, shifted_close], axis=1)\n",
    "ohlc_prev_daily = ohlc_prev_daily.swaplevel(0, 1, axis=1)\n",
    "ohlc_prev_daily = ohlc_prev_daily.sort_index(level=0, axis=1)\n",
    "ohlc_prev_daily"
   ],
   "metadata": {
    "collapsed": false
   }
  },
  {
   "cell_type": "code",
   "execution_count": 145,
   "outputs": [],
   "source": [
    "def classify_candles(row):\n",
    "    # 1 category is almost like an 'inside bar'\n",
    "    if row.loc['h'] < row.loc['p_h'] and row.loc['l'] > row.loc['p_l']:\n",
    "        return 1\n",
    "    # 2 is a 'movement' or 'trend' candle\n",
    "    elif row.loc['h'] > row.loc['p_h'] and row.loc['l'] > row.loc['p_l']:\n",
    "        return 2\n",
    "    # 3 is a 'broadening' candle\n",
    "    elif row.loc['h'] > row.loc['p_h'] and row.loc['l'] < row.loc['p_l']:\n",
    "        return 3\n",
    "\n",
    "    return 0"
   ],
   "metadata": {
    "collapsed": false
   }
  },
  {
   "cell_type": "code",
   "execution_count": 165,
   "outputs": [
    {
     "data": {
      "text/plain": "  0%|          | 0/2313 [00:00<?, ?it/s]",
      "application/vnd.jupyter.widget-view+json": {
       "version_major": 2,
       "version_minor": 0,
       "model_id": "22caaca8e0834df4b43f205fbdb37592"
      }
     },
     "metadata": {},
     "output_type": "display_data"
    },
    {
     "data": {
      "text/plain": "Index(['A', 'AA', 'AABA', 'AACB', 'AAL', 'AAMRQ', 'AAP', 'AAPL', 'AB', 'ABAX',\n       ...\n       'ZCCC', 'ZEN', 'ZG', 'ZION', 'ZM', 'ZNGA', 'ZOOXQ', 'ZS', 'ZTS', 'ZU'],\n      dtype='object', length=2313)"
     },
     "execution_count": 165,
     "metadata": {},
     "output_type": "execute_result"
    }
   ],
   "source": [
    "ohlc_classified = ohlc_prev_daily\n",
    "tickers = ohlc_prev_daily.columns.get_level_values(0).unique().values\n",
    "candles = pd.DataFrame(dtype='category')\n",
    "for ticker in tqdm_notebook(tickers):\n",
    "    candles = pd.concat([candles, ohlc_classified[ticker].apply(classify_candles, axis=1)], axis=1)\n",
    "\n",
    "ohlc_classified = candles\n",
    "ohlc_classified.columns = pd.MultiIndex.from_product([tickers, ['candle']])\n",
    "ohlc_classified.columns.get_level_values(0).unique()"
   ],
   "metadata": {
    "collapsed": false
   }
  },
  {
   "cell_type": "code",
   "execution_count": 178,
   "outputs": [
    {
     "data": {
      "text/plain": "                A                                  AA              \\\n           candle prev_candle prev_prev_candle candle prev_candle   \n2002-01-02      0         NaN              NaN      0         NaN   \n2002-01-03      2         0.0              NaN      0         0.0   \n2002-01-04      2         2.0              0.0      0         0.0   \n2002-01-07      1         2.0              2.0      0         0.0   \n2002-01-08      0         1.0              2.0      0         0.0   \n...           ...         ...              ...    ...         ...   \n2023-03-22      0         0.0              0.0      0         0.0   \n2023-03-23      0         0.0              0.0      0         0.0   \n2023-03-28      0         0.0              0.0      0         0.0   \n2023-03-30      0         0.0              0.0      0         0.0   \n2023-03-31      0         0.0              0.0      0         0.0   \n\n                              AABA                                AACB  ...  \\\n           prev_prev_candle candle prev_candle prev_prev_candle candle  ...   \n2002-01-02              NaN      0         NaN              NaN      0  ...   \n2002-01-03              NaN      2         0.0              NaN      1  ...   \n2002-01-04              0.0      3         2.0              0.0      0  ...   \n2002-01-07              0.0      2         3.0              2.0      0  ...   \n2002-01-08              0.0      1         2.0              3.0      0  ...   \n...                     ...    ...         ...              ...    ...  ...   \n2023-03-22              0.0      0         0.0              0.0      0  ...   \n2023-03-23              0.0      0         0.0              0.0      0  ...   \n2023-03-28              0.0      0         0.0              0.0      0  ...   \n2023-03-30              0.0      0         0.0              0.0      0  ...   \n2023-03-31              0.0      0         0.0              0.0      0  ...   \n\n                      ZOOXQ     ZS                                 ZTS  \\\n           prev_prev_candle candle prev_candle prev_prev_candle candle   \n2002-01-02              NaN      0         NaN              NaN      0   \n2002-01-03              NaN      0         0.0              NaN      0   \n2002-01-04              0.0      0         0.0              0.0      0   \n2002-01-07              0.0      0         0.0              0.0      0   \n2002-01-08              2.0      0         0.0              0.0      0   \n...                     ...    ...         ...              ...    ...   \n2023-03-22              0.0      0         0.0              0.0      0   \n2023-03-23              0.0      0         0.0              0.0      0   \n2023-03-28              0.0      0         0.0              0.0      0   \n2023-03-30              0.0      0         0.0              0.0      0   \n2023-03-31              0.0      0         0.0              0.0      0   \n\n                                            ZU                               \n           prev_candle prev_prev_candle candle prev_candle prev_prev_candle  \n2002-01-02         NaN              NaN      0         NaN              NaN  \n2002-01-03         0.0              NaN      0         0.0              NaN  \n2002-01-04         0.0              0.0      0         0.0              0.0  \n2002-01-07         0.0              0.0      0         0.0              0.0  \n2002-01-08         0.0              0.0      0         0.0              0.0  \n...                ...              ...    ...         ...              ...  \n2023-03-22         0.0              0.0      0         0.0              0.0  \n2023-03-23         0.0              0.0      0         0.0              0.0  \n2023-03-28         0.0              0.0      0         0.0              0.0  \n2023-03-30         0.0              0.0      0         0.0              0.0  \n2023-03-31         0.0              0.0      0         0.0              0.0  \n\n[5354 rows x 6939 columns]",
      "text/html": "<div>\n<style scoped>\n    .dataframe tbody tr th:only-of-type {\n        vertical-align: middle;\n    }\n\n    .dataframe tbody tr th {\n        vertical-align: top;\n    }\n\n    .dataframe thead tr th {\n        text-align: left;\n    }\n</style>\n<table border=\"1\" class=\"dataframe\">\n  <thead>\n    <tr>\n      <th></th>\n      <th colspan=\"3\" halign=\"left\">A</th>\n      <th colspan=\"3\" halign=\"left\">AA</th>\n      <th colspan=\"3\" halign=\"left\">AABA</th>\n      <th>AACB</th>\n      <th>...</th>\n      <th>ZOOXQ</th>\n      <th colspan=\"3\" halign=\"left\">ZS</th>\n      <th colspan=\"3\" halign=\"left\">ZTS</th>\n      <th colspan=\"3\" halign=\"left\">ZU</th>\n    </tr>\n    <tr>\n      <th></th>\n      <th>candle</th>\n      <th>prev_candle</th>\n      <th>prev_prev_candle</th>\n      <th>candle</th>\n      <th>prev_candle</th>\n      <th>prev_prev_candle</th>\n      <th>candle</th>\n      <th>prev_candle</th>\n      <th>prev_prev_candle</th>\n      <th>candle</th>\n      <th>...</th>\n      <th>prev_prev_candle</th>\n      <th>candle</th>\n      <th>prev_candle</th>\n      <th>prev_prev_candle</th>\n      <th>candle</th>\n      <th>prev_candle</th>\n      <th>prev_prev_candle</th>\n      <th>candle</th>\n      <th>prev_candle</th>\n      <th>prev_prev_candle</th>\n    </tr>\n  </thead>\n  <tbody>\n    <tr>\n      <th>2002-01-02</th>\n      <td>0</td>\n      <td>NaN</td>\n      <td>NaN</td>\n      <td>0</td>\n      <td>NaN</td>\n      <td>NaN</td>\n      <td>0</td>\n      <td>NaN</td>\n      <td>NaN</td>\n      <td>0</td>\n      <td>...</td>\n      <td>NaN</td>\n      <td>0</td>\n      <td>NaN</td>\n      <td>NaN</td>\n      <td>0</td>\n      <td>NaN</td>\n      <td>NaN</td>\n      <td>0</td>\n      <td>NaN</td>\n      <td>NaN</td>\n    </tr>\n    <tr>\n      <th>2002-01-03</th>\n      <td>2</td>\n      <td>0.0</td>\n      <td>NaN</td>\n      <td>0</td>\n      <td>0.0</td>\n      <td>NaN</td>\n      <td>2</td>\n      <td>0.0</td>\n      <td>NaN</td>\n      <td>1</td>\n      <td>...</td>\n      <td>NaN</td>\n      <td>0</td>\n      <td>0.0</td>\n      <td>NaN</td>\n      <td>0</td>\n      <td>0.0</td>\n      <td>NaN</td>\n      <td>0</td>\n      <td>0.0</td>\n      <td>NaN</td>\n    </tr>\n    <tr>\n      <th>2002-01-04</th>\n      <td>2</td>\n      <td>2.0</td>\n      <td>0.0</td>\n      <td>0</td>\n      <td>0.0</td>\n      <td>0.0</td>\n      <td>3</td>\n      <td>2.0</td>\n      <td>0.0</td>\n      <td>0</td>\n      <td>...</td>\n      <td>0.0</td>\n      <td>0</td>\n      <td>0.0</td>\n      <td>0.0</td>\n      <td>0</td>\n      <td>0.0</td>\n      <td>0.0</td>\n      <td>0</td>\n      <td>0.0</td>\n      <td>0.0</td>\n    </tr>\n    <tr>\n      <th>2002-01-07</th>\n      <td>1</td>\n      <td>2.0</td>\n      <td>2.0</td>\n      <td>0</td>\n      <td>0.0</td>\n      <td>0.0</td>\n      <td>2</td>\n      <td>3.0</td>\n      <td>2.0</td>\n      <td>0</td>\n      <td>...</td>\n      <td>0.0</td>\n      <td>0</td>\n      <td>0.0</td>\n      <td>0.0</td>\n      <td>0</td>\n      <td>0.0</td>\n      <td>0.0</td>\n      <td>0</td>\n      <td>0.0</td>\n      <td>0.0</td>\n    </tr>\n    <tr>\n      <th>2002-01-08</th>\n      <td>0</td>\n      <td>1.0</td>\n      <td>2.0</td>\n      <td>0</td>\n      <td>0.0</td>\n      <td>0.0</td>\n      <td>1</td>\n      <td>2.0</td>\n      <td>3.0</td>\n      <td>0</td>\n      <td>...</td>\n      <td>2.0</td>\n      <td>0</td>\n      <td>0.0</td>\n      <td>0.0</td>\n      <td>0</td>\n      <td>0.0</td>\n      <td>0.0</td>\n      <td>0</td>\n      <td>0.0</td>\n      <td>0.0</td>\n    </tr>\n    <tr>\n      <th>...</th>\n      <td>...</td>\n      <td>...</td>\n      <td>...</td>\n      <td>...</td>\n      <td>...</td>\n      <td>...</td>\n      <td>...</td>\n      <td>...</td>\n      <td>...</td>\n      <td>...</td>\n      <td>...</td>\n      <td>...</td>\n      <td>...</td>\n      <td>...</td>\n      <td>...</td>\n      <td>...</td>\n      <td>...</td>\n      <td>...</td>\n      <td>...</td>\n      <td>...</td>\n      <td>...</td>\n    </tr>\n    <tr>\n      <th>2023-03-22</th>\n      <td>0</td>\n      <td>0.0</td>\n      <td>0.0</td>\n      <td>0</td>\n      <td>0.0</td>\n      <td>0.0</td>\n      <td>0</td>\n      <td>0.0</td>\n      <td>0.0</td>\n      <td>0</td>\n      <td>...</td>\n      <td>0.0</td>\n      <td>0</td>\n      <td>0.0</td>\n      <td>0.0</td>\n      <td>0</td>\n      <td>0.0</td>\n      <td>0.0</td>\n      <td>0</td>\n      <td>0.0</td>\n      <td>0.0</td>\n    </tr>\n    <tr>\n      <th>2023-03-23</th>\n      <td>0</td>\n      <td>0.0</td>\n      <td>0.0</td>\n      <td>0</td>\n      <td>0.0</td>\n      <td>0.0</td>\n      <td>0</td>\n      <td>0.0</td>\n      <td>0.0</td>\n      <td>0</td>\n      <td>...</td>\n      <td>0.0</td>\n      <td>0</td>\n      <td>0.0</td>\n      <td>0.0</td>\n      <td>0</td>\n      <td>0.0</td>\n      <td>0.0</td>\n      <td>0</td>\n      <td>0.0</td>\n      <td>0.0</td>\n    </tr>\n    <tr>\n      <th>2023-03-28</th>\n      <td>0</td>\n      <td>0.0</td>\n      <td>0.0</td>\n      <td>0</td>\n      <td>0.0</td>\n      <td>0.0</td>\n      <td>0</td>\n      <td>0.0</td>\n      <td>0.0</td>\n      <td>0</td>\n      <td>...</td>\n      <td>0.0</td>\n      <td>0</td>\n      <td>0.0</td>\n      <td>0.0</td>\n      <td>0</td>\n      <td>0.0</td>\n      <td>0.0</td>\n      <td>0</td>\n      <td>0.0</td>\n      <td>0.0</td>\n    </tr>\n    <tr>\n      <th>2023-03-30</th>\n      <td>0</td>\n      <td>0.0</td>\n      <td>0.0</td>\n      <td>0</td>\n      <td>0.0</td>\n      <td>0.0</td>\n      <td>0</td>\n      <td>0.0</td>\n      <td>0.0</td>\n      <td>0</td>\n      <td>...</td>\n      <td>0.0</td>\n      <td>0</td>\n      <td>0.0</td>\n      <td>0.0</td>\n      <td>0</td>\n      <td>0.0</td>\n      <td>0.0</td>\n      <td>0</td>\n      <td>0.0</td>\n      <td>0.0</td>\n    </tr>\n    <tr>\n      <th>2023-03-31</th>\n      <td>0</td>\n      <td>0.0</td>\n      <td>0.0</td>\n      <td>0</td>\n      <td>0.0</td>\n      <td>0.0</td>\n      <td>0</td>\n      <td>0.0</td>\n      <td>0.0</td>\n      <td>0</td>\n      <td>...</td>\n      <td>0.0</td>\n      <td>0</td>\n      <td>0.0</td>\n      <td>0.0</td>\n      <td>0</td>\n      <td>0.0</td>\n      <td>0.0</td>\n      <td>0</td>\n      <td>0.0</td>\n      <td>0.0</td>\n    </tr>\n  </tbody>\n</table>\n<p>5354 rows × 6939 columns</p>\n</div>"
     },
     "execution_count": 178,
     "metadata": {},
     "output_type": "execute_result"
    }
   ],
   "source": [
    "ohlc_classified_prev = ohlc_classified.shift(1)\n",
    "ohlc_classified_prev.columns = pd.MultiIndex.from_product([tickers, ['prev_candle']])\n",
    "ohlc_classified_prev_prev = ohlc_classified.shift(2)\n",
    "ohlc_classified_prev_prev.columns = pd.MultiIndex.from_product([tickers, ['prev_prev_candle']])\n",
    "\n",
    "ohlc_classified_sequence = pd.concat([ohlc_classified, ohlc_classified_prev, ohlc_classified_prev_prev], axis=1)\n",
    "ohlc_classified_sequence.sort_index(level=0, axis=1)"
   ],
   "metadata": {
    "collapsed": false
   }
  },
  {
   "cell_type": "code",
   "execution_count": 183,
   "outputs": [],
   "source": [
    "ohlc_classified_sequence.to_csv('../data/ohlc_123_patterns.csv')"
   ],
   "metadata": {
    "collapsed": false
   }
  },
  {
   "cell_type": "code",
   "execution_count": null,
   "outputs": [],
   "source": [],
   "metadata": {
    "collapsed": false
   }
  }
 ],
 "metadata": {
  "kernelspec": {
   "name": "venv",
   "language": "python",
   "display_name": "venv"
  },
  "language_info": {
   "codemirror_mode": {
    "name": "ipython",
    "version": 2
   },
   "file_extension": ".py",
   "mimetype": "text/x-python",
   "name": "python",
   "nbconvert_exporter": "python",
   "pygments_lexer": "ipython2",
   "version": "2.7.6"
  }
 },
 "nbformat": 4,
 "nbformat_minor": 0
}
