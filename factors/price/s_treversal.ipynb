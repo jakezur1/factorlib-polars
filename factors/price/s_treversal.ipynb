{
 "cells": [
  {
   "cell_type": "code",
   "execution_count": 83,
   "outputs": [],
   "source": [
    "import pandas as pd\n",
    "import numpy as np\n",
    "from factorlib.utils.system import get_data_dir"
   ],
   "metadata": {
    "collapsed": false,
    "ExecuteTime": {
     "end_time": "2023-05-31T19:33:50.785723Z",
     "start_time": "2023-05-31T19:33:50.782063Z"
    }
   }
  },
  {
   "cell_type": "code",
   "execution_count": 84,
   "outputs": [],
   "source": [
    "# Define your paths\n",
    "\n",
    "path_code = get_data_dir() / 'raw'"
   ],
   "metadata": {
    "collapsed": false,
    "ExecuteTime": {
     "end_time": "2023-05-31T19:33:56.514054Z",
     "start_time": "2023-05-31T19:33:56.509996Z"
    }
   }
  },
  {
   "cell_type": "code",
   "execution_count": 85,
   "outputs": [
    {
     "data": {
      "text/plain": "           GVKEY  iid    datadate  tic        conm  divd      cshtrd   eps  \\\n0           1004    1  2013/10/24  AIR    AAR CORP   NaN    351238.0  1.37   \n1           1004    1  2002/03/01  AIR    AAR CORP   NaN     75300.0 -1.60   \n2           1004    1  2007/11/30  AIR    AAR CORP   NaN    354300.0  1.70   \n3           1004    1  2015/06/30  AIR    AAR CORP   NaN    248059.0  1.23   \n4           1004    1  2019/11/08  AIR    AAR CORP   NaN    106407.0  2.37   \n...          ...  ...         ...  ...         ...   ...         ...   ...   \n32127389  353444   90  2022/07/28  HLN  HALEON PLC   NaN  15271880.0   NaN   \n32127390  353444   90  2022/07/27  HLN  HALEON PLC   NaN  15006760.0   NaN   \n32127391  353444   90  2022/07/26  HLN  HALEON PLC   NaN  27235290.0   NaN   \n32127392  353444   90  2022/07/25  HLN  HALEON PLC   NaN  19349790.0   NaN   \n32127393  353444   90  2022/07/22  HLN  HALEON PLC   NaN  12093430.0   NaN   \n\n                                                    busdesc      gind  \\\n0         AAR Corp. provides products and services to co...  201010.0   \n1         AAR Corp. provides products and services to co...  201010.0   \n2         AAR Corp. provides products and services to co...  201010.0   \n3         AAR Corp. provides products and services to co...  201010.0   \n4         AAR Corp. provides products and services to co...  201010.0   \n...                                                     ...       ...   \n32127389  Haleon plc engages in the research and develop...  303020.0   \n32127390  Haleon plc engages in the research and develop...  303020.0   \n32127391  Haleon plc engages in the research and develop...  303020.0   \n32127392  Haleon plc engages in the research and develop...  303020.0   \n32127393  Haleon plc engages in the research and develop...  303020.0   \n\n          gsector     gsubind   sic  prcod  prchd  prcld  prccd  \n0            20.0  20101010.0  5080  29.21  29.67  29.08  29.38  \n1            20.0  20101010.0  5080    NaN   7.45   7.15   7.44  \n2            20.0  20101010.0  5080  32.99  33.75  32.81  33.02  \n3            20.0  20101010.0  5080  32.10  32.17  31.73  31.87  \n4            20.0  20101010.0  5080  44.08  44.29  43.14  43.35  \n...           ...         ...   ...    ...    ...    ...    ...  \n32127389     30.0  30302010.0  2834   7.20   7.24   6.97   7.00  \n32127390     30.0  30302010.0  2834   7.51   7.56   7.23   7.32  \n32127391     30.0  30302010.0  2834   7.31   7.41   7.29   7.35  \n32127392     30.0  30302010.0  2834   7.41   7.45   7.16   7.30  \n32127393     30.0  30302010.0  2834   7.55   7.65   7.40   7.41  \n\n[32127394 rows x 17 columns]",
      "text/html": "<div>\n<style scoped>\n    .dataframe tbody tr th:only-of-type {\n        vertical-align: middle;\n    }\n\n    .dataframe tbody tr th {\n        vertical-align: top;\n    }\n\n    .dataframe thead th {\n        text-align: right;\n    }\n</style>\n<table border=\"1\" class=\"dataframe\">\n  <thead>\n    <tr style=\"text-align: right;\">\n      <th></th>\n      <th>GVKEY</th>\n      <th>iid</th>\n      <th>datadate</th>\n      <th>tic</th>\n      <th>conm</th>\n      <th>divd</th>\n      <th>cshtrd</th>\n      <th>eps</th>\n      <th>busdesc</th>\n      <th>gind</th>\n      <th>gsector</th>\n      <th>gsubind</th>\n      <th>sic</th>\n      <th>prcod</th>\n      <th>prchd</th>\n      <th>prcld</th>\n      <th>prccd</th>\n    </tr>\n  </thead>\n  <tbody>\n    <tr>\n      <th>0</th>\n      <td>1004</td>\n      <td>1</td>\n      <td>2013/10/24</td>\n      <td>AIR</td>\n      <td>AAR CORP</td>\n      <td>NaN</td>\n      <td>351238.0</td>\n      <td>1.37</td>\n      <td>AAR Corp. provides products and services to co...</td>\n      <td>201010.0</td>\n      <td>20.0</td>\n      <td>20101010.0</td>\n      <td>5080</td>\n      <td>29.21</td>\n      <td>29.67</td>\n      <td>29.08</td>\n      <td>29.38</td>\n    </tr>\n    <tr>\n      <th>1</th>\n      <td>1004</td>\n      <td>1</td>\n      <td>2002/03/01</td>\n      <td>AIR</td>\n      <td>AAR CORP</td>\n      <td>NaN</td>\n      <td>75300.0</td>\n      <td>-1.60</td>\n      <td>AAR Corp. provides products and services to co...</td>\n      <td>201010.0</td>\n      <td>20.0</td>\n      <td>20101010.0</td>\n      <td>5080</td>\n      <td>NaN</td>\n      <td>7.45</td>\n      <td>7.15</td>\n      <td>7.44</td>\n    </tr>\n    <tr>\n      <th>2</th>\n      <td>1004</td>\n      <td>1</td>\n      <td>2007/11/30</td>\n      <td>AIR</td>\n      <td>AAR CORP</td>\n      <td>NaN</td>\n      <td>354300.0</td>\n      <td>1.70</td>\n      <td>AAR Corp. provides products and services to co...</td>\n      <td>201010.0</td>\n      <td>20.0</td>\n      <td>20101010.0</td>\n      <td>5080</td>\n      <td>32.99</td>\n      <td>33.75</td>\n      <td>32.81</td>\n      <td>33.02</td>\n    </tr>\n    <tr>\n      <th>3</th>\n      <td>1004</td>\n      <td>1</td>\n      <td>2015/06/30</td>\n      <td>AIR</td>\n      <td>AAR CORP</td>\n      <td>NaN</td>\n      <td>248059.0</td>\n      <td>1.23</td>\n      <td>AAR Corp. provides products and services to co...</td>\n      <td>201010.0</td>\n      <td>20.0</td>\n      <td>20101010.0</td>\n      <td>5080</td>\n      <td>32.10</td>\n      <td>32.17</td>\n      <td>31.73</td>\n      <td>31.87</td>\n    </tr>\n    <tr>\n      <th>4</th>\n      <td>1004</td>\n      <td>1</td>\n      <td>2019/11/08</td>\n      <td>AIR</td>\n      <td>AAR CORP</td>\n      <td>NaN</td>\n      <td>106407.0</td>\n      <td>2.37</td>\n      <td>AAR Corp. provides products and services to co...</td>\n      <td>201010.0</td>\n      <td>20.0</td>\n      <td>20101010.0</td>\n      <td>5080</td>\n      <td>44.08</td>\n      <td>44.29</td>\n      <td>43.14</td>\n      <td>43.35</td>\n    </tr>\n    <tr>\n      <th>...</th>\n      <td>...</td>\n      <td>...</td>\n      <td>...</td>\n      <td>...</td>\n      <td>...</td>\n      <td>...</td>\n      <td>...</td>\n      <td>...</td>\n      <td>...</td>\n      <td>...</td>\n      <td>...</td>\n      <td>...</td>\n      <td>...</td>\n      <td>...</td>\n      <td>...</td>\n      <td>...</td>\n      <td>...</td>\n    </tr>\n    <tr>\n      <th>32127389</th>\n      <td>353444</td>\n      <td>90</td>\n      <td>2022/07/28</td>\n      <td>HLN</td>\n      <td>HALEON PLC</td>\n      <td>NaN</td>\n      <td>15271880.0</td>\n      <td>NaN</td>\n      <td>Haleon plc engages in the research and develop...</td>\n      <td>303020.0</td>\n      <td>30.0</td>\n      <td>30302010.0</td>\n      <td>2834</td>\n      <td>7.20</td>\n      <td>7.24</td>\n      <td>6.97</td>\n      <td>7.00</td>\n    </tr>\n    <tr>\n      <th>32127390</th>\n      <td>353444</td>\n      <td>90</td>\n      <td>2022/07/27</td>\n      <td>HLN</td>\n      <td>HALEON PLC</td>\n      <td>NaN</td>\n      <td>15006760.0</td>\n      <td>NaN</td>\n      <td>Haleon plc engages in the research and develop...</td>\n      <td>303020.0</td>\n      <td>30.0</td>\n      <td>30302010.0</td>\n      <td>2834</td>\n      <td>7.51</td>\n      <td>7.56</td>\n      <td>7.23</td>\n      <td>7.32</td>\n    </tr>\n    <tr>\n      <th>32127391</th>\n      <td>353444</td>\n      <td>90</td>\n      <td>2022/07/26</td>\n      <td>HLN</td>\n      <td>HALEON PLC</td>\n      <td>NaN</td>\n      <td>27235290.0</td>\n      <td>NaN</td>\n      <td>Haleon plc engages in the research and develop...</td>\n      <td>303020.0</td>\n      <td>30.0</td>\n      <td>30302010.0</td>\n      <td>2834</td>\n      <td>7.31</td>\n      <td>7.41</td>\n      <td>7.29</td>\n      <td>7.35</td>\n    </tr>\n    <tr>\n      <th>32127392</th>\n      <td>353444</td>\n      <td>90</td>\n      <td>2022/07/25</td>\n      <td>HLN</td>\n      <td>HALEON PLC</td>\n      <td>NaN</td>\n      <td>19349790.0</td>\n      <td>NaN</td>\n      <td>Haleon plc engages in the research and develop...</td>\n      <td>303020.0</td>\n      <td>30.0</td>\n      <td>30302010.0</td>\n      <td>2834</td>\n      <td>7.41</td>\n      <td>7.45</td>\n      <td>7.16</td>\n      <td>7.30</td>\n    </tr>\n    <tr>\n      <th>32127393</th>\n      <td>353444</td>\n      <td>90</td>\n      <td>2022/07/22</td>\n      <td>HLN</td>\n      <td>HALEON PLC</td>\n      <td>NaN</td>\n      <td>12093430.0</td>\n      <td>NaN</td>\n      <td>Haleon plc engages in the research and develop...</td>\n      <td>303020.0</td>\n      <td>30.0</td>\n      <td>30302010.0</td>\n      <td>2834</td>\n      <td>7.55</td>\n      <td>7.65</td>\n      <td>7.40</td>\n      <td>7.41</td>\n    </tr>\n  </tbody>\n</table>\n<p>32127394 rows × 17 columns</p>\n</div>"
     },
     "execution_count": 85,
     "metadata": {},
     "output_type": "execute_result"
    }
   ],
   "source": [
    "# DATA LOAD\n",
    "# Make sure to replace the path with your actual path\n",
    "df = pd.read_csv(f'{path_code}/ohclv_daily.csv')\n",
    "df"
   ],
   "metadata": {
    "collapsed": false,
    "ExecuteTime": {
     "end_time": "2023-05-31T19:34:50.544146Z",
     "start_time": "2023-05-31T19:33:57.903879Z"
    }
   }
  },
  {
   "cell_type": "code",
   "execution_count": 86,
   "outputs": [
    {
     "data": {
      "text/plain": "               GVKEY   iid  tic        conm  divd     cshtrd   eps  \\\ndate_index                                                           \n2002-01-01       NaN   NaN  NaN         NaN   NaN        NaN   NaN   \n2002-02-01    1004.0   1.0  AIR    AAR CORP   NaN    97800.0 -1.60   \n2002-03-01    1004.0   1.0  AIR    AAR CORP   NaN    75300.0 -1.60   \n2002-04-01    1004.0   1.0  AIR    AAR CORP   NaN   144600.0 -1.87   \n2002-05-01    1004.0   1.0  AIR    AAR CORP   NaN   336800.0 -1.87   \n...              ...   ...  ...         ...   ...        ...   ...   \n2022-11-01  353444.0  90.0  HLN  HALEON PLC   NaN  7972730.0   NaN   \n2022-12-01  353444.0  90.0  HLN  HALEON PLC   NaN  7383578.0   NaN   \n2023-01-01  353444.0  90.0  HLN  HALEON PLC   NaN  3951061.0   NaN   \n2023-02-01  353444.0  90.0  HLN  HALEON PLC   NaN  5629606.0   NaN   \n2023-03-01  353444.0  90.0  HLN  HALEON PLC   NaN  2775820.0   NaN   \n\n                                                      busdesc      gind  \\\ndate_index                                                                \n2002-01-01                                                NaN       NaN   \n2002-02-01  AAR Corp. provides products and services to co...  201010.0   \n2002-03-01  AAR Corp. provides products and services to co...  201010.0   \n2002-04-01  AAR Corp. provides products and services to co...  201010.0   \n2002-05-01  AAR Corp. provides products and services to co...  201010.0   \n...                                                       ...       ...   \n2022-11-01  Haleon plc engages in the research and develop...  303020.0   \n2022-12-01  Haleon plc engages in the research and develop...  303020.0   \n2023-01-01  Haleon plc engages in the research and develop...  303020.0   \n2023-02-01  Haleon plc engages in the research and develop...  303020.0   \n2023-03-01  Haleon plc engages in the research and develop...  303020.0   \n\n            gsector     gsubind     sic  prcod    prchd    prcld  prccd  \ndate_index                                                               \n2002-01-01      NaN         NaN     NaN    NaN      NaN      NaN    NaN  \n2002-02-01     20.0  20101010.0  5080.0    NaN   8.6000   8.2300   8.45  \n2002-03-01     20.0  20101010.0  5080.0    NaN   7.4500   7.1500   7.44  \n2002-04-01     20.0  20101010.0  5080.0    NaN  11.2300  10.7500  11.00  \n2002-05-01     20.0  20101010.0  5080.0    NaN  12.7900  12.1500  12.60  \n...             ...         ...     ...    ...      ...      ...    ...  \n2022-11-01     30.0  30302010.0  2834.0   6.13   6.2400   6.0824   6.14  \n2022-12-01     30.0  30302010.0  2834.0   7.00   7.1888   6.9600   7.08  \n2023-01-01     30.0  30302010.0  2834.0   7.99   8.1200   7.9450   8.00  \n2023-02-01     30.0  30302010.0  2834.0   7.98   8.0100   7.8800   7.96  \n2023-03-01     30.0  30302010.0  2834.0   7.94   7.9900   7.9150   7.92  \n\n[1549031 rows x 16 columns]",
      "text/html": "<div>\n<style scoped>\n    .dataframe tbody tr th:only-of-type {\n        vertical-align: middle;\n    }\n\n    .dataframe tbody tr th {\n        vertical-align: top;\n    }\n\n    .dataframe thead th {\n        text-align: right;\n    }\n</style>\n<table border=\"1\" class=\"dataframe\">\n  <thead>\n    <tr style=\"text-align: right;\">\n      <th></th>\n      <th>GVKEY</th>\n      <th>iid</th>\n      <th>tic</th>\n      <th>conm</th>\n      <th>divd</th>\n      <th>cshtrd</th>\n      <th>eps</th>\n      <th>busdesc</th>\n      <th>gind</th>\n      <th>gsector</th>\n      <th>gsubind</th>\n      <th>sic</th>\n      <th>prcod</th>\n      <th>prchd</th>\n      <th>prcld</th>\n      <th>prccd</th>\n    </tr>\n    <tr>\n      <th>date_index</th>\n      <th></th>\n      <th></th>\n      <th></th>\n      <th></th>\n      <th></th>\n      <th></th>\n      <th></th>\n      <th></th>\n      <th></th>\n      <th></th>\n      <th></th>\n      <th></th>\n      <th></th>\n      <th></th>\n      <th></th>\n      <th></th>\n    </tr>\n  </thead>\n  <tbody>\n    <tr>\n      <th>2002-01-01</th>\n      <td>NaN</td>\n      <td>NaN</td>\n      <td>NaN</td>\n      <td>NaN</td>\n      <td>NaN</td>\n      <td>NaN</td>\n      <td>NaN</td>\n      <td>NaN</td>\n      <td>NaN</td>\n      <td>NaN</td>\n      <td>NaN</td>\n      <td>NaN</td>\n      <td>NaN</td>\n      <td>NaN</td>\n      <td>NaN</td>\n      <td>NaN</td>\n    </tr>\n    <tr>\n      <th>2002-02-01</th>\n      <td>1004.0</td>\n      <td>1.0</td>\n      <td>AIR</td>\n      <td>AAR CORP</td>\n      <td>NaN</td>\n      <td>97800.0</td>\n      <td>-1.60</td>\n      <td>AAR Corp. provides products and services to co...</td>\n      <td>201010.0</td>\n      <td>20.0</td>\n      <td>20101010.0</td>\n      <td>5080.0</td>\n      <td>NaN</td>\n      <td>8.6000</td>\n      <td>8.2300</td>\n      <td>8.45</td>\n    </tr>\n    <tr>\n      <th>2002-03-01</th>\n      <td>1004.0</td>\n      <td>1.0</td>\n      <td>AIR</td>\n      <td>AAR CORP</td>\n      <td>NaN</td>\n      <td>75300.0</td>\n      <td>-1.60</td>\n      <td>AAR Corp. provides products and services to co...</td>\n      <td>201010.0</td>\n      <td>20.0</td>\n      <td>20101010.0</td>\n      <td>5080.0</td>\n      <td>NaN</td>\n      <td>7.4500</td>\n      <td>7.1500</td>\n      <td>7.44</td>\n    </tr>\n    <tr>\n      <th>2002-04-01</th>\n      <td>1004.0</td>\n      <td>1.0</td>\n      <td>AIR</td>\n      <td>AAR CORP</td>\n      <td>NaN</td>\n      <td>144600.0</td>\n      <td>-1.87</td>\n      <td>AAR Corp. provides products and services to co...</td>\n      <td>201010.0</td>\n      <td>20.0</td>\n      <td>20101010.0</td>\n      <td>5080.0</td>\n      <td>NaN</td>\n      <td>11.2300</td>\n      <td>10.7500</td>\n      <td>11.00</td>\n    </tr>\n    <tr>\n      <th>2002-05-01</th>\n      <td>1004.0</td>\n      <td>1.0</td>\n      <td>AIR</td>\n      <td>AAR CORP</td>\n      <td>NaN</td>\n      <td>336800.0</td>\n      <td>-1.87</td>\n      <td>AAR Corp. provides products and services to co...</td>\n      <td>201010.0</td>\n      <td>20.0</td>\n      <td>20101010.0</td>\n      <td>5080.0</td>\n      <td>NaN</td>\n      <td>12.7900</td>\n      <td>12.1500</td>\n      <td>12.60</td>\n    </tr>\n    <tr>\n      <th>...</th>\n      <td>...</td>\n      <td>...</td>\n      <td>...</td>\n      <td>...</td>\n      <td>...</td>\n      <td>...</td>\n      <td>...</td>\n      <td>...</td>\n      <td>...</td>\n      <td>...</td>\n      <td>...</td>\n      <td>...</td>\n      <td>...</td>\n      <td>...</td>\n      <td>...</td>\n      <td>...</td>\n    </tr>\n    <tr>\n      <th>2022-11-01</th>\n      <td>353444.0</td>\n      <td>90.0</td>\n      <td>HLN</td>\n      <td>HALEON PLC</td>\n      <td>NaN</td>\n      <td>7972730.0</td>\n      <td>NaN</td>\n      <td>Haleon plc engages in the research and develop...</td>\n      <td>303020.0</td>\n      <td>30.0</td>\n      <td>30302010.0</td>\n      <td>2834.0</td>\n      <td>6.13</td>\n      <td>6.2400</td>\n      <td>6.0824</td>\n      <td>6.14</td>\n    </tr>\n    <tr>\n      <th>2022-12-01</th>\n      <td>353444.0</td>\n      <td>90.0</td>\n      <td>HLN</td>\n      <td>HALEON PLC</td>\n      <td>NaN</td>\n      <td>7383578.0</td>\n      <td>NaN</td>\n      <td>Haleon plc engages in the research and develop...</td>\n      <td>303020.0</td>\n      <td>30.0</td>\n      <td>30302010.0</td>\n      <td>2834.0</td>\n      <td>7.00</td>\n      <td>7.1888</td>\n      <td>6.9600</td>\n      <td>7.08</td>\n    </tr>\n    <tr>\n      <th>2023-01-01</th>\n      <td>353444.0</td>\n      <td>90.0</td>\n      <td>HLN</td>\n      <td>HALEON PLC</td>\n      <td>NaN</td>\n      <td>3951061.0</td>\n      <td>NaN</td>\n      <td>Haleon plc engages in the research and develop...</td>\n      <td>303020.0</td>\n      <td>30.0</td>\n      <td>30302010.0</td>\n      <td>2834.0</td>\n      <td>7.99</td>\n      <td>8.1200</td>\n      <td>7.9450</td>\n      <td>8.00</td>\n    </tr>\n    <tr>\n      <th>2023-02-01</th>\n      <td>353444.0</td>\n      <td>90.0</td>\n      <td>HLN</td>\n      <td>HALEON PLC</td>\n      <td>NaN</td>\n      <td>5629606.0</td>\n      <td>NaN</td>\n      <td>Haleon plc engages in the research and develop...</td>\n      <td>303020.0</td>\n      <td>30.0</td>\n      <td>30302010.0</td>\n      <td>2834.0</td>\n      <td>7.98</td>\n      <td>8.0100</td>\n      <td>7.8800</td>\n      <td>7.96</td>\n    </tr>\n    <tr>\n      <th>2023-03-01</th>\n      <td>353444.0</td>\n      <td>90.0</td>\n      <td>HLN</td>\n      <td>HALEON PLC</td>\n      <td>NaN</td>\n      <td>2775820.0</td>\n      <td>NaN</td>\n      <td>Haleon plc engages in the research and develop...</td>\n      <td>303020.0</td>\n      <td>30.0</td>\n      <td>30302010.0</td>\n      <td>2834.0</td>\n      <td>7.94</td>\n      <td>7.9900</td>\n      <td>7.9150</td>\n      <td>7.92</td>\n    </tr>\n  </tbody>\n</table>\n<p>1549031 rows × 16 columns</p>\n</div>"
     },
     "execution_count": 86,
     "metadata": {},
     "output_type": "execute_result"
    }
   ],
   "source": [
    "#making data frame into date time\n",
    "df['datadate'] = pd.to_datetime(df['datadate'])\n",
    "\n",
    "#renaming datadate to data_index\n",
    "df = df.rename(columns={'datadate': 'date_index'})\n",
    "\n",
    "#making data_index and GVKEY into the index\n",
    "df.set_index(['date_index', 'GVKEY'], inplace=True)\n",
    "\n",
    "#remove duplicates from the index and then reset the index to just daytime and then group by ticker and then resample\n",
    "\n",
    "df = df.loc[~df.index.duplicated(keep='first')]\n",
    "\n",
    "df = df.reset_index()\n",
    "\n",
    "df.set_index('date_index', inplace=True)\n",
    "\n",
    "\n",
    "df = df.groupby('GVKEY').resample('MS', convention='start').ffill()\n",
    "\n",
    "df = df.reset_index(level=0, drop=True)\n",
    "\n",
    "\n",
    "df"
   ],
   "metadata": {
    "collapsed": false,
    "ExecuteTime": {
     "end_time": "2023-05-31T19:36:08.151155Z",
     "start_time": "2023-05-31T19:35:01.330361Z"
    }
   }
  },
  {
   "cell_type": "code",
   "execution_count": 87,
   "outputs": [
    {
     "data": {
      "text/plain": "               GVKEY   iid  tic        conm  divd     cshtrd   eps  \\\ndate_index                                                           \n2002-01-01       NaN   NaN  NaN         NaN   NaN        NaN   NaN   \n2002-02-01    1004.0   1.0  AIR    AAR CORP   NaN    97800.0 -1.60   \n2002-03-01    1004.0   1.0  AIR    AAR CORP   NaN    75300.0 -1.60   \n2002-04-01    1004.0   1.0  AIR    AAR CORP   NaN   144600.0 -1.87   \n2002-05-01    1004.0   1.0  AIR    AAR CORP   NaN   336800.0 -1.87   \n...              ...   ...  ...         ...   ...        ...   ...   \n2022-11-01  353444.0  90.0  HLN  HALEON PLC   NaN  7972730.0   NaN   \n2022-12-01  353444.0  90.0  HLN  HALEON PLC   NaN  7383578.0   NaN   \n2023-01-01  353444.0  90.0  HLN  HALEON PLC   NaN  3951061.0   NaN   \n2023-02-01  353444.0  90.0  HLN  HALEON PLC   NaN  5629606.0   NaN   \n2023-03-01  353444.0  90.0  HLN  HALEON PLC   NaN  2775820.0   NaN   \n\n                                                      busdesc      gind  \\\ndate_index                                                                \n2002-01-01                                                NaN       NaN   \n2002-02-01  AAR Corp. provides products and services to co...  201010.0   \n2002-03-01  AAR Corp. provides products and services to co...  201010.0   \n2002-04-01  AAR Corp. provides products and services to co...  201010.0   \n2002-05-01  AAR Corp. provides products and services to co...  201010.0   \n...                                                       ...       ...   \n2022-11-01  Haleon plc engages in the research and develop...  303020.0   \n2022-12-01  Haleon plc engages in the research and develop...  303020.0   \n2023-01-01  Haleon plc engages in the research and develop...  303020.0   \n2023-02-01  Haleon plc engages in the research and develop...  303020.0   \n2023-03-01  Haleon plc engages in the research and develop...  303020.0   \n\n            gsector     gsubind     sic  prcod    prchd    prcld  prccd  \\\ndate_index                                                                \n2002-01-01      NaN         NaN     NaN    NaN      NaN      NaN    NaN   \n2002-02-01     20.0  20101010.0  5080.0    NaN   8.6000   8.2300   8.45   \n2002-03-01     20.0  20101010.0  5080.0    NaN   7.4500   7.1500   7.44   \n2002-04-01     20.0  20101010.0  5080.0    NaN  11.2300  10.7500  11.00   \n2002-05-01     20.0  20101010.0  5080.0    NaN  12.7900  12.1500  12.60   \n...             ...         ...     ...    ...      ...      ...    ...   \n2022-11-01     30.0  30302010.0  2834.0   6.13   6.2400   6.0824   6.14   \n2022-12-01     30.0  30302010.0  2834.0   7.00   7.1888   6.9600   7.08   \n2023-01-01     30.0  30302010.0  2834.0   7.99   8.1200   7.9450   8.00   \n2023-02-01     30.0  30302010.0  2834.0   7.98   8.0100   7.8800   7.96   \n2023-03-01     30.0  30302010.0  2834.0   7.94   7.9900   7.9150   7.92   \n\n                 ret  \ndate_index            \n2002-01-01       NaN  \n2002-02-01       NaN  \n2002-03-01 -0.131227  \n2002-04-01  0.503497  \n2002-05-01  0.130233  \n...              ...  \n2022-11-01  0.008690  \n2022-12-01  0.144285  \n2023-01-01  0.141523  \n2023-02-01 -0.008181  \n2023-03-01  0.004442  \n\n[1549031 rows x 17 columns]",
      "text/html": "<div>\n<style scoped>\n    .dataframe tbody tr th:only-of-type {\n        vertical-align: middle;\n    }\n\n    .dataframe tbody tr th {\n        vertical-align: top;\n    }\n\n    .dataframe thead th {\n        text-align: right;\n    }\n</style>\n<table border=\"1\" class=\"dataframe\">\n  <thead>\n    <tr style=\"text-align: right;\">\n      <th></th>\n      <th>GVKEY</th>\n      <th>iid</th>\n      <th>tic</th>\n      <th>conm</th>\n      <th>divd</th>\n      <th>cshtrd</th>\n      <th>eps</th>\n      <th>busdesc</th>\n      <th>gind</th>\n      <th>gsector</th>\n      <th>gsubind</th>\n      <th>sic</th>\n      <th>prcod</th>\n      <th>prchd</th>\n      <th>prcld</th>\n      <th>prccd</th>\n      <th>ret</th>\n    </tr>\n    <tr>\n      <th>date_index</th>\n      <th></th>\n      <th></th>\n      <th></th>\n      <th></th>\n      <th></th>\n      <th></th>\n      <th></th>\n      <th></th>\n      <th></th>\n      <th></th>\n      <th></th>\n      <th></th>\n      <th></th>\n      <th></th>\n      <th></th>\n      <th></th>\n      <th></th>\n    </tr>\n  </thead>\n  <tbody>\n    <tr>\n      <th>2002-01-01</th>\n      <td>NaN</td>\n      <td>NaN</td>\n      <td>NaN</td>\n      <td>NaN</td>\n      <td>NaN</td>\n      <td>NaN</td>\n      <td>NaN</td>\n      <td>NaN</td>\n      <td>NaN</td>\n      <td>NaN</td>\n      <td>NaN</td>\n      <td>NaN</td>\n      <td>NaN</td>\n      <td>NaN</td>\n      <td>NaN</td>\n      <td>NaN</td>\n      <td>NaN</td>\n    </tr>\n    <tr>\n      <th>2002-02-01</th>\n      <td>1004.0</td>\n      <td>1.0</td>\n      <td>AIR</td>\n      <td>AAR CORP</td>\n      <td>NaN</td>\n      <td>97800.0</td>\n      <td>-1.60</td>\n      <td>AAR Corp. provides products and services to co...</td>\n      <td>201010.0</td>\n      <td>20.0</td>\n      <td>20101010.0</td>\n      <td>5080.0</td>\n      <td>NaN</td>\n      <td>8.6000</td>\n      <td>8.2300</td>\n      <td>8.45</td>\n      <td>NaN</td>\n    </tr>\n    <tr>\n      <th>2002-03-01</th>\n      <td>1004.0</td>\n      <td>1.0</td>\n      <td>AIR</td>\n      <td>AAR CORP</td>\n      <td>NaN</td>\n      <td>75300.0</td>\n      <td>-1.60</td>\n      <td>AAR Corp. provides products and services to co...</td>\n      <td>201010.0</td>\n      <td>20.0</td>\n      <td>20101010.0</td>\n      <td>5080.0</td>\n      <td>NaN</td>\n      <td>7.4500</td>\n      <td>7.1500</td>\n      <td>7.44</td>\n      <td>-0.131227</td>\n    </tr>\n    <tr>\n      <th>2002-04-01</th>\n      <td>1004.0</td>\n      <td>1.0</td>\n      <td>AIR</td>\n      <td>AAR CORP</td>\n      <td>NaN</td>\n      <td>144600.0</td>\n      <td>-1.87</td>\n      <td>AAR Corp. provides products and services to co...</td>\n      <td>201010.0</td>\n      <td>20.0</td>\n      <td>20101010.0</td>\n      <td>5080.0</td>\n      <td>NaN</td>\n      <td>11.2300</td>\n      <td>10.7500</td>\n      <td>11.00</td>\n      <td>0.503497</td>\n    </tr>\n    <tr>\n      <th>2002-05-01</th>\n      <td>1004.0</td>\n      <td>1.0</td>\n      <td>AIR</td>\n      <td>AAR CORP</td>\n      <td>NaN</td>\n      <td>336800.0</td>\n      <td>-1.87</td>\n      <td>AAR Corp. provides products and services to co...</td>\n      <td>201010.0</td>\n      <td>20.0</td>\n      <td>20101010.0</td>\n      <td>5080.0</td>\n      <td>NaN</td>\n      <td>12.7900</td>\n      <td>12.1500</td>\n      <td>12.60</td>\n      <td>0.130233</td>\n    </tr>\n    <tr>\n      <th>...</th>\n      <td>...</td>\n      <td>...</td>\n      <td>...</td>\n      <td>...</td>\n      <td>...</td>\n      <td>...</td>\n      <td>...</td>\n      <td>...</td>\n      <td>...</td>\n      <td>...</td>\n      <td>...</td>\n      <td>...</td>\n      <td>...</td>\n      <td>...</td>\n      <td>...</td>\n      <td>...</td>\n      <td>...</td>\n    </tr>\n    <tr>\n      <th>2022-11-01</th>\n      <td>353444.0</td>\n      <td>90.0</td>\n      <td>HLN</td>\n      <td>HALEON PLC</td>\n      <td>NaN</td>\n      <td>7972730.0</td>\n      <td>NaN</td>\n      <td>Haleon plc engages in the research and develop...</td>\n      <td>303020.0</td>\n      <td>30.0</td>\n      <td>30302010.0</td>\n      <td>2834.0</td>\n      <td>6.13</td>\n      <td>6.2400</td>\n      <td>6.0824</td>\n      <td>6.14</td>\n      <td>0.008690</td>\n    </tr>\n    <tr>\n      <th>2022-12-01</th>\n      <td>353444.0</td>\n      <td>90.0</td>\n      <td>HLN</td>\n      <td>HALEON PLC</td>\n      <td>NaN</td>\n      <td>7383578.0</td>\n      <td>NaN</td>\n      <td>Haleon plc engages in the research and develop...</td>\n      <td>303020.0</td>\n      <td>30.0</td>\n      <td>30302010.0</td>\n      <td>2834.0</td>\n      <td>7.00</td>\n      <td>7.1888</td>\n      <td>6.9600</td>\n      <td>7.08</td>\n      <td>0.144285</td>\n    </tr>\n    <tr>\n      <th>2023-01-01</th>\n      <td>353444.0</td>\n      <td>90.0</td>\n      <td>HLN</td>\n      <td>HALEON PLC</td>\n      <td>NaN</td>\n      <td>3951061.0</td>\n      <td>NaN</td>\n      <td>Haleon plc engages in the research and develop...</td>\n      <td>303020.0</td>\n      <td>30.0</td>\n      <td>30302010.0</td>\n      <td>2834.0</td>\n      <td>7.99</td>\n      <td>8.1200</td>\n      <td>7.9450</td>\n      <td>8.00</td>\n      <td>0.141523</td>\n    </tr>\n    <tr>\n      <th>2023-02-01</th>\n      <td>353444.0</td>\n      <td>90.0</td>\n      <td>HLN</td>\n      <td>HALEON PLC</td>\n      <td>NaN</td>\n      <td>5629606.0</td>\n      <td>NaN</td>\n      <td>Haleon plc engages in the research and develop...</td>\n      <td>303020.0</td>\n      <td>30.0</td>\n      <td>30302010.0</td>\n      <td>2834.0</td>\n      <td>7.98</td>\n      <td>8.0100</td>\n      <td>7.8800</td>\n      <td>7.96</td>\n      <td>-0.008181</td>\n    </tr>\n    <tr>\n      <th>2023-03-01</th>\n      <td>353444.0</td>\n      <td>90.0</td>\n      <td>HLN</td>\n      <td>HALEON PLC</td>\n      <td>NaN</td>\n      <td>2775820.0</td>\n      <td>NaN</td>\n      <td>Haleon plc engages in the research and develop...</td>\n      <td>303020.0</td>\n      <td>30.0</td>\n      <td>30302010.0</td>\n      <td>2834.0</td>\n      <td>7.94</td>\n      <td>7.9900</td>\n      <td>7.9150</td>\n      <td>7.92</td>\n      <td>0.004442</td>\n    </tr>\n  </tbody>\n</table>\n<p>1549031 rows × 17 columns</p>\n</div>"
     },
     "execution_count": 87,
     "metadata": {},
     "output_type": "execute_result"
    }
   ],
   "source": [
    "#creation of ret column\n",
    "#need to group by ticker, sort by date, then create percent change column\n",
    "df['ret'] = df['prcld'].pct_change()\n",
    "df"
   ],
   "metadata": {
    "collapsed": false,
    "ExecuteTime": {
     "end_time": "2023-05-31T19:37:15.060596Z",
     "start_time": "2023-05-31T19:37:15.034197Z"
    }
   }
  },
  {
   "cell_type": "code",
   "execution_count": 88,
   "outputs": [
    {
     "data": {
      "text/plain": "               GVKEY   iid  tic        conm  divd     cshtrd   eps  \\\ndate_index                                                           \n2002-01-01       NaN   NaN  NaN         NaN   NaN        NaN   NaN   \n2002-02-01    1004.0   1.0  AIR    AAR CORP   NaN    97800.0 -1.60   \n2002-03-01    1004.0   1.0  AIR    AAR CORP   NaN    75300.0 -1.60   \n2002-04-01    1004.0   1.0  AIR    AAR CORP   NaN   144600.0 -1.87   \n2002-05-01    1004.0   1.0  AIR    AAR CORP   NaN   336800.0 -1.87   \n...              ...   ...  ...         ...   ...        ...   ...   \n2022-11-01  353444.0  90.0  HLN  HALEON PLC   NaN  7972730.0   NaN   \n2022-12-01  353444.0  90.0  HLN  HALEON PLC   NaN  7383578.0   NaN   \n2023-01-01  353444.0  90.0  HLN  HALEON PLC   NaN  3951061.0   NaN   \n2023-02-01  353444.0  90.0  HLN  HALEON PLC   NaN  5629606.0   NaN   \n2023-03-01  353444.0  90.0  HLN  HALEON PLC   NaN  2775820.0   NaN   \n\n                                                      busdesc      gind  \\\ndate_index                                                                \n2002-01-01                                                NaN       NaN   \n2002-02-01  AAR Corp. provides products and services to co...  201010.0   \n2002-03-01  AAR Corp. provides products and services to co...  201010.0   \n2002-04-01  AAR Corp. provides products and services to co...  201010.0   \n2002-05-01  AAR Corp. provides products and services to co...  201010.0   \n...                                                       ...       ...   \n2022-11-01  Haleon plc engages in the research and develop...  303020.0   \n2022-12-01  Haleon plc engages in the research and develop...  303020.0   \n2023-01-01  Haleon plc engages in the research and develop...  303020.0   \n2023-02-01  Haleon plc engages in the research and develop...  303020.0   \n2023-03-01  Haleon plc engages in the research and develop...  303020.0   \n\n            gsector     gsubind     sic  prcod    prchd    prcld  prccd  \\\ndate_index                                                                \n2002-01-01      NaN         NaN     NaN    NaN      NaN      NaN    NaN   \n2002-02-01     20.0  20101010.0  5080.0    NaN   8.6000   8.2300   8.45   \n2002-03-01     20.0  20101010.0  5080.0    NaN   7.4500   7.1500   7.44   \n2002-04-01     20.0  20101010.0  5080.0    NaN  11.2300  10.7500  11.00   \n2002-05-01     20.0  20101010.0  5080.0    NaN  12.7900  12.1500  12.60   \n...             ...         ...     ...    ...      ...      ...    ...   \n2022-11-01     30.0  30302010.0  2834.0   6.13   6.2400   6.0824   6.14   \n2022-12-01     30.0  30302010.0  2834.0   7.00   7.1888   6.9600   7.08   \n2023-01-01     30.0  30302010.0  2834.0   7.99   8.1200   7.9450   8.00   \n2023-02-01     30.0  30302010.0  2834.0   7.98   8.0100   7.8800   7.96   \n2023-03-01     30.0  30302010.0  2834.0   7.94   7.9900   7.9150   7.92   \n\n                 ret  s_treversal  \ndate_index                         \n2002-01-01  0.000000     0.000000  \n2002-02-01  0.000000     0.000000  \n2002-03-01 -0.131227    -0.131227  \n2002-04-01  0.503497     0.503497  \n2002-05-01  0.130233     0.130233  \n...              ...          ...  \n2022-11-01  0.008690     0.008690  \n2022-12-01  0.144285     0.144285  \n2023-01-01  0.141523     0.141523  \n2023-02-01 -0.008181    -0.008181  \n2023-03-01  0.004442     0.004442  \n\n[1549031 rows x 18 columns]",
      "text/html": "<div>\n<style scoped>\n    .dataframe tbody tr th:only-of-type {\n        vertical-align: middle;\n    }\n\n    .dataframe tbody tr th {\n        vertical-align: top;\n    }\n\n    .dataframe thead th {\n        text-align: right;\n    }\n</style>\n<table border=\"1\" class=\"dataframe\">\n  <thead>\n    <tr style=\"text-align: right;\">\n      <th></th>\n      <th>GVKEY</th>\n      <th>iid</th>\n      <th>tic</th>\n      <th>conm</th>\n      <th>divd</th>\n      <th>cshtrd</th>\n      <th>eps</th>\n      <th>busdesc</th>\n      <th>gind</th>\n      <th>gsector</th>\n      <th>gsubind</th>\n      <th>sic</th>\n      <th>prcod</th>\n      <th>prchd</th>\n      <th>prcld</th>\n      <th>prccd</th>\n      <th>ret</th>\n      <th>s_treversal</th>\n    </tr>\n    <tr>\n      <th>date_index</th>\n      <th></th>\n      <th></th>\n      <th></th>\n      <th></th>\n      <th></th>\n      <th></th>\n      <th></th>\n      <th></th>\n      <th></th>\n      <th></th>\n      <th></th>\n      <th></th>\n      <th></th>\n      <th></th>\n      <th></th>\n      <th></th>\n      <th></th>\n      <th></th>\n    </tr>\n  </thead>\n  <tbody>\n    <tr>\n      <th>2002-01-01</th>\n      <td>NaN</td>\n      <td>NaN</td>\n      <td>NaN</td>\n      <td>NaN</td>\n      <td>NaN</td>\n      <td>NaN</td>\n      <td>NaN</td>\n      <td>NaN</td>\n      <td>NaN</td>\n      <td>NaN</td>\n      <td>NaN</td>\n      <td>NaN</td>\n      <td>NaN</td>\n      <td>NaN</td>\n      <td>NaN</td>\n      <td>NaN</td>\n      <td>0.000000</td>\n      <td>0.000000</td>\n    </tr>\n    <tr>\n      <th>2002-02-01</th>\n      <td>1004.0</td>\n      <td>1.0</td>\n      <td>AIR</td>\n      <td>AAR CORP</td>\n      <td>NaN</td>\n      <td>97800.0</td>\n      <td>-1.60</td>\n      <td>AAR Corp. provides products and services to co...</td>\n      <td>201010.0</td>\n      <td>20.0</td>\n      <td>20101010.0</td>\n      <td>5080.0</td>\n      <td>NaN</td>\n      <td>8.6000</td>\n      <td>8.2300</td>\n      <td>8.45</td>\n      <td>0.000000</td>\n      <td>0.000000</td>\n    </tr>\n    <tr>\n      <th>2002-03-01</th>\n      <td>1004.0</td>\n      <td>1.0</td>\n      <td>AIR</td>\n      <td>AAR CORP</td>\n      <td>NaN</td>\n      <td>75300.0</td>\n      <td>-1.60</td>\n      <td>AAR Corp. provides products and services to co...</td>\n      <td>201010.0</td>\n      <td>20.0</td>\n      <td>20101010.0</td>\n      <td>5080.0</td>\n      <td>NaN</td>\n      <td>7.4500</td>\n      <td>7.1500</td>\n      <td>7.44</td>\n      <td>-0.131227</td>\n      <td>-0.131227</td>\n    </tr>\n    <tr>\n      <th>2002-04-01</th>\n      <td>1004.0</td>\n      <td>1.0</td>\n      <td>AIR</td>\n      <td>AAR CORP</td>\n      <td>NaN</td>\n      <td>144600.0</td>\n      <td>-1.87</td>\n      <td>AAR Corp. provides products and services to co...</td>\n      <td>201010.0</td>\n      <td>20.0</td>\n      <td>20101010.0</td>\n      <td>5080.0</td>\n      <td>NaN</td>\n      <td>11.2300</td>\n      <td>10.7500</td>\n      <td>11.00</td>\n      <td>0.503497</td>\n      <td>0.503497</td>\n    </tr>\n    <tr>\n      <th>2002-05-01</th>\n      <td>1004.0</td>\n      <td>1.0</td>\n      <td>AIR</td>\n      <td>AAR CORP</td>\n      <td>NaN</td>\n      <td>336800.0</td>\n      <td>-1.87</td>\n      <td>AAR Corp. provides products and services to co...</td>\n      <td>201010.0</td>\n      <td>20.0</td>\n      <td>20101010.0</td>\n      <td>5080.0</td>\n      <td>NaN</td>\n      <td>12.7900</td>\n      <td>12.1500</td>\n      <td>12.60</td>\n      <td>0.130233</td>\n      <td>0.130233</td>\n    </tr>\n    <tr>\n      <th>...</th>\n      <td>...</td>\n      <td>...</td>\n      <td>...</td>\n      <td>...</td>\n      <td>...</td>\n      <td>...</td>\n      <td>...</td>\n      <td>...</td>\n      <td>...</td>\n      <td>...</td>\n      <td>...</td>\n      <td>...</td>\n      <td>...</td>\n      <td>...</td>\n      <td>...</td>\n      <td>...</td>\n      <td>...</td>\n      <td>...</td>\n    </tr>\n    <tr>\n      <th>2022-11-01</th>\n      <td>353444.0</td>\n      <td>90.0</td>\n      <td>HLN</td>\n      <td>HALEON PLC</td>\n      <td>NaN</td>\n      <td>7972730.0</td>\n      <td>NaN</td>\n      <td>Haleon plc engages in the research and develop...</td>\n      <td>303020.0</td>\n      <td>30.0</td>\n      <td>30302010.0</td>\n      <td>2834.0</td>\n      <td>6.13</td>\n      <td>6.2400</td>\n      <td>6.0824</td>\n      <td>6.14</td>\n      <td>0.008690</td>\n      <td>0.008690</td>\n    </tr>\n    <tr>\n      <th>2022-12-01</th>\n      <td>353444.0</td>\n      <td>90.0</td>\n      <td>HLN</td>\n      <td>HALEON PLC</td>\n      <td>NaN</td>\n      <td>7383578.0</td>\n      <td>NaN</td>\n      <td>Haleon plc engages in the research and develop...</td>\n      <td>303020.0</td>\n      <td>30.0</td>\n      <td>30302010.0</td>\n      <td>2834.0</td>\n      <td>7.00</td>\n      <td>7.1888</td>\n      <td>6.9600</td>\n      <td>7.08</td>\n      <td>0.144285</td>\n      <td>0.144285</td>\n    </tr>\n    <tr>\n      <th>2023-01-01</th>\n      <td>353444.0</td>\n      <td>90.0</td>\n      <td>HLN</td>\n      <td>HALEON PLC</td>\n      <td>NaN</td>\n      <td>3951061.0</td>\n      <td>NaN</td>\n      <td>Haleon plc engages in the research and develop...</td>\n      <td>303020.0</td>\n      <td>30.0</td>\n      <td>30302010.0</td>\n      <td>2834.0</td>\n      <td>7.99</td>\n      <td>8.1200</td>\n      <td>7.9450</td>\n      <td>8.00</td>\n      <td>0.141523</td>\n      <td>0.141523</td>\n    </tr>\n    <tr>\n      <th>2023-02-01</th>\n      <td>353444.0</td>\n      <td>90.0</td>\n      <td>HLN</td>\n      <td>HALEON PLC</td>\n      <td>NaN</td>\n      <td>5629606.0</td>\n      <td>NaN</td>\n      <td>Haleon plc engages in the research and develop...</td>\n      <td>303020.0</td>\n      <td>30.0</td>\n      <td>30302010.0</td>\n      <td>2834.0</td>\n      <td>7.98</td>\n      <td>8.0100</td>\n      <td>7.8800</td>\n      <td>7.96</td>\n      <td>-0.008181</td>\n      <td>-0.008181</td>\n    </tr>\n    <tr>\n      <th>2023-03-01</th>\n      <td>353444.0</td>\n      <td>90.0</td>\n      <td>HLN</td>\n      <td>HALEON PLC</td>\n      <td>NaN</td>\n      <td>2775820.0</td>\n      <td>NaN</td>\n      <td>Haleon plc engages in the research and develop...</td>\n      <td>303020.0</td>\n      <td>30.0</td>\n      <td>30302010.0</td>\n      <td>2834.0</td>\n      <td>7.94</td>\n      <td>7.9900</td>\n      <td>7.9150</td>\n      <td>7.92</td>\n      <td>0.004442</td>\n      <td>0.004442</td>\n    </tr>\n  </tbody>\n</table>\n<p>1549031 rows × 18 columns</p>\n</div>"
     },
     "execution_count": 88,
     "metadata": {},
     "output_type": "execute_result"
    }
   ],
   "source": [
    "# SIGNAL CONSTRUCTION\n",
    "df['ret'] = df['ret'].replace(np.nan, 0)\n",
    "df['s_treversal'] = df['ret']\n",
    "df"
   ],
   "metadata": {
    "collapsed": false,
    "ExecuteTime": {
     "end_time": "2023-05-31T19:37:21.407153Z",
     "start_time": "2023-05-31T19:37:21.375680Z"
    }
   }
  },
  {
   "cell_type": "code",
   "execution_count": 90,
   "outputs": [
    {
     "data": {
      "text/plain": "            s_treversal  tic\ndate_index                  \n2002-01-01     0.000000  NaN\n2002-02-01     0.000000  AIR\n2002-03-01    -0.131227  AIR\n2002-04-01     0.503497  AIR\n2002-05-01     0.130233  AIR\n...                 ...  ...\n2022-11-01     0.008690  HLN\n2022-12-01     0.144285  HLN\n2023-01-01     0.141523  HLN\n2023-02-01    -0.008181  HLN\n2023-03-01     0.004442  HLN\n\n[1549031 rows x 2 columns]",
      "text/html": "<div>\n<style scoped>\n    .dataframe tbody tr th:only-of-type {\n        vertical-align: middle;\n    }\n\n    .dataframe tbody tr th {\n        vertical-align: top;\n    }\n\n    .dataframe thead th {\n        text-align: right;\n    }\n</style>\n<table border=\"1\" class=\"dataframe\">\n  <thead>\n    <tr style=\"text-align: right;\">\n      <th></th>\n      <th>s_treversal</th>\n      <th>tic</th>\n    </tr>\n    <tr>\n      <th>date_index</th>\n      <th></th>\n      <th></th>\n    </tr>\n  </thead>\n  <tbody>\n    <tr>\n      <th>2002-01-01</th>\n      <td>0.000000</td>\n      <td>NaN</td>\n    </tr>\n    <tr>\n      <th>2002-02-01</th>\n      <td>0.000000</td>\n      <td>AIR</td>\n    </tr>\n    <tr>\n      <th>2002-03-01</th>\n      <td>-0.131227</td>\n      <td>AIR</td>\n    </tr>\n    <tr>\n      <th>2002-04-01</th>\n      <td>0.503497</td>\n      <td>AIR</td>\n    </tr>\n    <tr>\n      <th>2002-05-01</th>\n      <td>0.130233</td>\n      <td>AIR</td>\n    </tr>\n    <tr>\n      <th>...</th>\n      <td>...</td>\n      <td>...</td>\n    </tr>\n    <tr>\n      <th>2022-11-01</th>\n      <td>0.008690</td>\n      <td>HLN</td>\n    </tr>\n    <tr>\n      <th>2022-12-01</th>\n      <td>0.144285</td>\n      <td>HLN</td>\n    </tr>\n    <tr>\n      <th>2023-01-01</th>\n      <td>0.141523</td>\n      <td>HLN</td>\n    </tr>\n    <tr>\n      <th>2023-02-01</th>\n      <td>-0.008181</td>\n      <td>HLN</td>\n    </tr>\n    <tr>\n      <th>2023-03-01</th>\n      <td>0.004442</td>\n      <td>HLN</td>\n    </tr>\n  </tbody>\n</table>\n<p>1549031 rows × 2 columns</p>\n</div>"
     },
     "execution_count": 90,
     "metadata": {},
     "output_type": "execute_result"
    }
   ],
   "source": [
    "#constructing new df with only the needed columns for the factor\n",
    "df_final=df[['s_treversal', 'tic']]\n",
    "df_final"
   ],
   "metadata": {
    "collapsed": false,
    "ExecuteTime": {
     "end_time": "2023-05-31T19:37:51.772386Z",
     "start_time": "2023-05-31T19:37:51.693734Z"
    }
   }
  },
  {
   "cell_type": "code",
   "execution_count": 91,
   "outputs": [],
   "source": [
    "prices_data_dir = get_data_dir() / 'price'\n",
    "df_final.to_csv(prices_data_dir / 's_treversal_f.csv', index=False)"
   ],
   "metadata": {
    "collapsed": false,
    "ExecuteTime": {
     "end_time": "2023-05-31T19:38:02.694839Z",
     "start_time": "2023-05-31T19:38:01.022821Z"
    }
   }
  },
  {
   "cell_type": "code",
   "execution_count": null,
   "outputs": [],
   "source": [],
   "metadata": {
    "collapsed": false
   }
  }
 ],
 "metadata": {
  "kernelspec": {
   "display_name": "Python 3",
   "language": "python",
   "name": "python3"
  },
  "language_info": {
   "codemirror_mode": {
    "name": "ipython",
    "version": 2
   },
   "file_extension": ".py",
   "mimetype": "text/x-python",
   "name": "python",
   "nbconvert_exporter": "python",
   "pygments_lexer": "ipython2",
   "version": "2.7.6"
  }
 },
 "nbformat": 4,
 "nbformat_minor": 0
}
