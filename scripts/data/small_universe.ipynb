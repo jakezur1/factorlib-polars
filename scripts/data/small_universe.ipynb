{
 "cells": [
  {
   "cell_type": "code",
   "execution_count": null,
   "outputs": [],
   "source": [
    "import pandas as pd\n",
    "import polars as pl\n",
    "from datetime import datetime\n",
    "\n",
    "from factorlib.utils.system import get_data_dir"
   ],
   "metadata": {
    "collapsed": false
   }
  },
  {
   "cell_type": "code",
   "execution_count": 35,
   "outputs": [
    {
     "data": {
      "text/plain": "shape: (56_261_658, 7)\n┌────────┬─────────────────────┬───────┬───────┬────────┬────────┬────────────┐\n│ ticker ┆ date_index          ┆ open  ┆ high  ┆ low    ┆ close  ┆ vol        │\n│ ---    ┆ ---                 ┆ ---   ┆ ---   ┆ ---    ┆ ---    ┆ ---        │\n│ str    ┆ datetime[μs]        ┆ f64   ┆ f64   ┆ f64    ┆ f64    ┆ f64        │\n╞════════╪═════════════════════╪═══════╪═══════╪════════╪════════╪════════════╡\n│ AIR    ┆ 2011-12-09 00:00:00 ┆ 16.82 ┆ 17.44 ┆ 16.82  ┆ 17.27  ┆ 317485.0   │\n│ AIR    ┆ 2000-02-17 00:00:00 ┆ null  ┆ 28.5  ┆ 22.875 ┆ 26.875 ┆ 574500.0   │\n│ AIR    ┆ 2014-10-17 00:00:00 ┆ 24.5  ┆ 24.55 ┆ 24.03  ┆ 24.09  ┆ 373713.0   │\n│ AIR    ┆ 2018-04-09 00:00:00 ┆ 43.64 ┆ 43.68 ┆ 42.62  ┆ 42.69  ┆ 156637.0   │\n│ …      ┆ …                   ┆ …     ┆ …     ┆ …      ┆ …      ┆ …          │\n│ HLN    ┆ 2022-07-27 00:00:00 ┆ 7.51  ┆ 7.56  ┆ 7.23   ┆ 7.32   ┆ 1.500676e7 │\n│ HLN    ┆ 2022-07-26 00:00:00 ┆ 7.31  ┆ 7.41  ┆ 7.29   ┆ 7.35   ┆ 2.723529e7 │\n│ HLN    ┆ 2022-07-25 00:00:00 ┆ 7.41  ┆ 7.45  ┆ 7.16   ┆ 7.3    ┆ 1.934979e7 │\n│ HLN    ┆ 2022-07-22 00:00:00 ┆ 7.55  ┆ 7.65  ┆ 7.4    ┆ 7.41   ┆ 1.209343e7 │\n└────────┴─────────────────────┴───────┴───────┴────────┴────────┴────────────┘",
      "text/html": "<div><style>\n.dataframe > thead > tr > th,\n.dataframe > tbody > tr > td {\n  text-align: right;\n}\n</style>\n<small>shape: (56_261_658, 7)</small><table border=\"1\" class=\"dataframe\"><thead><tr><th>ticker</th><th>date_index</th><th>open</th><th>high</th><th>low</th><th>close</th><th>vol</th></tr><tr><td>str</td><td>datetime[μs]</td><td>f64</td><td>f64</td><td>f64</td><td>f64</td><td>f64</td></tr></thead><tbody><tr><td>&quot;AIR&quot;</td><td>2011-12-09 00:00:00</td><td>16.82</td><td>17.44</td><td>16.82</td><td>17.27</td><td>317485.0</td></tr><tr><td>&quot;AIR&quot;</td><td>2000-02-17 00:00:00</td><td>null</td><td>28.5</td><td>22.875</td><td>26.875</td><td>574500.0</td></tr><tr><td>&quot;AIR&quot;</td><td>2014-10-17 00:00:00</td><td>24.5</td><td>24.55</td><td>24.03</td><td>24.09</td><td>373713.0</td></tr><tr><td>&quot;AIR&quot;</td><td>2018-04-09 00:00:00</td><td>43.64</td><td>43.68</td><td>42.62</td><td>42.69</td><td>156637.0</td></tr><tr><td>&quot;AIR&quot;</td><td>2008-04-11 00:00:00</td><td>22.2</td><td>22.53</td><td>20.65</td><td>20.82</td><td>1.409566e6</td></tr><tr><td>&quot;AIR&quot;</td><td>1995-01-23 00:00:00</td><td>null</td><td>9.25</td><td>9.083333</td><td>9.25</td><td>26700.0</td></tr><tr><td>&quot;AIR&quot;</td><td>2012-05-03 00:00:00</td><td>15.13</td><td>15.32</td><td>15.1</td><td>15.11</td><td>266408.0</td></tr><tr><td>&quot;AIR&quot;</td><td>1990-06-19 00:00:00</td><td>null</td><td>13.0</td><td>12.666667</td><td>13.0</td><td>42700.0</td></tr><tr><td>&quot;AIR&quot;</td><td>2016-05-31 00:00:00</td><td>24.52</td><td>24.66</td><td>24.31</td><td>24.41</td><td>106061.0</td></tr><tr><td>&quot;AIR&quot;</td><td>1996-11-27 00:00:00</td><td>null</td><td>19.916667</td><td>19.75</td><td>19.833333</td><td>133100.0</td></tr><tr><td>&quot;AIR&quot;</td><td>2019-06-27 00:00:00</td><td>35.11</td><td>36.23</td><td>35.1</td><td>36.23</td><td>282535.0</td></tr><tr><td>&quot;AIR&quot;</td><td>2022-07-28 00:00:00</td><td>43.64</td><td>44.22</td><td>43.17</td><td>44.18</td><td>244231.0</td></tr><tr><td>&hellip;</td><td>&hellip;</td><td>&hellip;</td><td>&hellip;</td><td>&hellip;</td><td>&hellip;</td><td>&hellip;</td></tr><tr><td>&quot;HLN&quot;</td><td>2022-08-08 00:00:00</td><td>7.38</td><td>7.495</td><td>7.32</td><td>7.49</td><td>8.003678e6</td></tr><tr><td>&quot;HLN&quot;</td><td>2022-08-05 00:00:00</td><td>7.33</td><td>7.51</td><td>7.32</td><td>7.47</td><td>7.947168e6</td></tr><tr><td>&quot;HLN&quot;</td><td>2022-08-04 00:00:00</td><td>7.4</td><td>7.4</td><td>7.29</td><td>7.31</td><td>8.784473e6</td></tr><tr><td>&quot;HLN&quot;</td><td>2022-08-03 00:00:00</td><td>7.41</td><td>7.47</td><td>7.3</td><td>7.3</td><td>6.799236e6</td></tr><tr><td>&quot;HLN&quot;</td><td>2022-08-02 00:00:00</td><td>7.45</td><td>7.5588</td><td>7.35</td><td>7.4</td><td>6.512318e6</td></tr><tr><td>&quot;HLN&quot;</td><td>2022-08-01 00:00:00</td><td>7.15</td><td>7.41</td><td>7.13</td><td>7.37</td><td>7.488109e6</td></tr><tr><td>&quot;HLN&quot;</td><td>2022-07-29 00:00:00</td><td>6.92</td><td>7.08</td><td>6.89</td><td>7.03</td><td>9.559218e6</td></tr><tr><td>&quot;HLN&quot;</td><td>2022-07-28 00:00:00</td><td>7.2</td><td>7.24</td><td>6.97</td><td>7.0</td><td>1.527188e7</td></tr><tr><td>&quot;HLN&quot;</td><td>2022-07-27 00:00:00</td><td>7.51</td><td>7.56</td><td>7.23</td><td>7.32</td><td>1.500676e7</td></tr><tr><td>&quot;HLN&quot;</td><td>2022-07-26 00:00:00</td><td>7.31</td><td>7.41</td><td>7.29</td><td>7.35</td><td>2.723529e7</td></tr><tr><td>&quot;HLN&quot;</td><td>2022-07-25 00:00:00</td><td>7.41</td><td>7.45</td><td>7.16</td><td>7.3</td><td>1.934979e7</td></tr><tr><td>&quot;HLN&quot;</td><td>2022-07-22 00:00:00</td><td>7.55</td><td>7.65</td><td>7.4</td><td>7.41</td><td>1.209343e7</td></tr></tbody></table></div>"
     },
     "execution_count": 35,
     "metadata": {},
     "output_type": "execute_result"
    }
   ],
   "source": [
    "raw_data_dir = get_data_dir() / 'raw'\n",
    "ohclv = (\n",
    "    pl.scan_csv(raw_data_dir / 'ohclv_daily.csv', try_parse_dates=True)\n",
    "    .select(\n",
    "        pl.col('tic').alias('ticker'),\n",
    "        pl.col('datadate').cast(pl.Datetime).alias('date_index'),\n",
    "        (pl.col('prcod') / pl.col('ajexdi')).cast(pl.Float64).alias('open'),\n",
    "        (pl.col('prchd') / pl.col('ajexdi')).cast(pl.Float64).alias('high'),\n",
    "        (pl.col('prcld') / pl.col('ajexdi')).cast(pl.Float64).alias('low'),\n",
    "        (pl.col('prccd') / pl.col('ajexdi')).cast(pl.Float64).alias('close'),\n",
    "        pl.col('cshtrd').alias('vol')\n",
    "    )\n",
    "    .collect(streaming=True))\n",
    "ohclv"
   ],
   "metadata": {
    "collapsed": false
   }
  },
  {
   "cell_type": "code",
   "execution_count": 36,
   "outputs": [],
   "source": [
    "tickers = [\"OPRA\", \"SMCI\", \"LMB\", \"MLTX\", \"YPF\", \"CABA\", \"WEAV\", \"ELF\", \"EDN\", \"ACLS\", \"INTT\", \"ETNB\", \"CIR\", \"RCL\", \"NVDA\", \"DAKT\", \"TCMD\", \"DMAC\", \"IMVT\", \"MMMB\", \"ENIC\", \"WFRD\", \"IPDN\", \"STRL\", \"RMBS\", \"MOD\", \"NGL\", \"TDW\", \"TAYD\", \"VIST\", \"EXTR\", \"SYM\", \"CCL\", \"CMT\", \"CBAY\", \"TGLS\", \"BELFB\", \"VECT\", \"AEHR\", \"CUK\", \"UFPT\", \"AUGX\", \"ISEE\", \"TAST\", \"COCO\", \"VRT\", \"BWMN\", \"ONCY\", \"BLDR\", \"ODC\", \"ATEC\", \"NVTS\", \"RMTI\", \"AVDL\", \"IRS\", \"DFH\", \"CVRX\", \"PEN\", \"TGS\", \"GRBK\", \"PLPC\", \"SKYW\", \"USAP\", \"ACVA\", \"RETA\", \"BTBT\", \"TROO\", \"POWL\", \"PPSI\", \"FTI\", \"DO\", \"SGML\", \"GGAL\", \"PCYG\", \"NETI\", \"TRHC\", \"ARDX\", \"STVN\", \"NFLX\", \"INTA\", \"MORF\", \"RXST\", \"HGBL\", \"GE\", \"BZH\", \"BBAR\", \"PESI\", \"RIG\", \"NU\", \"TK\", \"JBL\", \"ERO\", \"SMHI\", \"IRON\", \"EVLV\", \"GENI\", \"ELTK\", \"ENVX\", \"META\", \"NCLH\"]"
   ],
   "metadata": {
    "collapsed": false
   }
  },
  {
   "cell_type": "code",
   "execution_count": 40,
   "outputs": [],
   "source": [
    "ohclv_filtered = ohclv.lazy().filter(pl.col('ticker').is_in(tickers)).collect(streaming=True)\n",
    "ohclv_filtered = ohclv_filtered.lazy().filter(pl.col('date_index') > datetime(2005, 1, 1)).collect(streaming=True)\n",
    "ohclv_filtered = ohclv_filtered.to_pandas()\n",
    "ohclv_filtered.set_index('date_index').to_csv(raw_data_dir / 'small_universe_ohclv.csv')"
   ],
   "metadata": {
    "collapsed": false
   }
  },
  {
   "cell_type": "code",
   "execution_count": 54,
   "outputs": [
    {
     "data": {
      "text/plain": "                              ticker date_index   open    high      low  \\\n1970-01-01 00:00:00.000000000  BELFB 2023-06-06  51.62  55.390  51.6200   \n1970-01-01 00:00:00.000000001  BELFB 2023-06-02  51.00  52.690  50.5300   \n1970-01-01 00:00:00.000000002  BELFB 2023-06-01  49.37  50.530  49.0000   \n1970-01-01 00:00:00.000000003  BELFB 2023-05-31  49.35  49.490  47.9752   \n1970-01-01 00:00:00.000000004  BELFB 2023-05-26  48.17  49.780  47.9750   \n...                              ...        ...    ...     ...      ...   \n1970-01-01 00:00:00.000269213   VIST 2020-01-24   8.01   8.010   7.5200   \n1970-01-01 00:00:00.000269214   VIST 2019-10-14   5.69   5.710   5.4000   \n1970-01-01 00:00:00.000269215   VIST 2020-01-09   7.88   7.910   7.6200   \n1970-01-01 00:00:00.000269216   VIST 2020-07-02   3.05   3.230   3.0500   \n1970-01-01 00:00:00.000269217   VIST 2020-06-29   3.03   3.165   2.9200   \n\n                               close       vol       ret  \n1970-01-01 00:00:00.000000000  55.39  195255.0  0.069099  \n1970-01-01 00:00:00.000000001  52.60  176159.0  0.044272  \n1970-01-01 00:00:00.000000002  50.37  123219.0  0.023989  \n1970-01-01 00:00:00.000000003  49.19  119064.0 -0.003646  \n1970-01-01 00:00:00.000000004  49.35  190291.0  0.028982  \n...                              ...       ...       ...  \n1970-01-01 00:00:00.000269213   7.80   71710.0 -0.035847  \n1970-01-01 00:00:00.000269214   5.45   74308.0 -0.053819  \n1970-01-01 00:00:00.000269215   7.80   89185.0 -0.016393  \n1970-01-01 00:00:00.000269216   3.13   22830.0  0.009677  \n1970-01-01 00:00:00.000269217   3.03  129083.0 -0.009804  \n\n[269218 rows x 8 columns]",
      "text/html": "<div>\n<style scoped>\n    .dataframe tbody tr th:only-of-type {\n        vertical-align: middle;\n    }\n\n    .dataframe tbody tr th {\n        vertical-align: top;\n    }\n\n    .dataframe thead th {\n        text-align: right;\n    }\n</style>\n<table border=\"1\" class=\"dataframe\">\n  <thead>\n    <tr style=\"text-align: right;\">\n      <th></th>\n      <th>ticker</th>\n      <th>date_index</th>\n      <th>open</th>\n      <th>high</th>\n      <th>low</th>\n      <th>close</th>\n      <th>vol</th>\n      <th>ret</th>\n    </tr>\n  </thead>\n  <tbody>\n    <tr>\n      <th>1970-01-01 00:00:00.000000000</th>\n      <td>BELFB</td>\n      <td>2023-06-06</td>\n      <td>51.62</td>\n      <td>55.390</td>\n      <td>51.6200</td>\n      <td>55.39</td>\n      <td>195255.0</td>\n      <td>0.069099</td>\n    </tr>\n    <tr>\n      <th>1970-01-01 00:00:00.000000001</th>\n      <td>BELFB</td>\n      <td>2023-06-02</td>\n      <td>51.00</td>\n      <td>52.690</td>\n      <td>50.5300</td>\n      <td>52.60</td>\n      <td>176159.0</td>\n      <td>0.044272</td>\n    </tr>\n    <tr>\n      <th>1970-01-01 00:00:00.000000002</th>\n      <td>BELFB</td>\n      <td>2023-06-01</td>\n      <td>49.37</td>\n      <td>50.530</td>\n      <td>49.0000</td>\n      <td>50.37</td>\n      <td>123219.0</td>\n      <td>0.023989</td>\n    </tr>\n    <tr>\n      <th>1970-01-01 00:00:00.000000003</th>\n      <td>BELFB</td>\n      <td>2023-05-31</td>\n      <td>49.35</td>\n      <td>49.490</td>\n      <td>47.9752</td>\n      <td>49.19</td>\n      <td>119064.0</td>\n      <td>-0.003646</td>\n    </tr>\n    <tr>\n      <th>1970-01-01 00:00:00.000000004</th>\n      <td>BELFB</td>\n      <td>2023-05-26</td>\n      <td>48.17</td>\n      <td>49.780</td>\n      <td>47.9750</td>\n      <td>49.35</td>\n      <td>190291.0</td>\n      <td>0.028982</td>\n    </tr>\n    <tr>\n      <th>...</th>\n      <td>...</td>\n      <td>...</td>\n      <td>...</td>\n      <td>...</td>\n      <td>...</td>\n      <td>...</td>\n      <td>...</td>\n      <td>...</td>\n    </tr>\n    <tr>\n      <th>1970-01-01 00:00:00.000269213</th>\n      <td>VIST</td>\n      <td>2020-01-24</td>\n      <td>8.01</td>\n      <td>8.010</td>\n      <td>7.5200</td>\n      <td>7.80</td>\n      <td>71710.0</td>\n      <td>-0.035847</td>\n    </tr>\n    <tr>\n      <th>1970-01-01 00:00:00.000269214</th>\n      <td>VIST</td>\n      <td>2019-10-14</td>\n      <td>5.69</td>\n      <td>5.710</td>\n      <td>5.4000</td>\n      <td>5.45</td>\n      <td>74308.0</td>\n      <td>-0.053819</td>\n    </tr>\n    <tr>\n      <th>1970-01-01 00:00:00.000269215</th>\n      <td>VIST</td>\n      <td>2020-01-09</td>\n      <td>7.88</td>\n      <td>7.910</td>\n      <td>7.6200</td>\n      <td>7.80</td>\n      <td>89185.0</td>\n      <td>-0.016393</td>\n    </tr>\n    <tr>\n      <th>1970-01-01 00:00:00.000269216</th>\n      <td>VIST</td>\n      <td>2020-07-02</td>\n      <td>3.05</td>\n      <td>3.230</td>\n      <td>3.0500</td>\n      <td>3.13</td>\n      <td>22830.0</td>\n      <td>0.009677</td>\n    </tr>\n    <tr>\n      <th>1970-01-01 00:00:00.000269217</th>\n      <td>VIST</td>\n      <td>2020-06-29</td>\n      <td>3.03</td>\n      <td>3.165</td>\n      <td>2.9200</td>\n      <td>3.03</td>\n      <td>129083.0</td>\n      <td>-0.009804</td>\n    </tr>\n  </tbody>\n</table>\n<p>269218 rows × 8 columns</p>\n</div>"
     },
     "execution_count": 54,
     "metadata": {},
     "output_type": "execute_result"
    }
   ],
   "source": [
    "with_returns = ohclv_filtered\n",
    "with_returns['ret'] = ohclv_filtered.sort_values(['ticker', 'date_index']).groupby('ticker')['close'].pct_change()\n",
    "with_returns"
   ],
   "metadata": {
    "collapsed": false
   }
  },
  {
   "cell_type": "code",
   "execution_count": 55,
   "outputs": [
    {
     "data": {
      "text/plain": "ticker          ACLS      ACVA      AEHR      ARDX      ATEC      AUGX  \\\ndate_index                                                               \n2005-01-03       NaN       NaN       NaN       NaN       NaN       NaN   \n2005-01-04 -0.063371       NaN  0.010127       NaN       NaN       NaN   \n2005-01-05 -0.058187       NaN -0.110276       NaN       NaN       NaN   \n2005-01-06 -0.002874       NaN  0.008169       NaN       NaN       NaN   \n2005-01-07 -0.021614       NaN -0.019279       NaN       NaN       NaN   \n...              ...       ...       ...       ...       ...       ...   \n2023-06-01  0.028816  0.000000  0.166869  0.047904  0.010554  0.029730   \n2023-06-02  0.001666  0.025822  0.073449  0.005714  0.002611  0.091864   \n2023-06-05  0.002895  0.013158 -0.010155  0.031250  0.001953 -0.033654   \n2023-06-06  0.013880  0.016375  0.038837  0.027548 -0.003249  0.009950   \n2023-06-07       NaN       NaN       NaN       NaN       NaN       NaN   \n\nticker          AVDL      BBAR     BELFB      BLDR  ...      TRHC      TROO  \\\ndate_index                                          ...                       \n2005-01-03       NaN       NaN       NaN       NaN  ...       NaN       NaN   \n2005-01-04 -0.002545 -0.005690 -0.061343       NaN  ...       NaN       NaN   \n2005-01-05 -0.050000 -0.034335 -0.013255       NaN  ...       NaN       NaN   \n2005-01-06  0.021482  0.000000  0.005936       NaN  ...       NaN       NaN   \n2005-01-07  0.016824  0.013333 -0.013975       NaN  ...       NaN       NaN   \n...              ...       ...       ...       ...  ...       ...       ...   \n2023-06-01  0.010830  0.036530  0.023989 -0.000776  ...  0.024482  0.035191   \n2023-06-02  0.007143 -0.006608  0.044272  0.026843  ...  0.023897  0.002805   \n2023-06-05  0.021277  0.035477 -0.015019  0.011431  ...  0.046679 -0.045171   \n2023-06-06  0.030556  0.122056  0.069099  0.029835  ...  0.032590 -0.029586   \n2023-06-07       NaN       NaN       NaN       NaN  ...       NaN       NaN   \n\nticker          UFPT      USAP      VECT      VIST       VRT      WEAV  \\\ndate_index                                                               \n2005-01-03       NaN       NaN       NaN       NaN       NaN       NaN   \n2005-01-04  0.000000 -0.002016       NaN       NaN       NaN       NaN   \n2005-01-05 -0.024324 -0.057239       NaN       NaN       NaN       NaN   \n2005-01-06 -0.000277  0.003571       NaN       NaN       NaN       NaN   \n2005-01-07 -0.030202 -0.002776       NaN       NaN       NaN       NaN   \n...              ...       ...       ...       ...       ...       ...   \n2023-06-01  0.024769 -0.018122  0.000000  0.041122  0.005181 -0.008951   \n2023-06-02  0.008835  0.000000  0.001208  0.006041  0.020619 -0.010323   \n2023-06-05  0.010071  0.030201  0.001811  0.017090  0.013636  0.005215   \n2023-06-06  0.008856 -0.018730  0.000000  0.025886 -0.003488 -0.001297   \n2023-06-07       NaN       NaN       NaN       NaN       NaN       NaN   \n\nticker          WFRD       YPF  \ndate_index                      \n2005-01-03       NaN       NaN  \n2005-01-04       NaN -0.003460  \n2005-01-05       NaN  0.001852  \n2005-01-06       NaN  0.007625  \n2005-01-07       NaN -0.000229  \n...              ...       ...  \n2023-06-01  0.050850  0.028207  \n2023-06-02  0.056820  0.015929  \n2023-06-05  0.008456  0.021777  \n2023-06-06 -0.011707  0.062234  \n2023-06-07       NaN       NaN  \n\n[4808 rows x 100 columns]",
      "text/html": "<div>\n<style scoped>\n    .dataframe tbody tr th:only-of-type {\n        vertical-align: middle;\n    }\n\n    .dataframe tbody tr th {\n        vertical-align: top;\n    }\n\n    .dataframe thead th {\n        text-align: right;\n    }\n</style>\n<table border=\"1\" class=\"dataframe\">\n  <thead>\n    <tr style=\"text-align: right;\">\n      <th>ticker</th>\n      <th>ACLS</th>\n      <th>ACVA</th>\n      <th>AEHR</th>\n      <th>ARDX</th>\n      <th>ATEC</th>\n      <th>AUGX</th>\n      <th>AVDL</th>\n      <th>BBAR</th>\n      <th>BELFB</th>\n      <th>BLDR</th>\n      <th>...</th>\n      <th>TRHC</th>\n      <th>TROO</th>\n      <th>UFPT</th>\n      <th>USAP</th>\n      <th>VECT</th>\n      <th>VIST</th>\n      <th>VRT</th>\n      <th>WEAV</th>\n      <th>WFRD</th>\n      <th>YPF</th>\n    </tr>\n    <tr>\n      <th>date_index</th>\n      <th></th>\n      <th></th>\n      <th></th>\n      <th></th>\n      <th></th>\n      <th></th>\n      <th></th>\n      <th></th>\n      <th></th>\n      <th></th>\n      <th></th>\n      <th></th>\n      <th></th>\n      <th></th>\n      <th></th>\n      <th></th>\n      <th></th>\n      <th></th>\n      <th></th>\n      <th></th>\n      <th></th>\n    </tr>\n  </thead>\n  <tbody>\n    <tr>\n      <th>2005-01-03</th>\n      <td>NaN</td>\n      <td>NaN</td>\n      <td>NaN</td>\n      <td>NaN</td>\n      <td>NaN</td>\n      <td>NaN</td>\n      <td>NaN</td>\n      <td>NaN</td>\n      <td>NaN</td>\n      <td>NaN</td>\n      <td>...</td>\n      <td>NaN</td>\n      <td>NaN</td>\n      <td>NaN</td>\n      <td>NaN</td>\n      <td>NaN</td>\n      <td>NaN</td>\n      <td>NaN</td>\n      <td>NaN</td>\n      <td>NaN</td>\n      <td>NaN</td>\n    </tr>\n    <tr>\n      <th>2005-01-04</th>\n      <td>-0.063371</td>\n      <td>NaN</td>\n      <td>0.010127</td>\n      <td>NaN</td>\n      <td>NaN</td>\n      <td>NaN</td>\n      <td>-0.002545</td>\n      <td>-0.005690</td>\n      <td>-0.061343</td>\n      <td>NaN</td>\n      <td>...</td>\n      <td>NaN</td>\n      <td>NaN</td>\n      <td>0.000000</td>\n      <td>-0.002016</td>\n      <td>NaN</td>\n      <td>NaN</td>\n      <td>NaN</td>\n      <td>NaN</td>\n      <td>NaN</td>\n      <td>-0.003460</td>\n    </tr>\n    <tr>\n      <th>2005-01-05</th>\n      <td>-0.058187</td>\n      <td>NaN</td>\n      <td>-0.110276</td>\n      <td>NaN</td>\n      <td>NaN</td>\n      <td>NaN</td>\n      <td>-0.050000</td>\n      <td>-0.034335</td>\n      <td>-0.013255</td>\n      <td>NaN</td>\n      <td>...</td>\n      <td>NaN</td>\n      <td>NaN</td>\n      <td>-0.024324</td>\n      <td>-0.057239</td>\n      <td>NaN</td>\n      <td>NaN</td>\n      <td>NaN</td>\n      <td>NaN</td>\n      <td>NaN</td>\n      <td>0.001852</td>\n    </tr>\n    <tr>\n      <th>2005-01-06</th>\n      <td>-0.002874</td>\n      <td>NaN</td>\n      <td>0.008169</td>\n      <td>NaN</td>\n      <td>NaN</td>\n      <td>NaN</td>\n      <td>0.021482</td>\n      <td>0.000000</td>\n      <td>0.005936</td>\n      <td>NaN</td>\n      <td>...</td>\n      <td>NaN</td>\n      <td>NaN</td>\n      <td>-0.000277</td>\n      <td>0.003571</td>\n      <td>NaN</td>\n      <td>NaN</td>\n      <td>NaN</td>\n      <td>NaN</td>\n      <td>NaN</td>\n      <td>0.007625</td>\n    </tr>\n    <tr>\n      <th>2005-01-07</th>\n      <td>-0.021614</td>\n      <td>NaN</td>\n      <td>-0.019279</td>\n      <td>NaN</td>\n      <td>NaN</td>\n      <td>NaN</td>\n      <td>0.016824</td>\n      <td>0.013333</td>\n      <td>-0.013975</td>\n      <td>NaN</td>\n      <td>...</td>\n      <td>NaN</td>\n      <td>NaN</td>\n      <td>-0.030202</td>\n      <td>-0.002776</td>\n      <td>NaN</td>\n      <td>NaN</td>\n      <td>NaN</td>\n      <td>NaN</td>\n      <td>NaN</td>\n      <td>-0.000229</td>\n    </tr>\n    <tr>\n      <th>...</th>\n      <td>...</td>\n      <td>...</td>\n      <td>...</td>\n      <td>...</td>\n      <td>...</td>\n      <td>...</td>\n      <td>...</td>\n      <td>...</td>\n      <td>...</td>\n      <td>...</td>\n      <td>...</td>\n      <td>...</td>\n      <td>...</td>\n      <td>...</td>\n      <td>...</td>\n      <td>...</td>\n      <td>...</td>\n      <td>...</td>\n      <td>...</td>\n      <td>...</td>\n      <td>...</td>\n    </tr>\n    <tr>\n      <th>2023-06-01</th>\n      <td>0.028816</td>\n      <td>0.000000</td>\n      <td>0.166869</td>\n      <td>0.047904</td>\n      <td>0.010554</td>\n      <td>0.029730</td>\n      <td>0.010830</td>\n      <td>0.036530</td>\n      <td>0.023989</td>\n      <td>-0.000776</td>\n      <td>...</td>\n      <td>0.024482</td>\n      <td>0.035191</td>\n      <td>0.024769</td>\n      <td>-0.018122</td>\n      <td>0.000000</td>\n      <td>0.041122</td>\n      <td>0.005181</td>\n      <td>-0.008951</td>\n      <td>0.050850</td>\n      <td>0.028207</td>\n    </tr>\n    <tr>\n      <th>2023-06-02</th>\n      <td>0.001666</td>\n      <td>0.025822</td>\n      <td>0.073449</td>\n      <td>0.005714</td>\n      <td>0.002611</td>\n      <td>0.091864</td>\n      <td>0.007143</td>\n      <td>-0.006608</td>\n      <td>0.044272</td>\n      <td>0.026843</td>\n      <td>...</td>\n      <td>0.023897</td>\n      <td>0.002805</td>\n      <td>0.008835</td>\n      <td>0.000000</td>\n      <td>0.001208</td>\n      <td>0.006041</td>\n      <td>0.020619</td>\n      <td>-0.010323</td>\n      <td>0.056820</td>\n      <td>0.015929</td>\n    </tr>\n    <tr>\n      <th>2023-06-05</th>\n      <td>0.002895</td>\n      <td>0.013158</td>\n      <td>-0.010155</td>\n      <td>0.031250</td>\n      <td>0.001953</td>\n      <td>-0.033654</td>\n      <td>0.021277</td>\n      <td>0.035477</td>\n      <td>-0.015019</td>\n      <td>0.011431</td>\n      <td>...</td>\n      <td>0.046679</td>\n      <td>-0.045171</td>\n      <td>0.010071</td>\n      <td>0.030201</td>\n      <td>0.001811</td>\n      <td>0.017090</td>\n      <td>0.013636</td>\n      <td>0.005215</td>\n      <td>0.008456</td>\n      <td>0.021777</td>\n    </tr>\n    <tr>\n      <th>2023-06-06</th>\n      <td>0.013880</td>\n      <td>0.016375</td>\n      <td>0.038837</td>\n      <td>0.027548</td>\n      <td>-0.003249</td>\n      <td>0.009950</td>\n      <td>0.030556</td>\n      <td>0.122056</td>\n      <td>0.069099</td>\n      <td>0.029835</td>\n      <td>...</td>\n      <td>0.032590</td>\n      <td>-0.029586</td>\n      <td>0.008856</td>\n      <td>-0.018730</td>\n      <td>0.000000</td>\n      <td>0.025886</td>\n      <td>-0.003488</td>\n      <td>-0.001297</td>\n      <td>-0.011707</td>\n      <td>0.062234</td>\n    </tr>\n    <tr>\n      <th>2023-06-07</th>\n      <td>NaN</td>\n      <td>NaN</td>\n      <td>NaN</td>\n      <td>NaN</td>\n      <td>NaN</td>\n      <td>NaN</td>\n      <td>NaN</td>\n      <td>NaN</td>\n      <td>NaN</td>\n      <td>NaN</td>\n      <td>...</td>\n      <td>NaN</td>\n      <td>NaN</td>\n      <td>NaN</td>\n      <td>NaN</td>\n      <td>NaN</td>\n      <td>NaN</td>\n      <td>NaN</td>\n      <td>NaN</td>\n      <td>NaN</td>\n      <td>NaN</td>\n    </tr>\n  </tbody>\n</table>\n<p>4808 rows × 100 columns</p>\n</div>"
     },
     "execution_count": 55,
     "metadata": {},
     "output_type": "execute_result"
    }
   ],
   "source": [
    "returns_unstacked = with_returns.set_index(['date_index', 'ticker'])['ret'].unstack()\n",
    "returns_unstacked.index = pd.to_datetime(returns_unstacked.index)\n",
    "returns_unstacked = returns_unstacked.resample('B').first()\n",
    "returns_unstacked"
   ],
   "metadata": {
    "collapsed": false
   }
  },
  {
   "cell_type": "code",
   "execution_count": 56,
   "outputs": [],
   "source": [
    "returns_unstacked.to_csv(raw_data_dir / 'small_universe_returns.csv')"
   ],
   "metadata": {
    "collapsed": false
   }
  },
  {
   "cell_type": "code",
   "execution_count": null,
   "outputs": [],
   "source": [],
   "metadata": {
    "collapsed": false
   }
  }
 ],
 "metadata": {
  "kernelspec": {
   "name": "venv",
   "language": "python",
   "display_name": "venv"
  },
  "language_info": {
   "codemirror_mode": {
    "name": "ipython",
    "version": 2
   },
   "file_extension": ".py",
   "mimetype": "text/x-python",
   "name": "python",
   "nbconvert_exporter": "python",
   "pygments_lexer": "ipython2",
   "version": "2.7.6"
  }
 },
 "nbformat": 4,
 "nbformat_minor": 0
}
