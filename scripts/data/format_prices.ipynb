{
 "cells": [
  {
   "cell_type": "code",
   "execution_count": 6,
   "metadata": {
    "collapsed": true
   },
   "outputs": [],
   "source": [
    "import pandas as pd\n",
    "import polars as pl\n",
    "import yfinance as yf\n",
    "from datetime import datetime\n",
    "\n",
    "from factorlib.utils.system import get_data_dir"
   ]
  },
  {
   "cell_type": "code",
   "execution_count": 7,
   "outputs": [
    {
     "data": {
      "text/plain": "['AAME',\n 'AAON',\n 'AATC',\n 'AB',\n 'ABC',\n 'ABCB',\n 'ABM',\n 'ABMD',\n 'ABT',\n 'ACFN',\n 'ACGL',\n 'ACIW',\n 'ACU',\n 'ACUR',\n 'ADBE',\n 'ADC',\n 'ADM',\n 'ADP',\n 'ADSK',\n 'ADTN',\n 'AE',\n 'AEE',\n 'AEGN',\n 'AEIS',\n 'AEM',\n 'AEO',\n 'AEP',\n 'AES',\n 'AET',\n 'AEY',\n 'AFAM',\n 'AFG',\n 'AFL',\n 'AGCO',\n 'AGM',\n 'AGX',\n 'AGYS',\n 'AIG',\n 'AIN',\n 'AIR',\n 'AIRT',\n 'AIT',\n 'AIV',\n 'AJG',\n 'AJRD',\n 'AKR',\n 'AKRXQ',\n 'ALB',\n 'ALCO',\n 'ALE',\n 'ALG',\n 'ALJJ',\n 'ALK',\n 'ALKS',\n 'ALL',\n 'ALOG',\n 'ALOT',\n 'ALX',\n 'AMAG',\n 'AME',\n 'AMED',\n 'AMGN',\n 'AMOT',\n 'AMRN',\n 'AMS',\n 'AMSC',\n 'AMSWA',\n 'AMWD',\n 'AN',\n 'ANDE',\n 'ANIK',\n 'ANIX',\n 'AON',\n 'AOS',\n 'AP',\n 'APA',\n 'APD',\n 'APH',\n 'ARCB',\n 'ARGO',\n 'AROW',\n 'ARTNA',\n 'ARTW',\n 'ARW',\n 'ASB',\n 'ASGN',\n 'ASH',\n 'ASML',\n 'ASRV',\n 'ASTC',\n 'ASTE',\n 'ASUR',\n 'ASYS',\n 'ATGE',\n 'ATI',\n 'ATNI',\n 'ATO',\n 'ATR',\n 'ATRI',\n 'ATRO',\n 'AUB',\n 'AUBN',\n 'AVA',\n 'AVB',\n 'AVD',\n 'AVDL',\n 'AVID',\n 'AWR',\n 'AXAS',\n 'AXE',\n 'AXP',\n 'AXR',\n 'AZN',\n 'AZO',\n 'AZPN',\n 'AZZ',\n 'B',\n 'BA',\n 'BAC',\n 'BANF',\n 'BANR',\n 'BAP',\n 'BAX',\n 'BBAR',\n 'BBSI',\n 'BBVA',\n 'BC',\n 'BCE',\n 'BCO',\n 'BCPC',\n 'BCRX',\n 'BDC',\n 'BDL',\n 'BDN',\n 'BDX',\n 'BELFA',\n 'BEN',\n 'BFS',\n 'BH',\n 'BHC',\n 'BHE',\n 'BIIB',\n 'BIO',\n 'BIOL',\n 'BK',\n 'BKE',\n 'BKH',\n 'BKSC',\n 'BKTI',\n 'BLDP',\n 'BLFS',\n 'BLX',\n 'BMI',\n 'BMRA',\n 'BMS',\n 'BMTC',\n 'BMY',\n 'BN',\n 'BNSO',\n 'BOH',\n 'BOKF',\n 'BOOM',\n 'BP',\n 'BPFH',\n 'BPOP',\n 'BPT',\n 'BPYU',\n 'BRC',\n 'BRID',\n 'BRN',\n 'BRO',\n 'BRT',\n 'BSTC',\n 'BSX',\n 'BVN',\n 'BWA',\n 'BXMT',\n 'BYD',\n 'BYFC',\n 'BZH',\n 'C',\n 'CA',\n 'CAA',\n 'CACC',\n 'CACI',\n 'CAH',\n 'CAKE',\n 'CAMP',\n 'CAR',\n 'CARV',\n 'CASH',\n 'CASY',\n 'CAT',\n 'CATO',\n 'CATY',\n 'CB',\n 'CBB',\n 'CBLAQ',\n 'CBRL',\n 'CBSH',\n 'CBT',\n 'CBU',\n 'CBZ',\n 'CCEP',\n 'CCF',\n 'CCJ',\n 'CCK',\n 'CCL',\n 'CCRD',\n 'CCUR',\n 'CDE',\n 'CDMO',\n 'CDNS',\n 'CDOR',\n 'CDR',\n 'CDZI',\n 'CECO',\n 'CENX',\n 'CERN',\n 'CFNB',\n 'CFR',\n 'CGNX',\n 'CHCO',\n 'CHD',\n 'CHDN',\n 'CHE',\n 'CI',\n 'CIA',\n 'CINF',\n 'CKH',\n 'CL',\n 'CLB',\n 'CLF',\n 'CLFD',\n 'CLGX',\n 'CLH',\n 'CLRO',\n 'CLX',\n 'CMA',\n 'CMC',\n 'CMCL',\n 'CMCO',\n 'CMCSA',\n 'CMD',\n 'CMI',\n 'CMO',\n 'CMS',\n 'CMT',\n 'CMTL',\n 'CNA',\n 'CNBKA',\n 'CNMD',\n 'CNP',\n 'CNR',\n 'CNTY',\n 'COF',\n 'COHR',\n 'COKE',\n 'COO',\n 'COP',\n 'COST',\n 'CPE',\n 'CPF',\n 'CPHC',\n 'CPK',\n 'CPRT',\n 'CPSS',\n 'CPT',\n 'CR',\n 'CRMT',\n 'CRS',\n 'CRT',\n 'CRVL',\n 'CSCO',\n 'CSGS',\n 'CSL',\n 'CSPI',\n 'CSWC',\n 'CSX',\n 'CTAS',\n 'CTB',\n 'CTBI',\n 'CTG',\n 'CTO',\n 'CTRA',\n 'CTS',\n 'CUB',\n 'CUZ',\n 'CVA',\n 'CVBF',\n 'CVLG',\n 'CVM',\n 'CVR',\n 'CVS',\n 'CVU',\n 'CVX',\n 'CW',\n 'CWCO',\n 'CWT',\n 'CYAN',\n 'CYBE',\n 'D',\n 'DAIO',\n 'DCI',\n 'DCO',\n 'DD',\n 'DDD',\n 'DDS',\n 'DE',\n 'DECK',\n 'DENN',\n 'DGICB',\n 'DGII',\n 'DHI',\n 'DHR',\n 'DIN',\n 'DINO',\n 'DIOD',\n 'DIS',\n 'DISH',\n 'DIT',\n 'DJCO',\n 'DLHC',\n 'DLX',\n 'DOV',\n 'DRE',\n 'DSPG',\n 'DTE',\n 'DVA',\n 'DVCR',\n 'DWSN',\n 'DX',\n 'DXR',\n 'DYNT',\n 'EA',\n 'EAT',\n 'EBF',\n 'EBIX',\n 'ECL',\n 'ECOL',\n 'ED',\n 'EDUC',\n 'EFOI',\n 'EFX',\n 'EGP',\n 'EGY',\n 'EHC',\n 'EIX',\n 'EL',\n 'ELA',\n 'ELLO',\n 'ELME',\n 'ELS',\n 'ELSE',\n 'EME',\n 'EMN',\n 'EMR',\n 'ENB',\n 'ENZ',\n 'ENZN',\n 'EOG',\n 'EPAC',\n 'EPM',\n 'EQC',\n 'EQR',\n 'EQS',\n 'EQT',\n 'ERIE',\n 'ES',\n 'ESBK',\n 'ESCA',\n 'ESE',\n 'ESIO',\n 'ESND',\n 'ESP',\n 'ESS',\n 'ETD',\n 'ETR',\n 'EV',\n 'EVI',\n 'EXP',\n 'EXPD',\n 'EXPO',\n 'EZPW',\n 'F',\n 'FARM',\n 'FAST',\n 'FBNC',\n 'FBP',\n 'FC',\n 'FCEL',\n 'FCF',\n 'FCFS',\n 'FCN',\n 'FCNCA',\n 'FCX',\n 'FE',\n 'FEIM',\n 'FELE',\n 'FFBC',\n 'FFIC',\n 'FFIN',\n 'FFKT',\n 'FGH',\n 'FHN',\n 'FICO',\n 'FITB',\n 'FLEX',\n 'FLIC',\n 'FLL',\n 'FLS',\n 'FLXS',\n 'FMBI',\n 'FMC',\n 'FNB',\n 'FOE',\n 'FONR',\n 'FORD',\n 'FR',\n 'FRBK',\n 'FRD',\n 'FRME',\n 'FRPH',\n 'FRT',\n 'FSS',\n 'FSTR',\n 'FULT',\n 'FUN',\n 'FUNC',\n 'FWRD',\n 'GABC',\n 'GATX',\n 'GBCI',\n 'GBR',\n 'GBX',\n 'GD',\n 'GE',\n 'GEF',\n 'GEN',\n 'GENC',\n 'GEO',\n 'GFF',\n 'GFI',\n 'GGG',\n 'GHM',\n 'GIC',\n 'GIII',\n 'GILD',\n 'GL',\n 'GLT',\n 'GLW',\n 'GNTX',\n 'GPC',\n 'GPX',\n 'GRC',\n 'GSBC',\n 'GSK',\n 'GSS',\n 'GT',\n 'GTBP',\n 'GTIM',\n 'GTMAY',\n 'GTY',\n 'GURE',\n 'GV',\n 'GVA',\n 'GVP',\n 'GWW',\n 'GYRO',\n 'HA',\n 'HAL',\n 'HALL',\n 'HBAN',\n 'HBNC',\n 'HCSG',\n 'HDSN',\n 'HE',\n 'HEI',\n 'HELE',\n 'HES',\n 'HGBL',\n 'HHS',\n 'HIFS',\n 'HIG',\n 'HIW',\n 'HL',\n 'HLIT',\n 'HMC',\n 'HMG',\n 'HMN',\n 'HMNF',\n 'HMSY',\n 'HNGR',\n 'HOG',\n 'HON',\n 'HOV',\n 'HP',\n 'HPQ',\n 'HRB',\n 'HRTX',\n 'HSC',\n 'HSY',\n 'HTLD',\n 'HUBB',\n 'HUBG',\n 'HUM',\n 'HURC',\n 'HVT',\n 'HWC',\n 'HXL',\n 'IART',\n 'IBCP',\n 'IBM',\n 'ICAD',\n 'ICCC',\n 'ICON',\n 'ICUI',\n 'IDA',\n 'IDCC',\n 'IDXX',\n 'IEP',\n 'IEX',\n 'IFF',\n 'IHC',\n 'IHT',\n 'IIN',\n 'IMAX',\n 'IMBI',\n 'IMGN',\n 'IMKTA',\n 'IMMU',\n 'INCY',\n 'INDB',\n 'INOD',\n 'INT',\n 'INTG',\n 'INTU',\n 'IONS',\n 'IOR',\n 'IP',\n 'IPAR',\n 'IPG',\n 'IRIX',\n 'IRM',\n 'ISIG',\n 'IT',\n 'ITI',\n 'ITIC',\n 'ITRI',\n 'ITT',\n 'ITW',\n 'J',\n 'JAKK',\n 'JBHT',\n 'JBL',\n 'JBSS',\n 'JCI',\n 'JCS',\n 'JEF',\n 'JKHY',\n 'JOB',\n 'JOE',\n 'JOUT',\n 'JPM',\n 'KAMN',\n 'KBAL',\n 'KBH',\n 'KCLI',\n 'KEQU',\n 'KEX',\n 'KEY',\n 'KFRC',\n 'KGC',\n 'KIM',\n 'KLAC',\n 'KMB',\n 'KMPR',\n 'KMT',\n 'KNX',\n 'KO',\n 'KOSS',\n 'KSU',\n 'KUBTY',\n 'KVHI',\n 'KWR',\n 'L',\n 'LAKE',\n 'LANC',\n 'LARK',\n 'LCII',\n 'LCTX',\n 'LCUT',\n 'LDL',\n 'LECO',\n 'LEG',\n 'LEN',\n 'LFCR',\n 'LGL',\n 'LGND',\n 'LH',\n 'LHX',\n 'LINK',\n 'LIVN',\n 'LJPC',\n 'LLY',\n 'LM',\n 'LMT',\n 'LNC',\n 'LNCE',\n 'LNN',\n 'LNT',\n 'LNW',\n 'LOW',\n 'LPTH',\n 'LPX',\n 'LSI',\n 'LTC',\n 'LUB',\n 'LUMN',\n 'LUV',\n 'LWAY',\n 'LXP',\n 'LXU',\n 'LYTS',\n 'MAA',\n 'MAC',\n 'MAN',\n 'MARPS',\n 'MAS',\n 'MAT',\n 'MATV',\n 'MATW',\n 'MATX',\n 'MAYS',\n 'MBI',\n 'MCD',\n 'MCHP',\n 'MCK',\n 'MCRI',\n 'MCS',\n 'MCY',\n 'MD',\n 'MDC',\n 'MDP',\n 'MDT',\n 'MDU',\n 'MED',\n 'MFIN',\n 'MGA',\n 'MGEE',\n 'MGIC',\n 'MGM',\n 'MGPI',\n 'MGRC',\n 'MHK',\n 'MHO',\n 'MICR',\n 'MIND',\n 'MITK',\n 'MKC',\n 'MLAB',\n 'MLI',\n 'MLM',\n 'MLP',\n 'MLR',\n 'MLSS',\n 'MMC',\n 'MMM',\n 'MMSI',\n 'MNR',\n 'MNST',\n 'MO',\n 'MOD',\n 'MODG',\n 'MOV',\n 'MPAA',\n 'MPVDF',\n 'MRK',\n 'MRO',\n 'MRTN',\n 'MS',\n 'MSA',\n 'MSB',\n 'MSEX',\n 'MSFT',\n 'MSI',\n 'MSN',\n 'MSON',\n 'MTB',\n 'MTCH',\n 'MTG',\n 'MTH',\n 'MTR',\n 'MTRN',\n 'MTRX',\n 'MTW',\n 'MTX',\n 'MTZ',\n 'MU',\n 'MUR',\n 'MUX',\n 'MYE',\n 'MYGN',\n 'NAII',\n 'NASB',\n 'NATI',\n 'NATR',\n 'NAV',\n 'NAVB',\n 'NBIX',\n 'NBL',\n 'NBN',\n 'NBR',\n 'NBTB',\n 'NC',\n 'NCR',\n 'NDSN',\n 'NEE',\n 'NEN',\n 'NEOG',\n 'NFG',\n 'NHC',\n 'NHI',\n 'NHTC',\n 'NICE',\n 'NJR',\n 'NKE',\n 'NKTR',\n 'NL',\n 'NNBR',\n 'NNN',\n 'NPK',\n 'NR',\n 'NRIM',\n 'NRT',\n 'NSC',\n 'NSEC',\n 'NSIT',\n 'NSSC',\n 'NSYS',\n 'NTAP',\n 'NTIC',\n 'NTR',\n 'NTRS',\n 'NTZ',\n 'NUE',\n 'NVAX',\n 'NVR',\n 'NWBI',\n 'NWL',\n 'NWLI',\n 'NWN',\n 'NWPX',\n 'NXGN',\n 'NYCB',\n 'NYT',\n 'O',\n 'OBCI',\n 'OCC',\n 'ODC',\n 'ODFL',\n 'OFC',\n 'OFG',\n 'OFIX',\n 'OGE',\n 'OI',\n 'OII',\n 'OKE',\n 'OLED',\n 'OLN',\n 'OLP',\n 'OMC',\n 'OMI',\n 'ONB',\n 'OPK',\n 'OPY',\n 'ORCL',\n 'ORI',\n 'ORLY',\n 'OSBC',\n 'OSK',\n 'OSUR',\n 'OTTR',\n 'OVBC',\n 'OXY',\n 'PAAS',\n 'PAR',\n 'PATK',\n 'PAYX',\n 'PBI',\n 'PBT',\n 'PCAR',\n 'PCG',\n 'PCH',\n 'PCYO',\n 'PDCE',\n 'PDEX',\n 'PEAK',\n 'PEBK',\n 'PEBO',\n 'PEG',\n 'PENN',\n 'PESI',\n 'PFC',\n 'PFE',\n 'PFIN',\n 'PG',\n 'PGR',\n 'PH',\n 'PHG',\n 'PHM',\n 'PHX',\n 'PII',\n 'PKOH',\n 'PLAB',\n 'PLD',\n 'PMD',\n 'PNC',\n 'PNM',\n 'PNR',\n 'PNRG',\n 'PNW',\n 'POOL',\n 'POPE',\n 'POWL',\n 'PPG',\n 'PPIH',\n 'PPL',\n 'PRA',\n 'PRCP',\n 'PRG',\n 'PRGO',\n 'PRGS',\n 'PRK',\n 'PRKR',\n 'PSA',\n 'PSB',\n 'PTC',\n 'PTEN',\n 'PTSI',\n 'PTVCB',\n 'PXD',\n 'QCRH',\n 'QDEL',\n 'QUMU',\n 'R',\n 'RAMP',\n 'RAVN',\n 'RCKY',\n 'RCMT',\n 'RDN',\n 'RE',\n 'REFR',\n 'REG',\n 'REGN',\n 'RES',\n 'REVRQ',\n 'REX',\n 'RGA',\n 'RGCO',\n 'RGEN',\n 'RGLD',\n 'RGR',\n 'RGS',\n 'RHI',\n 'RHP',\n 'RICK',\n 'RIG',\n 'RJF',\n 'RLI',\n 'RMD',\n 'RNR',\n 'RNST',\n 'ROCK',\n 'ROG',\n 'ROK',\n 'ROL',\n 'ROP',\n 'RPM',\n 'RPT',\n 'RRC',\n 'RRD',\n 'RRX',\n 'RS',\n 'RTX',\n 'RUSHB',\n 'RVSB',\n 'RVTY',\n 'RWT',\n 'RY',\n 'RYN',\n 'SAFM',\n 'SASR',\n 'SBCF',\n 'SBGI',\n 'SBR',\n 'SCCO',\n 'SCHL',\n 'SCHN',\n 'SCHW',\n 'SCI',\n 'SCKT',\n 'SCL',\n 'SCSC',\n 'SCWO',\n 'SCX',\n 'SEB',\n 'SEE',\n 'SEIC',\n 'SENEA',\n 'SF',\n 'SFE',\n 'SFNC',\n 'SGA',\n 'SGC',\n 'SGMA',\n 'SGU',\n 'SHLM',\n 'SHOO',\n 'SHW',\n 'SHYF',\n 'SIEB',\n 'SIF',\n 'SIGI',\n 'SIRI',\n 'SITC',\n 'SJI',\n 'SJM',\n 'SJT',\n 'SJW',\n 'SKT',\n 'SKYW',\n 'SLB',\n 'SLNH',\n 'SM',\n 'SMBC',\n 'SMG',\n 'SMID',\n 'SMIT',\n 'SMP',\n 'SMSI',\n 'SMTC',\n 'SNEX',\n 'SNFCA',\n 'SNGX',\n 'SNPS',\n 'SNV',\n 'SO',\n 'SON',\n 'SONC',\n 'SONY',\n 'SOTK',\n 'SPB',\n 'SPG',\n 'SPGI',\n 'SPNS',\n 'SPNX',\n 'SPXC',\n 'SR',\n 'SRCE',\n 'SSD',\n 'SSL',\n 'SSP',\n 'SSY',\n 'SSYS',\n 'STAA',\n 'STAR',\n 'STBA',\n 'STC',\n 'STCN',\n 'STE',\n 'STFC',\n 'STRL',\n 'STRM',\n 'STRS',\n 'STT',\n 'STZ',\n 'SU',\n 'SUI',\n 'SUP',\n 'SVC',\n 'SVT',\n 'SVU',\n 'SWKS',\n 'SWN',\n 'SWX',\n 'SXI',\n 'SXT',\n 'SYBT',\n 'SYK',\n 'SYPR',\n 'T',\n 'TAIT',\n 'TAYD',\n 'TCBK',\n 'TCF',\n 'TCI',\n 'TCX',\n 'TECD',\n 'TECH',\n ...]"
     },
     "execution_count": 7,
     "metadata": {},
     "output_type": "execute_result"
    }
   ],
   "source": [
    "raw_data_dir = get_data_dir() / 'raw'\n",
    "tickers = pl.scan_csv(raw_data_dir / 'tickers_to_train.csv').collect(streaming=True).to_series().to_list()\n",
    "tickers"
   ],
   "metadata": {
    "collapsed": false
   }
  },
  {
   "cell_type": "code",
   "execution_count": 9,
   "outputs": [
    {
     "name": "stdout",
     "output_type": "stream",
     "text": [
      "[*********************100%***********************]  1152 of 1152 completed\n",
      "\n",
      "79 Failed downloads:\n",
      "- LDL: No timezone found, symbol may be delisted\n",
      "- PSB: No timezone found, symbol may be delisted\n",
      "- HNGR: No timezone found, symbol may be delisted\n",
      "- IMMU: No timezone found, symbol may be delisted\n",
      "- JCS: No timezone found, symbol may be delisted\n",
      "- CKH: No timezone found, symbol may be delisted\n",
      "- CTB: No timezone found, symbol may be delisted\n",
      "- POPE: No timezone found, symbol may be delisted\n",
      "- DVCR: No timezone found, symbol may be delisted\n",
      "- ECOL: No data found, symbol may be delisted\n",
      "- LUB: No timezone found, symbol may be delisted\n",
      "- SJI: No data found, symbol may be delisted\n",
      "- TREC: No timezone found, symbol may be delisted\n",
      "- GV: No timezone found, symbol may be delisted\n",
      "- BPFH: No timezone found, symbol may be delisted\n",
      "- CMD: No timezone found, symbol may be delisted\n",
      "- NBL: No timezone found, symbol may be delisted\n",
      "- STFC: No timezone found, symbol may be delisted\n",
      "- IIN: No timezone found, symbol may be delisted\n",
      "- CDOR: No timezone found, symbol may be delisted\n",
      "- DSPG: No timezone found, symbol may be delisted\n",
      "- TGA: No timezone found, symbol may be delisted\n",
      "- SPNX: No timezone found, symbol may be delisted\n",
      "- IHC: No timezone found, symbol may be delisted\n",
      "- TEN: No data found, symbol may be delisted\n",
      "- RRD: No timezone found, symbol may be delisted\n",
      "- HMSY: No timezone found, symbol may be delisted\n",
      "- CVA: No timezone found, symbol may be delisted\n",
      "- FOE: No timezone found, symbol may be delisted\n",
      "- CBB: No timezone found, symbol may be delisted\n",
      "- NSEC: No timezone found, symbol may be delisted\n",
      "- VAR: No timezone found, symbol may be delisted\n",
      "- CNBKA: No timezone found, symbol may be delisted\n",
      "- PTVCB: No timezone found, symbol may be delisted\n",
      "- OBCI: No timezone found, symbol may be delisted\n",
      "- CERN: No timezone found, symbol may be delisted\n",
      "- QUMU: No timezone found, symbol may be delisted\n",
      "- MSON: No timezone found, symbol may be delisted\n",
      "- HMG: No timezone found, symbol may be delisted\n",
      "- VALPQ: No timezone found, symbol may be delisted\n",
      "- CMO: No timezone found, symbol may be delisted\n",
      "- CDR: No timezone found, symbol may be delisted\n",
      "- TECD: No timezone found, symbol may be delisted\n",
      "- MNR: No timezone found, symbol may be delisted\n",
      "- ICON: No timezone found, symbol may be delisted\n",
      "- CBLAQ: No timezone found, symbol may be delisted\n",
      "- NAV: No timezone found, symbol may be delisted\n",
      "- DRE: No data found, symbol may be delisted\n",
      "- LJPC: No timezone found, symbol may be delisted\n",
      "- KSU: No timezone found, symbol may be delisted\n",
      "- EV: No timezone found, symbol may be delisted\n",
      "- CYBE: No timezone found, symbol may be delisted\n",
      "- TCF: No timezone found, symbol may be delisted\n",
      "- GPX: No timezone found, symbol may be delisted\n",
      "- USAK: No timezone found, symbol may be delisted\n",
      "- ESBK: No timezone found, symbol may be delisted\n",
      "- AMAG: No timezone found, symbol may be delisted\n",
      "- WRI: No timezone found, symbol may be delisted\n",
      "- PRCP: No timezone found, symbol may be delisted\n",
      "- CNR: No timezone found, symbol may be delisted\n",
      "- BSTC: No timezone found, symbol may be delisted\n",
      "- WBK: No timezone found, symbol may be delisted\n",
      "- BPYU: No timezone found, symbol may be delisted\n",
      "- RAVN: No timezone found, symbol may be delisted\n",
      "- STAR: No data found, symbol may be delisted\n",
      "- FMBI: No timezone found, symbol may be delisted\n",
      "- LM: No timezone found, symbol may be delisted\n",
      "- CUB: No timezone found, symbol may be delisted\n",
      "- BMTC: No timezone found, symbol may be delisted\n",
      "- TIF: No timezone found, symbol may be delisted\n",
      "- TVTY: No timezone found, symbol may be delisted\n",
      "- SAFM: No timezone found, symbol may be delisted\n",
      "- AXE: No timezone found, symbol may be delisted\n",
      "- AKRXQ: No timezone found, symbol may be delisted\n",
      "- VIVO: No data found, symbol may be delisted\n",
      "- ZIXI: No timezone found, symbol may be delisted\n",
      "- Y: No timezone found, symbol may be delisted\n",
      "- CLGX: No timezone found, symbol may be delisted\n",
      "- AEGN: No timezone found, symbol may be delisted\n"
     ]
    },
    {
     "data": {
      "text/plain": "1152"
     },
     "execution_count": 9,
     "metadata": {},
     "output_type": "execute_result"
    }
   ],
   "source": [
    "prices = yf.download(tickers,'1990-1-1')['Adj Close']"
   ],
   "metadata": {
    "collapsed": false
   }
  },
  {
   "cell_type": "code",
   "execution_count": 20,
   "outputs": [
    {
     "data": {
      "text/plain": "     date_index      AAME      AAON      AATC        AB       ABC      ABCB  \\\n0    1990-01-02       NaN       NaN       NaN       NaN       NaN       NaN   \n1    1990-01-03  0.000000       NaN       NaN  0.048780       NaN       NaN   \n2    1990-01-04  0.000000       NaN       NaN -0.007751       NaN       NaN   \n3    1990-01-05 -0.050000       NaN       NaN  0.000000       NaN       NaN   \n4    1990-01-08  0.000000       NaN       NaN  0.000000       NaN       NaN   \n...         ...       ...       ...       ...       ...       ...       ...   \n8428 2023-06-15  0.000000 -0.007928  0.000000  0.010889  0.015861  0.015468   \n8429 2023-06-16  0.022831  0.020778  0.000000 -0.025910  0.006158 -0.003667   \n8430 2023-06-20 -0.062500  0.012944  0.009324 -0.021219  0.008087 -0.018120   \n8431 2023-06-21  0.000000  0.031018 -0.011547 -0.008550  0.007263 -0.017013   \n8432 2023-06-22 -0.028571 -0.028286  0.028037 -0.013243  0.010978 -0.023174   \n\n           ABM      ABMD       ABT  ...      XCRA       XOM      XOMA  \\\n0          NaN       NaN       NaN  ...       NaN       NaN       NaN   \n1     0.011194 -0.010638  0.003610  ...  0.000000 -0.010000  0.058201   \n2    -0.022141 -0.032258 -0.001799  ... -0.023810 -0.010101  0.040000   \n3     0.000000  0.022222 -0.010810  ...  0.121951 -0.005102 -0.019231   \n4    -0.004256  0.000000  0.005126  ...  0.000000  0.015384  0.019608   \n...        ...       ...       ...  ...       ...       ...       ...   \n8428 -0.004185  0.000000  0.017143  ...  0.000000  0.006942 -0.001746   \n8429 -0.011207  0.000000  0.011236  ...  0.000000 -0.007177 -0.002915   \n8430 -0.022196  0.000000  0.004708  ...  0.000000 -0.022924  0.092982   \n8431  0.006037  0.000000 -0.004217  ...  0.000000  0.011195 -0.006421   \n8432 -0.015122  0.000000  0.018824  ...  0.000000 -0.005488  0.042003   \n\n          XRAY   Y      YELL      ZBRA      ZEUS      ZION  ZIXI  \n0          NaN NaN       NaN       NaN       NaN       NaN   NaN  \n1     0.000000 NaN  0.009217       NaN       NaN  0.017856   NaN  \n2    -0.040000 NaN -0.018265       NaN       NaN  0.000000   NaN  \n3     0.062500 NaN -0.013954       NaN       NaN  0.000000   NaN  \n4    -0.039216 NaN -0.009434       NaN       NaN  0.000000   NaN  \n...        ...  ..       ...       ...       ...       ...   ...  \n8428  0.008670 NaN  0.047059  0.014873 -0.004761  0.032787   NaN  \n8429  0.034905 NaN -0.028090 -0.007556 -0.011959 -0.012077   NaN  \n8430 -0.012837 NaN -0.167630 -0.017174  0.024208 -0.027244   NaN  \n8431 -0.006374 NaN -0.090278 -0.024032 -0.001934  0.003591   NaN  \n8432 -0.002053 NaN  0.022901 -0.010964 -0.009903 -0.035063   NaN  \n\n[8433 rows x 1153 columns]",
      "text/html": "<div>\n<style scoped>\n    .dataframe tbody tr th:only-of-type {\n        vertical-align: middle;\n    }\n\n    .dataframe tbody tr th {\n        vertical-align: top;\n    }\n\n    .dataframe thead th {\n        text-align: right;\n    }\n</style>\n<table border=\"1\" class=\"dataframe\">\n  <thead>\n    <tr style=\"text-align: right;\">\n      <th></th>\n      <th>date_index</th>\n      <th>AAME</th>\n      <th>AAON</th>\n      <th>AATC</th>\n      <th>AB</th>\n      <th>ABC</th>\n      <th>ABCB</th>\n      <th>ABM</th>\n      <th>ABMD</th>\n      <th>ABT</th>\n      <th>...</th>\n      <th>XCRA</th>\n      <th>XOM</th>\n      <th>XOMA</th>\n      <th>XRAY</th>\n      <th>Y</th>\n      <th>YELL</th>\n      <th>ZBRA</th>\n      <th>ZEUS</th>\n      <th>ZION</th>\n      <th>ZIXI</th>\n    </tr>\n  </thead>\n  <tbody>\n    <tr>\n      <th>0</th>\n      <td>1990-01-02</td>\n      <td>NaN</td>\n      <td>NaN</td>\n      <td>NaN</td>\n      <td>NaN</td>\n      <td>NaN</td>\n      <td>NaN</td>\n      <td>NaN</td>\n      <td>NaN</td>\n      <td>NaN</td>\n      <td>...</td>\n      <td>NaN</td>\n      <td>NaN</td>\n      <td>NaN</td>\n      <td>NaN</td>\n      <td>NaN</td>\n      <td>NaN</td>\n      <td>NaN</td>\n      <td>NaN</td>\n      <td>NaN</td>\n      <td>NaN</td>\n    </tr>\n    <tr>\n      <th>1</th>\n      <td>1990-01-03</td>\n      <td>0.000000</td>\n      <td>NaN</td>\n      <td>NaN</td>\n      <td>0.048780</td>\n      <td>NaN</td>\n      <td>NaN</td>\n      <td>0.011194</td>\n      <td>-0.010638</td>\n      <td>0.003610</td>\n      <td>...</td>\n      <td>0.000000</td>\n      <td>-0.010000</td>\n      <td>0.058201</td>\n      <td>0.000000</td>\n      <td>NaN</td>\n      <td>0.009217</td>\n      <td>NaN</td>\n      <td>NaN</td>\n      <td>0.017856</td>\n      <td>NaN</td>\n    </tr>\n    <tr>\n      <th>2</th>\n      <td>1990-01-04</td>\n      <td>0.000000</td>\n      <td>NaN</td>\n      <td>NaN</td>\n      <td>-0.007751</td>\n      <td>NaN</td>\n      <td>NaN</td>\n      <td>-0.022141</td>\n      <td>-0.032258</td>\n      <td>-0.001799</td>\n      <td>...</td>\n      <td>-0.023810</td>\n      <td>-0.010101</td>\n      <td>0.040000</td>\n      <td>-0.040000</td>\n      <td>NaN</td>\n      <td>-0.018265</td>\n      <td>NaN</td>\n      <td>NaN</td>\n      <td>0.000000</td>\n      <td>NaN</td>\n    </tr>\n    <tr>\n      <th>3</th>\n      <td>1990-01-05</td>\n      <td>-0.050000</td>\n      <td>NaN</td>\n      <td>NaN</td>\n      <td>0.000000</td>\n      <td>NaN</td>\n      <td>NaN</td>\n      <td>0.000000</td>\n      <td>0.022222</td>\n      <td>-0.010810</td>\n      <td>...</td>\n      <td>0.121951</td>\n      <td>-0.005102</td>\n      <td>-0.019231</td>\n      <td>0.062500</td>\n      <td>NaN</td>\n      <td>-0.013954</td>\n      <td>NaN</td>\n      <td>NaN</td>\n      <td>0.000000</td>\n      <td>NaN</td>\n    </tr>\n    <tr>\n      <th>4</th>\n      <td>1990-01-08</td>\n      <td>0.000000</td>\n      <td>NaN</td>\n      <td>NaN</td>\n      <td>0.000000</td>\n      <td>NaN</td>\n      <td>NaN</td>\n      <td>-0.004256</td>\n      <td>0.000000</td>\n      <td>0.005126</td>\n      <td>...</td>\n      <td>0.000000</td>\n      <td>0.015384</td>\n      <td>0.019608</td>\n      <td>-0.039216</td>\n      <td>NaN</td>\n      <td>-0.009434</td>\n      <td>NaN</td>\n      <td>NaN</td>\n      <td>0.000000</td>\n      <td>NaN</td>\n    </tr>\n    <tr>\n      <th>...</th>\n      <td>...</td>\n      <td>...</td>\n      <td>...</td>\n      <td>...</td>\n      <td>...</td>\n      <td>...</td>\n      <td>...</td>\n      <td>...</td>\n      <td>...</td>\n      <td>...</td>\n      <td>...</td>\n      <td>...</td>\n      <td>...</td>\n      <td>...</td>\n      <td>...</td>\n      <td>...</td>\n      <td>...</td>\n      <td>...</td>\n      <td>...</td>\n      <td>...</td>\n      <td>...</td>\n    </tr>\n    <tr>\n      <th>8428</th>\n      <td>2023-06-15</td>\n      <td>0.000000</td>\n      <td>-0.007928</td>\n      <td>0.000000</td>\n      <td>0.010889</td>\n      <td>0.015861</td>\n      <td>0.015468</td>\n      <td>-0.004185</td>\n      <td>0.000000</td>\n      <td>0.017143</td>\n      <td>...</td>\n      <td>0.000000</td>\n      <td>0.006942</td>\n      <td>-0.001746</td>\n      <td>0.008670</td>\n      <td>NaN</td>\n      <td>0.047059</td>\n      <td>0.014873</td>\n      <td>-0.004761</td>\n      <td>0.032787</td>\n      <td>NaN</td>\n    </tr>\n    <tr>\n      <th>8429</th>\n      <td>2023-06-16</td>\n      <td>0.022831</td>\n      <td>0.020778</td>\n      <td>0.000000</td>\n      <td>-0.025910</td>\n      <td>0.006158</td>\n      <td>-0.003667</td>\n      <td>-0.011207</td>\n      <td>0.000000</td>\n      <td>0.011236</td>\n      <td>...</td>\n      <td>0.000000</td>\n      <td>-0.007177</td>\n      <td>-0.002915</td>\n      <td>0.034905</td>\n      <td>NaN</td>\n      <td>-0.028090</td>\n      <td>-0.007556</td>\n      <td>-0.011959</td>\n      <td>-0.012077</td>\n      <td>NaN</td>\n    </tr>\n    <tr>\n      <th>8430</th>\n      <td>2023-06-20</td>\n      <td>-0.062500</td>\n      <td>0.012944</td>\n      <td>0.009324</td>\n      <td>-0.021219</td>\n      <td>0.008087</td>\n      <td>-0.018120</td>\n      <td>-0.022196</td>\n      <td>0.000000</td>\n      <td>0.004708</td>\n      <td>...</td>\n      <td>0.000000</td>\n      <td>-0.022924</td>\n      <td>0.092982</td>\n      <td>-0.012837</td>\n      <td>NaN</td>\n      <td>-0.167630</td>\n      <td>-0.017174</td>\n      <td>0.024208</td>\n      <td>-0.027244</td>\n      <td>NaN</td>\n    </tr>\n    <tr>\n      <th>8431</th>\n      <td>2023-06-21</td>\n      <td>0.000000</td>\n      <td>0.031018</td>\n      <td>-0.011547</td>\n      <td>-0.008550</td>\n      <td>0.007263</td>\n      <td>-0.017013</td>\n      <td>0.006037</td>\n      <td>0.000000</td>\n      <td>-0.004217</td>\n      <td>...</td>\n      <td>0.000000</td>\n      <td>0.011195</td>\n      <td>-0.006421</td>\n      <td>-0.006374</td>\n      <td>NaN</td>\n      <td>-0.090278</td>\n      <td>-0.024032</td>\n      <td>-0.001934</td>\n      <td>0.003591</td>\n      <td>NaN</td>\n    </tr>\n    <tr>\n      <th>8432</th>\n      <td>2023-06-22</td>\n      <td>-0.028571</td>\n      <td>-0.028286</td>\n      <td>0.028037</td>\n      <td>-0.013243</td>\n      <td>0.010978</td>\n      <td>-0.023174</td>\n      <td>-0.015122</td>\n      <td>0.000000</td>\n      <td>0.018824</td>\n      <td>...</td>\n      <td>0.000000</td>\n      <td>-0.005488</td>\n      <td>0.042003</td>\n      <td>-0.002053</td>\n      <td>NaN</td>\n      <td>0.022901</td>\n      <td>-0.010964</td>\n      <td>-0.009903</td>\n      <td>-0.035063</td>\n      <td>NaN</td>\n    </tr>\n  </tbody>\n</table>\n<p>8433 rows × 1153 columns</p>\n</div>"
     },
     "execution_count": 20,
     "metadata": {},
     "output_type": "execute_result"
    }
   ],
   "source": [
    "returns = prices.pct_change().reset_index().rename(columns={'Date': 'date_index'})\n",
    "returns.to_csv(raw_data_dir / 'training_returns_2.csv')\n",
    "returns"
   ],
   "metadata": {
    "collapsed": false
   }
  },
  {
   "cell_type": "code",
   "execution_count": null,
   "outputs": [],
   "source": [],
   "metadata": {
    "collapsed": false
   }
  }
 ],
 "metadata": {
  "kernelspec": {
   "name": "venv",
   "language": "python",
   "display_name": "venv"
  },
  "language_info": {
   "codemirror_mode": {
    "name": "ipython",
    "version": 2
   },
   "file_extension": ".py",
   "mimetype": "text/x-python",
   "name": "python",
   "nbconvert_exporter": "python",
   "pygments_lexer": "ipython2",
   "version": "2.7.6"
  }
 },
 "nbformat": 4,
 "nbformat_minor": 0
}
