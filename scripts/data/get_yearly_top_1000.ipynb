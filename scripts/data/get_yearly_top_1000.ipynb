{
 "cells": [
  {
   "cell_type": "code",
   "execution_count": 298,
   "metadata": {
    "collapsed": true
   },
   "outputs": [],
   "source": [
    "import pandas as pd\n",
    "import numpy as np"
   ]
  },
  {
   "cell_type": "code",
   "execution_count": 342,
   "outputs": [],
   "source": [
    "interval = 'M'\n",
    "market_cap = pd.read_csv('../data/market-cap.csv')\n",
    "market_cap = market_cap.sort_index(level=0, axis=1)\n",
    "market_cap = market_cap[['mkvalt', 'tic', 'datadate']]\n",
    "market_cap = market_cap.drop_duplicates(['tic', 'datadate']).set_index(['tic', 'datadate'])\n",
    "market_cap = market_cap.unstack(level=0).swaplevel(0, 1, axis=1).sort_index(axis=1).sort_index(axis=0)\n",
    "market_cap.columns = market_cap.columns.droplevel(1)\n",
    "market_cap.index = pd.to_datetime(market_cap.index)"
   ],
   "metadata": {
    "collapsed": false
   }
  },
  {
   "cell_type": "code",
   "execution_count": 343,
   "outputs": [],
   "source": [
    "pattern = r'^[a-zA-Z]+$'\n",
    "mask = market_cap.columns.get_level_values(0).str.match(pattern)\n",
    "mask = pd.Series(mask).fillna(False).to_numpy()\n",
    "market_cap = market_cap.loc[:, mask]\n",
    "market_cap = market_cap.sort_index()\n",
    "market_cap = market_cap.fillna(method='ffill')\n",
    "market_cap = market_cap.sort_index(axis=0)"
   ],
   "metadata": {
    "collapsed": false
   }
  },
  {
   "cell_type": "code",
   "execution_count": 351,
   "outputs": [],
   "source": [
    "def get_top_n(row, n=1000):\n",
    "    return row.sort_values(ascending=False, na_position='last')[:n].index.tolist()"
   ],
   "metadata": {
    "collapsed": false
   }
  },
  {
   "cell_type": "code",
   "execution_count": 378,
   "outputs": [
    {
     "name": "stdout",
     "output_type": "stream",
     "text": [
      "INFO: Pandarallel will run on 10 workers.\n",
      "INFO: Pandarallel will use standard multiprocessing data transfer (pipe) to transfer data between the main process and workers.\n"
     ]
    },
    {
     "data": {
      "text/plain": "VBox(children=(HBox(children=(IntProgress(value=0, description='0.00%', max=23), Label(value='0 / 23'))), HBox…",
      "application/vnd.jupyter.widget-view+json": {
       "version_major": 2,
       "version_minor": 0,
       "model_id": "4bb05cc446ed4eb2a5fa58cc8822fd68"
      }
     },
     "metadata": {},
     "output_type": "display_data"
    }
   ],
   "source": [
    "from pandarallel import pandarallel\n",
    "\n",
    "pandarallel.initialize(progress_bar=True)\n",
    "market_cap_copy = market_cap.copy()\n",
    "top_n_per_year = market_cap_copy.parallel_apply(get_top_n, axis=1)"
   ],
   "metadata": {
    "collapsed": false
   }
  },
  {
   "cell_type": "code",
   "execution_count": 379,
   "outputs": [
    {
     "data": {
      "text/plain": "datadate\n2002-01-31    [WMT, HD, DELL, TGT, LOW, KSS, BDRBF, KR, GPS,...\n2002-02-01    [WMT, HD, DELL, TGT, LOW, KSS, BDRBF, KR, GPS,...\n2002-02-02    [WMT, HD, DELL, TGT, LOW, KSS, BDRBF, KR, GPS,...\n2002-02-03    [WMT, HD, DELL, TGT, LOW, KSS, BDRBF, KR, GPS,...\n2002-02-04    [WMT, HD, DELL, TGT, LOW, KSS, BDRBF, KR, GPS,...\n                                    ...                        \n2020-06-26    [MSFT, AAPL, GOOGL, AMZN, FB, JPM, NVGI, JNJ, ...\n2020-06-27    [MSFT, AAPL, GOOGL, AMZN, FB, JPM, NVGI, JNJ, ...\n2020-06-28    [MSFT, AAPL, GOOGL, AMZN, FB, JPM, NVGI, JNJ, ...\n2020-06-29    [MSFT, AAPL, GOOGL, AMZN, FB, JPM, NVGI, JNJ, ...\n2020-06-30    [MSFT, AAPL, GOOGL, AMZN, FB, JPM, NVGI, JNJ, ...\nFreq: D, Length: 6726, dtype: object"
     },
     "execution_count": 379,
     "metadata": {},
     "output_type": "execute_result"
    }
   ],
   "source": [
    "interval_to_save = 'D'\n",
    "top_n_resampled = top_n_per_year\n",
    "top_n_resampled.index = pd.to_datetime(top_n_resampled.index)\n",
    "top_n_resampled = top_n_resampled.resample(interval_to_save, convention='end').ffill()\n",
    "top_n_resampled"
   ],
   "metadata": {
    "collapsed": false
   }
  },
  {
   "cell_type": "code",
   "execution_count": 374,
   "outputs": [],
   "source": [
    "import json\n",
    "\n",
    "top_n_str_dates = top_n_resampled\n",
    "top_n_str_dates.index = top_n_resampled.index.strftime('%Y-%m-%d')\n",
    "top_n_dict = top_n_str_dates.to_dict()\n",
    "with open(f'../data/yearly_top_1000_mktcap_{interval_to_save}.json', 'w') as outfile:\n",
    "    json.dump(top_n_dict, outfile)"
   ],
   "metadata": {
    "collapsed": false
   }
  }
 ],
 "metadata": {
  "kernelspec": {
   "name": "venv",
   "language": "python",
   "display_name": "venv"
  },
  "language_info": {
   "codemirror_mode": {
    "name": "ipython",
    "version": 2
   },
   "file_extension": ".py",
   "mimetype": "text/x-python",
   "name": "python",
   "nbconvert_exporter": "python",
   "pygments_lexer": "ipython2",
   "version": "2.7.6"
  }
 },
 "nbformat": 4,
 "nbformat_minor": 0
}
